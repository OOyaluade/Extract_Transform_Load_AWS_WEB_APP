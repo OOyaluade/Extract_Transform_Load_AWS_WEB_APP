{
 "cells": [
  {
   "cell_type": "code",
   "execution_count": 1,
   "id": "2edbeabb",
   "metadata": {},
   "outputs": [],
   "source": [
    "import pandas as pd\n",
    "import numpy as np\n",
    "import time\n",
    "import re\n",
    "import os\n",
    "import datetime"
   ]
  },
  {
   "cell_type": "code",
   "execution_count": 2,
   "id": "4f146531-7777-4cfc-9383-fb5cf4817f51",
   "metadata": {},
   "outputs": [],
   "source": [
    "import warnings\n",
    "warnings.filterwarnings('ignore')\n",
    "warnings.simplefilter('ignore')"
   ]
  },
  {
   "cell_type": "code",
   "execution_count": 3,
   "id": "ce60e637-0d8b-4e2c-9c2d-2591c01793b2",
   "metadata": {},
   "outputs": [],
   "source": [
    "# os.chdir(r'C:/Users/vwalds/Documents/My Data Sources/')"
   ]
  },
  {
   "cell_type": "code",
   "execution_count": 4,
   "id": "bd6c9099-b615-42a2-84b6-cab021ef3888",
   "metadata": {},
   "outputs": [],
   "source": [
    "# Grab Current Time Before Running the Code\n",
    "start = time.time()"
   ]
  },
  {
   "cell_type": "code",
   "execution_count": 5,
   "id": "d4c0cbec-8afc-4dfb-aee3-33abb7d622b1",
   "metadata": {},
   "outputs": [],
   "source": [
    "#UIC_VW_Transitions_Housingtype\n",
    "\n"
   ]
  },
  {
   "cell_type": "code",
   "execution_count": 6,
   "id": "ce513d12-555b-4e0d-93b7-b596f78be1c5",
   "metadata": {},
   "outputs": [],
   "source": [
    "df = pd.read_excel(\"/home/node1/Documents/uic/FilesUsed/uic_VW_transitions_housingtype.xlsx\")"
   ]
  },
  {
   "cell_type": "code",
   "execution_count": 7,
   "id": "8d9aa52b-ccaa-4872-a51b-c31ba9ec7ac8",
   "metadata": {},
   "outputs": [
    {
     "name": "stdout",
     "output_type": "stream",
     "text": [
      "<class 'pandas.core.frame.DataFrame'>\n",
      "RangeIndex: 3045 entries, 0 to 3044\n",
      "Data columns (total 39 columns):\n",
      " #   Column                                       Non-Null Count  Dtype  \n",
      "---  ------                                       --------------  -----  \n",
      " 0   Member_ID                                    3045 non-null   int64  \n",
      " 1   Member_First_Name                            3045 non-null   object \n",
      " 2   Member_Last_Name                             3045 non-null   object \n",
      " 3   RIN                                          3045 non-null   int64  \n",
      " 4   Transition_ID                                3045 non-null   int64  \n",
      " 5   Transition_Discharge_Date                    3045 non-null   object \n",
      " 6   Transitioned_Type_ID                         2006 non-null   float64\n",
      " 7   Transition_Assessed_After_Movein_YN          3045 non-null   bool   \n",
      " 8   Nursing_Facility_Name                        3045 non-null   object \n",
      " 9   Clinical_Basis_Alternate_1                   52 non-null     object \n",
      " 10  Clinical_Basis_Alternate_2                   125 non-null    object \n",
      " 11  Clinical_Basis_Alternate_3                   83 non-null     object \n",
      " 12  Recommended_Setting_1                        659 non-null    float64\n",
      " 13  Recommended_Setting_Basis_1                  34 non-null     float64\n",
      " 14  Recommended_Setting_1_1                      24 non-null     float64\n",
      " 15  Recommended_Setting_1_2                      25 non-null     float64\n",
      " 16  Recommended_Setting_Basis_1_1                33 non-null     float64\n",
      " 17  Recommended_Setting_Basis_1_2                458 non-null    float64\n",
      " 18  Recommended_Setting_Basis_1_3                412 non-null    float64\n",
      " 19  Recommended_Setting_Basis_1_4                355 non-null    float64\n",
      " 20  Recommended_Setting_Basis_1_5                487 non-null    float64\n",
      " 21  Recommended_Setting_Basis_1_6                405 non-null    float64\n",
      " 22  Recommended_Setting_Basis_1_7                482 non-null    float64\n",
      " 23  Recommended_Setting_Basis_1_8                448 non-null    float64\n",
      " 24  Discharge_Type_ID                            3045 non-null   int64  \n",
      " 25  Transition_In_Process_ID                     2484 non-null   float64\n",
      " 26  Transition_Comments                          536 non-null    object \n",
      " 27  Transition_Housing_type_based_on_member_pre  3045 non-null   bool   \n",
      " 28  Member_Phase_ID                              3045 non-null   int64  \n",
      " 29  Activity_ID                                  3045 non-null   int64  \n",
      " 30  Activity_Closed_Date                         1975 non-null   object \n",
      " 31  Activity_Phase_ID                            3045 non-null   int64  \n",
      " 32  Activity_Date_Started                        2554 non-null   object \n",
      " 33  Activity_NF_ID                               3045 non-null   int64  \n",
      " 34  Activity_Prime_ID                            3045 non-null   int64  \n",
      " 35  Assessment_ID                                3045 non-null   int64  \n",
      " 36  Transition_Type_Other                        300 non-null    object \n",
      " 37  Transition_Finished_Date                     2468 non-null   object \n",
      " 38  Transition_Type_List                         386 non-null    object \n",
      "dtypes: bool(2), float64(14), int64(10), object(13)\n",
      "memory usage: 886.3+ KB\n"
     ]
    }
   ],
   "source": [
    "df.info()"
   ]
  },
  {
   "cell_type": "code",
   "execution_count": 8,
   "id": "8e6548e8-a030-476f-8925-2f917aab9ac5",
   "metadata": {},
   "outputs": [
    {
     "data": {
      "text/plain": [
       "Index(['Member_ID', 'Member_First_Name', 'Member_Last_Name', 'RIN',\n",
       "       'Transition_ID', 'Transition_Discharge_Date', 'Transitioned_Type_ID',\n",
       "       'Transition_Assessed_After_Movein_YN', 'Nursing_Facility_Name',\n",
       "       'Clinical_Basis_Alternate_1', 'Clinical_Basis_Alternate_2',\n",
       "       'Clinical_Basis_Alternate_3', 'Recommended_Setting_1',\n",
       "       'Recommended_Setting_Basis_1', 'Recommended_Setting_1_1',\n",
       "       'Recommended_Setting_1_2', 'Recommended_Setting_Basis_1_1',\n",
       "       'Recommended_Setting_Basis_1_2', 'Recommended_Setting_Basis_1_3',\n",
       "       'Recommended_Setting_Basis_1_4', 'Recommended_Setting_Basis_1_5',\n",
       "       'Recommended_Setting_Basis_1_6', 'Recommended_Setting_Basis_1_7',\n",
       "       'Recommended_Setting_Basis_1_8', 'Discharge_Type_ID',\n",
       "       'Transition_In_Process_ID', 'Transition_Comments',\n",
       "       'Transition_Housing_type_based_on_member_pre', 'Member_Phase_ID',\n",
       "       'Activity_ID', 'Activity_Closed_Date', 'Activity_Phase_ID',\n",
       "       'Activity_Date_Started', 'Activity_NF_ID', 'Activity_Prime_ID',\n",
       "       'Assessment_ID', 'Transition_Type_Other', 'Transition_Finished_Date',\n",
       "       'Transition_Type_List'],\n",
       "      dtype='object')"
      ]
     },
     "execution_count": 8,
     "metadata": {},
     "output_type": "execute_result"
    }
   ],
   "source": [
    "df.columns"
   ]
  },
  {
   "cell_type": "code",
   "execution_count": 9,
   "id": "c1db009a-7209-4cf8-9098-78153c85a45b",
   "metadata": {},
   "outputs": [],
   "source": [
    "# converting the string to datetime format\n",
    "df['Transition_Discharge_Date'] = pd.to_datetime(df['Transition_Discharge_Date'])"
   ]
  },
  {
   "cell_type": "code",
   "execution_count": 10,
   "id": "50981cae-c9e3-4ad2-a73e-3622dfffca61",
   "metadata": {},
   "outputs": [
    {
     "ename": "ValueError",
     "evalue": "unconverted data remains when parsing with format \"%m/%d/%Y\": \" 6:01:02 AM\", at position 1. You might want to try:\n    - passing `format` if your strings have a consistent format;\n    - passing `format='ISO8601'` if your strings are all ISO8601 but not necessarily in exactly the same format;\n    - passing `format='mixed'`, and the format will be inferred for each element individually. You might want to use `dayfirst` alongside this.",
     "output_type": "error",
     "traceback": [
      "\u001b[0;31m---------------------------------------------------------------------------\u001b[0m",
      "\u001b[0;31mValueError\u001b[0m                                Traceback (most recent call last)",
      "Cell \u001b[0;32mIn[10], line 2\u001b[0m\n\u001b[1;32m      1\u001b[0m \u001b[38;5;66;03m# converting the string to datetime format\u001b[39;00m\n\u001b[0;32m----> 2\u001b[0m df[\u001b[38;5;124m'\u001b[39m\u001b[38;5;124mActivity_Closed_Date\u001b[39m\u001b[38;5;124m'\u001b[39m] \u001b[38;5;241m=\u001b[39m \u001b[43mpd\u001b[49m\u001b[38;5;241;43m.\u001b[39;49m\u001b[43mto_datetime\u001b[49m\u001b[43m(\u001b[49m\u001b[43mdf\u001b[49m\u001b[43m[\u001b[49m\u001b[38;5;124;43m'\u001b[39;49m\u001b[38;5;124;43mActivity_Closed_Date\u001b[39;49m\u001b[38;5;124;43m'\u001b[39;49m\u001b[43m]\u001b[49m\u001b[43m)\u001b[49m\n",
      "File \u001b[0;32m~/Documents/uic/venv/lib/python3.12/site-packages/pandas/core/tools/datetimes.py:1063\u001b[0m, in \u001b[0;36mto_datetime\u001b[0;34m(arg, errors, dayfirst, yearfirst, utc, format, exact, unit, infer_datetime_format, origin, cache)\u001b[0m\n\u001b[1;32m   1061\u001b[0m             result \u001b[38;5;241m=\u001b[39m arg\u001b[38;5;241m.\u001b[39mtz_localize(\u001b[38;5;124m\"\u001b[39m\u001b[38;5;124mutc\u001b[39m\u001b[38;5;124m\"\u001b[39m)\n\u001b[1;32m   1062\u001b[0m \u001b[38;5;28;01melif\u001b[39;00m \u001b[38;5;28misinstance\u001b[39m(arg, ABCSeries):\n\u001b[0;32m-> 1063\u001b[0m     cache_array \u001b[38;5;241m=\u001b[39m \u001b[43m_maybe_cache\u001b[49m\u001b[43m(\u001b[49m\u001b[43marg\u001b[49m\u001b[43m,\u001b[49m\u001b[43m \u001b[49m\u001b[38;5;28;43mformat\u001b[39;49m\u001b[43m,\u001b[49m\u001b[43m \u001b[49m\u001b[43mcache\u001b[49m\u001b[43m,\u001b[49m\u001b[43m \u001b[49m\u001b[43mconvert_listlike\u001b[49m\u001b[43m)\u001b[49m\n\u001b[1;32m   1064\u001b[0m     \u001b[38;5;28;01mif\u001b[39;00m \u001b[38;5;129;01mnot\u001b[39;00m cache_array\u001b[38;5;241m.\u001b[39mempty:\n\u001b[1;32m   1065\u001b[0m         result \u001b[38;5;241m=\u001b[39m arg\u001b[38;5;241m.\u001b[39mmap(cache_array)\n",
      "File \u001b[0;32m~/Documents/uic/venv/lib/python3.12/site-packages/pandas/core/tools/datetimes.py:247\u001b[0m, in \u001b[0;36m_maybe_cache\u001b[0;34m(arg, format, cache, convert_listlike)\u001b[0m\n\u001b[1;32m    245\u001b[0m unique_dates \u001b[38;5;241m=\u001b[39m unique(arg)\n\u001b[1;32m    246\u001b[0m \u001b[38;5;28;01mif\u001b[39;00m \u001b[38;5;28mlen\u001b[39m(unique_dates) \u001b[38;5;241m<\u001b[39m \u001b[38;5;28mlen\u001b[39m(arg):\n\u001b[0;32m--> 247\u001b[0m     cache_dates \u001b[38;5;241m=\u001b[39m \u001b[43mconvert_listlike\u001b[49m\u001b[43m(\u001b[49m\u001b[43munique_dates\u001b[49m\u001b[43m,\u001b[49m\u001b[43m \u001b[49m\u001b[38;5;28;43mformat\u001b[39;49m\u001b[43m)\u001b[49m\n\u001b[1;32m    248\u001b[0m     \u001b[38;5;66;03m# GH#45319\u001b[39;00m\n\u001b[1;32m    249\u001b[0m     \u001b[38;5;28;01mtry\u001b[39;00m:\n",
      "File \u001b[0;32m~/Documents/uic/venv/lib/python3.12/site-packages/pandas/core/tools/datetimes.py:433\u001b[0m, in \u001b[0;36m_convert_listlike_datetimes\u001b[0;34m(arg, format, name, utc, unit, errors, dayfirst, yearfirst, exact)\u001b[0m\n\u001b[1;32m    431\u001b[0m \u001b[38;5;66;03m# `format` could be inferred, or user didn't ask for mixed-format parsing.\u001b[39;00m\n\u001b[1;32m    432\u001b[0m \u001b[38;5;28;01mif\u001b[39;00m \u001b[38;5;28mformat\u001b[39m \u001b[38;5;129;01mis\u001b[39;00m \u001b[38;5;129;01mnot\u001b[39;00m \u001b[38;5;28;01mNone\u001b[39;00m \u001b[38;5;129;01mand\u001b[39;00m \u001b[38;5;28mformat\u001b[39m \u001b[38;5;241m!=\u001b[39m \u001b[38;5;124m\"\u001b[39m\u001b[38;5;124mmixed\u001b[39m\u001b[38;5;124m\"\u001b[39m:\n\u001b[0;32m--> 433\u001b[0m     \u001b[38;5;28;01mreturn\u001b[39;00m \u001b[43m_array_strptime_with_fallback\u001b[49m\u001b[43m(\u001b[49m\u001b[43marg\u001b[49m\u001b[43m,\u001b[49m\u001b[43m \u001b[49m\u001b[43mname\u001b[49m\u001b[43m,\u001b[49m\u001b[43m \u001b[49m\u001b[43mutc\u001b[49m\u001b[43m,\u001b[49m\u001b[43m \u001b[49m\u001b[38;5;28;43mformat\u001b[39;49m\u001b[43m,\u001b[49m\u001b[43m \u001b[49m\u001b[43mexact\u001b[49m\u001b[43m,\u001b[49m\u001b[43m \u001b[49m\u001b[43merrors\u001b[49m\u001b[43m)\u001b[49m\n\u001b[1;32m    435\u001b[0m result, tz_parsed \u001b[38;5;241m=\u001b[39m objects_to_datetime64(\n\u001b[1;32m    436\u001b[0m     arg,\n\u001b[1;32m    437\u001b[0m     dayfirst\u001b[38;5;241m=\u001b[39mdayfirst,\n\u001b[0;32m   (...)\u001b[0m\n\u001b[1;32m    441\u001b[0m     allow_object\u001b[38;5;241m=\u001b[39m\u001b[38;5;28;01mTrue\u001b[39;00m,\n\u001b[1;32m    442\u001b[0m )\n\u001b[1;32m    444\u001b[0m \u001b[38;5;28;01mif\u001b[39;00m tz_parsed \u001b[38;5;129;01mis\u001b[39;00m \u001b[38;5;129;01mnot\u001b[39;00m \u001b[38;5;28;01mNone\u001b[39;00m:\n\u001b[1;32m    445\u001b[0m     \u001b[38;5;66;03m# We can take a shortcut since the datetime64 numpy array\u001b[39;00m\n\u001b[1;32m    446\u001b[0m     \u001b[38;5;66;03m# is in UTC\u001b[39;00m\n",
      "File \u001b[0;32m~/Documents/uic/venv/lib/python3.12/site-packages/pandas/core/tools/datetimes.py:467\u001b[0m, in \u001b[0;36m_array_strptime_with_fallback\u001b[0;34m(arg, name, utc, fmt, exact, errors)\u001b[0m\n\u001b[1;32m    456\u001b[0m \u001b[38;5;28;01mdef\u001b[39;00m\u001b[38;5;250m \u001b[39m\u001b[38;5;21m_array_strptime_with_fallback\u001b[39m(\n\u001b[1;32m    457\u001b[0m     arg,\n\u001b[1;32m    458\u001b[0m     name,\n\u001b[0;32m   (...)\u001b[0m\n\u001b[1;32m    462\u001b[0m     errors: \u001b[38;5;28mstr\u001b[39m,\n\u001b[1;32m    463\u001b[0m ) \u001b[38;5;241m-\u001b[39m\u001b[38;5;241m>\u001b[39m Index:\n\u001b[1;32m    464\u001b[0m \u001b[38;5;250m    \u001b[39m\u001b[38;5;124;03m\"\"\"\u001b[39;00m\n\u001b[1;32m    465\u001b[0m \u001b[38;5;124;03m    Call array_strptime, with fallback behavior depending on 'errors'.\u001b[39;00m\n\u001b[1;32m    466\u001b[0m \u001b[38;5;124;03m    \"\"\"\u001b[39;00m\n\u001b[0;32m--> 467\u001b[0m     result, tz_out \u001b[38;5;241m=\u001b[39m \u001b[43marray_strptime\u001b[49m\u001b[43m(\u001b[49m\u001b[43marg\u001b[49m\u001b[43m,\u001b[49m\u001b[43m \u001b[49m\u001b[43mfmt\u001b[49m\u001b[43m,\u001b[49m\u001b[43m \u001b[49m\u001b[43mexact\u001b[49m\u001b[38;5;241;43m=\u001b[39;49m\u001b[43mexact\u001b[49m\u001b[43m,\u001b[49m\u001b[43m \u001b[49m\u001b[43merrors\u001b[49m\u001b[38;5;241;43m=\u001b[39;49m\u001b[43merrors\u001b[49m\u001b[43m,\u001b[49m\u001b[43m \u001b[49m\u001b[43mutc\u001b[49m\u001b[38;5;241;43m=\u001b[39;49m\u001b[43mutc\u001b[49m\u001b[43m)\u001b[49m\n\u001b[1;32m    468\u001b[0m     \u001b[38;5;28;01mif\u001b[39;00m tz_out \u001b[38;5;129;01mis\u001b[39;00m \u001b[38;5;129;01mnot\u001b[39;00m \u001b[38;5;28;01mNone\u001b[39;00m:\n\u001b[1;32m    469\u001b[0m         unit \u001b[38;5;241m=\u001b[39m np\u001b[38;5;241m.\u001b[39mdatetime_data(result\u001b[38;5;241m.\u001b[39mdtype)[\u001b[38;5;241m0\u001b[39m]\n",
      "File \u001b[0;32mstrptime.pyx:501\u001b[0m, in \u001b[0;36mpandas._libs.tslibs.strptime.array_strptime\u001b[0;34m()\u001b[0m\n",
      "File \u001b[0;32mstrptime.pyx:451\u001b[0m, in \u001b[0;36mpandas._libs.tslibs.strptime.array_strptime\u001b[0;34m()\u001b[0m\n",
      "File \u001b[0;32mstrptime.pyx:587\u001b[0m, in \u001b[0;36mpandas._libs.tslibs.strptime._parse_with_format\u001b[0;34m()\u001b[0m\n",
      "\u001b[0;31mValueError\u001b[0m: unconverted data remains when parsing with format \"%m/%d/%Y\": \" 6:01:02 AM\", at position 1. You might want to try:\n    - passing `format` if your strings have a consistent format;\n    - passing `format='ISO8601'` if your strings are all ISO8601 but not necessarily in exactly the same format;\n    - passing `format='mixed'`, and the format will be inferred for each element individually. You might want to use `dayfirst` alongside this."
     ]
    }
   ],
   "source": [
    "# converting the string to datetime format\n",
    "df['Activity_Closed_Date'] = pd.to_datetime(df['Activity_Closed_Date'])"
   ]
  },
  {
   "cell_type": "code",
   "execution_count": 11,
   "id": "c91e85e4-54f4-459c-a080-12a62b8f5618",
   "metadata": {},
   "outputs": [],
   "source": [
    "# converting the string to datetime format\n",
    "df['Activity_Date_Started'] = pd.to_datetime(df['Activity_Date_Started'])"
   ]
  },
  {
   "cell_type": "code",
   "execution_count": 12,
   "id": "9a64c055-a024-45b1-8d71-4a5ead0e1afc",
   "metadata": {},
   "outputs": [],
   "source": [
    "# converting the string to datetime format\n",
    "df['Transition_Finished_Date'] = pd.to_datetime(df['Transition_Finished_Date'])"
   ]
  },
  {
   "cell_type": "code",
   "execution_count": 13,
   "id": "14c22c99-a6a0-4c66-8ed3-f86829b1915f",
   "metadata": {},
   "outputs": [
    {
     "data": {
      "text/plain": [
       "Member_ID                                               int64\n",
       "Member_First_Name                                      object\n",
       "Member_Last_Name                                       object\n",
       "RIN                                                     int64\n",
       "Transition_ID                                           int64\n",
       "Transition_Discharge_Date                      datetime64[ns]\n",
       "Transitioned_Type_ID                                  float64\n",
       "Transition_Assessed_After_Movein_YN                      bool\n",
       "Nursing_Facility_Name                                  object\n",
       "Clinical_Basis_Alternate_1                             object\n",
       "Clinical_Basis_Alternate_2                             object\n",
       "Clinical_Basis_Alternate_3                             object\n",
       "Recommended_Setting_1                                 float64\n",
       "Recommended_Setting_Basis_1                           float64\n",
       "Recommended_Setting_1_1                               float64\n",
       "Recommended_Setting_1_2                               float64\n",
       "Recommended_Setting_Basis_1_1                         float64\n",
       "Recommended_Setting_Basis_1_2                         float64\n",
       "Recommended_Setting_Basis_1_3                         float64\n",
       "Recommended_Setting_Basis_1_4                         float64\n",
       "Recommended_Setting_Basis_1_5                         float64\n",
       "Recommended_Setting_Basis_1_6                         float64\n",
       "Recommended_Setting_Basis_1_7                         float64\n",
       "Recommended_Setting_Basis_1_8                         float64\n",
       "Discharge_Type_ID                                       int64\n",
       "Transition_In_Process_ID                              float64\n",
       "Transition_Comments                                    object\n",
       "Transition_Housing_type_based_on_member_pre              bool\n",
       "Member_Phase_ID                                         int64\n",
       "Activity_ID                                             int64\n",
       "Activity_Closed_Date                           datetime64[ns]\n",
       "Activity_Phase_ID                                       int64\n",
       "Activity_Date_Started                          datetime64[ns]\n",
       "Activity_NF_ID                                          int64\n",
       "Activity_Prime_ID                                       int64\n",
       "Assessment_ID                                           int64\n",
       "Transition_Type_Other                                  object\n",
       "Transition_Finished_Date                       datetime64[ns]\n",
       "Transition_Type_List                                   object\n",
       "dtype: object"
      ]
     },
     "execution_count": 13,
     "metadata": {},
     "output_type": "execute_result"
    }
   ],
   "source": [
    "df.dtypes"
   ]
  },
  {
   "cell_type": "code",
   "execution_count": 14,
   "id": "51daa0d0-9989-40e9-927c-4cbdc264213c",
   "metadata": {},
   "outputs": [
    {
     "data": {
      "text/plain": [
       "764     386635270\n",
       "1201    950192070\n",
       "330     982416646\n",
       "528     215132887\n",
       "39      950177329\n",
       "1439    172747982\n",
       "1066    116340035\n",
       "421      26898171\n",
       "1119    309580868\n",
       "908     156533333\n",
       "Name: RIN, dtype: int64"
      ]
     },
     "execution_count": 14,
     "metadata": {},
     "output_type": "execute_result"
    }
   ],
   "source": [
    "df['RIN'].sample(10)"
   ]
  },
  {
   "cell_type": "code",
   "execution_count": 15,
   "id": "55b6a6e6-38b2-4859-bc6e-42f01deb241a",
   "metadata": {},
   "outputs": [],
   "source": [
    "# Convert RIN to string\n",
    "df['RIN'] = df['RIN'].astype('str') "
   ]
  },
  {
   "cell_type": "code",
   "execution_count": 16,
   "id": "7d656121-ee26-4bd7-852c-722ffa380cda",
   "metadata": {},
   "outputs": [],
   "source": [
    "df['RIN'] = df['RIN'].str.strip()"
   ]
  },
  {
   "cell_type": "code",
   "execution_count": 17,
   "id": "819b63ef-747e-406b-b3ba-d9e60d2af94c",
   "metadata": {},
   "outputs": [
    {
     "data": {
      "text/plain": [
       "811     180731689\n",
       "488      92051713\n",
       "474      34795302\n",
       "1204    204303812\n",
       "229     193227345\n",
       "743     362500423\n",
       "1572     94315710\n",
       "406      65828048\n",
       "1433     60862240\n",
       "628      18877233\n",
       "156     113217996\n",
       "1557    116633843\n",
       "1399    337267645\n",
       "1028     88108246\n",
       "1277     39182423\n",
       "Name: RIN, dtype: object"
      ]
     },
     "execution_count": 17,
     "metadata": {},
     "output_type": "execute_result"
    }
   ],
   "source": [
    "df['RIN'].sample(15)"
   ]
  },
  {
   "cell_type": "code",
   "execution_count": 18,
   "id": "49b723df-328f-4f2f-a2c6-7f4ac8e6517b",
   "metadata": {},
   "outputs": [],
   "source": [
    "# add leading zeros to Member_RIN\n",
    "df['RIN'] = df['RIN'].str.zfill(9)"
   ]
  },
  {
   "cell_type": "code",
   "execution_count": 19,
   "id": "2f010394-03c3-4e01-b6f9-4cb26a8dc075",
   "metadata": {},
   "outputs": [
    {
     "data": {
      "text/plain": [
       "1594    148849789\n",
       "156     113217996\n",
       "770     386887129\n",
       "352     167466788\n",
       "477     198523821\n",
       "870     072742190\n",
       "1163    358671964\n",
       "596     967267444\n",
       "1295    162564413\n",
       "6       200353308\n",
       "Name: RIN, dtype: object"
      ]
     },
     "execution_count": 19,
     "metadata": {},
     "output_type": "execute_result"
    }
   ],
   "source": [
    "df['RIN'].sample(10)"
   ]
  },
  {
   "cell_type": "code",
   "execution_count": 20,
   "id": "180055ca-f1ab-45b0-82bd-1227c792b1c7",
   "metadata": {},
   "outputs": [],
   "source": [
    "#export file without index column\n",
    "df.to_excel(\"UIC_VW_Transitions_Housingtype.xlsx\", index=False)"
   ]
  },
  {
   "cell_type": "code",
   "execution_count": 21,
   "id": "c70dcc48-110f-4473-a218-98b9d789cce7",
   "metadata": {},
   "outputs": [
    {
     "name": "stdout",
     "output_type": "stream",
     "text": [
      "2024-09-05 15:30:40.995693\n"
     ]
    }
   ],
   "source": [
    "# Create a timestamp object\n",
    "timestamp = pd.Timestamp(datetime.datetime.now())\n",
    "\n",
    "# Print the timestamp\n",
    "print(timestamp)"
   ]
  },
  {
   "cell_type": "code",
   "execution_count": 22,
   "id": "acc90d14-d687-4917-945d-6b7ea3cf0137",
   "metadata": {},
   "outputs": [],
   "source": [
    "#the end!"
   ]
  },
  {
   "cell_type": "code",
   "execution_count": null,
   "id": "619c0970-3ae5-4980-8fd5-67c0a16216c1",
   "metadata": {},
   "outputs": [],
   "source": []
  }
 ],
 "metadata": {
  "kernelspec": {
   "display_name": "venv",
   "language": "python",
   "name": "python3"
  },
  "language_info": {
   "codemirror_mode": {
    "name": "ipython",
    "version": 3
   },
   "file_extension": ".py",
   "mimetype": "text/x-python",
   "name": "python",
   "nbconvert_exporter": "python",
   "pygments_lexer": "ipython3",
   "version": "3.12.3"
  }
 },
 "nbformat": 4,
 "nbformat_minor": 5
}
