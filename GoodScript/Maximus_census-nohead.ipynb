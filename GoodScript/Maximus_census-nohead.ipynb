{
 "cells": [
  {
   "cell_type": "code",
   "execution_count": 1,
   "id": "5f0dcfa0-1e9f-44a8-a58d-5b05cb02392e",
   "metadata": {},
   "outputs": [],
   "source": [
    "import pandas as pd\n",
    "import numpy as np\n",
    "# import the builtin time module\n",
    "import time\n",
    "#regex\n",
    "import re"
   ]
  },
  {
   "cell_type": "code",
   "execution_count": 2,
   "id": "bd6c9099-b615-42a2-84b6-cab021ef3888",
   "metadata": {},
   "outputs": [],
   "source": [
    "# Grab Currrent Time Before Running the Code\n",
    "start = time.time()"
   ]
  },
  {
   "cell_type": "code",
   "execution_count": 3,
   "id": "6b46308c-3bed-44ca-b767-8047e14f3075",
   "metadata": {},
   "outputs": [],
   "source": [
    "will = pd.read_excel('/home/node1/Documents/uic/FilesUsed/Census-Williams.xls')"
   ]
  },
  {
   "cell_type": "code",
   "execution_count": 4,
   "id": "a1ee5e1b-1816-4dee-907c-1540b6b5da0c",
   "metadata": {},
   "outputs": [
    {
     "ename": "FileNotFoundError",
     "evalue": "[Errno 2] No such file or directory: '\\\\\\\\uicfs.server.uic.edu\\\\NURS\\\\1\\\\CCMTP\\\\Database & Reports\\\\Database\\\\Census\\\\maximus_exports\\\\Census-Colbert.xls'",
     "output_type": "error",
     "traceback": [
      "\u001b[0;31m---------------------------------------------------------------------------\u001b[0m",
      "\u001b[0;31mFileNotFoundError\u001b[0m                         Traceback (most recent call last)",
      "Cell \u001b[0;32mIn[4], line 1\u001b[0m\n\u001b[0;32m----> 1\u001b[0m colb \u001b[38;5;241m=\u001b[39m \u001b[43mpd\u001b[49m\u001b[38;5;241;43m.\u001b[39;49m\u001b[43mread_excel\u001b[49m\u001b[43m(\u001b[49m\u001b[38;5;124;43mr\u001b[39;49m\u001b[38;5;124;43m'\u001b[39;49m\u001b[38;5;130;43;01m\\\\\u001b[39;49;00m\u001b[38;5;124;43muicfs.server.uic.edu\u001b[39;49m\u001b[38;5;124;43m\\\u001b[39;49m\u001b[38;5;124;43mNURS\u001b[39;49m\u001b[38;5;124;43m\\\u001b[39;49m\u001b[38;5;124;43m1\u001b[39;49m\u001b[38;5;124;43m\\\u001b[39;49m\u001b[38;5;124;43mCCMTP\u001b[39;49m\u001b[38;5;124;43m\\\u001b[39;49m\u001b[38;5;124;43mDatabase & Reports\u001b[39;49m\u001b[38;5;124;43m\\\u001b[39;49m\u001b[38;5;124;43mDatabase\u001b[39;49m\u001b[38;5;124;43m\\\u001b[39;49m\u001b[38;5;124;43mCensus\u001b[39;49m\u001b[38;5;124;43m\\\u001b[39;49m\u001b[38;5;124;43mmaximus_exports\u001b[39;49m\u001b[38;5;124;43m\\\u001b[39;49m\u001b[38;5;124;43mCensus-Colbert.xls\u001b[39;49m\u001b[38;5;124;43m'\u001b[39;49m\u001b[43m)\u001b[49m\n",
      "File \u001b[0;32m~/Documents/uic/venv/lib/python3.12/site-packages/pandas/io/excel/_base.py:495\u001b[0m, in \u001b[0;36mread_excel\u001b[0;34m(io, sheet_name, header, names, index_col, usecols, dtype, engine, converters, true_values, false_values, skiprows, nrows, na_values, keep_default_na, na_filter, verbose, parse_dates, date_parser, date_format, thousands, decimal, comment, skipfooter, storage_options, dtype_backend, engine_kwargs)\u001b[0m\n\u001b[1;32m    493\u001b[0m \u001b[38;5;28;01mif\u001b[39;00m \u001b[38;5;129;01mnot\u001b[39;00m \u001b[38;5;28misinstance\u001b[39m(io, ExcelFile):\n\u001b[1;32m    494\u001b[0m     should_close \u001b[38;5;241m=\u001b[39m \u001b[38;5;28;01mTrue\u001b[39;00m\n\u001b[0;32m--> 495\u001b[0m     io \u001b[38;5;241m=\u001b[39m \u001b[43mExcelFile\u001b[49m\u001b[43m(\u001b[49m\n\u001b[1;32m    496\u001b[0m \u001b[43m        \u001b[49m\u001b[43mio\u001b[49m\u001b[43m,\u001b[49m\n\u001b[1;32m    497\u001b[0m \u001b[43m        \u001b[49m\u001b[43mstorage_options\u001b[49m\u001b[38;5;241;43m=\u001b[39;49m\u001b[43mstorage_options\u001b[49m\u001b[43m,\u001b[49m\n\u001b[1;32m    498\u001b[0m \u001b[43m        \u001b[49m\u001b[43mengine\u001b[49m\u001b[38;5;241;43m=\u001b[39;49m\u001b[43mengine\u001b[49m\u001b[43m,\u001b[49m\n\u001b[1;32m    499\u001b[0m \u001b[43m        \u001b[49m\u001b[43mengine_kwargs\u001b[49m\u001b[38;5;241;43m=\u001b[39;49m\u001b[43mengine_kwargs\u001b[49m\u001b[43m,\u001b[49m\n\u001b[1;32m    500\u001b[0m \u001b[43m    \u001b[49m\u001b[43m)\u001b[49m\n\u001b[1;32m    501\u001b[0m \u001b[38;5;28;01melif\u001b[39;00m engine \u001b[38;5;129;01mand\u001b[39;00m engine \u001b[38;5;241m!=\u001b[39m io\u001b[38;5;241m.\u001b[39mengine:\n\u001b[1;32m    502\u001b[0m     \u001b[38;5;28;01mraise\u001b[39;00m \u001b[38;5;167;01mValueError\u001b[39;00m(\n\u001b[1;32m    503\u001b[0m         \u001b[38;5;124m\"\u001b[39m\u001b[38;5;124mEngine should not be specified when passing \u001b[39m\u001b[38;5;124m\"\u001b[39m\n\u001b[1;32m    504\u001b[0m         \u001b[38;5;124m\"\u001b[39m\u001b[38;5;124man ExcelFile - ExcelFile already has the engine set\u001b[39m\u001b[38;5;124m\"\u001b[39m\n\u001b[1;32m    505\u001b[0m     )\n",
      "File \u001b[0;32m~/Documents/uic/venv/lib/python3.12/site-packages/pandas/io/excel/_base.py:1550\u001b[0m, in \u001b[0;36mExcelFile.__init__\u001b[0;34m(self, path_or_buffer, engine, storage_options, engine_kwargs)\u001b[0m\n\u001b[1;32m   1548\u001b[0m     ext \u001b[38;5;241m=\u001b[39m \u001b[38;5;124m\"\u001b[39m\u001b[38;5;124mxls\u001b[39m\u001b[38;5;124m\"\u001b[39m\n\u001b[1;32m   1549\u001b[0m \u001b[38;5;28;01melse\u001b[39;00m:\n\u001b[0;32m-> 1550\u001b[0m     ext \u001b[38;5;241m=\u001b[39m \u001b[43minspect_excel_format\u001b[49m\u001b[43m(\u001b[49m\n\u001b[1;32m   1551\u001b[0m \u001b[43m        \u001b[49m\u001b[43mcontent_or_path\u001b[49m\u001b[38;5;241;43m=\u001b[39;49m\u001b[43mpath_or_buffer\u001b[49m\u001b[43m,\u001b[49m\u001b[43m \u001b[49m\u001b[43mstorage_options\u001b[49m\u001b[38;5;241;43m=\u001b[39;49m\u001b[43mstorage_options\u001b[49m\n\u001b[1;32m   1552\u001b[0m \u001b[43m    \u001b[49m\u001b[43m)\u001b[49m\n\u001b[1;32m   1553\u001b[0m     \u001b[38;5;28;01mif\u001b[39;00m ext \u001b[38;5;129;01mis\u001b[39;00m \u001b[38;5;28;01mNone\u001b[39;00m:\n\u001b[1;32m   1554\u001b[0m         \u001b[38;5;28;01mraise\u001b[39;00m \u001b[38;5;167;01mValueError\u001b[39;00m(\n\u001b[1;32m   1555\u001b[0m             \u001b[38;5;124m\"\u001b[39m\u001b[38;5;124mExcel file format cannot be determined, you must specify \u001b[39m\u001b[38;5;124m\"\u001b[39m\n\u001b[1;32m   1556\u001b[0m             \u001b[38;5;124m\"\u001b[39m\u001b[38;5;124man engine manually.\u001b[39m\u001b[38;5;124m\"\u001b[39m\n\u001b[1;32m   1557\u001b[0m         )\n",
      "File \u001b[0;32m~/Documents/uic/venv/lib/python3.12/site-packages/pandas/io/excel/_base.py:1402\u001b[0m, in \u001b[0;36minspect_excel_format\u001b[0;34m(content_or_path, storage_options)\u001b[0m\n\u001b[1;32m   1399\u001b[0m \u001b[38;5;28;01mif\u001b[39;00m \u001b[38;5;28misinstance\u001b[39m(content_or_path, \u001b[38;5;28mbytes\u001b[39m):\n\u001b[1;32m   1400\u001b[0m     content_or_path \u001b[38;5;241m=\u001b[39m BytesIO(content_or_path)\n\u001b[0;32m-> 1402\u001b[0m \u001b[38;5;28;01mwith\u001b[39;00m \u001b[43mget_handle\u001b[49m\u001b[43m(\u001b[49m\n\u001b[1;32m   1403\u001b[0m \u001b[43m    \u001b[49m\u001b[43mcontent_or_path\u001b[49m\u001b[43m,\u001b[49m\u001b[43m \u001b[49m\u001b[38;5;124;43m\"\u001b[39;49m\u001b[38;5;124;43mrb\u001b[39;49m\u001b[38;5;124;43m\"\u001b[39;49m\u001b[43m,\u001b[49m\u001b[43m \u001b[49m\u001b[43mstorage_options\u001b[49m\u001b[38;5;241;43m=\u001b[39;49m\u001b[43mstorage_options\u001b[49m\u001b[43m,\u001b[49m\u001b[43m \u001b[49m\u001b[43mis_text\u001b[49m\u001b[38;5;241;43m=\u001b[39;49m\u001b[38;5;28;43;01mFalse\u001b[39;49;00m\n\u001b[1;32m   1404\u001b[0m \u001b[43m\u001b[49m\u001b[43m)\u001b[49m \u001b[38;5;28;01mas\u001b[39;00m handle:\n\u001b[1;32m   1405\u001b[0m     stream \u001b[38;5;241m=\u001b[39m handle\u001b[38;5;241m.\u001b[39mhandle\n\u001b[1;32m   1406\u001b[0m     stream\u001b[38;5;241m.\u001b[39mseek(\u001b[38;5;241m0\u001b[39m)\n",
      "File \u001b[0;32m~/Documents/uic/venv/lib/python3.12/site-packages/pandas/io/common.py:882\u001b[0m, in \u001b[0;36mget_handle\u001b[0;34m(path_or_buf, mode, encoding, compression, memory_map, is_text, errors, storage_options)\u001b[0m\n\u001b[1;32m    873\u001b[0m         handle \u001b[38;5;241m=\u001b[39m \u001b[38;5;28mopen\u001b[39m(\n\u001b[1;32m    874\u001b[0m             handle,\n\u001b[1;32m    875\u001b[0m             ioargs\u001b[38;5;241m.\u001b[39mmode,\n\u001b[0;32m   (...)\u001b[0m\n\u001b[1;32m    878\u001b[0m             newline\u001b[38;5;241m=\u001b[39m\u001b[38;5;124m\"\u001b[39m\u001b[38;5;124m\"\u001b[39m,\n\u001b[1;32m    879\u001b[0m         )\n\u001b[1;32m    880\u001b[0m     \u001b[38;5;28;01melse\u001b[39;00m:\n\u001b[1;32m    881\u001b[0m         \u001b[38;5;66;03m# Binary mode\u001b[39;00m\n\u001b[0;32m--> 882\u001b[0m         handle \u001b[38;5;241m=\u001b[39m \u001b[38;5;28;43mopen\u001b[39;49m\u001b[43m(\u001b[49m\u001b[43mhandle\u001b[49m\u001b[43m,\u001b[49m\u001b[43m \u001b[49m\u001b[43mioargs\u001b[49m\u001b[38;5;241;43m.\u001b[39;49m\u001b[43mmode\u001b[49m\u001b[43m)\u001b[49m\n\u001b[1;32m    883\u001b[0m     handles\u001b[38;5;241m.\u001b[39mappend(handle)\n\u001b[1;32m    885\u001b[0m \u001b[38;5;66;03m# Convert BytesIO or file objects passed with an encoding\u001b[39;00m\n",
      "\u001b[0;31mFileNotFoundError\u001b[0m: [Errno 2] No such file or directory: '\\\\\\\\uicfs.server.uic.edu\\\\NURS\\\\1\\\\CCMTP\\\\Database & Reports\\\\Database\\\\Census\\\\maximus_exports\\\\Census-Colbert.xls'"
     ]
    }
   ],
   "source": [
    "colb = pd.read_excel('/home/node1/Documents/uic/FilesUsed/Census-Williams.xls')"
   ]
  },
  {
   "cell_type": "code",
   "execution_count": 5,
   "id": "5266151a-a10f-4821-b054-354a1c43ba4b",
   "metadata": {},
   "outputs": [
    {
     "data": {
      "text/plain": [
       "Index(['Episode ID', 'Individual ID', 'Unnamed: 2', 'Last Name', 'First Name',\n",
       "       'Identification Type', 'Identification Number', 'Date of Birth',\n",
       "       'Admitting Facility', 'Admitting Facility County', 'Submitted Date',\n",
       "       'Admission Date', 'End Date', 'Outcome', 'Effective Date',\n",
       "       'Unnamed: 15', 'Determination Date', 'Disability Type',\n",
       "       'Specialized Services', 'Discharge/Transfer/\\nDeceased Date',\n",
       "       'Discharge Type'],\n",
       "      dtype='object')"
      ]
     },
     "execution_count": 5,
     "metadata": {},
     "output_type": "execute_result"
    }
   ],
   "source": [
    "colb.columns"
   ]
  },
  {
   "cell_type": "code",
   "execution_count": 6,
   "id": "3ef9272b-3429-443b-8e4f-e04654a5f162",
   "metadata": {},
   "outputs": [
    {
     "data": {
      "text/plain": [
       "Index(['Episode ID', 'Individual ID', 'Unnamed: 2', 'Last Name', 'First Name',\n",
       "       'Identification Type', 'Identification Number', 'Date of Birth',\n",
       "       'Admitting Facility', 'Admitting Facility County', 'Submitted Date',\n",
       "       'Admission Date', 'End Date', 'Outcome', 'Effective Date',\n",
       "       'Unnamed: 15', 'Determination Date', 'Disability Type',\n",
       "       'Specialized Services', 'Discharge/Transfer/\\nDeceased Date',\n",
       "       'Discharge Type'],\n",
       "      dtype='object')"
      ]
     },
     "execution_count": 6,
     "metadata": {},
     "output_type": "execute_result"
    }
   ],
   "source": [
    "will.columns"
   ]
  },
  {
   "cell_type": "code",
   "execution_count": 7,
   "id": "abc6b54f-281a-4a5e-bb3c-d910e248e90e",
   "metadata": {},
   "outputs": [],
   "source": [
    "#add a new column to indicate decree\n",
    "will.insert(1, \"Decree\", \"Williams\")"
   ]
  },
  {
   "cell_type": "code",
   "execution_count": 8,
   "id": "168b8d55-4c24-48d8-96b7-28f2f9f108aa",
   "metadata": {},
   "outputs": [],
   "source": [
    "#add a new column to indicate decree\n",
    "colb.insert(1, \"Decree\", \"Colbert\")"
   ]
  },
  {
   "cell_type": "code",
   "execution_count": 9,
   "id": "8f9ac64f-9dcc-4392-b3c9-f330ca1b1eda",
   "metadata": {},
   "outputs": [],
   "source": [
    "#combine the two data frames with pandas concatenate method\n",
    "df = pd.concat([colb, will])"
   ]
  },
  {
   "cell_type": "code",
   "execution_count": 10,
   "id": "996578ca-5d5e-4d7e-a78e-81116e68b4e8",
   "metadata": {},
   "outputs": [
    {
     "data": {
      "text/plain": [
       "Index(['Episode ID', 'Decree', 'Individual ID', 'Unnamed: 2', 'Last Name',\n",
       "       'First Name', 'Identification Type', 'Identification Number',\n",
       "       'Date of Birth', 'Admitting Facility', 'Admitting Facility County',\n",
       "       'Submitted Date', 'Admission Date', 'End Date', 'Outcome',\n",
       "       'Effective Date', 'Unnamed: 15', 'Determination Date',\n",
       "       'Disability Type', 'Specialized Services',\n",
       "       'Discharge/Transfer/\\nDeceased Date', 'Discharge Type'],\n",
       "      dtype='object')"
      ]
     },
     "execution_count": 10,
     "metadata": {},
     "output_type": "execute_result"
    }
   ],
   "source": [
    "df.columns"
   ]
  },
  {
   "cell_type": "code",
   "execution_count": 11,
   "id": "012af5df-bc33-4469-a863-8362b456787e",
   "metadata": {},
   "outputs": [],
   "source": [
    "# Remove columns \n",
    "df = df.drop(['Unnamed: 2', 'Unnamed: 15'], axis=1)"
   ]
  },
  {
   "cell_type": "code",
   "execution_count": 12,
   "id": "63b47985-fbfb-42de-8f06-ea32c24a0767",
   "metadata": {},
   "outputs": [
    {
     "data": {
      "text/plain": [
       "Index(['Episode ID', 'Decree', 'Individual ID', 'Last Name', 'First Name',\n",
       "       'Identification Type', 'Identification Number', 'Date of Birth',\n",
       "       'Admitting Facility', 'Admitting Facility County', 'Submitted Date',\n",
       "       'Admission Date', 'End Date', 'Outcome', 'Effective Date',\n",
       "       'Determination Date', 'Disability Type', 'Specialized Services',\n",
       "       'Discharge/Transfer/\\nDeceased Date', 'Discharge Type'],\n",
       "      dtype='object')"
      ]
     },
     "execution_count": 12,
     "metadata": {},
     "output_type": "execute_result"
    }
   ],
   "source": [
    "df.columns"
   ]
  },
  {
   "cell_type": "code",
   "execution_count": 13,
   "id": "6b134d89-945d-4fec-8715-662c7063f275",
   "metadata": {},
   "outputs": [],
   "source": [
    "df.rename(columns = {'Discharge/Transfer/\\nDeceased Date':'DTD_Date'}, inplace = True)"
   ]
  },
  {
   "cell_type": "code",
   "execution_count": null,
   "id": "57b3b0b8-3dc6-4102-bf4d-37e41b5b53fe",
   "metadata": {},
   "outputs": [],
   "source": []
  },
  {
   "cell_type": "code",
   "execution_count": 14,
   "id": "781540d9-8396-45e8-b3ef-d20fb6a5c26a",
   "metadata": {},
   "outputs": [
    {
     "name": "stdout",
     "output_type": "stream",
     "text": [
      "<class 'pandas.core.frame.DataFrame'>\n",
      "Int64Index: 2251 entries, 0 to 121\n",
      "Data columns (total 20 columns):\n",
      " #   Column                     Non-Null Count  Dtype  \n",
      "---  ------                     --------------  -----  \n",
      " 0   Episode ID                 1954 non-null   float64\n",
      " 1   Decree                     2251 non-null   object \n",
      " 2   Individual ID              2251 non-null   int64  \n",
      " 3   Last Name                  2251 non-null   object \n",
      " 4   First Name                 2251 non-null   object \n",
      " 5   Identification Type        2251 non-null   object \n",
      " 6   Identification Number      2251 non-null   object \n",
      " 7   Date of Birth              2251 non-null   object \n",
      " 8   Admitting Facility         2251 non-null   object \n",
      " 9   Admitting Facility County  2251 non-null   object \n",
      " 10  Submitted Date             1954 non-null   object \n",
      " 11  Admission Date             2251 non-null   object \n",
      " 12  End Date                   202 non-null    object \n",
      " 13  Outcome                    1954 non-null   object \n",
      " 14  Effective Date             134 non-null    object \n",
      " 15  Determination Date         1954 non-null   object \n",
      " 16  Disability Type            2251 non-null   object \n",
      " 17  Specialized Services       111 non-null    object \n",
      " 18  DTD_Date                   247 non-null    object \n",
      " 19  Discharge Type             247 non-null    object \n",
      "dtypes: float64(1), int64(1), object(18)\n",
      "memory usage: 369.3+ KB\n"
     ]
    }
   ],
   "source": [
    "df.info()"
   ]
  },
  {
   "cell_type": "code",
   "execution_count": 15,
   "id": "b2d6b486-a20a-45e4-8ada-c7dfa41c44b7",
   "metadata": {},
   "outputs": [
    {
     "data": {
      "text/plain": [
       "Index(['Episode ID', 'Decree', 'Individual ID', 'Last Name', 'First Name',\n",
       "       'Identification Type', 'Identification Number', 'Date of Birth',\n",
       "       'Admitting Facility', 'Admitting Facility County', 'Submitted Date',\n",
       "       'Admission Date', 'End Date', 'Outcome', 'Effective Date',\n",
       "       'Determination Date', 'Disability Type', 'Specialized Services',\n",
       "       'DTD_Date', 'Discharge Type'],\n",
       "      dtype='object')"
      ]
     },
     "execution_count": 15,
     "metadata": {},
     "output_type": "execute_result"
    }
   ],
   "source": [
    "df.columns"
   ]
  },
  {
   "cell_type": "code",
   "execution_count": 16,
   "id": "31f0d900-1b50-4147-9cf1-0e4f0fea0e95",
   "metadata": {},
   "outputs": [],
   "source": [
    "# converting the string to datetime format\n",
    "df['Date of Birth'] = pd.to_datetime(df['Date of Birth'])"
   ]
  },
  {
   "cell_type": "code",
   "execution_count": 17,
   "id": "3105b9b9-af2b-4038-bf17-4809d47b15b0",
   "metadata": {},
   "outputs": [],
   "source": [
    "# converting the string to datetime format\n",
    "df['Submitted Date'] = pd.to_datetime(df['Submitted Date'])"
   ]
  },
  {
   "cell_type": "code",
   "execution_count": 18,
   "id": "cbd9d7de-97b0-4139-b710-c410fc93d6c4",
   "metadata": {},
   "outputs": [],
   "source": [
    "# converting the string to datetime format\n",
    "df['Admission Date'] = pd.to_datetime(df['Admission Date'])"
   ]
  },
  {
   "cell_type": "code",
   "execution_count": 19,
   "id": "a6477279-b8ce-4e1b-b7ab-3d768a9f665c",
   "metadata": {},
   "outputs": [],
   "source": [
    "# converting the string to datetime format\n",
    "df['End Date'] = pd.to_datetime(df['End Date'])"
   ]
  },
  {
   "cell_type": "code",
   "execution_count": 20,
   "id": "58852f85-f3a1-41e0-b187-9ce4c0e37073",
   "metadata": {},
   "outputs": [],
   "source": [
    "# converting the string to datetime format\n",
    "df['Effective Date'] = pd.to_datetime(df['Effective Date'])"
   ]
  },
  {
   "cell_type": "code",
   "execution_count": 21,
   "id": "5f5ab1e7-336f-48ca-b43b-b29f77ac22ee",
   "metadata": {},
   "outputs": [],
   "source": [
    "# converting the string to datetime format\n",
    "df['Determination Date'] = pd.to_datetime(df['Determination Date'])"
   ]
  },
  {
   "cell_type": "code",
   "execution_count": 22,
   "id": "f6131333-4cb9-4d0f-b800-182d8046e52a",
   "metadata": {},
   "outputs": [],
   "source": [
    "# converting the string to datetime format\n",
    "df['DTD_Date'] = pd.to_datetime(df['DTD_Date'])"
   ]
  },
  {
   "cell_type": "code",
   "execution_count": 23,
   "id": "26a0f00a-c58c-4fcc-bcd0-2682c47239ce",
   "metadata": {},
   "outputs": [],
   "source": [
    "# converting the string to datetime format\n",
    "df['Processed_date'] = pd.Timestamp.now()"
   ]
  },
  {
   "cell_type": "code",
   "execution_count": 24,
   "id": "b89be395-de00-49d7-8531-88342bf38868",
   "metadata": {},
   "outputs": [
    {
     "data": {
      "text/plain": [
       "Timestamp('2023-06-21 00:00:00')"
      ]
     },
     "execution_count": 24,
     "metadata": {},
     "output_type": "execute_result"
    }
   ],
   "source": [
    "df['Admission Date'].max()"
   ]
  },
  {
   "cell_type": "code",
   "execution_count": 25,
   "id": "c85d1f09-312e-42f5-b023-45d557846d81",
   "metadata": {},
   "outputs": [],
   "source": [
    "# converting the string to datetime format\n",
    "df['Census_date'] = df['Admission Date'].max()"
   ]
  },
  {
   "cell_type": "code",
   "execution_count": 26,
   "id": "be0e9d9e-7334-4c04-9a45-58185a0c243a",
   "metadata": {},
   "outputs": [
    {
     "data": {
      "text/html": [
       "<div>\n",
       "<style scoped>\n",
       "    .dataframe tbody tr th:only-of-type {\n",
       "        vertical-align: middle;\n",
       "    }\n",
       "\n",
       "    .dataframe tbody tr th {\n",
       "        vertical-align: top;\n",
       "    }\n",
       "\n",
       "    .dataframe thead th {\n",
       "        text-align: right;\n",
       "    }\n",
       "</style>\n",
       "<table border=\"1\" class=\"dataframe\">\n",
       "  <thead>\n",
       "    <tr style=\"text-align: right;\">\n",
       "      <th></th>\n",
       "      <th>Episode ID</th>\n",
       "      <th>Decree</th>\n",
       "      <th>Individual ID</th>\n",
       "      <th>Last Name</th>\n",
       "      <th>First Name</th>\n",
       "      <th>Identification Type</th>\n",
       "      <th>Identification Number</th>\n",
       "      <th>Date of Birth</th>\n",
       "      <th>Admitting Facility</th>\n",
       "      <th>Admitting Facility County</th>\n",
       "      <th>...</th>\n",
       "      <th>End Date</th>\n",
       "      <th>Outcome</th>\n",
       "      <th>Effective Date</th>\n",
       "      <th>Determination Date</th>\n",
       "      <th>Disability Type</th>\n",
       "      <th>Specialized Services</th>\n",
       "      <th>DTD_Date</th>\n",
       "      <th>Discharge Type</th>\n",
       "      <th>Download_date</th>\n",
       "      <th>Census_date</th>\n",
       "    </tr>\n",
       "  </thead>\n",
       "  <tbody>\n",
       "    <tr>\n",
       "      <th>0</th>\n",
       "      <td>NaN</td>\n",
       "      <td>Colbert</td>\n",
       "      <td>1936207</td>\n",
       "      <td>Abbott</td>\n",
       "      <td>Joyce</td>\n",
       "      <td>Social Security Number</td>\n",
       "      <td>334-26-6056</td>\n",
       "      <td>1933-02-19</td>\n",
       "      <td>FRIENDSHIP VILLAGE SCHAUMBURG</td>\n",
       "      <td>Cook</td>\n",
       "      <td>...</td>\n",
       "      <td>NaT</td>\n",
       "      <td>NaN</td>\n",
       "      <td>NaT</td>\n",
       "      <td>NaT</td>\n",
       "      <td>Not specified</td>\n",
       "      <td>NaN</td>\n",
       "      <td>NaT</td>\n",
       "      <td>NaN</td>\n",
       "      <td>2023-06-22 15:07:03.221420</td>\n",
       "      <td>2023-06-21</td>\n",
       "    </tr>\n",
       "    <tr>\n",
       "      <th>1</th>\n",
       "      <td>NaN</td>\n",
       "      <td>Colbert</td>\n",
       "      <td>1934693</td>\n",
       "      <td>Abercrombie</td>\n",
       "      <td>Patricia</td>\n",
       "      <td>Social Security Number</td>\n",
       "      <td>328-44-1202</td>\n",
       "      <td>1947-05-15</td>\n",
       "      <td>Ascension Resurrection Life</td>\n",
       "      <td>Cook</td>\n",
       "      <td>...</td>\n",
       "      <td>NaT</td>\n",
       "      <td>NaN</td>\n",
       "      <td>NaT</td>\n",
       "      <td>NaT</td>\n",
       "      <td>Not specified</td>\n",
       "      <td>NaN</td>\n",
       "      <td>NaT</td>\n",
       "      <td>NaN</td>\n",
       "      <td>2023-06-22 15:07:03.221420</td>\n",
       "      <td>2023-06-21</td>\n",
       "    </tr>\n",
       "    <tr>\n",
       "      <th>2</th>\n",
       "      <td>1791639.0</td>\n",
       "      <td>Colbert</td>\n",
       "      <td>1919882</td>\n",
       "      <td>Abrams</td>\n",
       "      <td>Juan</td>\n",
       "      <td>Social Security Number</td>\n",
       "      <td>580-50-9109</td>\n",
       "      <td>1936-03-05</td>\n",
       "      <td>ASCENSION ST BENEDICT</td>\n",
       "      <td>Cook</td>\n",
       "      <td>...</td>\n",
       "      <td>NaT</td>\n",
       "      <td>No Level II Required – No SMI/ID/RC</td>\n",
       "      <td>NaT</td>\n",
       "      <td>2023-05-24</td>\n",
       "      <td>Not specified</td>\n",
       "      <td>NaN</td>\n",
       "      <td>NaT</td>\n",
       "      <td>NaN</td>\n",
       "      <td>2023-06-22 15:07:03.221420</td>\n",
       "      <td>2023-06-21</td>\n",
       "    </tr>\n",
       "    <tr>\n",
       "      <th>3</th>\n",
       "      <td>1817277.0</td>\n",
       "      <td>Colbert</td>\n",
       "      <td>1858386</td>\n",
       "      <td>Abron-Vaughan</td>\n",
       "      <td>Shirlee</td>\n",
       "      <td>Social Security Number</td>\n",
       "      <td>358-56-9468</td>\n",
       "      <td>1957-01-11</td>\n",
       "      <td>The British Home for the Retired Men and Women</td>\n",
       "      <td>Cook</td>\n",
       "      <td>...</td>\n",
       "      <td>NaT</td>\n",
       "      <td>No Level II Required – No SMI/ID/RC</td>\n",
       "      <td>NaT</td>\n",
       "      <td>2023-06-12</td>\n",
       "      <td>Not specified</td>\n",
       "      <td>NaN</td>\n",
       "      <td>2023-06-13</td>\n",
       "      <td>Discharge/Transfer</td>\n",
       "      <td>2023-06-22 15:07:03.221420</td>\n",
       "      <td>2023-06-21</td>\n",
       "    </tr>\n",
       "    <tr>\n",
       "      <th>4</th>\n",
       "      <td>1818204.0</td>\n",
       "      <td>Colbert</td>\n",
       "      <td>1935134</td>\n",
       "      <td>Acker</td>\n",
       "      <td>Josephine</td>\n",
       "      <td>Social Security Number</td>\n",
       "      <td>354-30-0494</td>\n",
       "      <td>1936-09-29</td>\n",
       "      <td>BUCKINGHAM PAVILION</td>\n",
       "      <td>Cook</td>\n",
       "      <td>...</td>\n",
       "      <td>NaT</td>\n",
       "      <td>No Level II Required – No SMI/ID/RC</td>\n",
       "      <td>NaT</td>\n",
       "      <td>2023-06-12</td>\n",
       "      <td>Not specified</td>\n",
       "      <td>NaN</td>\n",
       "      <td>NaT</td>\n",
       "      <td>NaN</td>\n",
       "      <td>2023-06-22 15:07:03.221420</td>\n",
       "      <td>2023-06-21</td>\n",
       "    </tr>\n",
       "  </tbody>\n",
       "</table>\n",
       "<p>5 rows × 22 columns</p>\n",
       "</div>"
      ],
      "text/plain": [
       "   Episode ID   Decree  Individual ID      Last Name First Name  \\\n",
       "0         NaN  Colbert        1936207         Abbott      Joyce   \n",
       "1         NaN  Colbert        1934693    Abercrombie   Patricia   \n",
       "2   1791639.0  Colbert        1919882         Abrams       Juan   \n",
       "3   1817277.0  Colbert        1858386  Abron-Vaughan    Shirlee   \n",
       "4   1818204.0  Colbert        1935134          Acker  Josephine   \n",
       "\n",
       "      Identification Type Identification Number Date of Birth  \\\n",
       "0  Social Security Number           334-26-6056    1933-02-19   \n",
       "1  Social Security Number           328-44-1202    1947-05-15   \n",
       "2  Social Security Number           580-50-9109    1936-03-05   \n",
       "3  Social Security Number           358-56-9468    1957-01-11   \n",
       "4  Social Security Number           354-30-0494    1936-09-29   \n",
       "\n",
       "                               Admitting Facility Admitting Facility County  \\\n",
       "0                   FRIENDSHIP VILLAGE SCHAUMBURG                      Cook   \n",
       "1                     Ascension Resurrection Life                      Cook   \n",
       "2                           ASCENSION ST BENEDICT                      Cook   \n",
       "3  The British Home for the Retired Men and Women                      Cook   \n",
       "4                             BUCKINGHAM PAVILION                      Cook   \n",
       "\n",
       "   ... End Date                              Outcome Effective Date  \\\n",
       "0  ...      NaT                                  NaN            NaT   \n",
       "1  ...      NaT                                  NaN            NaT   \n",
       "2  ...      NaT  No Level II Required – No SMI/ID/RC            NaT   \n",
       "3  ...      NaT  No Level II Required – No SMI/ID/RC            NaT   \n",
       "4  ...      NaT  No Level II Required – No SMI/ID/RC            NaT   \n",
       "\n",
       "  Determination Date Disability Type Specialized Services   DTD_Date  \\\n",
       "0                NaT   Not specified                  NaN        NaT   \n",
       "1                NaT   Not specified                  NaN        NaT   \n",
       "2         2023-05-24   Not specified                  NaN        NaT   \n",
       "3         2023-06-12   Not specified                  NaN 2023-06-13   \n",
       "4         2023-06-12   Not specified                  NaN        NaT   \n",
       "\n",
       "       Discharge Type              Download_date Census_date  \n",
       "0                 NaN 2023-06-22 15:07:03.221420  2023-06-21  \n",
       "1                 NaN 2023-06-22 15:07:03.221420  2023-06-21  \n",
       "2                 NaN 2023-06-22 15:07:03.221420  2023-06-21  \n",
       "3  Discharge/Transfer 2023-06-22 15:07:03.221420  2023-06-21  \n",
       "4                 NaN 2023-06-22 15:07:03.221420  2023-06-21  \n",
       "\n",
       "[5 rows x 22 columns]"
      ]
     },
     "execution_count": 26,
     "metadata": {},
     "output_type": "execute_result"
    }
   ],
   "source": [
    "df.head()"
   ]
  },
  {
   "cell_type": "code",
   "execution_count": 27,
   "id": "921b04e2-1e64-486b-87dc-23a8e6a146e3",
   "metadata": {},
   "outputs": [],
   "source": [
    "#function to fix case of member names\n",
    "def titlecase(s):\n",
    "    return re.sub(\n",
    "        r\"[A-Za-z]+('[A-Za-z]+)?\",\n",
    "        lambda word: word.group(0).capitalize(),\n",
    "        s)"
   ]
  },
  {
   "cell_type": "code",
   "execution_count": 28,
   "id": "59dd10e5-43c2-4992-bee4-bcee20ceb2c4",
   "metadata": {},
   "outputs": [],
   "source": [
    "# Fix capitalization\n",
    "df['Last Name'] = df['Last Name'].apply(titlecase)"
   ]
  },
  {
   "cell_type": "code",
   "execution_count": 29,
   "id": "4cf79dc4-0567-4b5d-a51b-fc0d531b50c0",
   "metadata": {},
   "outputs": [],
   "source": [
    "# Fix capitalization\n",
    "df['First Name'] = df['First Name'].apply(titlecase)"
   ]
  },
  {
   "cell_type": "code",
   "execution_count": 30,
   "id": "bd739cec-1762-4e0d-97be-47204f92bbaa",
   "metadata": {},
   "outputs": [],
   "source": [
    "# Fix capitalization\n",
    "#convert text to uppercase\n",
    "df['Admitting Facility'] = df['Admitting Facility'].str.upper()"
   ]
  },
  {
   "cell_type": "code",
   "execution_count": 31,
   "id": "6c96959c-195e-4e59-b0ab-7b7f28334293",
   "metadata": {},
   "outputs": [
    {
     "data": {
      "text/html": [
       "<div>\n",
       "<style scoped>\n",
       "    .dataframe tbody tr th:only-of-type {\n",
       "        vertical-align: middle;\n",
       "    }\n",
       "\n",
       "    .dataframe tbody tr th {\n",
       "        vertical-align: top;\n",
       "    }\n",
       "\n",
       "    .dataframe thead th {\n",
       "        text-align: right;\n",
       "    }\n",
       "</style>\n",
       "<table border=\"1\" class=\"dataframe\">\n",
       "  <thead>\n",
       "    <tr style=\"text-align: right;\">\n",
       "      <th></th>\n",
       "      <th>Last Name</th>\n",
       "      <th>First Name</th>\n",
       "      <th>Admitting Facility</th>\n",
       "    </tr>\n",
       "  </thead>\n",
       "  <tbody>\n",
       "    <tr>\n",
       "      <th>356</th>\n",
       "      <td>Cohen</td>\n",
       "      <td>Rhonna</td>\n",
       "      <td>ALDEN ESTATES SKOKIE</td>\n",
       "    </tr>\n",
       "    <tr>\n",
       "      <th>172</th>\n",
       "      <td>Bombicino</td>\n",
       "      <td>Antoinette</td>\n",
       "      <td>AVANTARA PARK RIDGE</td>\n",
       "    </tr>\n",
       "    <tr>\n",
       "      <th>125</th>\n",
       "      <td>Bednarczyk</td>\n",
       "      <td>Kazimierz</td>\n",
       "      <td>WARREN BARR OAK LAWN</td>\n",
       "    </tr>\n",
       "    <tr>\n",
       "      <th>503</th>\n",
       "      <td>Dunstan</td>\n",
       "      <td>Daniel</td>\n",
       "      <td>LEXINGTON OF  ORLAND PARK</td>\n",
       "    </tr>\n",
       "    <tr>\n",
       "      <th>481</th>\n",
       "      <td>Dorsey</td>\n",
       "      <td>Selena</td>\n",
       "      <td>SOUTH HOLLAND MANOR</td>\n",
       "    </tr>\n",
       "    <tr>\n",
       "      <th>957</th>\n",
       "      <td>Jones</td>\n",
       "      <td>Kenneth</td>\n",
       "      <td>BRIA PALOS HILLS HC</td>\n",
       "    </tr>\n",
       "    <tr>\n",
       "      <th>1593</th>\n",
       "      <td>Redmond</td>\n",
       "      <td>Stanley</td>\n",
       "      <td>GENERATIONS APPLEWOOD</td>\n",
       "    </tr>\n",
       "    <tr>\n",
       "      <th>1317</th>\n",
       "      <td>Minarik</td>\n",
       "      <td>Carol</td>\n",
       "      <td>GLENVIEW TERRACE NSG CTR</td>\n",
       "    </tr>\n",
       "    <tr>\n",
       "      <th>794</th>\n",
       "      <td>Hay</td>\n",
       "      <td>Carla</td>\n",
       "      <td>ALIYA HEALTHCARE HOMEWOOD</td>\n",
       "    </tr>\n",
       "    <tr>\n",
       "      <th>254</th>\n",
       "      <td>Buenrostro</td>\n",
       "      <td>Jesse</td>\n",
       "      <td>AVANTARA CHICAGO RIDGE</td>\n",
       "    </tr>\n",
       "    <tr>\n",
       "      <th>167</th>\n",
       "      <td>Bobruk</td>\n",
       "      <td>David</td>\n",
       "      <td>APERION CARE HILLSIDE</td>\n",
       "    </tr>\n",
       "    <tr>\n",
       "      <th>1333</th>\n",
       "      <td>Montana</td>\n",
       "      <td>James</td>\n",
       "      <td>TERRACES AT THE CLARE</td>\n",
       "    </tr>\n",
       "    <tr>\n",
       "      <th>1270</th>\n",
       "      <td>Mckenzie</td>\n",
       "      <td>Jeffrey</td>\n",
       "      <td>ALIYA OAK LAWN WEST</td>\n",
       "    </tr>\n",
       "    <tr>\n",
       "      <th>425</th>\n",
       "      <td>Davis</td>\n",
       "      <td>Barbara</td>\n",
       "      <td>MAYFIELD CARE &amp; REHAB</td>\n",
       "    </tr>\n",
       "    <tr>\n",
       "      <th>1396</th>\n",
       "      <td>Newborn</td>\n",
       "      <td>Christopher</td>\n",
       "      <td>CITY VIEW MULTICARE</td>\n",
       "    </tr>\n",
       "  </tbody>\n",
       "</table>\n",
       "</div>"
      ],
      "text/plain": [
       "       Last Name   First Name         Admitting Facility\n",
       "356        Cohen       Rhonna       ALDEN ESTATES SKOKIE\n",
       "172    Bombicino   Antoinette        AVANTARA PARK RIDGE\n",
       "125   Bednarczyk    Kazimierz       WARREN BARR OAK LAWN\n",
       "503      Dunstan       Daniel  LEXINGTON OF  ORLAND PARK\n",
       "481       Dorsey       Selena        SOUTH HOLLAND MANOR\n",
       "957        Jones      Kenneth        BRIA PALOS HILLS HC\n",
       "1593     Redmond      Stanley      GENERATIONS APPLEWOOD\n",
       "1317     Minarik        Carol   GLENVIEW TERRACE NSG CTR\n",
       "794          Hay        Carla  ALIYA HEALTHCARE HOMEWOOD\n",
       "254   Buenrostro        Jesse     AVANTARA CHICAGO RIDGE\n",
       "167       Bobruk        David      APERION CARE HILLSIDE\n",
       "1333     Montana        James      TERRACES AT THE CLARE\n",
       "1270    Mckenzie      Jeffrey        ALIYA OAK LAWN WEST\n",
       "425        Davis      Barbara      MAYFIELD CARE & REHAB\n",
       "1396     Newborn  Christopher        CITY VIEW MULTICARE"
      ]
     },
     "execution_count": 31,
     "metadata": {},
     "output_type": "execute_result"
    }
   ],
   "source": [
    "#confirm\n",
    "df[['Last Name', 'First Name', 'Admitting Facility']].sample(15)"
   ]
  },
  {
   "cell_type": "code",
   "execution_count": 32,
   "id": "825c5a6a-ad6d-4817-aa38-20030bff2519",
   "metadata": {},
   "outputs": [
    {
     "data": {
      "text/plain": [
       "Social Security Number       2100\n",
       "Medicaid ID                    83\n",
       "AssessmentPro IID              54\n",
       "Driver's License/State ID      14\n",
       "Name: Identification Type, dtype: int64"
      ]
     },
     "execution_count": 32,
     "metadata": {},
     "output_type": "execute_result"
    }
   ],
   "source": [
    "#check value counts of new field\n",
    "df['Identification Type'].value_counts().sort_values(ascending=False)"
   ]
  },
  {
   "cell_type": "code",
   "execution_count": 33,
   "id": "73f22b4c-c1f1-4f18-b1e8-a17b81bf1fe3",
   "metadata": {},
   "outputs": [],
   "source": [
    "#find duplicate rows across specific columns\n",
    "duplicateRows = df[df.duplicated()]"
   ]
  },
  {
   "cell_type": "code",
   "execution_count": 34,
   "id": "8dc17286-acc6-43c8-82ff-7b91014987fa",
   "metadata": {},
   "outputs": [
    {
     "name": "stdout",
     "output_type": "stream",
     "text": [
      "<class 'pandas.core.frame.DataFrame'>\n",
      "Int64Index: 2 entries, 538 to 2010\n",
      "Data columns (total 22 columns):\n",
      " #   Column                     Non-Null Count  Dtype         \n",
      "---  ------                     --------------  -----         \n",
      " 0   Episode ID                 2 non-null      float64       \n",
      " 1   Decree                     2 non-null      object        \n",
      " 2   Individual ID              2 non-null      int64         \n",
      " 3   Last Name                  2 non-null      object        \n",
      " 4   First Name                 2 non-null      object        \n",
      " 5   Identification Type        2 non-null      object        \n",
      " 6   Identification Number      2 non-null      object        \n",
      " 7   Date of Birth              2 non-null      datetime64[ns]\n",
      " 8   Admitting Facility         2 non-null      object        \n",
      " 9   Admitting Facility County  2 non-null      object        \n",
      " 10  Submitted Date             2 non-null      datetime64[ns]\n",
      " 11  Admission Date             2 non-null      datetime64[ns]\n",
      " 12  End Date                   0 non-null      datetime64[ns]\n",
      " 13  Outcome                    2 non-null      object        \n",
      " 14  Effective Date             0 non-null      datetime64[ns]\n",
      " 15  Determination Date         2 non-null      datetime64[ns]\n",
      " 16  Disability Type            2 non-null      object        \n",
      " 17  Specialized Services       0 non-null      object        \n",
      " 18  DTD_Date                   2 non-null      datetime64[ns]\n",
      " 19  Discharge Type             2 non-null      object        \n",
      " 20  Download_date              2 non-null      datetime64[ns]\n",
      " 21  Census_date                2 non-null      datetime64[ns]\n",
      "dtypes: datetime64[ns](9), float64(1), int64(1), object(11)\n",
      "memory usage: 368.0+ bytes\n"
     ]
    }
   ],
   "source": [
    "duplicateRows.info()"
   ]
  },
  {
   "cell_type": "code",
   "execution_count": 35,
   "id": "e95097d1-4eaa-4485-a019-3e1593362d52",
   "metadata": {},
   "outputs": [
    {
     "data": {
      "text/html": [
       "<div>\n",
       "<style scoped>\n",
       "    .dataframe tbody tr th:only-of-type {\n",
       "        vertical-align: middle;\n",
       "    }\n",
       "\n",
       "    .dataframe tbody tr th {\n",
       "        vertical-align: top;\n",
       "    }\n",
       "\n",
       "    .dataframe thead th {\n",
       "        text-align: right;\n",
       "    }\n",
       "</style>\n",
       "<table border=\"1\" class=\"dataframe\">\n",
       "  <thead>\n",
       "    <tr style=\"text-align: right;\">\n",
       "      <th></th>\n",
       "      <th>Episode ID</th>\n",
       "      <th>Decree</th>\n",
       "      <th>Individual ID</th>\n",
       "      <th>Last Name</th>\n",
       "      <th>First Name</th>\n",
       "      <th>Identification Type</th>\n",
       "      <th>Identification Number</th>\n",
       "      <th>Date of Birth</th>\n",
       "      <th>Admitting Facility</th>\n",
       "      <th>Admitting Facility County</th>\n",
       "      <th>...</th>\n",
       "      <th>End Date</th>\n",
       "      <th>Outcome</th>\n",
       "      <th>Effective Date</th>\n",
       "      <th>Determination Date</th>\n",
       "      <th>Disability Type</th>\n",
       "      <th>Specialized Services</th>\n",
       "      <th>DTD_Date</th>\n",
       "      <th>Discharge Type</th>\n",
       "      <th>Download_date</th>\n",
       "      <th>Census_date</th>\n",
       "    </tr>\n",
       "  </thead>\n",
       "  <tbody>\n",
       "    <tr>\n",
       "      <th>538</th>\n",
       "      <td>1787459.0</td>\n",
       "      <td>Colbert</td>\n",
       "      <td>1917748</td>\n",
       "      <td>Evans</td>\n",
       "      <td>Edward</td>\n",
       "      <td>Social Security Number</td>\n",
       "      <td>430-74-0327</td>\n",
       "      <td>1941-08-23</td>\n",
       "      <td>SOUTH SUBURBAN REHAB</td>\n",
       "      <td>Cook</td>\n",
       "      <td>...</td>\n",
       "      <td>NaT</td>\n",
       "      <td>No Level II Required – No SMI/ID/RC</td>\n",
       "      <td>NaT</td>\n",
       "      <td>2023-05-22</td>\n",
       "      <td>Not specified</td>\n",
       "      <td>NaN</td>\n",
       "      <td>2023-06-11</td>\n",
       "      <td>Deceased</td>\n",
       "      <td>2023-06-22 15:07:03.221420</td>\n",
       "      <td>2023-06-21</td>\n",
       "    </tr>\n",
       "    <tr>\n",
       "      <th>2010</th>\n",
       "      <td>1813950.0</td>\n",
       "      <td>Colbert</td>\n",
       "      <td>1932732</td>\n",
       "      <td>Washington</td>\n",
       "      <td>Charles</td>\n",
       "      <td>Social Security Number</td>\n",
       "      <td>336-44-3610</td>\n",
       "      <td>1949-03-11</td>\n",
       "      <td>AUSTIN OASIS</td>\n",
       "      <td>Cook</td>\n",
       "      <td>...</td>\n",
       "      <td>NaT</td>\n",
       "      <td>No Level II Required – No SMI/ID/RC</td>\n",
       "      <td>NaT</td>\n",
       "      <td>2023-06-09</td>\n",
       "      <td>Not specified</td>\n",
       "      <td>NaN</td>\n",
       "      <td>2023-06-09</td>\n",
       "      <td>Discharge/Transfer</td>\n",
       "      <td>2023-06-22 15:07:03.221420</td>\n",
       "      <td>2023-06-21</td>\n",
       "    </tr>\n",
       "  </tbody>\n",
       "</table>\n",
       "<p>2 rows × 22 columns</p>\n",
       "</div>"
      ],
      "text/plain": [
       "      Episode ID   Decree  Individual ID   Last Name First Name  \\\n",
       "538    1787459.0  Colbert        1917748       Evans     Edward   \n",
       "2010   1813950.0  Colbert        1932732  Washington    Charles   \n",
       "\n",
       "         Identification Type Identification Number Date of Birth  \\\n",
       "538   Social Security Number           430-74-0327    1941-08-23   \n",
       "2010  Social Security Number           336-44-3610    1949-03-11   \n",
       "\n",
       "        Admitting Facility Admitting Facility County  ... End Date  \\\n",
       "538   SOUTH SUBURBAN REHAB                      Cook  ...      NaT   \n",
       "2010          AUSTIN OASIS                      Cook  ...      NaT   \n",
       "\n",
       "                                  Outcome Effective Date Determination Date  \\\n",
       "538   No Level II Required – No SMI/ID/RC            NaT         2023-05-22   \n",
       "2010  No Level II Required – No SMI/ID/RC            NaT         2023-06-09   \n",
       "\n",
       "     Disability Type Specialized Services   DTD_Date      Discharge Type  \\\n",
       "538    Not specified                  NaN 2023-06-11            Deceased   \n",
       "2010   Not specified                  NaN 2023-06-09  Discharge/Transfer   \n",
       "\n",
       "                  Download_date Census_date  \n",
       "538  2023-06-22 15:07:03.221420  2023-06-21  \n",
       "2010 2023-06-22 15:07:03.221420  2023-06-21  \n",
       "\n",
       "[2 rows x 22 columns]"
      ]
     },
     "execution_count": 35,
     "metadata": {},
     "output_type": "execute_result"
    }
   ],
   "source": [
    "duplicateRows.head()"
   ]
  },
  {
   "cell_type": "code",
   "execution_count": 36,
   "id": "5060a9de-af2c-4b61-aacc-fdd2dcc0b8f5",
   "metadata": {},
   "outputs": [],
   "source": [
    "df.drop_duplicates(subset=None, keep='first', inplace=True)"
   ]
  },
  {
   "cell_type": "code",
   "execution_count": 37,
   "id": "96f66215-e0ff-473f-b27c-0a6995c39603",
   "metadata": {},
   "outputs": [],
   "source": [
    "df.drop_duplicates(subset='Identification Number', keep='first', inplace=True)"
   ]
  },
  {
   "cell_type": "code",
   "execution_count": 38,
   "id": "91a582cf-eb1e-4a53-9249-1ac13ebc691c",
   "metadata": {},
   "outputs": [],
   "source": [
    "#find duplicate rows across specific columns\n",
    "duplicateRows = df[df.duplicated(['Identification Number'])]"
   ]
  },
  {
   "cell_type": "code",
   "execution_count": 39,
   "id": "b0feb557-94e9-4baf-a73f-4821f09685a3",
   "metadata": {},
   "outputs": [
    {
     "data": {
      "text/html": [
       "<div>\n",
       "<style scoped>\n",
       "    .dataframe tbody tr th:only-of-type {\n",
       "        vertical-align: middle;\n",
       "    }\n",
       "\n",
       "    .dataframe tbody tr th {\n",
       "        vertical-align: top;\n",
       "    }\n",
       "\n",
       "    .dataframe thead th {\n",
       "        text-align: right;\n",
       "    }\n",
       "</style>\n",
       "<table border=\"1\" class=\"dataframe\">\n",
       "  <thead>\n",
       "    <tr style=\"text-align: right;\">\n",
       "      <th></th>\n",
       "      <th>Episode ID</th>\n",
       "      <th>Decree</th>\n",
       "      <th>Individual ID</th>\n",
       "      <th>Last Name</th>\n",
       "      <th>First Name</th>\n",
       "      <th>Identification Type</th>\n",
       "      <th>Identification Number</th>\n",
       "      <th>Date of Birth</th>\n",
       "      <th>Admitting Facility</th>\n",
       "      <th>Admitting Facility County</th>\n",
       "      <th>...</th>\n",
       "      <th>End Date</th>\n",
       "      <th>Outcome</th>\n",
       "      <th>Effective Date</th>\n",
       "      <th>Determination Date</th>\n",
       "      <th>Disability Type</th>\n",
       "      <th>Specialized Services</th>\n",
       "      <th>DTD_Date</th>\n",
       "      <th>Discharge Type</th>\n",
       "      <th>Download_date</th>\n",
       "      <th>Census_date</th>\n",
       "    </tr>\n",
       "  </thead>\n",
       "  <tbody>\n",
       "  </tbody>\n",
       "</table>\n",
       "<p>0 rows × 22 columns</p>\n",
       "</div>"
      ],
      "text/plain": [
       "Empty DataFrame\n",
       "Columns: [Episode ID, Decree, Individual ID, Last Name, First Name, Identification Type, Identification Number, Date of Birth, Admitting Facility, Admitting Facility County, Submitted Date, Admission Date, End Date, Outcome, Effective Date, Determination Date, Disability Type, Specialized Services, DTD_Date, Discharge Type, Download_date, Census_date]\n",
       "Index: []\n",
       "\n",
       "[0 rows x 22 columns]"
      ]
     },
     "execution_count": 39,
     "metadata": {},
     "output_type": "execute_result"
    }
   ],
   "source": [
    "duplicateRows.head()"
   ]
  },
  {
   "cell_type": "code",
   "execution_count": 40,
   "id": "549bafdf-f88a-47ca-b665-4a06427395c7",
   "metadata": {},
   "outputs": [
    {
     "name": "stdout",
     "output_type": "stream",
     "text": [
      "<bound method DataFrame.sort_values of Empty DataFrame\n",
      "Columns: [Episode ID, Decree, Individual ID, Last Name, First Name, Identification Type, Identification Number, Date of Birth, Admitting Facility, Admitting Facility County, Submitted Date, Admission Date, End Date, Outcome, Effective Date, Determination Date, Disability Type, Specialized Services, DTD_Date, Discharge Type, Download_date, Census_date]\n",
      "Index: []\n",
      "\n",
      "[0 rows x 22 columns]>\n"
     ]
    }
   ],
   "source": [
    "print(duplicateRows.sort_values)"
   ]
  },
  {
   "cell_type": "code",
   "execution_count": 41,
   "id": "760216dc-3692-412f-ab56-487037f7d673",
   "metadata": {},
   "outputs": [
    {
     "data": {
      "text/html": [
       "<div>\n",
       "<style scoped>\n",
       "    .dataframe tbody tr th:only-of-type {\n",
       "        vertical-align: middle;\n",
       "    }\n",
       "\n",
       "    .dataframe tbody tr th {\n",
       "        vertical-align: top;\n",
       "    }\n",
       "\n",
       "    .dataframe thead th {\n",
       "        text-align: right;\n",
       "    }\n",
       "</style>\n",
       "<table border=\"1\" class=\"dataframe\">\n",
       "  <thead>\n",
       "    <tr style=\"text-align: right;\">\n",
       "      <th></th>\n",
       "      <th>Episode ID</th>\n",
       "      <th>Decree</th>\n",
       "      <th>Individual ID</th>\n",
       "      <th>Last Name</th>\n",
       "      <th>First Name</th>\n",
       "      <th>Identification Type</th>\n",
       "      <th>Identification Number</th>\n",
       "      <th>Date of Birth</th>\n",
       "      <th>Admitting Facility</th>\n",
       "      <th>Admitting Facility County</th>\n",
       "      <th>...</th>\n",
       "      <th>End Date</th>\n",
       "      <th>Outcome</th>\n",
       "      <th>Effective Date</th>\n",
       "      <th>Determination Date</th>\n",
       "      <th>Disability Type</th>\n",
       "      <th>Specialized Services</th>\n",
       "      <th>DTD_Date</th>\n",
       "      <th>Discharge Type</th>\n",
       "      <th>Download_date</th>\n",
       "      <th>Census_date</th>\n",
       "    </tr>\n",
       "  </thead>\n",
       "  <tbody>\n",
       "  </tbody>\n",
       "</table>\n",
       "<p>0 rows × 22 columns</p>\n",
       "</div>"
      ],
      "text/plain": [
       "Empty DataFrame\n",
       "Columns: [Episode ID, Decree, Individual ID, Last Name, First Name, Identification Type, Identification Number, Date of Birth, Admitting Facility, Admitting Facility County, Submitted Date, Admission Date, End Date, Outcome, Effective Date, Determination Date, Disability Type, Specialized Services, DTD_Date, Discharge Type, Download_date, Census_date]\n",
       "Index: []\n",
       "\n",
       "[0 rows x 22 columns]"
      ]
     },
     "execution_count": 41,
     "metadata": {},
     "output_type": "execute_result"
    }
   ],
   "source": [
    "duplicateRows"
   ]
  },
  {
   "cell_type": "code",
   "execution_count": 42,
   "id": "237ef650-4f83-4dc5-bfe4-b797d878802c",
   "metadata": {},
   "outputs": [],
   "source": [
    "#create new column titled 'RIN'\n",
    "df['RIN'] = np.where(df['Identification Type']==\"Medicaid ID\", df['Identification Number'], '')"
   ]
  },
  {
   "cell_type": "code",
   "execution_count": 43,
   "id": "e34cd30b-95cc-418b-aa5f-b395bc312a07",
   "metadata": {},
   "outputs": [
    {
     "data": {
      "text/plain": [
       "0               \n",
       "1               \n",
       "2               \n",
       "3               \n",
       "4               \n",
       "         ...    \n",
       "116             \n",
       "117             \n",
       "118             \n",
       "119             \n",
       "121    095416392\n",
       "Name: RIN, Length: 2201, dtype: object"
      ]
     },
     "execution_count": 43,
     "metadata": {},
     "output_type": "execute_result"
    }
   ],
   "source": [
    "df.RIN"
   ]
  },
  {
   "cell_type": "code",
   "execution_count": 44,
   "id": "e6a420f2-c045-496f-8ce4-0c8b99379592",
   "metadata": {},
   "outputs": [],
   "source": [
    "#create new column titled 'SSN'\n",
    "df['SSN'] = np.where(df['Identification Type']==\"Social Security Number\", df['Identification Number'], '')"
   ]
  },
  {
   "cell_type": "code",
   "execution_count": 45,
   "id": "1978722d-3476-49b1-ae1e-9f57645cae98",
   "metadata": {},
   "outputs": [
    {
     "data": {
      "text/plain": [
       "0      334-26-6056\n",
       "1      328-44-1202\n",
       "2      580-50-9109\n",
       "3      358-56-9468\n",
       "4      354-30-0494\n",
       "          ...     \n",
       "116    489-86-5959\n",
       "117    323-92-4186\n",
       "118    332-96-9323\n",
       "119    342-80-8118\n",
       "121               \n",
       "Name: SSN, Length: 2201, dtype: object"
      ]
     },
     "execution_count": 45,
     "metadata": {},
     "output_type": "execute_result"
    }
   ],
   "source": [
    "df.SSN"
   ]
  },
  {
   "cell_type": "code",
   "execution_count": 46,
   "id": "395e8511-678d-42cc-9974-5e745b3759e6",
   "metadata": {},
   "outputs": [],
   "source": [
    "#add a new column for facility ID\n",
    "df.insert(1, \"Facility_ID\", \"\")"
   ]
  },
  {
   "cell_type": "code",
   "execution_count": 47,
   "id": "28396b18-8038-42f9-be65-9d3b967be203",
   "metadata": {},
   "outputs": [
    {
     "data": {
      "text/plain": [
       "Index(['Episode ID', 'Facility_ID', 'Decree', 'Individual ID', 'Last Name',\n",
       "       'First Name', 'Identification Type', 'Identification Number',\n",
       "       'Date of Birth', 'Admitting Facility', 'Admitting Facility County',\n",
       "       'Submitted Date', 'Admission Date', 'End Date', 'Outcome',\n",
       "       'Effective Date', 'Determination Date', 'Disability Type',\n",
       "       'Specialized Services', 'DTD_Date', 'Discharge Type', 'Download_date',\n",
       "       'Census_date', 'RIN', 'SSN'],\n",
       "      dtype='object')"
      ]
     },
     "execution_count": 47,
     "metadata": {},
     "output_type": "execute_result"
    }
   ],
   "source": [
    "df.columns"
   ]
  },
  {
   "cell_type": "code",
   "execution_count": 48,
   "id": "fdd83d9d-f7ec-47ea-b671-54f79567fd61",
   "metadata": {},
   "outputs": [],
   "source": [
    "# replace space with another character\n",
    "df.columns = df.columns.str.replace(' ', '_')"
   ]
  },
  {
   "cell_type": "code",
   "execution_count": 49,
   "id": "69b5408d-c0f0-4e2c-ad30-69d32887028d",
   "metadata": {},
   "outputs": [],
   "source": [
    "df.sort_values([\"Decree\", \"Admitting_Facility\", \"Last_Name\", \"First_Name\", \"Admission_Date\"], \n",
    "               axis = 0, ascending = True, \n",
    "               inplace = True,\n",
    "               na_position ='first')"
   ]
  },
  {
   "cell_type": "code",
   "execution_count": 52,
   "id": "c80ff49e-f107-4299-b849-0384416b8718",
   "metadata": {},
   "outputs": [
    {
     "data": {
      "text/html": [
       "<div>\n",
       "<style scoped>\n",
       "    .dataframe tbody tr th:only-of-type {\n",
       "        vertical-align: middle;\n",
       "    }\n",
       "\n",
       "    .dataframe tbody tr th {\n",
       "        vertical-align: top;\n",
       "    }\n",
       "\n",
       "    .dataframe thead th {\n",
       "        text-align: right;\n",
       "    }\n",
       "</style>\n",
       "<table border=\"1\" class=\"dataframe\">\n",
       "  <thead>\n",
       "    <tr style=\"text-align: right;\">\n",
       "      <th></th>\n",
       "      <th>Episode_ID</th>\n",
       "      <th>Facility_ID</th>\n",
       "      <th>Decree</th>\n",
       "      <th>Individual_ID</th>\n",
       "      <th>Last_Name</th>\n",
       "      <th>First_Name</th>\n",
       "      <th>Identification_Type</th>\n",
       "      <th>Identification_Number</th>\n",
       "      <th>Date_of_Birth</th>\n",
       "      <th>Admitting_Facility</th>\n",
       "      <th>...</th>\n",
       "      <th>Effective_Date</th>\n",
       "      <th>Determination_Date</th>\n",
       "      <th>Disability_Type</th>\n",
       "      <th>Specialized_Services</th>\n",
       "      <th>DTD_Date</th>\n",
       "      <th>Discharge_Type</th>\n",
       "      <th>Download_date</th>\n",
       "      <th>Census_date</th>\n",
       "      <th>RIN</th>\n",
       "      <th>SSN</th>\n",
       "    </tr>\n",
       "  </thead>\n",
       "  <tbody>\n",
       "    <tr>\n",
       "      <th>171</th>\n",
       "      <td>1796361.0</td>\n",
       "      <td></td>\n",
       "      <td>Colbert</td>\n",
       "      <td>1922330</td>\n",
       "      <td>Bomba</td>\n",
       "      <td>Aleksandra</td>\n",
       "      <td>Driver's License/State ID</td>\n",
       "      <td>B51000031659</td>\n",
       "      <td>1931-02-28</td>\n",
       "      <td>ADDOLORATA VILLA</td>\n",
       "      <td>...</td>\n",
       "      <td>NaT</td>\n",
       "      <td>2023-05-29</td>\n",
       "      <td>Not specified</td>\n",
       "      <td>NaN</td>\n",
       "      <td>NaT</td>\n",
       "      <td>NaN</td>\n",
       "      <td>2023-06-22 15:07:03.221420</td>\n",
       "      <td>2023-06-21</td>\n",
       "      <td></td>\n",
       "      <td></td>\n",
       "    </tr>\n",
       "    <tr>\n",
       "      <th>256</th>\n",
       "      <td>1726365.0</td>\n",
       "      <td></td>\n",
       "      <td>Colbert</td>\n",
       "      <td>1887527</td>\n",
       "      <td>Bukala</td>\n",
       "      <td>Wendy</td>\n",
       "      <td>Social Security Number</td>\n",
       "      <td>339-48-2898</td>\n",
       "      <td>1952-12-27</td>\n",
       "      <td>ADDOLORATA VILLA</td>\n",
       "      <td>...</td>\n",
       "      <td>NaT</td>\n",
       "      <td>2023-04-11</td>\n",
       "      <td>Not specified</td>\n",
       "      <td>NaN</td>\n",
       "      <td>NaT</td>\n",
       "      <td>NaN</td>\n",
       "      <td>2023-06-22 15:07:03.221420</td>\n",
       "      <td>2023-06-21</td>\n",
       "      <td></td>\n",
       "      <td>339-48-2898</td>\n",
       "    </tr>\n",
       "    <tr>\n",
       "      <th>701</th>\n",
       "      <td>1794389.0</td>\n",
       "      <td></td>\n",
       "      <td>Colbert</td>\n",
       "      <td>1921237</td>\n",
       "      <td>Gordon</td>\n",
       "      <td>Dorothy</td>\n",
       "      <td>Social Security Number</td>\n",
       "      <td>341-24-8657</td>\n",
       "      <td>1930-12-22</td>\n",
       "      <td>ADDOLORATA VILLA</td>\n",
       "      <td>...</td>\n",
       "      <td>NaT</td>\n",
       "      <td>2023-05-26</td>\n",
       "      <td>Not specified</td>\n",
       "      <td>NaN</td>\n",
       "      <td>NaT</td>\n",
       "      <td>NaN</td>\n",
       "      <td>2023-06-22 15:07:03.221420</td>\n",
       "      <td>2023-06-21</td>\n",
       "      <td></td>\n",
       "      <td>341-24-8657</td>\n",
       "    </tr>\n",
       "    <tr>\n",
       "      <th>1839</th>\n",
       "      <td>1806006.0</td>\n",
       "      <td></td>\n",
       "      <td>Colbert</td>\n",
       "      <td>1928033</td>\n",
       "      <td>Stransky</td>\n",
       "      <td>Catherine</td>\n",
       "      <td>AssessmentPro IID</td>\n",
       "      <td>1928033</td>\n",
       "      <td>1942-03-03</td>\n",
       "      <td>ADDOLORATA VILLA</td>\n",
       "      <td>...</td>\n",
       "      <td>NaT</td>\n",
       "      <td>2023-06-05</td>\n",
       "      <td>Not specified</td>\n",
       "      <td>NaN</td>\n",
       "      <td>NaT</td>\n",
       "      <td>NaN</td>\n",
       "      <td>2023-06-22 15:07:03.221420</td>\n",
       "      <td>2023-06-21</td>\n",
       "      <td></td>\n",
       "      <td></td>\n",
       "    </tr>\n",
       "    <tr>\n",
       "      <th>1372</th>\n",
       "      <td>1818676.0</td>\n",
       "      <td></td>\n",
       "      <td>Colbert</td>\n",
       "      <td>1935393</td>\n",
       "      <td>Munoz</td>\n",
       "      <td>Margarita</td>\n",
       "      <td>Social Security Number</td>\n",
       "      <td>359-64-5928</td>\n",
       "      <td>1954-11-02</td>\n",
       "      <td>AHVA CARE OF STICKNEY</td>\n",
       "      <td>...</td>\n",
       "      <td>NaT</td>\n",
       "      <td>2023-06-13</td>\n",
       "      <td>Not specified</td>\n",
       "      <td>NaN</td>\n",
       "      <td>NaT</td>\n",
       "      <td>NaN</td>\n",
       "      <td>2023-06-22 15:07:03.221420</td>\n",
       "      <td>2023-06-21</td>\n",
       "      <td></td>\n",
       "      <td>359-64-5928</td>\n",
       "    </tr>\n",
       "  </tbody>\n",
       "</table>\n",
       "<p>5 rows × 25 columns</p>\n",
       "</div>"
      ],
      "text/plain": [
       "      Episode_ID Facility_ID   Decree  Individual_ID Last_Name  First_Name  \\\n",
       "171    1796361.0              Colbert        1922330     Bomba  Aleksandra   \n",
       "256    1726365.0              Colbert        1887527    Bukala       Wendy   \n",
       "701    1794389.0              Colbert        1921237    Gordon     Dorothy   \n",
       "1839   1806006.0              Colbert        1928033  Stransky   Catherine   \n",
       "1372   1818676.0              Colbert        1935393     Munoz   Margarita   \n",
       "\n",
       "            Identification_Type Identification_Number Date_of_Birth  \\\n",
       "171   Driver's License/State ID          B51000031659    1931-02-28   \n",
       "256      Social Security Number           339-48-2898    1952-12-27   \n",
       "701      Social Security Number           341-24-8657    1930-12-22   \n",
       "1839          AssessmentPro IID               1928033    1942-03-03   \n",
       "1372     Social Security Number           359-64-5928    1954-11-02   \n",
       "\n",
       "         Admitting_Facility  ... Effective_Date Determination_Date  \\\n",
       "171        ADDOLORATA VILLA  ...            NaT         2023-05-29   \n",
       "256        ADDOLORATA VILLA  ...            NaT         2023-04-11   \n",
       "701        ADDOLORATA VILLA  ...            NaT         2023-05-26   \n",
       "1839       ADDOLORATA VILLA  ...            NaT         2023-06-05   \n",
       "1372  AHVA CARE OF STICKNEY  ...            NaT         2023-06-13   \n",
       "\n",
       "     Disability_Type Specialized_Services DTD_Date Discharge_Type  \\\n",
       "171    Not specified                  NaN      NaT            NaN   \n",
       "256    Not specified                  NaN      NaT            NaN   \n",
       "701    Not specified                  NaN      NaT            NaN   \n",
       "1839   Not specified                  NaN      NaT            NaN   \n",
       "1372   Not specified                  NaN      NaT            NaN   \n",
       "\n",
       "                  Download_date Census_date RIN          SSN  \n",
       "171  2023-06-22 15:07:03.221420  2023-06-21                   \n",
       "256  2023-06-22 15:07:03.221420  2023-06-21      339-48-2898  \n",
       "701  2023-06-22 15:07:03.221420  2023-06-21      341-24-8657  \n",
       "1839 2023-06-22 15:07:03.221420  2023-06-21                   \n",
       "1372 2023-06-22 15:07:03.221420  2023-06-21      359-64-5928  \n",
       "\n",
       "[5 rows x 25 columns]"
      ]
     },
     "execution_count": 52,
     "metadata": {},
     "output_type": "execute_result"
    }
   ],
   "source": [
    "df.head()"
   ]
  },
  {
   "cell_type": "code",
   "execution_count": 50,
   "id": "e332c4f7-7d32-4102-9df8-d08fb1729f25",
   "metadata": {},
   "outputs": [
    {
     "name": "stdout",
     "output_type": "stream",
     "text": [
      "\n",
      "25.298359155654907\n"
     ]
    }
   ],
   "source": [
    "# Grab Current Time After Running the Code\n",
    "end = time.time()\n",
    "\n",
    "#Subtract Start Time from The End Time\n",
    "total_time = end - start\n",
    "print(\"\\n\"+ str(total_time))"
   ]
  },
  {
   "cell_type": "code",
   "execution_count": 51,
   "id": "9bfd6313-3cce-443c-99b1-8af35e6dfc8a",
   "metadata": {},
   "outputs": [],
   "source": [
    "#export to csv\n",
    "df.to_csv(r'\\\\uicfs.server.uic.edu\\NURS\\1\\CCMTP\\Database & Reports\\Database\\Census\\output\\census.csv', index=False)"
   ]
  },
  {
   "cell_type": "code",
   "execution_count": null,
   "id": "acc90d14-d687-4917-945d-6b7ea3cf0137",
   "metadata": {},
   "outputs": [],
   "source": []
  }
 ],
 "metadata": {
  "kernelspec": {
   "display_name": "venv",
   "language": "python",
   "name": "python3"
  },
  "language_info": {
   "codemirror_mode": {
    "name": "ipython",
    "version": 3
   },
   "file_extension": ".py",
   "mimetype": "text/x-python",
   "name": "python",
   "nbconvert_exporter": "python",
   "pygments_lexer": "ipython3",
   "version": "3.12.3"
  }
 },
 "nbformat": 4,
 "nbformat_minor": 5
}
