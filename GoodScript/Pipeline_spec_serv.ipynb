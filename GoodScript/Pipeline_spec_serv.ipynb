{
 "cells": [
  {
   "cell_type": "code",
   "execution_count": 24,
   "id": "02f8e315-db52-4a6f-8687-ef22d71a470a",
   "metadata": {},
   "outputs": [],
   "source": [
    "#import libraries and packages\n",
    "import pandas as pd"
   ]
  },
  {
   "cell_type": "code",
   "execution_count": 25,
   "id": "fcf44c2f-4032-4d1f-b678-e55797d3ec2a",
   "metadata": {},
   "outputs": [],
   "source": [
    "import numpy as np"
   ]
  },
  {
   "cell_type": "code",
   "execution_count": 26,
   "id": "15873957-0e96-47b0-bcea-c1d8a5f0cf20",
   "metadata": {},
   "outputs": [],
   "source": [
    "#import the df clean data csv file\n",
    "df = pd.read_csv(\"/home/node1/Documents/uic/FilesUsed/PD1_services.csv\")"
   ]
  },
  {
   "cell_type": "code",
   "execution_count": 27,
   "id": "dae55112-fa48-48b6-820e-4571c0a11a12",
   "metadata": {},
   "outputs": [
    {
     "data": {
      "text/plain": [
       "(1726, 100)"
      ]
     },
     "execution_count": 27,
     "metadata": {},
     "output_type": "execute_result"
    }
   ],
   "source": [
    "#inspect the shape of the data frame\n",
    "df.shape"
   ]
  },
  {
   "cell_type": "code",
   "execution_count": 28,
   "id": "7f6affde-3daa-4f26-bd45-209d91956b48",
   "metadata": {},
   "outputs": [
    {
     "name": "stdout",
     "output_type": "stream",
     "text": [
      "<class 'pandas.core.frame.DataFrame'>\n",
      "RangeIndex: 1726 entries, 0 to 1725\n",
      "Data columns (total 100 columns):\n",
      " #   Column                          Non-Null Count  Dtype  \n",
      "---  ------                          --------------  -----  \n",
      " 0   Member_ID                       1726 non-null   int64  \n",
      " 1   Activity_ID                     1726 non-null   int64  \n",
      " 2   Assessment_ID                   1726 non-null   int64  \n",
      " 3   Member_Last_Name                1726 non-null   object \n",
      " 4   Member_First_Name               1726 non-null   object \n",
      " 5   Class                           1726 non-null   object \n",
      " 6   Facility                        1726 non-null   object \n",
      " 7   Member_Prime                    1726 non-null   object \n",
      " 8   Current_Age                     1726 non-null   int64  \n",
      " 9   Assess_Date                     1726 non-null   object \n",
      " 10  MinOfInfo_Date_Assessed         1726 non-null   object \n",
      " 11  MaxOfInfo_Date_Assessed         1726 non-null   object \n",
      " 12  DaysGroup                       1726 non-null   object \n",
      " 13  Dashboard_Status                1726 non-null   object \n",
      " 14  Pipeline_Dashboard_DaysinPhase  1726 non-null   object \n",
      " 15  First_Plan                      1459 non-null   object \n",
      " 16  Plan_ID                         1459 non-null   float64\n",
      " 17  Plan_Date                       1459 non-null   object \n",
      " 18  Planner_ID                      1454 non-null   float64\n",
      " 19  Aging_Waiver_1                  1726 non-null   bool   \n",
      " 20  Aging_Waiver_2                  1726 non-null   bool   \n",
      " 21  Aging_Waiver_3                  1726 non-null   bool   \n",
      " 22  DRS_Waiver_1                    1726 non-null   bool   \n",
      " 23  DRS_Waiver_2                    1726 non-null   bool   \n",
      " 24  DRS_Waiver_3                    1726 non-null   bool   \n",
      " 25  DRS_Waiver_4                    1726 non-null   bool   \n",
      " 26  DRS_Waiver_5                    1726 non-null   bool   \n",
      " 27  DRS_Waiver_6                    1726 non-null   bool   \n",
      " 28  DRS_Waiver_7                    1726 non-null   bool   \n",
      " 29  DRS_Waiver_8                    1726 non-null   bool   \n",
      " 30  DRS_Waiver_9                    1726 non-null   bool   \n",
      " 31  DRS_Waiver_10                   1726 non-null   bool   \n",
      " 32  DRS_Waiver_11                   1726 non-null   bool   \n",
      " 33  Mental_Health_Services_1        1726 non-null   bool   \n",
      " 34  Mental_Health_Services_2        1726 non-null   bool   \n",
      " 35  Mental_Health_Services_3        1726 non-null   bool   \n",
      " 36  Mental_Health_Services_4        1726 non-null   bool   \n",
      " 37  Mental_Health_Services_5        1726 non-null   bool   \n",
      " 38  Mental_Health_Services_6        1726 non-null   bool   \n",
      " 39  Mental_Health_Services_7        1726 non-null   bool   \n",
      " 40  Mental_Health_Services_8        1726 non-null   bool   \n",
      " 41  Mental_Health_Services_9        1726 non-null   bool   \n",
      " 42  Mental_Health_Services_10       1726 non-null   bool   \n",
      " 43  Substance_Use_Services_1        1726 non-null   bool   \n",
      " 44  Substance_Use_Services_2        1726 non-null   bool   \n",
      " 45  Substance_Use_Services_3        1726 non-null   bool   \n",
      " 46  Substance_Use_Services_4        1726 non-null   bool   \n",
      " 47  Substance_Use_Services_5        1726 non-null   bool   \n",
      " 48  Substance_Use_Services_6        1726 non-null   bool   \n",
      " 49  Substance_Use_Services_7        1726 non-null   bool   \n",
      " 50  Substance_Use_Services_8        1726 non-null   bool   \n",
      " 51  Specialty_Providers_1           1726 non-null   bool   \n",
      " 52  Specialty_Providers_2           1726 non-null   bool   \n",
      " 53  Specialty_Providers_3           1726 non-null   bool   \n",
      " 54  Specialty_Providers_4           1726 non-null   bool   \n",
      " 55  Specialty_Providers_5           1726 non-null   bool   \n",
      " 56  Specialty_Providers_6           1726 non-null   bool   \n",
      " 57  Specialty_Providers_7           1726 non-null   bool   \n",
      " 58  Specialty_Providers_8           1726 non-null   bool   \n",
      " 59  Specialty_Providers_9           1726 non-null   bool   \n",
      " 60  Specialty_Providers_10          1726 non-null   bool   \n",
      " 61  Specialty_Providers_11          1726 non-null   bool   \n",
      " 62  Specialty_Providers_12          1726 non-null   bool   \n",
      " 63  Specialty_Providers_13          1726 non-null   bool   \n",
      " 64  Specialty_Providers_14          1726 non-null   bool   \n",
      " 65  Other_Specialty_1               1726 non-null   bool   \n",
      " 66  Other_Specialty_2               1726 non-null   bool   \n",
      " 67  Other_Specialty_3               1726 non-null   bool   \n",
      " 68  Other_Specialty_4               1726 non-null   bool   \n",
      " 69  Other_Specialty_5               1726 non-null   bool   \n",
      " 70  Other_Specialty_6               1726 non-null   bool   \n",
      " 71  Other_Specialty_7               1726 non-null   bool   \n",
      " 72  Medication_1                    1726 non-null   bool   \n",
      " 73  Medication_2                    1726 non-null   bool   \n",
      " 74  Medication_3                    1726 non-null   bool   \n",
      " 75  Medication_4                    1726 non-null   bool   \n",
      " 76  Medication_5                    1726 non-null   bool   \n",
      " 77  Medication_6                    1726 non-null   bool   \n",
      " 78  Transportation_1                1726 non-null   bool   \n",
      " 79  Transportation_2                1726 non-null   bool   \n",
      " 80  Transportation_3                1726 non-null   bool   \n",
      " 81  Other_Services_1                1726 non-null   bool   \n",
      " 82  Other_Services_2                1726 non-null   bool   \n",
      " 83  Other_Services_3                1726 non-null   bool   \n",
      " 84  Other_Services_4                1726 non-null   bool   \n",
      " 85  Documentation_Needs_1           1726 non-null   bool   \n",
      " 86  Documentation_Needs_2           1726 non-null   bool   \n",
      " 87  Documentation_Needs_3           1726 non-null   bool   \n",
      " 88  Documentation_Needs_4           1726 non-null   bool   \n",
      " 89  Documentation_Needs_5           1726 non-null   bool   \n",
      " 90  Further_Info_Eval_2_1           1726 non-null   bool   \n",
      " 91  Further_Info_Eval_2_2           1726 non-null   bool   \n",
      " 92  Further_Info_Eval_2_3           1726 non-null   bool   \n",
      " 93  Further_Info_Eval_2_4           1726 non-null   bool   \n",
      " 94  Further_Info_Eval_2_5           1726 non-null   bool   \n",
      " 95  Further_Info_Eval_2_6           1726 non-null   bool   \n",
      " 96  Further_Info_Eval_2_7           1726 non-null   bool   \n",
      " 97  Further_Info_Eval_2_8           1726 non-null   bool   \n",
      " 98  Further_Info_Eval_2_9           112 non-null    object \n",
      " 99  N_Plans                         1459 non-null   float64\n",
      "dtypes: bool(79), float64(3), int64(4), object(14)\n",
      "memory usage: 416.5+ KB\n"
     ]
    }
   ],
   "source": [
    "#explore the data frame\n",
    "df.info()"
   ]
  },
  {
   "cell_type": "code",
   "execution_count": 29,
   "id": "77710bc8-4d8c-444b-9e17-cc8d382f7279",
   "metadata": {
    "tags": []
   },
   "outputs": [
    {
     "data": {
      "text/plain": [
       "np.False_"
      ]
     },
     "execution_count": 29,
     "metadata": {},
     "output_type": "execute_result"
    }
   ],
   "source": [
    "#DUPLICATES\n",
    "#view duplicates by fields\n",
    "df.Member_ID.duplicated().any()\n"
   ]
  },
  {
   "cell_type": "code",
   "execution_count": 30,
   "id": "b1a47cf2-940d-4d39-800c-34d1ab0ab502",
   "metadata": {},
   "outputs": [
    {
     "data": {
      "text/plain": [
       "np.False_"
      ]
     },
     "execution_count": 30,
     "metadata": {},
     "output_type": "execute_result"
    }
   ],
   "source": [
    "df.Plan_ID.duplicated().all()"
   ]
  },
  {
   "cell_type": "code",
   "execution_count": 31,
   "id": "b5018214-dc93-459d-9107-65b763617e1f",
   "metadata": {},
   "outputs": [
    {
     "data": {
      "text/plain": [
       "np.False_"
      ]
     },
     "execution_count": 31,
     "metadata": {},
     "output_type": "execute_result"
    }
   ],
   "source": [
    "df.Activity_ID.duplicated().all()\n"
   ]
  },
  {
   "cell_type": "code",
   "execution_count": 32,
   "id": "15f526d8-62f5-4d5b-b3d3-7311a0cec60a",
   "metadata": {},
   "outputs": [],
   "source": [
    "df.rename(columns = {'Mental_Health_Services_1':'ACT'}, inplace = True)"
   ]
  },
  {
   "cell_type": "code",
   "execution_count": 33,
   "id": "73a88b8f-cc31-44d6-9db6-e32d117125d1",
   "metadata": {},
   "outputs": [],
   "source": [
    "df.rename(columns = {'Mental_Health_Services_2':'CST'}, inplace = True)"
   ]
  },
  {
   "cell_type": "code",
   "execution_count": 34,
   "id": "8cb5fa0a-8bbf-4872-9732-dfaa3b1980c0",
   "metadata": {},
   "outputs": [
    {
     "data": {
      "text/plain": [
       "Substance_Use_Services\n",
       "FALSE    1333\n",
       "TRUE      393\n",
       "Name: count, dtype: int64"
      ]
     },
     "execution_count": 34,
     "metadata": {},
     "output_type": "execute_result"
    }
   ],
   "source": [
    "#Substance_Use_Services\n",
    "#define function for classifying new field based on any of the service fields being yes\n",
    "def f(row):\n",
    "    if row['Substance_Use_Services_1']==1:\n",
    "        val = 'TRUE'\n",
    "    elif row['Substance_Use_Services_2']==1:\n",
    "        val = 'TRUE'\n",
    "    elif row['Substance_Use_Services_3']==1:\n",
    "        val = 'TRUE'\n",
    "    elif row['Substance_Use_Services_4']==1:\n",
    "        val = 'TRUE'\n",
    "    elif row['Substance_Use_Services_5']==1:\n",
    "        val = 'TRUE'\n",
    "    elif row['Substance_Use_Services_6']==1:\n",
    "        val = 'TRUE'\n",
    "    elif row['Substance_Use_Services_7']==1:\n",
    "        val = 'TRUE'\n",
    "    elif row['Substance_Use_Services_8']==1:\n",
    "        val = 'TRUE'\n",
    "    else:\n",
    "        val = 'FALSE'\n",
    "    return val\n",
    "\n",
    "#create new column 'Substance_Use_Services' using the function above\n",
    "df['Substance_Use_Services'] = df.apply(f, axis=1)\n",
    "\n",
    "#check value counts of new field\n",
    "df['Substance_Use_Services'].value_counts()"
   ]
  },
  {
   "cell_type": "code",
   "execution_count": 35,
   "id": "17c263ca-ec9d-4508-b13a-bb9046e30629",
   "metadata": {},
   "outputs": [
    {
     "data": {
      "text/plain": [
       "Index(['Member_ID', 'Activity_ID', 'Assessment_ID', 'Member_Last_Name',\n",
       "       'Member_First_Name', 'Class', 'Facility', 'Member_Prime', 'Current_Age',\n",
       "       'Assess_Date',\n",
       "       ...\n",
       "       'Further_Info_Eval_2_2', 'Further_Info_Eval_2_3',\n",
       "       'Further_Info_Eval_2_4', 'Further_Info_Eval_2_5',\n",
       "       'Further_Info_Eval_2_6', 'Further_Info_Eval_2_7',\n",
       "       'Further_Info_Eval_2_8', 'Further_Info_Eval_2_9', 'N_Plans',\n",
       "       'Substance_Use_Services'],\n",
       "      dtype='object', length=101)"
      ]
     },
     "execution_count": 35,
     "metadata": {},
     "output_type": "execute_result"
    }
   ],
   "source": [
    "df.columns"
   ]
  },
  {
   "cell_type": "code",
   "execution_count": 36,
   "id": "e917b43c-1a5b-4601-8232-c5e689f640f9",
   "metadata": {},
   "outputs": [
    {
     "data": {
      "text/plain": [
       "Class\n",
       "Colbert     1132\n",
       "Williams     594\n",
       "Name: count, dtype: int64"
      ]
     },
     "execution_count": 36,
     "metadata": {},
     "output_type": "execute_result"
    }
   ],
   "source": [
    "df['Class'].value_counts()"
   ]
  },
  {
   "cell_type": "code",
   "execution_count": 37,
   "id": "8a224c90-d774-4977-b35b-2383fe76043c",
   "metadata": {},
   "outputs": [],
   "source": [
    "PD1_serv = df[['Member_Prime','Class', 'Facility','Member_ID', 'Activity_ID', 'Member_Last_Name', 'Member_First_Name', 'MinOfInfo_Date_Assessed', 'MaxOfInfo_Date_Assessed', \n",
    "               'First_Plan','Plan_Date','ACT', 'CST', 'Substance_Use_Services', 'N_Plans', 'Dashboard_Status', 'Pipeline_Dashboard_DaysinPhase']].copy(deep=True)"
   ]
  },
  {
   "cell_type": "code",
   "execution_count": 38,
   "id": "29270db6-9c07-46ce-9a40-7a878c4bf208",
   "metadata": {},
   "outputs": [
    {
     "name": "stdout",
     "output_type": "stream",
     "text": [
      "<class 'pandas.core.frame.DataFrame'>\n",
      "RangeIndex: 1726 entries, 0 to 1725\n",
      "Data columns (total 17 columns):\n",
      " #   Column                          Non-Null Count  Dtype  \n",
      "---  ------                          --------------  -----  \n",
      " 0   Member_Prime                    1726 non-null   object \n",
      " 1   Class                           1726 non-null   object \n",
      " 2   Facility                        1726 non-null   object \n",
      " 3   Member_ID                       1726 non-null   int64  \n",
      " 4   Activity_ID                     1726 non-null   int64  \n",
      " 5   Member_Last_Name                1726 non-null   object \n",
      " 6   Member_First_Name               1726 non-null   object \n",
      " 7   MinOfInfo_Date_Assessed         1726 non-null   object \n",
      " 8   MaxOfInfo_Date_Assessed         1726 non-null   object \n",
      " 9   First_Plan                      1459 non-null   object \n",
      " 10  Plan_Date                       1459 non-null   object \n",
      " 11  ACT                             1726 non-null   bool   \n",
      " 12  CST                             1726 non-null   bool   \n",
      " 13  Substance_Use_Services          1726 non-null   object \n",
      " 14  N_Plans                         1459 non-null   float64\n",
      " 15  Dashboard_Status                1726 non-null   object \n",
      " 16  Pipeline_Dashboard_DaysinPhase  1726 non-null   object \n",
      "dtypes: bool(2), float64(1), int64(2), object(12)\n",
      "memory usage: 205.8+ KB\n"
     ]
    }
   ],
   "source": [
    "PD1_serv.info()"
   ]
  },
  {
   "cell_type": "code",
   "execution_count": 39,
   "id": "6da125a2-381e-48c1-a781-d2c6c36e067f",
   "metadata": {},
   "outputs": [],
   "source": [
    "PD1_serv.rename(columns = {'MinOfInfo_Date_Assessed':'Date_First_Assess'}, inplace = True)"
   ]
  },
  {
   "cell_type": "code",
   "execution_count": 40,
   "id": "d8be32ef-133d-42bb-9e69-9f19f2ba440a",
   "metadata": {},
   "outputs": [],
   "source": [
    "PD1_serv.rename(columns = {'MaxOfInfo_Date_Assessed':'Date_Most_Recent_Assess'}, inplace = True)"
   ]
  },
  {
   "cell_type": "code",
   "execution_count": 41,
   "id": "72588669-1594-401c-8d94-58558c9eb5bf",
   "metadata": {},
   "outputs": [],
   "source": [
    "PD1_serv.rename(columns = {'First_Plan':'Date_First_Plan'}, inplace = True)"
   ]
  },
  {
   "cell_type": "code",
   "execution_count": 42,
   "id": "8cf56af9-8825-4d8c-b99b-99d21953cc88",
   "metadata": {},
   "outputs": [],
   "source": [
    "PD1_serv.rename(columns = {'Plan_Date':'Date_Most_Recent_Plan'}, inplace = True)"
   ]
  },
  {
   "cell_type": "code",
   "execution_count": 43,
   "id": "ba6c5aad-b1d5-493e-bfeb-750541a67960",
   "metadata": {},
   "outputs": [],
   "source": [
    "PD1_serv.rename(columns = {'Pipeline_Dashboard_DaysinPhase':'DaysinPhase'}, inplace = True)"
   ]
  },
  {
   "cell_type": "code",
   "execution_count": 44,
   "id": "aece8555-7aa4-4f63-ba5c-f53e3551f70f",
   "metadata": {},
   "outputs": [
    {
     "data": {
      "text/plain": [
       "Index(['Member_Prime', 'Class', 'Facility', 'Member_ID', 'Activity_ID',\n",
       "       'Member_Last_Name', 'Member_First_Name', 'Date_First_Assess',\n",
       "       'Date_Most_Recent_Assess', 'Date_First_Plan', 'Date_Most_Recent_Plan',\n",
       "       'ACT', 'CST', 'Substance_Use_Services', 'N_Plans', 'Dashboard_Status',\n",
       "       'DaysinPhase'],\n",
       "      dtype='object')"
      ]
     },
     "execution_count": 44,
     "metadata": {},
     "output_type": "execute_result"
    }
   ],
   "source": [
    "PD1_serv.columns"
   ]
  },
  {
   "cell_type": "code",
   "execution_count": 45,
   "id": "c53916b4-d7c7-4283-b308-57ec74697cec",
   "metadata": {},
   "outputs": [],
   "source": [
    "PD1_serv.sort_values([\"Member_Prime\", \"Class\", \"Facility\", \"Member_Last_Name\", \"Member_First_Name\"], \n",
    "               axis = 0, ascending = True, \n",
    "               inplace = True,\n",
    "               na_position ='first')"
   ]
  },
  {
   "cell_type": "code",
   "execution_count": null,
   "id": "827cba6d-eee2-453c-9cb3-194d3467ac48",
   "metadata": {},
   "outputs": [],
   "source": [
    "#Export data\n",
    "# PD1_serv.to_csv('/home/node1/Documents/uic/FilesUsed/PD1_serv_2023-0629.csv')"
   ]
  },
  {
   "cell_type": "code",
   "execution_count": null,
   "id": "448ed7db-8732-43c7-b72d-21402b7d9ae3",
   "metadata": {},
   "outputs": [],
   "source": []
  }
 ],
 "metadata": {
  "kernelspec": {
   "display_name": "venv",
   "language": "python",
   "name": "python3"
  },
  "language_info": {
   "codemirror_mode": {
    "name": "ipython",
    "version": 3
   },
   "file_extension": ".py",
   "mimetype": "text/x-python",
   "name": "python",
   "nbconvert_exporter": "python",
   "pygments_lexer": "ipython3",
   "version": "3.12.3"
  },
  "toc-autonumbering": true,
  "toc-showcode": true,
  "toc-showmarkdowntxt": true
 },
 "nbformat": 4,
 "nbformat_minor": 5
}
