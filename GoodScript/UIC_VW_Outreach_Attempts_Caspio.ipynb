{
 "cells": [
  {
   "cell_type": "code",
   "execution_count": 7,
   "id": "2edbeabb",
   "metadata": {},
   "outputs": [],
   "source": [
    "import pandas as pd\n",
    "import numpy as np\n",
    "import time\n",
    "import re\n",
    "import os\n",
    "import datetime"
   ]
  },
  {
   "cell_type": "code",
   "execution_count": 8,
   "id": "4f146531-7777-4cfc-9383-fb5cf4817f51",
   "metadata": {},
   "outputs": [],
   "source": [
    "import warnings\n",
    "warnings.filterwarnings('ignore')\n",
    "warnings.simplefilter('ignore')"
   ]
  },
  {
   "cell_type": "code",
   "execution_count": 9,
   "id": "ce60e637-0d8b-4e2c-9c2d-2591c01793b2",
   "metadata": {},
   "outputs": [],
   "source": [
    "# os.chdir(r'C:/Users/vwalds/Documents/My Data Sources/')"
   ]
  },
  {
   "cell_type": "code",
   "execution_count": 10,
   "id": "bd6c9099-b615-42a2-84b6-cab021ef3888",
   "metadata": {},
   "outputs": [],
   "source": [
    "# Grab Current Time Before Running the Code\n",
    "start = time.time()"
   ]
  },
  {
   "cell_type": "code",
   "execution_count": 11,
   "id": "d4c0cbec-8afc-4dfb-aee3-33abb7d622b1",
   "metadata": {},
   "outputs": [],
   "source": [
    "#UIC_VW_Outreach_Attempts_Caspio\n"
   ]
  },
  {
   "cell_type": "code",
   "execution_count": 12,
   "id": "ce513d12-555b-4e0d-93b7-b596f78be1c5",
   "metadata": {},
   "outputs": [],
   "source": [
    "df = pd.read_excel(\"/home/node1/Documents/uic/FilesUsed/UIC_VW_Outreach_Attempts_caspio.xlsx\")"
   ]
  },
  {
   "cell_type": "code",
   "execution_count": 13,
   "id": "8d9aa52b-ccaa-4872-a51b-c31ba9ec7ac8",
   "metadata": {},
   "outputs": [
    {
     "name": "stdout",
     "output_type": "stream",
     "text": [
      "<class 'pandas.core.frame.DataFrame'>\n",
      "RangeIndex: 81429 entries, 0 to 81428\n",
      "Data columns (total 21 columns):\n",
      " #   Column                             Non-Null Count  Dtype  \n",
      "---  ------                             --------------  -----  \n",
      " 0   PPM_Member_ID                      81429 non-null  int64  \n",
      " 1   PPM_Member_RIN                     81031 non-null  float64\n",
      " 2   PPM_Outreach_Attempt_ID            81429 non-null  int64  \n",
      " 3   PPM_Outreach_Attempt_Attempt_Date  81429 non-null  object \n",
      " 4   PPM_Outreach_Attempt_Result_ID     81428 non-null  float64\n",
      " 5   PPM_Outreach_Attempt_Last_YN       81429 non-null  bool   \n",
      " 6   PPM_Member_Phase_ID                81429 non-null  int64  \n",
      " 7   PPM_Member_Prime_ID                81393 non-null  float64\n",
      " 8   Outreach_Activity_Date_Started     81426 non-null  object \n",
      " 9   Outreach_Activity_Date_Finished    76137 non-null  object \n",
      " 10  Outreach_Activity_ID               81429 non-null  int64  \n",
      " 11  Activity_Prime_ID                  81023 non-null  float64\n",
      " 12  Activity_Type_ID                   78023 non-null  float64\n",
      " 13  Result_Reason_ID                   67299 non-null  float64\n",
      " 14  Date_of_Occurrence                 8551 non-null   object \n",
      " 15  Activity_NF_ID                     81212 non-null  float64\n",
      " 16  Activity_Phase_ID                  81392 non-null  float64\n",
      " 17  First_Name                         81429 non-null  object \n",
      " 18  Last_Name                          81429 non-null  object \n",
      " 19  Current_Outreach_ID                81423 non-null  float64\n",
      " 20  Address_Concern_YN                 81429 non-null  bool   \n",
      "dtypes: bool(2), float64(9), int64(4), object(6)\n",
      "memory usage: 12.0+ MB\n"
     ]
    }
   ],
   "source": [
    "df.info()"
   ]
  },
  {
   "cell_type": "code",
   "execution_count": 14,
   "id": "8e6548e8-a030-476f-8925-2f917aab9ac5",
   "metadata": {},
   "outputs": [
    {
     "data": {
      "text/plain": [
       "Index(['PPM_Member_ID', 'PPM_Member_RIN', 'PPM_Outreach_Attempt_ID',\n",
       "       'PPM_Outreach_Attempt_Attempt_Date', 'PPM_Outreach_Attempt_Result_ID',\n",
       "       'PPM_Outreach_Attempt_Last_YN', 'PPM_Member_Phase_ID',\n",
       "       'PPM_Member_Prime_ID', 'Outreach_Activity_Date_Started',\n",
       "       'Outreach_Activity_Date_Finished', 'Outreach_Activity_ID',\n",
       "       'Activity_Prime_ID', 'Activity_Type_ID', 'Result_Reason_ID',\n",
       "       'Date_of_Occurrence', 'Activity_NF_ID', 'Activity_Phase_ID',\n",
       "       'First_Name', 'Last_Name', 'Current_Outreach_ID', 'Address_Concern_YN'],\n",
       "      dtype='object')"
      ]
     },
     "execution_count": 14,
     "metadata": {},
     "output_type": "execute_result"
    }
   ],
   "source": [
    "df.columns"
   ]
  },
  {
   "cell_type": "code",
   "execution_count": 15,
   "id": "c1db009a-7209-4cf8-9098-78153c85a45b",
   "metadata": {},
   "outputs": [],
   "source": [
    "# converting the string to datetime format\n",
    "df['PPM_Outreach_Attempt_Attempt_Date'] = pd.to_datetime(df['PPM_Outreach_Attempt_Attempt_Date'])"
   ]
  },
  {
   "cell_type": "code",
   "execution_count": 16,
   "id": "50981cae-c9e3-4ad2-a73e-3622dfffca61",
   "metadata": {},
   "outputs": [],
   "source": [
    "# converting the string to datetime format\n",
    "df['Outreach_Activity_Date_Started'] = pd.to_datetime(df['Outreach_Activity_Date_Started'])"
   ]
  },
  {
   "cell_type": "code",
   "execution_count": 17,
   "id": "c91e85e4-54f4-459c-a080-12a62b8f5618",
   "metadata": {},
   "outputs": [],
   "source": [
    "# converting the string to datetime format\n",
    "df['Outreach_Activity_Date_Finished'] = pd.to_datetime(df['Outreach_Activity_Date_Finished'])"
   ]
  },
  {
   "cell_type": "code",
   "execution_count": 18,
   "id": "14c22c99-a6a0-4c66-8ed3-f86829b1915f",
   "metadata": {},
   "outputs": [
    {
     "data": {
      "text/plain": [
       "PPM_Member_ID                                 int64\n",
       "PPM_Member_RIN                              float64\n",
       "PPM_Outreach_Attempt_ID                       int64\n",
       "PPM_Outreach_Attempt_Attempt_Date    datetime64[ns]\n",
       "PPM_Outreach_Attempt_Result_ID              float64\n",
       "PPM_Outreach_Attempt_Last_YN                   bool\n",
       "PPM_Member_Phase_ID                           int64\n",
       "PPM_Member_Prime_ID                         float64\n",
       "Outreach_Activity_Date_Started       datetime64[ns]\n",
       "Outreach_Activity_Date_Finished      datetime64[ns]\n",
       "Outreach_Activity_ID                          int64\n",
       "Activity_Prime_ID                           float64\n",
       "Activity_Type_ID                            float64\n",
       "Result_Reason_ID                            float64\n",
       "Date_of_Occurrence                           object\n",
       "Activity_NF_ID                              float64\n",
       "Activity_Phase_ID                           float64\n",
       "First_Name                                   object\n",
       "Last_Name                                    object\n",
       "Current_Outreach_ID                         float64\n",
       "Address_Concern_YN                             bool\n",
       "dtype: object"
      ]
     },
     "execution_count": 18,
     "metadata": {},
     "output_type": "execute_result"
    }
   ],
   "source": [
    "df.dtypes"
   ]
  },
  {
   "cell_type": "code",
   "execution_count": 19,
   "id": "9b29dbff-2ebc-4a60-b571-0acfe4b5e6d5",
   "metadata": {},
   "outputs": [
    {
     "data": {
      "text/plain": [
       "31567     87227195.0\n",
       "60652     77908929.0\n",
       "80643     39517123.0\n",
       "33675    350785416.0\n",
       "24030     59578757.0\n",
       "1976     361196702.0\n",
       "33955    351538459.0\n",
       "12349    348567413.0\n",
       "33508    165529959.0\n",
       "10463    392883344.0\n",
       "Name: PPM_Member_RIN, dtype: float64"
      ]
     },
     "execution_count": 19,
     "metadata": {},
     "output_type": "execute_result"
    }
   ],
   "source": [
    "df.PPM_Member_RIN.sample(10)"
   ]
  },
  {
   "cell_type": "code",
   "execution_count": 20,
   "id": "524a960f-bd75-4cfe-81e5-7a581bc2c92e",
   "metadata": {},
   "outputs": [
    {
     "data": {
      "text/plain": [
       "0        960537124.0\n",
       "1        960537124.0\n",
       "2        960537124.0\n",
       "3        228341277.0\n",
       "4        182136481.0\n",
       "            ...     \n",
       "81424     21705358.0\n",
       "81425     17588768.0\n",
       "81426    393360219.0\n",
       "81427    164299570.0\n",
       "81428    437517329.0\n",
       "Name: PPM_Member_RIN, Length: 81429, dtype: object"
      ]
     },
     "execution_count": 20,
     "metadata": {},
     "output_type": "execute_result"
    }
   ],
   "source": [
    "# Convert RIN to string\n",
    "df['PPM_Member_RIN'].astype('str')"
   ]
  },
  {
   "cell_type": "code",
   "execution_count": 21,
   "id": "3e4a7367-168a-4c75-aca7-9ac065d10da6",
   "metadata": {},
   "outputs": [
    {
     "data": {
      "text/plain": [
       "36907    180552721.0\n",
       "39655    138491048.0\n",
       "77949    368951851.0\n",
       "7980     349494039.0\n",
       "43444     38110847.0\n",
       "61535    302354717.0\n",
       "35031    169783180.0\n",
       "33717     14645444.0\n",
       "71957     83643221.0\n",
       "6273     960776987.0\n",
       "Name: PPM_Member_RIN, dtype: float64"
      ]
     },
     "execution_count": 21,
     "metadata": {},
     "output_type": "execute_result"
    }
   ],
   "source": [
    "df.PPM_Member_RIN.sample(10)"
   ]
  },
  {
   "cell_type": "code",
   "execution_count": 22,
   "id": "26d8ebf8-45a6-4d54-8c8b-b2796ed74fdd",
   "metadata": {},
   "outputs": [
    {
     "ename": "AttributeError",
     "evalue": "Can only use .str accessor with string values!",
     "output_type": "error",
     "traceback": [
      "\u001b[0;31m---------------------------------------------------------------------------\u001b[0m",
      "\u001b[0;31mAttributeError\u001b[0m                            Traceback (most recent call last)",
      "Cell \u001b[0;32mIn[22], line 2\u001b[0m\n\u001b[1;32m      1\u001b[0m \u001b[38;5;66;03m# add leading zeros to Member_RIN\u001b[39;00m\n\u001b[0;32m----> 2\u001b[0m df[\u001b[38;5;124m'\u001b[39m\u001b[38;5;124mPPM_Member_RIN\u001b[39m\u001b[38;5;124m'\u001b[39m] \u001b[38;5;241m=\u001b[39m \u001b[43mdf\u001b[49m\u001b[43m[\u001b[49m\u001b[38;5;124;43m'\u001b[39;49m\u001b[38;5;124;43mPPM_Member_RIN\u001b[39;49m\u001b[38;5;124;43m'\u001b[39;49m\u001b[43m]\u001b[49m\u001b[38;5;241;43m.\u001b[39;49m\u001b[43mstr\u001b[49m\u001b[38;5;241m.\u001b[39mzfill(\u001b[38;5;241m11\u001b[39m)\n",
      "File \u001b[0;32m~/Documents/uic/venv/lib/python3.12/site-packages/pandas/core/generic.py:6299\u001b[0m, in \u001b[0;36mNDFrame.__getattr__\u001b[0;34m(self, name)\u001b[0m\n\u001b[1;32m   6292\u001b[0m \u001b[38;5;28;01mif\u001b[39;00m (\n\u001b[1;32m   6293\u001b[0m     name \u001b[38;5;129;01mnot\u001b[39;00m \u001b[38;5;129;01min\u001b[39;00m \u001b[38;5;28mself\u001b[39m\u001b[38;5;241m.\u001b[39m_internal_names_set\n\u001b[1;32m   6294\u001b[0m     \u001b[38;5;129;01mand\u001b[39;00m name \u001b[38;5;129;01mnot\u001b[39;00m \u001b[38;5;129;01min\u001b[39;00m \u001b[38;5;28mself\u001b[39m\u001b[38;5;241m.\u001b[39m_metadata\n\u001b[1;32m   6295\u001b[0m     \u001b[38;5;129;01mand\u001b[39;00m name \u001b[38;5;129;01mnot\u001b[39;00m \u001b[38;5;129;01min\u001b[39;00m \u001b[38;5;28mself\u001b[39m\u001b[38;5;241m.\u001b[39m_accessors\n\u001b[1;32m   6296\u001b[0m     \u001b[38;5;129;01mand\u001b[39;00m \u001b[38;5;28mself\u001b[39m\u001b[38;5;241m.\u001b[39m_info_axis\u001b[38;5;241m.\u001b[39m_can_hold_identifiers_and_holds_name(name)\n\u001b[1;32m   6297\u001b[0m ):\n\u001b[1;32m   6298\u001b[0m     \u001b[38;5;28;01mreturn\u001b[39;00m \u001b[38;5;28mself\u001b[39m[name]\n\u001b[0;32m-> 6299\u001b[0m \u001b[38;5;28;01mreturn\u001b[39;00m \u001b[38;5;28;43mobject\u001b[39;49m\u001b[38;5;241;43m.\u001b[39;49m\u001b[38;5;21;43m__getattribute__\u001b[39;49m\u001b[43m(\u001b[49m\u001b[38;5;28;43mself\u001b[39;49m\u001b[43m,\u001b[49m\u001b[43m \u001b[49m\u001b[43mname\u001b[49m\u001b[43m)\u001b[49m\n",
      "File \u001b[0;32m~/Documents/uic/venv/lib/python3.12/site-packages/pandas/core/accessor.py:224\u001b[0m, in \u001b[0;36mCachedAccessor.__get__\u001b[0;34m(self, obj, cls)\u001b[0m\n\u001b[1;32m    221\u001b[0m \u001b[38;5;28;01mif\u001b[39;00m obj \u001b[38;5;129;01mis\u001b[39;00m \u001b[38;5;28;01mNone\u001b[39;00m:\n\u001b[1;32m    222\u001b[0m     \u001b[38;5;66;03m# we're accessing the attribute of the class, i.e., Dataset.geo\u001b[39;00m\n\u001b[1;32m    223\u001b[0m     \u001b[38;5;28;01mreturn\u001b[39;00m \u001b[38;5;28mself\u001b[39m\u001b[38;5;241m.\u001b[39m_accessor\n\u001b[0;32m--> 224\u001b[0m accessor_obj \u001b[38;5;241m=\u001b[39m \u001b[38;5;28;43mself\u001b[39;49m\u001b[38;5;241;43m.\u001b[39;49m\u001b[43m_accessor\u001b[49m\u001b[43m(\u001b[49m\u001b[43mobj\u001b[49m\u001b[43m)\u001b[49m\n\u001b[1;32m    225\u001b[0m \u001b[38;5;66;03m# Replace the property with the accessor object. Inspired by:\u001b[39;00m\n\u001b[1;32m    226\u001b[0m \u001b[38;5;66;03m# https://www.pydanny.com/cached-property.html\u001b[39;00m\n\u001b[1;32m    227\u001b[0m \u001b[38;5;66;03m# We need to use object.__setattr__ because we overwrite __setattr__ on\u001b[39;00m\n\u001b[1;32m    228\u001b[0m \u001b[38;5;66;03m# NDFrame\u001b[39;00m\n\u001b[1;32m    229\u001b[0m \u001b[38;5;28mobject\u001b[39m\u001b[38;5;241m.\u001b[39m\u001b[38;5;21m__setattr__\u001b[39m(obj, \u001b[38;5;28mself\u001b[39m\u001b[38;5;241m.\u001b[39m_name, accessor_obj)\n",
      "File \u001b[0;32m~/Documents/uic/venv/lib/python3.12/site-packages/pandas/core/strings/accessor.py:191\u001b[0m, in \u001b[0;36mStringMethods.__init__\u001b[0;34m(self, data)\u001b[0m\n\u001b[1;32m    188\u001b[0m \u001b[38;5;28;01mdef\u001b[39;00m\u001b[38;5;250m \u001b[39m\u001b[38;5;21m__init__\u001b[39m(\u001b[38;5;28mself\u001b[39m, data) \u001b[38;5;241m-\u001b[39m\u001b[38;5;241m>\u001b[39m \u001b[38;5;28;01mNone\u001b[39;00m:\n\u001b[1;32m    189\u001b[0m     \u001b[38;5;28;01mfrom\u001b[39;00m\u001b[38;5;250m \u001b[39m\u001b[38;5;21;01mpandas\u001b[39;00m\u001b[38;5;21;01m.\u001b[39;00m\u001b[38;5;21;01mcore\u001b[39;00m\u001b[38;5;21;01m.\u001b[39;00m\u001b[38;5;21;01marrays\u001b[39;00m\u001b[38;5;21;01m.\u001b[39;00m\u001b[38;5;21;01mstring_\u001b[39;00m\u001b[38;5;250m \u001b[39m\u001b[38;5;28;01mimport\u001b[39;00m StringDtype\n\u001b[0;32m--> 191\u001b[0m     \u001b[38;5;28mself\u001b[39m\u001b[38;5;241m.\u001b[39m_inferred_dtype \u001b[38;5;241m=\u001b[39m \u001b[38;5;28;43mself\u001b[39;49m\u001b[38;5;241;43m.\u001b[39;49m\u001b[43m_validate\u001b[49m\u001b[43m(\u001b[49m\u001b[43mdata\u001b[49m\u001b[43m)\u001b[49m\n\u001b[1;32m    192\u001b[0m     \u001b[38;5;28mself\u001b[39m\u001b[38;5;241m.\u001b[39m_is_categorical \u001b[38;5;241m=\u001b[39m \u001b[38;5;28misinstance\u001b[39m(data\u001b[38;5;241m.\u001b[39mdtype, CategoricalDtype)\n\u001b[1;32m    193\u001b[0m     \u001b[38;5;28mself\u001b[39m\u001b[38;5;241m.\u001b[39m_is_string \u001b[38;5;241m=\u001b[39m \u001b[38;5;28misinstance\u001b[39m(data\u001b[38;5;241m.\u001b[39mdtype, StringDtype)\n",
      "File \u001b[0;32m~/Documents/uic/venv/lib/python3.12/site-packages/pandas/core/strings/accessor.py:245\u001b[0m, in \u001b[0;36mStringMethods._validate\u001b[0;34m(data)\u001b[0m\n\u001b[1;32m    242\u001b[0m inferred_dtype \u001b[38;5;241m=\u001b[39m lib\u001b[38;5;241m.\u001b[39minfer_dtype(values, skipna\u001b[38;5;241m=\u001b[39m\u001b[38;5;28;01mTrue\u001b[39;00m)\n\u001b[1;32m    244\u001b[0m \u001b[38;5;28;01mif\u001b[39;00m inferred_dtype \u001b[38;5;129;01mnot\u001b[39;00m \u001b[38;5;129;01min\u001b[39;00m allowed_types:\n\u001b[0;32m--> 245\u001b[0m     \u001b[38;5;28;01mraise\u001b[39;00m \u001b[38;5;167;01mAttributeError\u001b[39;00m(\u001b[38;5;124m\"\u001b[39m\u001b[38;5;124mCan only use .str accessor with string values!\u001b[39m\u001b[38;5;124m\"\u001b[39m)\n\u001b[1;32m    246\u001b[0m \u001b[38;5;28;01mreturn\u001b[39;00m inferred_dtype\n",
      "\u001b[0;31mAttributeError\u001b[0m: Can only use .str accessor with string values!"
     ]
    }
   ],
   "source": [
    "# add leading zeros to Member_RIN\n",
    "df['PPM_Member_RIN'] = df['PPM_Member_RIN'].str.zfill(11)"
   ]
  },
  {
   "cell_type": "code",
   "execution_count": null,
   "id": "5c4d1bcf-4c71-4b08-b3cc-88eb0f012576",
   "metadata": {},
   "outputs": [],
   "source": [
    "df.PPM_Member_RIN.sample(10)"
   ]
  },
  {
   "cell_type": "code",
   "execution_count": null,
   "id": "080fdbd4-adb0-46dd-ae38-71e1541bd723",
   "metadata": {},
   "outputs": [],
   "source": []
  },
  {
   "cell_type": "code",
   "execution_count": null,
   "id": "3efe079b-ff74-4dd4-bf52-5d4a8dcc643c",
   "metadata": {},
   "outputs": [],
   "source": [
    "df.PPM_Member_RIN.sample(10)"
   ]
  },
  {
   "cell_type": "code",
   "execution_count": null,
   "id": "180055ca-f1ab-45b0-82bd-1227c792b1c7",
   "metadata": {},
   "outputs": [],
   "source": [
    "#export file without index column\n",
    "df.to_excel(\"UIC_VW_Outreach_Attempts_Caspio.xlsx\", index=False)"
   ]
  },
  {
   "cell_type": "code",
   "execution_count": null,
   "id": "c70dcc48-110f-4473-a218-98b9d789cce7",
   "metadata": {},
   "outputs": [],
   "source": [
    "# Create a timestamp object\n",
    "timestamp = pd.Timestamp(datetime.datetime.now())\n",
    "\n",
    "# Print the timestamp\n",
    "print(timestamp)"
   ]
  },
  {
   "cell_type": "code",
   "execution_count": null,
   "id": "acc90d14-d687-4917-945d-6b7ea3cf0137",
   "metadata": {},
   "outputs": [],
   "source": [
    "#the end!"
   ]
  },
  {
   "cell_type": "code",
   "execution_count": null,
   "id": "619c0970-3ae5-4980-8fd5-67c0a16216c1",
   "metadata": {},
   "outputs": [],
   "source": []
  },
  {
   "cell_type": "code",
   "execution_count": null,
   "id": "4e50a5ce-8cae-4eac-a149-0bf9c0778cbd",
   "metadata": {},
   "outputs": [],
   "source": []
  }
 ],
 "metadata": {
  "kernelspec": {
   "display_name": "venv",
   "language": "python",
   "name": "python3"
  },
  "language_info": {
   "codemirror_mode": {
    "name": "ipython",
    "version": 3
   },
   "file_extension": ".py",
   "mimetype": "text/x-python",
   "name": "python",
   "nbconvert_exporter": "python",
   "pygments_lexer": "ipython3",
   "version": "3.12.3"
  }
 },
 "nbformat": 4,
 "nbformat_minor": 5
}
