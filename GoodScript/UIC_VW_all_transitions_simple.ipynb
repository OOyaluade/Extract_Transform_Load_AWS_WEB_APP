{
 "cells": [
  {
   "cell_type": "code",
   "execution_count": 1,
   "id": "2edbeabb",
   "metadata": {},
   "outputs": [],
   "source": [
    "import pandas as pd\n",
    "import numpy as np\n",
    "import time\n",
    "import re\n",
    "import os\n",
    "import datetime"
   ]
  },
  {
   "cell_type": "code",
   "execution_count": 2,
   "id": "ce60e637-0d8b-4e2c-9c2d-2591c01793b2",
   "metadata": {},
   "outputs": [],
   "source": [
    "os.chdir(r'C:/Users/vwalds/Documents/My Data Sources/')"
   ]
  },
  {
   "cell_type": "code",
   "execution_count": 3,
   "id": "4f146531-7777-4cfc-9383-fb5cf4817f51",
   "metadata": {},
   "outputs": [],
   "source": [
    "import warnings\n",
    "warnings.filterwarnings('ignore')\n",
    "warnings.simplefilter('ignore')"
   ]
  },
  {
   "cell_type": "code",
   "execution_count": 4,
   "id": "bd6c9099-b615-42a2-84b6-cab021ef3888",
   "metadata": {},
   "outputs": [],
   "source": [
    "# Grab Current Time Before Running the Code\n",
    "start = time.time()"
   ]
  },
  {
   "cell_type": "code",
   "execution_count": 5,
   "id": "d4c0cbec-8afc-4dfb-aee3-33abb7d622b1",
   "metadata": {},
   "outputs": [],
   "source": [
    "#UIC_VW_all_transitions_simple"
   ]
  },
  {
   "cell_type": "code",
   "execution_count": 6,
   "id": "ce513d12-555b-4e0d-93b7-b596f78be1c5",
   "metadata": {},
   "outputs": [],
   "source": [
    "df = pd.read_excel(\"UIC_VW_all_transitions_simple.xlsx\")"
   ]
  },
  {
   "cell_type": "code",
   "execution_count": 7,
   "id": "8d9aa52b-ccaa-4872-a51b-c31ba9ec7ac8",
   "metadata": {},
   "outputs": [
    {
     "name": "stdout",
     "output_type": "stream",
     "text": [
      "<class 'pandas.core.frame.DataFrame'>\n",
      "RangeIndex: 2942 entries, 0 to 2941\n",
      "Data columns (total 25 columns):\n",
      " #   Column                               Non-Null Count  Dtype  \n",
      "---  ------                               --------------  -----  \n",
      " 0   Member_ID                            2942 non-null   int64  \n",
      " 1   Member_Phase_ID                      2942 non-null   int64  \n",
      " 2   Member_Prime_ID                      2942 non-null   int64  \n",
      " 3   Member_Frozen_YN                     2942 non-null   bool   \n",
      " 4   Member_Closed_YN                     2942 non-null   bool   \n",
      " 5   Member_Closed_Reason_ID              283 non-null    float64\n",
      " 6   Member_Current_Outreach_ID           2942 non-null   int64  \n",
      " 7   Activity_Closed_YN                   2942 non-null   bool   \n",
      " 8   Activity_Closed_Date                 1873 non-null   object \n",
      " 9   Activity_Closed_Reason_ID            1874 non-null   float64\n",
      " 10  Activity_Date_Started                2315 non-null   object \n",
      " 11  Activity_NF_ID                       2942 non-null   int64  \n",
      " 12  Transition_ID                        2942 non-null   int64  \n",
      " 13  Transition_Activity_ID               2942 non-null   int64  \n",
      " 14  Transition_Assessment_ID             2942 non-null   int64  \n",
      " 15  Transition_Discharge_Date            2942 non-null   object \n",
      " 16  Transition_Engaged_YN                2942 non-null   bool   \n",
      " 17  Transition_Finished_YN               2942 non-null   bool   \n",
      " 18  Transition_Discharge_Type_ID         2942 non-null   int64  \n",
      " 19  Transition_ZIP                       2853 non-null   float64\n",
      " 20  Transition_In_Process_ID             2287 non-null   float64\n",
      " 21  Transition_Assessed_After_Movein_YN  2942 non-null   bool   \n",
      " 22  Transition_Finished_Date             2283 non-null   object \n",
      " 23  Outreach_Activity_Prime_ID           2942 non-null   int64  \n",
      " 24  UIC_Member_ID                        1971 non-null   float64\n",
      "dtypes: bool(6), float64(5), int64(10), object(4)\n",
      "memory usage: 454.1+ KB\n"
     ]
    }
   ],
   "source": [
    "df.info()"
   ]
  },
  {
   "cell_type": "code",
   "execution_count": 8,
   "id": "8e6548e8-a030-476f-8925-2f917aab9ac5",
   "metadata": {},
   "outputs": [
    {
     "data": {
      "text/plain": [
       "Index(['Member_ID', 'Member_Phase_ID', 'Member_Prime_ID', 'Member_Frozen_YN',\n",
       "       'Member_Closed_YN', 'Member_Closed_Reason_ID',\n",
       "       'Member_Current_Outreach_ID', 'Activity_Closed_YN',\n",
       "       'Activity_Closed_Date', 'Activity_Closed_Reason_ID',\n",
       "       'Activity_Date_Started', 'Activity_NF_ID', 'Transition_ID',\n",
       "       'Transition_Activity_ID', 'Transition_Assessment_ID',\n",
       "       'Transition_Discharge_Date', 'Transition_Engaged_YN',\n",
       "       'Transition_Finished_YN', 'Transition_Discharge_Type_ID',\n",
       "       'Transition_ZIP', 'Transition_In_Process_ID',\n",
       "       'Transition_Assessed_After_Movein_YN', 'Transition_Finished_Date',\n",
       "       'Outreach_Activity_Prime_ID', 'UIC_Member_ID'],\n",
       "      dtype='object')"
      ]
     },
     "execution_count": 8,
     "metadata": {},
     "output_type": "execute_result"
    }
   ],
   "source": [
    "df.columns"
   ]
  },
  {
   "cell_type": "code",
   "execution_count": 9,
   "id": "c1db009a-7209-4cf8-9098-78153c85a45b",
   "metadata": {},
   "outputs": [],
   "source": [
    "# converting the string to datetime format\n",
    "df['Activity_Closed_Date'] = pd.to_datetime(df['Activity_Closed_Date'])"
   ]
  },
  {
   "cell_type": "code",
   "execution_count": 10,
   "id": "50981cae-c9e3-4ad2-a73e-3622dfffca61",
   "metadata": {},
   "outputs": [],
   "source": [
    "# converting the string to datetime format\n",
    "df['Activity_Date_Started'] = pd.to_datetime(df['Activity_Date_Started'])"
   ]
  },
  {
   "cell_type": "code",
   "execution_count": 11,
   "id": "c91e85e4-54f4-459c-a080-12a62b8f5618",
   "metadata": {},
   "outputs": [],
   "source": [
    "# converting the string to datetime format\n",
    "df['Transition_Discharge_Date'] = pd.to_datetime(df['Transition_Discharge_Date'])"
   ]
  },
  {
   "cell_type": "code",
   "execution_count": 12,
   "id": "9a64c055-a024-45b1-8d71-4a5ead0e1afc",
   "metadata": {},
   "outputs": [],
   "source": [
    "# converting the string to datetime format\n",
    "df['Transition_Finished_Date'] = pd.to_datetime(df['Transition_Finished_Date'])"
   ]
  },
  {
   "cell_type": "code",
   "execution_count": 13,
   "id": "14c22c99-a6a0-4c66-8ed3-f86829b1915f",
   "metadata": {},
   "outputs": [
    {
     "data": {
      "text/plain": [
       "Member_ID                                       int64\n",
       "Member_Phase_ID                                 int64\n",
       "Member_Prime_ID                                 int64\n",
       "Member_Frozen_YN                                 bool\n",
       "Member_Closed_YN                                 bool\n",
       "Member_Closed_Reason_ID                       float64\n",
       "Member_Current_Outreach_ID                      int64\n",
       "Activity_Closed_YN                               bool\n",
       "Activity_Closed_Date                   datetime64[ns]\n",
       "Activity_Closed_Reason_ID                     float64\n",
       "Activity_Date_Started                  datetime64[ns]\n",
       "Activity_NF_ID                                  int64\n",
       "Transition_ID                                   int64\n",
       "Transition_Activity_ID                          int64\n",
       "Transition_Assessment_ID                        int64\n",
       "Transition_Discharge_Date              datetime64[ns]\n",
       "Transition_Engaged_YN                            bool\n",
       "Transition_Finished_YN                           bool\n",
       "Transition_Discharge_Type_ID                    int64\n",
       "Transition_ZIP                                float64\n",
       "Transition_In_Process_ID                      float64\n",
       "Transition_Assessed_After_Movein_YN              bool\n",
       "Transition_Finished_Date               datetime64[ns]\n",
       "Outreach_Activity_Prime_ID                      int64\n",
       "UIC_Member_ID                                 float64\n",
       "dtype: object"
      ]
     },
     "execution_count": 13,
     "metadata": {},
     "output_type": "execute_result"
    }
   ],
   "source": [
    "df.dtypes"
   ]
  },
  {
   "cell_type": "code",
   "execution_count": 14,
   "id": "180055ca-f1ab-45b0-82bd-1227c792b1c7",
   "metadata": {},
   "outputs": [],
   "source": [
    "#export file without index column\n",
    "df.to_excel(\"UIC_VW_all_transitions_simple.xlsx\", index=False)"
   ]
  },
  {
   "cell_type": "code",
   "execution_count": 15,
   "id": "c70dcc48-110f-4473-a218-98b9d789cce7",
   "metadata": {},
   "outputs": [
    {
     "name": "stdout",
     "output_type": "stream",
     "text": [
      "2024-09-20 11:27:36.743648\n"
     ]
    }
   ],
   "source": [
    "# Create a timestamp object\n",
    "timestamp = pd.Timestamp(datetime.datetime.now())\n",
    "\n",
    "# Print the timestamp\n",
    "print(timestamp)"
   ]
  },
  {
   "cell_type": "code",
   "execution_count": 16,
   "id": "acc90d14-d687-4917-945d-6b7ea3cf0137",
   "metadata": {},
   "outputs": [],
   "source": [
    "#the end!"
   ]
  },
  {
   "cell_type": "code",
   "execution_count": null,
   "id": "619c0970-3ae5-4980-8fd5-67c0a16216c1",
   "metadata": {},
   "outputs": [],
   "source": []
  }
 ],
 "metadata": {
  "kernelspec": {
   "display_name": "Python 3 (ipykernel)",
   "language": "python",
   "name": "python3"
  },
  "language_info": {
   "codemirror_mode": {
    "name": "ipython",
    "version": 3
   },
   "file_extension": ".py",
   "mimetype": "text/x-python",
   "name": "python",
   "nbconvert_exporter": "python",
   "pygments_lexer": "ipython3",
   "version": "3.9.13"
  }
 },
 "nbformat": 4,
 "nbformat_minor": 5
}
