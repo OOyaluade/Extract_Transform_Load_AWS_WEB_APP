{
 "cells": [
  {
   "cell_type": "code",
   "execution_count": 25,
   "id": "90ab34e2-8c04-47fb-bf3c-ede9ea0f6b82",
   "metadata": {},
   "outputs": [],
   "source": [
    "#import libraries and packages\n",
    "import pandas as pd\n",
    "import numpy as np"
   ]
  },
  {
   "cell_type": "code",
   "execution_count": 26,
   "id": "1ab7e425-1dec-4a0d-a1a3-1fc05b6ddbc9",
   "metadata": {},
   "outputs": [],
   "source": [
    "#import the df clean data csv file\n",
    "df = pd.read_csv(\"/home/node1/Documents/uic/FilesUsed/qry_mort_Incidents_legacy.csv\")"
   ]
  },
  {
   "cell_type": "code",
   "execution_count": 27,
   "id": "523e5a12-c39c-4772-a806-0fed5e042b83",
   "metadata": {},
   "outputs": [
    {
     "data": {
      "text/plain": [
       "(517, 8)"
      ]
     },
     "execution_count": 27,
     "metadata": {},
     "output_type": "execute_result"
    }
   ],
   "source": [
    "df.shape"
   ]
  },
  {
   "cell_type": "code",
   "execution_count": 28,
   "id": "d93a0cc0-f182-4328-a697-228c551b6ca8",
   "metadata": {},
   "outputs": [
    {
     "data": {
      "text/plain": [
       "Index(['Member_ID', 'Activity_ID', 'Incident_Date', 'Level', 'Incident_Type',\n",
       "       'App_Type', 'App_Type2', 'More'],\n",
       "      dtype='object')"
      ]
     },
     "execution_count": 28,
     "metadata": {},
     "output_type": "execute_result"
    }
   ],
   "source": [
    "df.columns"
   ]
  },
  {
   "cell_type": "code",
   "execution_count": 29,
   "id": "0086a2b3-720b-4fa2-9eda-6a5e926a871f",
   "metadata": {},
   "outputs": [],
   "source": [
    "legacy = pd.get_dummies(df, prefix='', prefix_sep='', columns=['App_Type']) "
   ]
  },
  {
   "cell_type": "code",
   "execution_count": 30,
   "id": "a796de04-fd14-4089-a7c3-0160d3160d12",
   "metadata": {},
   "outputs": [
    {
     "data": {
      "text/plain": [
       "Index(['Member_ID', 'Activity_ID', 'Incident_Date', 'Level', 'Incident_Type',\n",
       "       'App_Type2', 'More', 'BI_Substance', 'BI_Threats', 'COVID_ED_Visit',\n",
       "       'COVID_Hospitalization', 'COVID_Quarantine_Home',\n",
       "       'COVID_Quarantine_Home_2', 'COVID_Watch', 'Fire_Accidental',\n",
       "       'Injury_Bruising', 'Injury_Cut_Or_Puncture', 'Injury_Fall',\n",
       "       'Injury_Other', 'L1_Criminal_Activity', 'L1_Missing_Person',\n",
       "       'L1_Physical_Assault_P', 'L1_Physical_Assault_V', 'L1_Sexual_Assault_V',\n",
       "       'L1_Suicide_Attempt', 'L2_Behavior_Incident', 'L2_Nursing_Facility',\n",
       "       'L2_SMHRF_Placement', 'L3_Alleged_Fraud', 'L3_Eviction',\n",
       "       'L3_Suspected_Mistreatment', 'L3_Vehicle_Accident', 'Other',\n",
       "       'SM_Physical_Abuse', 'UH_ED_Medical_Instability',\n",
       "       'UH_Medical_Hospitalization', 'UH_Psychiatric_Hospitalization',\n",
       "       'UH_Substance_Use'],\n",
       "      dtype='object')"
      ]
     },
     "execution_count": 30,
     "metadata": {},
     "output_type": "execute_result"
    }
   ],
   "source": [
    "legacy.columns"
   ]
  },
  {
   "cell_type": "code",
   "execution_count": 31,
   "id": "a3a07f5a-c036-4c61-b8ea-32248a1ccd07",
   "metadata": {},
   "outputs": [],
   "source": [
    "#add a new column to indicate datasource\n",
    "legacy.insert(1, \"Source\", \"legacy\")"
   ]
  },
  {
   "cell_type": "code",
   "execution_count": 32,
   "id": "a2b8743f-467e-488f-b2ce-5921de122be5",
   "metadata": {},
   "outputs": [
    {
     "data": {
      "text/plain": [
       "Index(['Member_ID', 'Source', 'Activity_ID', 'Incident_Date', 'Level',\n",
       "       'Incident_Type', 'App_Type2', 'More', 'BI_Substance', 'BI_Threats',\n",
       "       'COVID_ED_Visit', 'COVID_Hospitalization', 'COVID_Quarantine_Home',\n",
       "       'COVID_Quarantine_Home_2', 'COVID_Watch', 'Fire_Accidental',\n",
       "       'Injury_Bruising', 'Injury_Cut_Or_Puncture', 'Injury_Fall',\n",
       "       'Injury_Other', 'L1_Criminal_Activity', 'L1_Missing_Person',\n",
       "       'L1_Physical_Assault_P', 'L1_Physical_Assault_V', 'L1_Sexual_Assault_V',\n",
       "       'L1_Suicide_Attempt', 'L2_Behavior_Incident', 'L2_Nursing_Facility',\n",
       "       'L2_SMHRF_Placement', 'L3_Alleged_Fraud', 'L3_Eviction',\n",
       "       'L3_Suspected_Mistreatment', 'L3_Vehicle_Accident', 'Other',\n",
       "       'SM_Physical_Abuse', 'UH_ED_Medical_Instability',\n",
       "       'UH_Medical_Hospitalization', 'UH_Psychiatric_Hospitalization',\n",
       "       'UH_Substance_Use'],\n",
       "      dtype='object')"
      ]
     },
     "execution_count": 32,
     "metadata": {},
     "output_type": "execute_result"
    }
   ],
   "source": [
    "legacy.columns"
   ]
  },
  {
   "cell_type": "code",
   "execution_count": 33,
   "id": "bda44e3a-d372-4631-af26-12307198e9ed",
   "metadata": {},
   "outputs": [],
   "source": [
    "# Remove columns \n",
    "legacy = legacy.drop(['App_Type2', 'More'], axis=1)"
   ]
  },
  {
   "cell_type": "code",
   "execution_count": 34,
   "id": "9f652cd0-0b99-4c32-b7a6-57c21a6d516b",
   "metadata": {},
   "outputs": [
    {
     "name": "stdout",
     "output_type": "stream",
     "text": [
      "<class 'pandas.core.frame.DataFrame'>\n",
      "RangeIndex: 517 entries, 0 to 516\n",
      "Data columns (total 37 columns):\n",
      " #   Column                          Non-Null Count  Dtype \n",
      "---  ------                          --------------  ----- \n",
      " 0   Member_ID                       517 non-null    int64 \n",
      " 1   Source                          517 non-null    object\n",
      " 2   Activity_ID                     517 non-null    int64 \n",
      " 3   Incident_Date                   517 non-null    object\n",
      " 4   Level                           517 non-null    int64 \n",
      " 5   Incident_Type                   517 non-null    object\n",
      " 6   BI_Substance                    517 non-null    bool  \n",
      " 7   BI_Threats                      517 non-null    bool  \n",
      " 8   COVID_ED_Visit                  517 non-null    bool  \n",
      " 9   COVID_Hospitalization           517 non-null    bool  \n",
      " 10  COVID_Quarantine_Home           517 non-null    bool  \n",
      " 11  COVID_Quarantine_Home_2         517 non-null    bool  \n",
      " 12  COVID_Watch                     517 non-null    bool  \n",
      " 13  Fire_Accidental                 517 non-null    bool  \n",
      " 14  Injury_Bruising                 517 non-null    bool  \n",
      " 15  Injury_Cut_Or_Puncture          517 non-null    bool  \n",
      " 16  Injury_Fall                     517 non-null    bool  \n",
      " 17  Injury_Other                    517 non-null    bool  \n",
      " 18  L1_Criminal_Activity            517 non-null    bool  \n",
      " 19  L1_Missing_Person               517 non-null    bool  \n",
      " 20  L1_Physical_Assault_P           517 non-null    bool  \n",
      " 21  L1_Physical_Assault_V           517 non-null    bool  \n",
      " 22  L1_Sexual_Assault_V             517 non-null    bool  \n",
      " 23  L1_Suicide_Attempt              517 non-null    bool  \n",
      " 24  L2_Behavior_Incident            517 non-null    bool  \n",
      " 25  L2_Nursing_Facility             517 non-null    bool  \n",
      " 26  L2_SMHRF_Placement              517 non-null    bool  \n",
      " 27  L3_Alleged_Fraud                517 non-null    bool  \n",
      " 28  L3_Eviction                     517 non-null    bool  \n",
      " 29  L3_Suspected_Mistreatment       517 non-null    bool  \n",
      " 30  L3_Vehicle_Accident             517 non-null    bool  \n",
      " 31  Other                           517 non-null    bool  \n",
      " 32  SM_Physical_Abuse               517 non-null    bool  \n",
      " 33  UH_ED_Medical_Instability       517 non-null    bool  \n",
      " 34  UH_Medical_Hospitalization      517 non-null    bool  \n",
      " 35  UH_Psychiatric_Hospitalization  517 non-null    bool  \n",
      " 36  UH_Substance_Use                517 non-null    bool  \n",
      "dtypes: bool(31), int64(3), object(3)\n",
      "memory usage: 40.0+ KB\n"
     ]
    }
   ],
   "source": [
    "legacy.info()"
   ]
  },
  {
   "cell_type": "code",
   "execution_count": 35,
   "id": "f9c826ad-6585-4a7d-8eb2-1999a72c83ed",
   "metadata": {},
   "outputs": [
    {
     "data": {
      "text/plain": [
       "Level\n",
       "2    467\n",
       "1     22\n",
       "4     11\n",
       "5      9\n",
       "3      8\n",
       "Name: count, dtype: int64"
      ]
     },
     "execution_count": 35,
     "metadata": {},
     "output_type": "execute_result"
    }
   ],
   "source": [
    "legacy.Level.value_counts()"
   ]
  },
  {
   "cell_type": "code",
   "execution_count": 36,
   "id": "27aaf080-794d-4cf7-9fe4-b60bc4f95247",
   "metadata": {},
   "outputs": [
    {
     "ename": "FileNotFoundError",
     "evalue": "[Errno 2] No such file or directory: '/home/node1/Documents/uic/FilesUsed/qry_mort_Incidents_app.csv'",
     "output_type": "error",
     "traceback": [
      "\u001b[0;31m---------------------------------------------------------------------------\u001b[0m",
      "\u001b[0;31mFileNotFoundError\u001b[0m                         Traceback (most recent call last)",
      "Cell \u001b[0;32mIn[36], line 3\u001b[0m\n\u001b[1;32m      1\u001b[0m \u001b[38;5;66;03m#import the df clean data csv file\u001b[39;00m\n\u001b[1;32m      2\u001b[0m \u001b[38;5;66;03m# app = pd.read_csv(\"/home/node1/Documents/uic/FilesUsed/qry_mort_Incidents_app.csv\")\u001b[39;00m\n\u001b[0;32m----> 3\u001b[0m app \u001b[38;5;241m=\u001b[39m \u001b[43mpd\u001b[49m\u001b[38;5;241;43m.\u001b[39;49m\u001b[43mread_csv\u001b[49m\u001b[43m(\u001b[49m\u001b[38;5;124;43m\"\u001b[39;49m\u001b[38;5;124;43m/home/node1/Documents/uic/FilesUsed/qry_mort_Incidents_app.csv\u001b[39;49m\u001b[38;5;124;43m\"\u001b[39;49m\u001b[43m,\u001b[49m\u001b[43m \u001b[49m\u001b[43mdelimiter\u001b[49m\u001b[38;5;241;43m=\u001b[39;49m\u001b[38;5;124;43m'\u001b[39;49m\u001b[38;5;130;43;01m\\t\u001b[39;49;00m\u001b[38;5;124;43m'\u001b[39;49m\u001b[43m)\u001b[49m  \u001b[38;5;66;03m# For tab-separated\u001b[39;00m\n",
      "File \u001b[0;32m~/Documents/uic/venv/lib/python3.12/site-packages/pandas/io/parsers/readers.py:1026\u001b[0m, in \u001b[0;36mread_csv\u001b[0;34m(filepath_or_buffer, sep, delimiter, header, names, index_col, usecols, dtype, engine, converters, true_values, false_values, skipinitialspace, skiprows, skipfooter, nrows, na_values, keep_default_na, na_filter, verbose, skip_blank_lines, parse_dates, infer_datetime_format, keep_date_col, date_parser, date_format, dayfirst, cache_dates, iterator, chunksize, compression, thousands, decimal, lineterminator, quotechar, quoting, doublequote, escapechar, comment, encoding, encoding_errors, dialect, on_bad_lines, delim_whitespace, low_memory, memory_map, float_precision, storage_options, dtype_backend)\u001b[0m\n\u001b[1;32m   1013\u001b[0m kwds_defaults \u001b[38;5;241m=\u001b[39m _refine_defaults_read(\n\u001b[1;32m   1014\u001b[0m     dialect,\n\u001b[1;32m   1015\u001b[0m     delimiter,\n\u001b[0;32m   (...)\u001b[0m\n\u001b[1;32m   1022\u001b[0m     dtype_backend\u001b[38;5;241m=\u001b[39mdtype_backend,\n\u001b[1;32m   1023\u001b[0m )\n\u001b[1;32m   1024\u001b[0m kwds\u001b[38;5;241m.\u001b[39mupdate(kwds_defaults)\n\u001b[0;32m-> 1026\u001b[0m \u001b[38;5;28;01mreturn\u001b[39;00m \u001b[43m_read\u001b[49m\u001b[43m(\u001b[49m\u001b[43mfilepath_or_buffer\u001b[49m\u001b[43m,\u001b[49m\u001b[43m \u001b[49m\u001b[43mkwds\u001b[49m\u001b[43m)\u001b[49m\n",
      "File \u001b[0;32m~/Documents/uic/venv/lib/python3.12/site-packages/pandas/io/parsers/readers.py:620\u001b[0m, in \u001b[0;36m_read\u001b[0;34m(filepath_or_buffer, kwds)\u001b[0m\n\u001b[1;32m    617\u001b[0m _validate_names(kwds\u001b[38;5;241m.\u001b[39mget(\u001b[38;5;124m\"\u001b[39m\u001b[38;5;124mnames\u001b[39m\u001b[38;5;124m\"\u001b[39m, \u001b[38;5;28;01mNone\u001b[39;00m))\n\u001b[1;32m    619\u001b[0m \u001b[38;5;66;03m# Create the parser.\u001b[39;00m\n\u001b[0;32m--> 620\u001b[0m parser \u001b[38;5;241m=\u001b[39m \u001b[43mTextFileReader\u001b[49m\u001b[43m(\u001b[49m\u001b[43mfilepath_or_buffer\u001b[49m\u001b[43m,\u001b[49m\u001b[43m \u001b[49m\u001b[38;5;241;43m*\u001b[39;49m\u001b[38;5;241;43m*\u001b[39;49m\u001b[43mkwds\u001b[49m\u001b[43m)\u001b[49m\n\u001b[1;32m    622\u001b[0m \u001b[38;5;28;01mif\u001b[39;00m chunksize \u001b[38;5;129;01mor\u001b[39;00m iterator:\n\u001b[1;32m    623\u001b[0m     \u001b[38;5;28;01mreturn\u001b[39;00m parser\n",
      "File \u001b[0;32m~/Documents/uic/venv/lib/python3.12/site-packages/pandas/io/parsers/readers.py:1620\u001b[0m, in \u001b[0;36mTextFileReader.__init__\u001b[0;34m(self, f, engine, **kwds)\u001b[0m\n\u001b[1;32m   1617\u001b[0m     \u001b[38;5;28mself\u001b[39m\u001b[38;5;241m.\u001b[39moptions[\u001b[38;5;124m\"\u001b[39m\u001b[38;5;124mhas_index_names\u001b[39m\u001b[38;5;124m\"\u001b[39m] \u001b[38;5;241m=\u001b[39m kwds[\u001b[38;5;124m\"\u001b[39m\u001b[38;5;124mhas_index_names\u001b[39m\u001b[38;5;124m\"\u001b[39m]\n\u001b[1;32m   1619\u001b[0m \u001b[38;5;28mself\u001b[39m\u001b[38;5;241m.\u001b[39mhandles: IOHandles \u001b[38;5;241m|\u001b[39m \u001b[38;5;28;01mNone\u001b[39;00m \u001b[38;5;241m=\u001b[39m \u001b[38;5;28;01mNone\u001b[39;00m\n\u001b[0;32m-> 1620\u001b[0m \u001b[38;5;28mself\u001b[39m\u001b[38;5;241m.\u001b[39m_engine \u001b[38;5;241m=\u001b[39m \u001b[38;5;28;43mself\u001b[39;49m\u001b[38;5;241;43m.\u001b[39;49m\u001b[43m_make_engine\u001b[49m\u001b[43m(\u001b[49m\u001b[43mf\u001b[49m\u001b[43m,\u001b[49m\u001b[43m \u001b[49m\u001b[38;5;28;43mself\u001b[39;49m\u001b[38;5;241;43m.\u001b[39;49m\u001b[43mengine\u001b[49m\u001b[43m)\u001b[49m\n",
      "File \u001b[0;32m~/Documents/uic/venv/lib/python3.12/site-packages/pandas/io/parsers/readers.py:1880\u001b[0m, in \u001b[0;36mTextFileReader._make_engine\u001b[0;34m(self, f, engine)\u001b[0m\n\u001b[1;32m   1878\u001b[0m     \u001b[38;5;28;01mif\u001b[39;00m \u001b[38;5;124m\"\u001b[39m\u001b[38;5;124mb\u001b[39m\u001b[38;5;124m\"\u001b[39m \u001b[38;5;129;01mnot\u001b[39;00m \u001b[38;5;129;01min\u001b[39;00m mode:\n\u001b[1;32m   1879\u001b[0m         mode \u001b[38;5;241m+\u001b[39m\u001b[38;5;241m=\u001b[39m \u001b[38;5;124m\"\u001b[39m\u001b[38;5;124mb\u001b[39m\u001b[38;5;124m\"\u001b[39m\n\u001b[0;32m-> 1880\u001b[0m \u001b[38;5;28mself\u001b[39m\u001b[38;5;241m.\u001b[39mhandles \u001b[38;5;241m=\u001b[39m \u001b[43mget_handle\u001b[49m\u001b[43m(\u001b[49m\n\u001b[1;32m   1881\u001b[0m \u001b[43m    \u001b[49m\u001b[43mf\u001b[49m\u001b[43m,\u001b[49m\n\u001b[1;32m   1882\u001b[0m \u001b[43m    \u001b[49m\u001b[43mmode\u001b[49m\u001b[43m,\u001b[49m\n\u001b[1;32m   1883\u001b[0m \u001b[43m    \u001b[49m\u001b[43mencoding\u001b[49m\u001b[38;5;241;43m=\u001b[39;49m\u001b[38;5;28;43mself\u001b[39;49m\u001b[38;5;241;43m.\u001b[39;49m\u001b[43moptions\u001b[49m\u001b[38;5;241;43m.\u001b[39;49m\u001b[43mget\u001b[49m\u001b[43m(\u001b[49m\u001b[38;5;124;43m\"\u001b[39;49m\u001b[38;5;124;43mencoding\u001b[39;49m\u001b[38;5;124;43m\"\u001b[39;49m\u001b[43m,\u001b[49m\u001b[43m \u001b[49m\u001b[38;5;28;43;01mNone\u001b[39;49;00m\u001b[43m)\u001b[49m\u001b[43m,\u001b[49m\n\u001b[1;32m   1884\u001b[0m \u001b[43m    \u001b[49m\u001b[43mcompression\u001b[49m\u001b[38;5;241;43m=\u001b[39;49m\u001b[38;5;28;43mself\u001b[39;49m\u001b[38;5;241;43m.\u001b[39;49m\u001b[43moptions\u001b[49m\u001b[38;5;241;43m.\u001b[39;49m\u001b[43mget\u001b[49m\u001b[43m(\u001b[49m\u001b[38;5;124;43m\"\u001b[39;49m\u001b[38;5;124;43mcompression\u001b[39;49m\u001b[38;5;124;43m\"\u001b[39;49m\u001b[43m,\u001b[49m\u001b[43m \u001b[49m\u001b[38;5;28;43;01mNone\u001b[39;49;00m\u001b[43m)\u001b[49m\u001b[43m,\u001b[49m\n\u001b[1;32m   1885\u001b[0m \u001b[43m    \u001b[49m\u001b[43mmemory_map\u001b[49m\u001b[38;5;241;43m=\u001b[39;49m\u001b[38;5;28;43mself\u001b[39;49m\u001b[38;5;241;43m.\u001b[39;49m\u001b[43moptions\u001b[49m\u001b[38;5;241;43m.\u001b[39;49m\u001b[43mget\u001b[49m\u001b[43m(\u001b[49m\u001b[38;5;124;43m\"\u001b[39;49m\u001b[38;5;124;43mmemory_map\u001b[39;49m\u001b[38;5;124;43m\"\u001b[39;49m\u001b[43m,\u001b[49m\u001b[43m \u001b[49m\u001b[38;5;28;43;01mFalse\u001b[39;49;00m\u001b[43m)\u001b[49m\u001b[43m,\u001b[49m\n\u001b[1;32m   1886\u001b[0m \u001b[43m    \u001b[49m\u001b[43mis_text\u001b[49m\u001b[38;5;241;43m=\u001b[39;49m\u001b[43mis_text\u001b[49m\u001b[43m,\u001b[49m\n\u001b[1;32m   1887\u001b[0m \u001b[43m    \u001b[49m\u001b[43merrors\u001b[49m\u001b[38;5;241;43m=\u001b[39;49m\u001b[38;5;28;43mself\u001b[39;49m\u001b[38;5;241;43m.\u001b[39;49m\u001b[43moptions\u001b[49m\u001b[38;5;241;43m.\u001b[39;49m\u001b[43mget\u001b[49m\u001b[43m(\u001b[49m\u001b[38;5;124;43m\"\u001b[39;49m\u001b[38;5;124;43mencoding_errors\u001b[39;49m\u001b[38;5;124;43m\"\u001b[39;49m\u001b[43m,\u001b[49m\u001b[43m \u001b[49m\u001b[38;5;124;43m\"\u001b[39;49m\u001b[38;5;124;43mstrict\u001b[39;49m\u001b[38;5;124;43m\"\u001b[39;49m\u001b[43m)\u001b[49m\u001b[43m,\u001b[49m\n\u001b[1;32m   1888\u001b[0m \u001b[43m    \u001b[49m\u001b[43mstorage_options\u001b[49m\u001b[38;5;241;43m=\u001b[39;49m\u001b[38;5;28;43mself\u001b[39;49m\u001b[38;5;241;43m.\u001b[39;49m\u001b[43moptions\u001b[49m\u001b[38;5;241;43m.\u001b[39;49m\u001b[43mget\u001b[49m\u001b[43m(\u001b[49m\u001b[38;5;124;43m\"\u001b[39;49m\u001b[38;5;124;43mstorage_options\u001b[39;49m\u001b[38;5;124;43m\"\u001b[39;49m\u001b[43m,\u001b[49m\u001b[43m \u001b[49m\u001b[38;5;28;43;01mNone\u001b[39;49;00m\u001b[43m)\u001b[49m\u001b[43m,\u001b[49m\n\u001b[1;32m   1889\u001b[0m \u001b[43m\u001b[49m\u001b[43m)\u001b[49m\n\u001b[1;32m   1890\u001b[0m \u001b[38;5;28;01massert\u001b[39;00m \u001b[38;5;28mself\u001b[39m\u001b[38;5;241m.\u001b[39mhandles \u001b[38;5;129;01mis\u001b[39;00m \u001b[38;5;129;01mnot\u001b[39;00m \u001b[38;5;28;01mNone\u001b[39;00m\n\u001b[1;32m   1891\u001b[0m f \u001b[38;5;241m=\u001b[39m \u001b[38;5;28mself\u001b[39m\u001b[38;5;241m.\u001b[39mhandles\u001b[38;5;241m.\u001b[39mhandle\n",
      "File \u001b[0;32m~/Documents/uic/venv/lib/python3.12/site-packages/pandas/io/common.py:873\u001b[0m, in \u001b[0;36mget_handle\u001b[0;34m(path_or_buf, mode, encoding, compression, memory_map, is_text, errors, storage_options)\u001b[0m\n\u001b[1;32m    868\u001b[0m \u001b[38;5;28;01melif\u001b[39;00m \u001b[38;5;28misinstance\u001b[39m(handle, \u001b[38;5;28mstr\u001b[39m):\n\u001b[1;32m    869\u001b[0m     \u001b[38;5;66;03m# Check whether the filename is to be opened in binary mode.\u001b[39;00m\n\u001b[1;32m    870\u001b[0m     \u001b[38;5;66;03m# Binary mode does not support 'encoding' and 'newline'.\u001b[39;00m\n\u001b[1;32m    871\u001b[0m     \u001b[38;5;28;01mif\u001b[39;00m ioargs\u001b[38;5;241m.\u001b[39mencoding \u001b[38;5;129;01mand\u001b[39;00m \u001b[38;5;124m\"\u001b[39m\u001b[38;5;124mb\u001b[39m\u001b[38;5;124m\"\u001b[39m \u001b[38;5;129;01mnot\u001b[39;00m \u001b[38;5;129;01min\u001b[39;00m ioargs\u001b[38;5;241m.\u001b[39mmode:\n\u001b[1;32m    872\u001b[0m         \u001b[38;5;66;03m# Encoding\u001b[39;00m\n\u001b[0;32m--> 873\u001b[0m         handle \u001b[38;5;241m=\u001b[39m \u001b[38;5;28;43mopen\u001b[39;49m\u001b[43m(\u001b[49m\n\u001b[1;32m    874\u001b[0m \u001b[43m            \u001b[49m\u001b[43mhandle\u001b[49m\u001b[43m,\u001b[49m\n\u001b[1;32m    875\u001b[0m \u001b[43m            \u001b[49m\u001b[43mioargs\u001b[49m\u001b[38;5;241;43m.\u001b[39;49m\u001b[43mmode\u001b[49m\u001b[43m,\u001b[49m\n\u001b[1;32m    876\u001b[0m \u001b[43m            \u001b[49m\u001b[43mencoding\u001b[49m\u001b[38;5;241;43m=\u001b[39;49m\u001b[43mioargs\u001b[49m\u001b[38;5;241;43m.\u001b[39;49m\u001b[43mencoding\u001b[49m\u001b[43m,\u001b[49m\n\u001b[1;32m    877\u001b[0m \u001b[43m            \u001b[49m\u001b[43merrors\u001b[49m\u001b[38;5;241;43m=\u001b[39;49m\u001b[43merrors\u001b[49m\u001b[43m,\u001b[49m\n\u001b[1;32m    878\u001b[0m \u001b[43m            \u001b[49m\u001b[43mnewline\u001b[49m\u001b[38;5;241;43m=\u001b[39;49m\u001b[38;5;124;43m\"\u001b[39;49m\u001b[38;5;124;43m\"\u001b[39;49m\u001b[43m,\u001b[49m\n\u001b[1;32m    879\u001b[0m \u001b[43m        \u001b[49m\u001b[43m)\u001b[49m\n\u001b[1;32m    880\u001b[0m     \u001b[38;5;28;01melse\u001b[39;00m:\n\u001b[1;32m    881\u001b[0m         \u001b[38;5;66;03m# Binary mode\u001b[39;00m\n\u001b[1;32m    882\u001b[0m         handle \u001b[38;5;241m=\u001b[39m \u001b[38;5;28mopen\u001b[39m(handle, ioargs\u001b[38;5;241m.\u001b[39mmode)\n",
      "\u001b[0;31mFileNotFoundError\u001b[0m: [Errno 2] No such file or directory: '/home/node1/Documents/uic/FilesUsed/qry_mort_Incidents_app.csv'"
     ]
    }
   ],
   "source": [
    "#import the df clean data csv file\n",
    "file = \"/home/node1/Documents/uic/FilesUsed/qry_mort_Incidents_app.csv\"\n",
    "app = pd.read_csv(file)"
   ]
  },
  {
   "cell_type": "code",
   "execution_count": 13,
   "id": "94368d6a-7ee8-479c-baf8-0e7f021386ed",
   "metadata": {},
   "outputs": [
    {
     "data": {
      "text/plain": [
       "Index(['Member_ID', 'Activity_ID', 'Incident_Date', 'Level', 'Incident_Type',\n",
       "       'COVID_Hospitalization', 'COVID_ED_Visit', 'COVID_Quarantine_Home',\n",
       "       'COVID_Quarantine_Home_2', 'COVID_Watch', 'COVID_Recovered',\n",
       "       'COVID_Other', 'L1_Suicide_Attempt', 'L1_Sexual_Assault_V',\n",
       "       'L1_Sexual_Assault_P', 'L1_Physical_Assault_V', 'L1_Physical_Assault_P',\n",
       "       'L1_Fire', 'L1_Criminal_Activity', 'L1_Incarceration',\n",
       "       'L1_Missing_Person', 'L1_Suspected_Mistreatment',\n",
       "       'L2_Unexpected_Hospital', 'L2_Injury', 'L2_Nursing_Facility',\n",
       "       'L2_SMHRF_Placement', 'L2_Fire', 'L2_Behavior_Incident',\n",
       "       'L2_Suspected_Mistreatment', 'L3_Property_Damage',\n",
       "       'L3_Vehicle_Accident', 'L3_Eviction', 'L3_Suspected_Mistreatment',\n",
       "       'L3_Alleged_Fraud', 'SM_Neglect', 'SM_Abuse', 'SM_Physical_Abuse',\n",
       "       'SM_Sexual_Abuse', 'UH_ED_Medical_Instability',\n",
       "       'UH_ED_Psychiatric_Instability', 'UH_ED_Injury',\n",
       "       'UH_Medical_Hospitalization', 'UH_Medication_Related',\n",
       "       'UH_Substance_Use', 'UH_Psychiatric_Hospitalization', 'Injury_Fall',\n",
       "       'Injury_Medication_Related', 'Injury_Bruising', 'Injury_Burn',\n",
       "       'Injury_Bleeding', 'Injury_Cut_Or_Puncture', 'Injury_Other',\n",
       "       'Fire_Accidental', 'Fire_Intentional', 'BI_Threats', 'SM_Exploitation',\n",
       "       'PD_Provider_Property', 'PD_Participant_Property', 'PD_Someone_Else',\n",
       "       'PD_Fire_Accidental', 'VA_Member', 'VA_Public', 'VA_Other_Vehicle',\n",
       "       'VA_Pedestrian', 'VA_Other', 'Eviction_Refusal', 'Eviction_Destruction',\n",
       "       'Eviction_Disturbing', 'Eviction_Other', 'Suspected_Verbal',\n",
       "       'Suspected_Financial', 'AF_Member', 'AF_Provider', 'BI_Substance'],\n",
       "      dtype='object')"
      ]
     },
     "execution_count": 13,
     "metadata": {},
     "output_type": "execute_result"
    }
   ],
   "source": [
    "app.columns"
   ]
  },
  {
   "cell_type": "code",
   "execution_count": 14,
   "id": "60ba1d01-3b36-4a7c-85ba-8d50a8b9bc98",
   "metadata": {},
   "outputs": [],
   "source": [
    "#add a new column to indicate datasource\n",
    "app.insert(1, \"Source\", \"webapp\")"
   ]
  },
  {
   "cell_type": "code",
   "execution_count": 15,
   "id": "dfb425c8-ff1b-4777-98c3-a9dfa245c5d3",
   "metadata": {},
   "outputs": [
    {
     "name": "stdout",
     "output_type": "stream",
     "text": [
      "<class 'pandas.core.frame.DataFrame'>\n",
      "RangeIndex: 1191 entries, 0 to 1190\n",
      "Data columns (total 75 columns):\n",
      " #   Column                          Non-Null Count  Dtype \n",
      "---  ------                          --------------  ----- \n",
      " 0   Member_ID                       1191 non-null   int64 \n",
      " 1   Source                          1191 non-null   object\n",
      " 2   Activity_ID                     1191 non-null   int64 \n",
      " 3   Incident_Date                   1191 non-null   object\n",
      " 4   Level                           1191 non-null   int64 \n",
      " 5   Incident_Type                   1191 non-null   object\n",
      " 6   COVID_Hospitalization           1191 non-null   bool  \n",
      " 7   COVID_ED_Visit                  1191 non-null   bool  \n",
      " 8   COVID_Quarantine_Home           1191 non-null   bool  \n",
      " 9   COVID_Quarantine_Home_2         1191 non-null   bool  \n",
      " 10  COVID_Watch                     1191 non-null   bool  \n",
      " 11  COVID_Recovered                 1191 non-null   bool  \n",
      " 12  COVID_Other                     1191 non-null   bool  \n",
      " 13  L1_Suicide_Attempt              1191 non-null   bool  \n",
      " 14  L1_Sexual_Assault_V             1191 non-null   bool  \n",
      " 15  L1_Sexual_Assault_P             1191 non-null   bool  \n",
      " 16  L1_Physical_Assault_V           1191 non-null   bool  \n",
      " 17  L1_Physical_Assault_P           1191 non-null   bool  \n",
      " 18  L1_Fire                         1191 non-null   bool  \n",
      " 19  L1_Criminal_Activity            1191 non-null   bool  \n",
      " 20  L1_Incarceration                1191 non-null   bool  \n",
      " 21  L1_Missing_Person               1191 non-null   bool  \n",
      " 22  L1_Suspected_Mistreatment       1191 non-null   bool  \n",
      " 23  L2_Unexpected_Hospital          1191 non-null   bool  \n",
      " 24  L2_Injury                       1191 non-null   bool  \n",
      " 25  L2_Nursing_Facility             1191 non-null   bool  \n",
      " 26  L2_SMHRF_Placement              1191 non-null   bool  \n",
      " 27  L2_Fire                         1191 non-null   bool  \n",
      " 28  L2_Behavior_Incident            1191 non-null   bool  \n",
      " 29  L2_Suspected_Mistreatment       1191 non-null   bool  \n",
      " 30  L3_Property_Damage              1191 non-null   bool  \n",
      " 31  L3_Vehicle_Accident             1191 non-null   bool  \n",
      " 32  L3_Eviction                     1191 non-null   bool  \n",
      " 33  L3_Suspected_Mistreatment       1191 non-null   bool  \n",
      " 34  L3_Alleged_Fraud                1191 non-null   bool  \n",
      " 35  SM_Neglect                      1191 non-null   bool  \n",
      " 36  SM_Abuse                        1191 non-null   bool  \n",
      " 37  SM_Physical_Abuse               1191 non-null   bool  \n",
      " 38  SM_Sexual_Abuse                 1191 non-null   bool  \n",
      " 39  UH_ED_Medical_Instability       1191 non-null   bool  \n",
      " 40  UH_ED_Psychiatric_Instability   1191 non-null   bool  \n",
      " 41  UH_ED_Injury                    1191 non-null   bool  \n",
      " 42  UH_Medical_Hospitalization      1191 non-null   bool  \n",
      " 43  UH_Medication_Related           1191 non-null   bool  \n",
      " 44  UH_Substance_Use                1191 non-null   bool  \n",
      " 45  UH_Psychiatric_Hospitalization  1191 non-null   bool  \n",
      " 46  Injury_Fall                     1191 non-null   bool  \n",
      " 47  Injury_Medication_Related       1191 non-null   bool  \n",
      " 48  Injury_Bruising                 1191 non-null   bool  \n",
      " 49  Injury_Burn                     1191 non-null   bool  \n",
      " 50  Injury_Bleeding                 1191 non-null   bool  \n",
      " 51  Injury_Cut_Or_Puncture          1191 non-null   bool  \n",
      " 52  Injury_Other                    1191 non-null   bool  \n",
      " 53  Fire_Accidental                 1191 non-null   bool  \n",
      " 54  Fire_Intentional                1191 non-null   bool  \n",
      " 55  BI_Threats                      1191 non-null   bool  \n",
      " 56  SM_Exploitation                 1191 non-null   bool  \n",
      " 57  PD_Provider_Property            1191 non-null   bool  \n",
      " 58  PD_Participant_Property         1191 non-null   bool  \n",
      " 59  PD_Someone_Else                 1191 non-null   bool  \n",
      " 60  PD_Fire_Accidental              1191 non-null   bool  \n",
      " 61  VA_Member                       1191 non-null   bool  \n",
      " 62  VA_Public                       1191 non-null   bool  \n",
      " 63  VA_Other_Vehicle                1191 non-null   bool  \n",
      " 64  VA_Pedestrian                   1191 non-null   bool  \n",
      " 65  VA_Other                        1191 non-null   bool  \n",
      " 66  Eviction_Refusal                1191 non-null   bool  \n",
      " 67  Eviction_Destruction            1191 non-null   bool  \n",
      " 68  Eviction_Disturbing             1191 non-null   bool  \n",
      " 69  Eviction_Other                  1191 non-null   bool  \n",
      " 70  Suspected_Verbal                1191 non-null   bool  \n",
      " 71  Suspected_Financial             1191 non-null   bool  \n",
      " 72  AF_Member                       1191 non-null   bool  \n",
      " 73  AF_Provider                     1191 non-null   bool  \n",
      " 74  BI_Substance                    1191 non-null   bool  \n",
      "dtypes: bool(69), int64(3), object(3)\n",
      "memory usage: 136.2+ KB\n"
     ]
    }
   ],
   "source": [
    "app.info()"
   ]
  },
  {
   "cell_type": "code",
   "execution_count": 16,
   "id": "69ab49ee-1a23-4611-a384-6dda7b98b6d7",
   "metadata": {},
   "outputs": [],
   "source": [
    "for column in app.columns:\n",
    "    if app[column].dtype == 'bool':\n",
    "        app[column] = app[column].astype(np.float64)"
   ]
  },
  {
   "cell_type": "code",
   "execution_count": 17,
   "id": "da5736a3-47c1-463f-b515-05aee1412c41",
   "metadata": {},
   "outputs": [
    {
     "name": "stdout",
     "output_type": "stream",
     "text": [
      "<class 'pandas.core.frame.DataFrame'>\n",
      "RangeIndex: 1191 entries, 0 to 1190\n",
      "Data columns (total 75 columns):\n",
      " #   Column                          Non-Null Count  Dtype  \n",
      "---  ------                          --------------  -----  \n",
      " 0   Member_ID                       1191 non-null   int64  \n",
      " 1   Source                          1191 non-null   object \n",
      " 2   Activity_ID                     1191 non-null   int64  \n",
      " 3   Incident_Date                   1191 non-null   object \n",
      " 4   Level                           1191 non-null   int64  \n",
      " 5   Incident_Type                   1191 non-null   object \n",
      " 6   COVID_Hospitalization           1191 non-null   float64\n",
      " 7   COVID_ED_Visit                  1191 non-null   float64\n",
      " 8   COVID_Quarantine_Home           1191 non-null   float64\n",
      " 9   COVID_Quarantine_Home_2         1191 non-null   float64\n",
      " 10  COVID_Watch                     1191 non-null   float64\n",
      " 11  COVID_Recovered                 1191 non-null   float64\n",
      " 12  COVID_Other                     1191 non-null   float64\n",
      " 13  L1_Suicide_Attempt              1191 non-null   float64\n",
      " 14  L1_Sexual_Assault_V             1191 non-null   float64\n",
      " 15  L1_Sexual_Assault_P             1191 non-null   float64\n",
      " 16  L1_Physical_Assault_V           1191 non-null   float64\n",
      " 17  L1_Physical_Assault_P           1191 non-null   float64\n",
      " 18  L1_Fire                         1191 non-null   float64\n",
      " 19  L1_Criminal_Activity            1191 non-null   float64\n",
      " 20  L1_Incarceration                1191 non-null   float64\n",
      " 21  L1_Missing_Person               1191 non-null   float64\n",
      " 22  L1_Suspected_Mistreatment       1191 non-null   float64\n",
      " 23  L2_Unexpected_Hospital          1191 non-null   float64\n",
      " 24  L2_Injury                       1191 non-null   float64\n",
      " 25  L2_Nursing_Facility             1191 non-null   float64\n",
      " 26  L2_SMHRF_Placement              1191 non-null   float64\n",
      " 27  L2_Fire                         1191 non-null   float64\n",
      " 28  L2_Behavior_Incident            1191 non-null   float64\n",
      " 29  L2_Suspected_Mistreatment       1191 non-null   float64\n",
      " 30  L3_Property_Damage              1191 non-null   float64\n",
      " 31  L3_Vehicle_Accident             1191 non-null   float64\n",
      " 32  L3_Eviction                     1191 non-null   float64\n",
      " 33  L3_Suspected_Mistreatment       1191 non-null   float64\n",
      " 34  L3_Alleged_Fraud                1191 non-null   float64\n",
      " 35  SM_Neglect                      1191 non-null   float64\n",
      " 36  SM_Abuse                        1191 non-null   float64\n",
      " 37  SM_Physical_Abuse               1191 non-null   float64\n",
      " 38  SM_Sexual_Abuse                 1191 non-null   float64\n",
      " 39  UH_ED_Medical_Instability       1191 non-null   float64\n",
      " 40  UH_ED_Psychiatric_Instability   1191 non-null   float64\n",
      " 41  UH_ED_Injury                    1191 non-null   float64\n",
      " 42  UH_Medical_Hospitalization      1191 non-null   float64\n",
      " 43  UH_Medication_Related           1191 non-null   float64\n",
      " 44  UH_Substance_Use                1191 non-null   float64\n",
      " 45  UH_Psychiatric_Hospitalization  1191 non-null   float64\n",
      " 46  Injury_Fall                     1191 non-null   float64\n",
      " 47  Injury_Medication_Related       1191 non-null   float64\n",
      " 48  Injury_Bruising                 1191 non-null   float64\n",
      " 49  Injury_Burn                     1191 non-null   float64\n",
      " 50  Injury_Bleeding                 1191 non-null   float64\n",
      " 51  Injury_Cut_Or_Puncture          1191 non-null   float64\n",
      " 52  Injury_Other                    1191 non-null   float64\n",
      " 53  Fire_Accidental                 1191 non-null   float64\n",
      " 54  Fire_Intentional                1191 non-null   float64\n",
      " 55  BI_Threats                      1191 non-null   float64\n",
      " 56  SM_Exploitation                 1191 non-null   float64\n",
      " 57  PD_Provider_Property            1191 non-null   float64\n",
      " 58  PD_Participant_Property         1191 non-null   float64\n",
      " 59  PD_Someone_Else                 1191 non-null   float64\n",
      " 60  PD_Fire_Accidental              1191 non-null   float64\n",
      " 61  VA_Member                       1191 non-null   float64\n",
      " 62  VA_Public                       1191 non-null   float64\n",
      " 63  VA_Other_Vehicle                1191 non-null   float64\n",
      " 64  VA_Pedestrian                   1191 non-null   float64\n",
      " 65  VA_Other                        1191 non-null   float64\n",
      " 66  Eviction_Refusal                1191 non-null   float64\n",
      " 67  Eviction_Destruction            1191 non-null   float64\n",
      " 68  Eviction_Disturbing             1191 non-null   float64\n",
      " 69  Eviction_Other                  1191 non-null   float64\n",
      " 70  Suspected_Verbal                1191 non-null   float64\n",
      " 71  Suspected_Financial             1191 non-null   float64\n",
      " 72  AF_Member                       1191 non-null   float64\n",
      " 73  AF_Provider                     1191 non-null   float64\n",
      " 74  BI_Substance                    1191 non-null   float64\n",
      "dtypes: float64(69), int64(3), object(3)\n",
      "memory usage: 698.0+ KB\n"
     ]
    }
   ],
   "source": [
    "app.info()"
   ]
  },
  {
   "cell_type": "code",
   "execution_count": 18,
   "id": "1c8009d6-1825-4f51-8368-c93bbf011b4d",
   "metadata": {},
   "outputs": [
    {
     "data": {
      "text/plain": [
       "2    1044\n",
       "1      92\n",
       "3      30\n",
       "0      25\n",
       "Name: Level, dtype: int64"
      ]
     },
     "execution_count": 18,
     "metadata": {},
     "output_type": "execute_result"
    }
   ],
   "source": [
    "app.Level.value_counts()"
   ]
  },
  {
   "cell_type": "code",
   "execution_count": 19,
   "id": "8bc38d96-b6f6-4297-b160-ba2495833fcc",
   "metadata": {},
   "outputs": [],
   "source": [
    "# Applying the condition\n",
    "app['Level'] = app['Level'].replace(0, 5)"
   ]
  },
  {
   "cell_type": "code",
   "execution_count": 20,
   "id": "c80039a6-1302-4f6f-9437-42fb7d07f2ab",
   "metadata": {},
   "outputs": [
    {
     "data": {
      "text/plain": [
       "2    1044\n",
       "1      92\n",
       "3      30\n",
       "5      25\n",
       "Name: Level, dtype: int64"
      ]
     },
     "execution_count": 20,
     "metadata": {},
     "output_type": "execute_result"
    }
   ],
   "source": [
    "app.Level.value_counts()"
   ]
  },
  {
   "cell_type": "code",
   "execution_count": 21,
   "id": "e4541031-7583-4a95-ab22-c34634845297",
   "metadata": {},
   "outputs": [],
   "source": [
    "#combine the two data frames with pandas concatenate method\n",
    "inc = pd.concat([legacy, app])"
   ]
  },
  {
   "cell_type": "code",
   "execution_count": 22,
   "id": "ae533fa0-e9b9-41a9-a9bf-0a0fe9e21a72",
   "metadata": {},
   "outputs": [
    {
     "name": "stdout",
     "output_type": "stream",
     "text": [
      "<class 'pandas.core.frame.DataFrame'>\n",
      "Int64Index: 1708 entries, 0 to 1190\n",
      "Data columns (total 76 columns):\n",
      " #   Column                          Non-Null Count  Dtype  \n",
      "---  ------                          --------------  -----  \n",
      " 0   Member_ID                       1708 non-null   int64  \n",
      " 1   Source                          1708 non-null   object \n",
      " 2   Activity_ID                     1708 non-null   int64  \n",
      " 3   Incident_Date                   1708 non-null   object \n",
      " 4   Level                           1708 non-null   int64  \n",
      " 5   Incident_Type                   1708 non-null   object \n",
      " 6   BI_Substance                    1708 non-null   float64\n",
      " 7   BI_Threats                      1708 non-null   float64\n",
      " 8   COVID_ED_Visit                  1708 non-null   float64\n",
      " 9   COVID_Hospitalization           1708 non-null   float64\n",
      " 10  COVID_Quarantine_Home           1708 non-null   float64\n",
      " 11  COVID_Quarantine_Home_2         1708 non-null   float64\n",
      " 12  COVID_Watch                     1708 non-null   float64\n",
      " 13  Fire_Accidental                 1708 non-null   float64\n",
      " 14  Injury_Bruising                 1708 non-null   float64\n",
      " 15  Injury_Cut_Or_Puncture          1708 non-null   float64\n",
      " 16  Injury_Fall                     1708 non-null   float64\n",
      " 17  Injury_Other                    1708 non-null   float64\n",
      " 18  L1_Criminal_Activity            1708 non-null   float64\n",
      " 19  L1_Missing_Person               1708 non-null   float64\n",
      " 20  L1_Physical_Assault_P           1708 non-null   float64\n",
      " 21  L1_Physical_Assault_V           1708 non-null   float64\n",
      " 22  L1_Sexual_Assault_V             1708 non-null   float64\n",
      " 23  L1_Suicide_Attempt              1708 non-null   float64\n",
      " 24  L2_Behavior_Incident            1708 non-null   float64\n",
      " 25  L2_Nursing_Facility             1708 non-null   float64\n",
      " 26  L2_SMHRF_Placement              1708 non-null   float64\n",
      " 27  L3_Alleged_Fraud                1708 non-null   float64\n",
      " 28  L3_Eviction                     1708 non-null   float64\n",
      " 29  L3_Suspected_Mistreatment       1708 non-null   float64\n",
      " 30  L3_Vehicle_Accident             1708 non-null   float64\n",
      " 31  Other                           517 non-null    float64\n",
      " 32  SM_Physical_Abuse               1708 non-null   float64\n",
      " 33  UH_ED_Medical_Instability       1708 non-null   float64\n",
      " 34  UH_Medical_Hospitalization      1708 non-null   float64\n",
      " 35  UH_Psychiatric_Hospitalization  1708 non-null   float64\n",
      " 36  UH_Substance_Use                1708 non-null   float64\n",
      " 37  COVID_Recovered                 1191 non-null   float64\n",
      " 38  COVID_Other                     1191 non-null   float64\n",
      " 39  L1_Sexual_Assault_P             1191 non-null   float64\n",
      " 40  L1_Fire                         1191 non-null   float64\n",
      " 41  L1_Incarceration                1191 non-null   float64\n",
      " 42  L1_Suspected_Mistreatment       1191 non-null   float64\n",
      " 43  L2_Unexpected_Hospital          1191 non-null   float64\n",
      " 44  L2_Injury                       1191 non-null   float64\n",
      " 45  L2_Fire                         1191 non-null   float64\n",
      " 46  L2_Suspected_Mistreatment       1191 non-null   float64\n",
      " 47  L3_Property_Damage              1191 non-null   float64\n",
      " 48  SM_Neglect                      1191 non-null   float64\n",
      " 49  SM_Abuse                        1191 non-null   float64\n",
      " 50  SM_Sexual_Abuse                 1191 non-null   float64\n",
      " 51  UH_ED_Psychiatric_Instability   1191 non-null   float64\n",
      " 52  UH_ED_Injury                    1191 non-null   float64\n",
      " 53  UH_Medication_Related           1191 non-null   float64\n",
      " 54  Injury_Medication_Related       1191 non-null   float64\n",
      " 55  Injury_Burn                     1191 non-null   float64\n",
      " 56  Injury_Bleeding                 1191 non-null   float64\n",
      " 57  Fire_Intentional                1191 non-null   float64\n",
      " 58  SM_Exploitation                 1191 non-null   float64\n",
      " 59  PD_Provider_Property            1191 non-null   float64\n",
      " 60  PD_Participant_Property         1191 non-null   float64\n",
      " 61  PD_Someone_Else                 1191 non-null   float64\n",
      " 62  PD_Fire_Accidental              1191 non-null   float64\n",
      " 63  VA_Member                       1191 non-null   float64\n",
      " 64  VA_Public                       1191 non-null   float64\n",
      " 65  VA_Other_Vehicle                1191 non-null   float64\n",
      " 66  VA_Pedestrian                   1191 non-null   float64\n",
      " 67  VA_Other                        1191 non-null   float64\n",
      " 68  Eviction_Refusal                1191 non-null   float64\n",
      " 69  Eviction_Destruction            1191 non-null   float64\n",
      " 70  Eviction_Disturbing             1191 non-null   float64\n",
      " 71  Eviction_Other                  1191 non-null   float64\n",
      " 72  Suspected_Verbal                1191 non-null   float64\n",
      " 73  Suspected_Financial             1191 non-null   float64\n",
      " 74  AF_Member                       1191 non-null   float64\n",
      " 75  AF_Provider                     1191 non-null   float64\n",
      "dtypes: float64(70), int64(3), object(3)\n",
      "memory usage: 1.0+ MB\n"
     ]
    }
   ],
   "source": [
    "inc.info()"
   ]
  },
  {
   "cell_type": "code",
   "execution_count": 23,
   "id": "df3301be-ccda-4713-927f-5e700c73cc03",
   "metadata": {},
   "outputs": [],
   "source": [
    "# converting the string to datetime format\n",
    "inc['Incident_Date'] = pd.to_datetime(inc['Incident_Date'])"
   ]
  },
  {
   "cell_type": "code",
   "execution_count": 24,
   "id": "25f2becf-6bc0-4ad4-926f-c9efda3c410d",
   "metadata": {},
   "outputs": [
    {
     "name": "stdout",
     "output_type": "stream",
     "text": [
      "0   2021-05-06\n",
      "1   2021-05-11\n",
      "2   2021-05-07\n",
      "3   2021-05-06\n",
      "4   2021-01-19\n",
      "Name: Incident_Date, dtype: datetime64[ns]\n"
     ]
    }
   ],
   "source": [
    "print(inc['Incident_Date'].head())"
   ]
  },
  {
   "cell_type": "code",
   "execution_count": 25,
   "id": "c6e8d361-e2aa-4944-a084-6b8428e25ef5",
   "metadata": {},
   "outputs": [],
   "source": [
    "#for column in inc.columns:\n",
    "    #if inc[column].dtype == 'float64':\n",
    "        #inc[column] = inc[column].astype(np.int32)"
   ]
  },
  {
   "cell_type": "code",
   "execution_count": 26,
   "id": "0d081434-2b19-4fcc-83f2-48a3a395867e",
   "metadata": {},
   "outputs": [],
   "source": [
    "for column in inc.columns:\n",
    "    if inc[column].dtype == 'bool':\n",
    "        inc[column] = inc[column].astype(np.float64)"
   ]
  },
  {
   "cell_type": "code",
   "execution_count": 27,
   "id": "7f500167-06c7-4fff-8bae-4b708575b06a",
   "metadata": {},
   "outputs": [
    {
     "name": "stdout",
     "output_type": "stream",
     "text": [
      "<class 'pandas.core.frame.DataFrame'>\n",
      "Int64Index: 1708 entries, 0 to 1190\n",
      "Data columns (total 76 columns):\n",
      " #   Column                          Non-Null Count  Dtype         \n",
      "---  ------                          --------------  -----         \n",
      " 0   Member_ID                       1708 non-null   int64         \n",
      " 1   Source                          1708 non-null   object        \n",
      " 2   Activity_ID                     1708 non-null   int64         \n",
      " 3   Incident_Date                   1708 non-null   datetime64[ns]\n",
      " 4   Level                           1708 non-null   int64         \n",
      " 5   Incident_Type                   1708 non-null   object        \n",
      " 6   BI_Substance                    1708 non-null   float64       \n",
      " 7   BI_Threats                      1708 non-null   float64       \n",
      " 8   COVID_ED_Visit                  1708 non-null   float64       \n",
      " 9   COVID_Hospitalization           1708 non-null   float64       \n",
      " 10  COVID_Quarantine_Home           1708 non-null   float64       \n",
      " 11  COVID_Quarantine_Home_2         1708 non-null   float64       \n",
      " 12  COVID_Watch                     1708 non-null   float64       \n",
      " 13  Fire_Accidental                 1708 non-null   float64       \n",
      " 14  Injury_Bruising                 1708 non-null   float64       \n",
      " 15  Injury_Cut_Or_Puncture          1708 non-null   float64       \n",
      " 16  Injury_Fall                     1708 non-null   float64       \n",
      " 17  Injury_Other                    1708 non-null   float64       \n",
      " 18  L1_Criminal_Activity            1708 non-null   float64       \n",
      " 19  L1_Missing_Person               1708 non-null   float64       \n",
      " 20  L1_Physical_Assault_P           1708 non-null   float64       \n",
      " 21  L1_Physical_Assault_V           1708 non-null   float64       \n",
      " 22  L1_Sexual_Assault_V             1708 non-null   float64       \n",
      " 23  L1_Suicide_Attempt              1708 non-null   float64       \n",
      " 24  L2_Behavior_Incident            1708 non-null   float64       \n",
      " 25  L2_Nursing_Facility             1708 non-null   float64       \n",
      " 26  L2_SMHRF_Placement              1708 non-null   float64       \n",
      " 27  L3_Alleged_Fraud                1708 non-null   float64       \n",
      " 28  L3_Eviction                     1708 non-null   float64       \n",
      " 29  L3_Suspected_Mistreatment       1708 non-null   float64       \n",
      " 30  L3_Vehicle_Accident             1708 non-null   float64       \n",
      " 31  Other                           517 non-null    float64       \n",
      " 32  SM_Physical_Abuse               1708 non-null   float64       \n",
      " 33  UH_ED_Medical_Instability       1708 non-null   float64       \n",
      " 34  UH_Medical_Hospitalization      1708 non-null   float64       \n",
      " 35  UH_Psychiatric_Hospitalization  1708 non-null   float64       \n",
      " 36  UH_Substance_Use                1708 non-null   float64       \n",
      " 37  COVID_Recovered                 1191 non-null   float64       \n",
      " 38  COVID_Other                     1191 non-null   float64       \n",
      " 39  L1_Sexual_Assault_P             1191 non-null   float64       \n",
      " 40  L1_Fire                         1191 non-null   float64       \n",
      " 41  L1_Incarceration                1191 non-null   float64       \n",
      " 42  L1_Suspected_Mistreatment       1191 non-null   float64       \n",
      " 43  L2_Unexpected_Hospital          1191 non-null   float64       \n",
      " 44  L2_Injury                       1191 non-null   float64       \n",
      " 45  L2_Fire                         1191 non-null   float64       \n",
      " 46  L2_Suspected_Mistreatment       1191 non-null   float64       \n",
      " 47  L3_Property_Damage              1191 non-null   float64       \n",
      " 48  SM_Neglect                      1191 non-null   float64       \n",
      " 49  SM_Abuse                        1191 non-null   float64       \n",
      " 50  SM_Sexual_Abuse                 1191 non-null   float64       \n",
      " 51  UH_ED_Psychiatric_Instability   1191 non-null   float64       \n",
      " 52  UH_ED_Injury                    1191 non-null   float64       \n",
      " 53  UH_Medication_Related           1191 non-null   float64       \n",
      " 54  Injury_Medication_Related       1191 non-null   float64       \n",
      " 55  Injury_Burn                     1191 non-null   float64       \n",
      " 56  Injury_Bleeding                 1191 non-null   float64       \n",
      " 57  Fire_Intentional                1191 non-null   float64       \n",
      " 58  SM_Exploitation                 1191 non-null   float64       \n",
      " 59  PD_Provider_Property            1191 non-null   float64       \n",
      " 60  PD_Participant_Property         1191 non-null   float64       \n",
      " 61  PD_Someone_Else                 1191 non-null   float64       \n",
      " 62  PD_Fire_Accidental              1191 non-null   float64       \n",
      " 63  VA_Member                       1191 non-null   float64       \n",
      " 64  VA_Public                       1191 non-null   float64       \n",
      " 65  VA_Other_Vehicle                1191 non-null   float64       \n",
      " 66  VA_Pedestrian                   1191 non-null   float64       \n",
      " 67  VA_Other                        1191 non-null   float64       \n",
      " 68  Eviction_Refusal                1191 non-null   float64       \n",
      " 69  Eviction_Destruction            1191 non-null   float64       \n",
      " 70  Eviction_Disturbing             1191 non-null   float64       \n",
      " 71  Eviction_Other                  1191 non-null   float64       \n",
      " 72  Suspected_Verbal                1191 non-null   float64       \n",
      " 73  Suspected_Financial             1191 non-null   float64       \n",
      " 74  AF_Member                       1191 non-null   float64       \n",
      " 75  AF_Provider                     1191 non-null   float64       \n",
      "dtypes: datetime64[ns](1), float64(70), int64(3), object(2)\n",
      "memory usage: 1.0+ MB\n"
     ]
    }
   ],
   "source": [
    "inc.info()"
   ]
  },
  {
   "cell_type": "code",
   "execution_count": 30,
   "id": "d012c127-02fc-4f6e-b6eb-fa9de3361e09",
   "metadata": {},
   "outputs": [
    {
     "data": {
      "text/plain": [
       "2    1511\n",
       "1     114\n",
       "3      38\n",
       "5      34\n",
       "4      11\n",
       "Name: Level, dtype: int64"
      ]
     },
     "execution_count": 30,
     "metadata": {},
     "output_type": "execute_result"
    }
   ],
   "source": [
    "inc.Level.value_counts()"
   ]
  },
  {
   "cell_type": "code",
   "execution_count": 31,
   "id": "89d35b4f-2dd8-4c96-b825-0f4eddd43929",
   "metadata": {},
   "outputs": [],
   "source": [
    "inc.to_csv(r'\\\\uicfs.server.uic.edu\\NURS\\1\\CCMTP\\Database & Reports\\Mortality Annual Reports\\2023_April Mortality Report\\incidents.csv')"
   ]
  },
  {
   "cell_type": "code",
   "execution_count": null,
   "id": "4536f2ca-011e-4880-b029-28e30d28b3d2",
   "metadata": {},
   "outputs": [],
   "source": []
  }
 ],
 "metadata": {
  "kernelspec": {
   "display_name": "venv",
   "language": "python",
   "name": "python3"
  },
  "language_info": {
   "codemirror_mode": {
    "name": "ipython",
    "version": 3
   },
   "file_extension": ".py",
   "mimetype": "text/x-python",
   "name": "python",
   "nbconvert_exporter": "python",
   "pygments_lexer": "ipython3",
   "version": "3.12.3"
  }
 },
 "nbformat": 4,
 "nbformat_minor": 5
}
