{
 "cells": [
  {
   "cell_type": "code",
   "execution_count": 1,
   "id": "2edbeabb",
   "metadata": {},
   "outputs": [],
   "source": [
    "import pandas as pd\n",
    "import numpy as np\n",
    "import time\n",
    "import re\n",
    "import os\n",
    "import datetime"
   ]
  },
  {
   "cell_type": "code",
   "execution_count": 2,
   "id": "ce60e637-0d8b-4e2c-9c2d-2591c01793b2",
   "metadata": {},
   "outputs": [],
   "source": [
    "os.chdir(r'C:/Users/vwalds/Documents/My Data Sources/')"
   ]
  },
  {
   "cell_type": "code",
   "execution_count": 3,
   "id": "4f146531-7777-4cfc-9383-fb5cf4817f51",
   "metadata": {},
   "outputs": [],
   "source": [
    "import warnings\n",
    "warnings.filterwarnings('ignore')\n",
    "warnings.simplefilter('ignore')"
   ]
  },
  {
   "cell_type": "code",
   "execution_count": 4,
   "id": "bd6c9099-b615-42a2-84b6-cab021ef3888",
   "metadata": {},
   "outputs": [],
   "source": [
    "# Grab Current Time Before Running the Code\n",
    "start = time.time()"
   ]
  },
  {
   "cell_type": "code",
   "execution_count": 5,
   "id": "d4c0cbec-8afc-4dfb-aee3-33abb7d622b1",
   "metadata": {},
   "outputs": [],
   "source": [
    "#UIC_Review_CSP_reviews\n"
   ]
  },
  {
   "cell_type": "code",
   "execution_count": 6,
   "id": "ce513d12-555b-4e0d-93b7-b596f78be1c5",
   "metadata": {},
   "outputs": [],
   "source": [
    "df = pd.read_excel(\"UIC_Review_CSP_reviews.xlsx\")"
   ]
  },
  {
   "cell_type": "code",
   "execution_count": 7,
   "id": "8d9aa52b-ccaa-4872-a51b-c31ba9ec7ac8",
   "metadata": {},
   "outputs": [
    {
     "name": "stdout",
     "output_type": "stream",
     "text": [
      "<class 'pandas.core.frame.DataFrame'>\n",
      "RangeIndex: 5872 entries, 0 to 5871\n",
      "Data columns (total 14 columns):\n",
      " #   Column                   Non-Null Count  Dtype  \n",
      "---  ------                   --------------  -----  \n",
      " 0   Request_ID               5872 non-null   int64  \n",
      " 1   Request_Activity_ID      5872 non-null   int64  \n",
      " 2   Request_Assessment_ID    5872 non-null   int64  \n",
      " 3   Review_Result_ID         0 non-null      float64\n",
      " 4   Request_Finalized        5872 non-null   bool   \n",
      " 5   Request_Plan_ID          5872 non-null   int64  \n",
      " 6   Request_Type             5872 non-null   object \n",
      " 7   Reviewed_By_Employee_ID  3598 non-null   float64\n",
      " 8   Request_Reviewed_On      3594 non-null   object \n",
      " 9   Request_Updated_On       3612 non-null   object \n",
      " 10  Date_of_Review           3596 non-null   object \n",
      " 11  Request_Created_On       5872 non-null   object \n",
      " 12  Staff_Notes              1 non-null      object \n",
      " 13  Outcome_Selection        3536 non-null   object \n",
      "dtypes: bool(1), float64(2), int64(4), object(7)\n",
      "memory usage: 602.2+ KB\n"
     ]
    }
   ],
   "source": [
    "df.info()"
   ]
  },
  {
   "cell_type": "code",
   "execution_count": 8,
   "id": "8e6548e8-a030-476f-8925-2f917aab9ac5",
   "metadata": {},
   "outputs": [
    {
     "data": {
      "text/plain": [
       "Index(['Request_ID', 'Request_Activity_ID', 'Request_Assessment_ID',\n",
       "       'Review_Result_ID', 'Request_Finalized', 'Request_Plan_ID',\n",
       "       'Request_Type', 'Reviewed_By_Employee_ID', 'Request_Reviewed_On',\n",
       "       'Request_Updated_On', 'Date_of_Review', 'Request_Created_On',\n",
       "       'Staff_Notes', 'Outcome_Selection'],\n",
       "      dtype='object')"
      ]
     },
     "execution_count": 8,
     "metadata": {},
     "output_type": "execute_result"
    }
   ],
   "source": [
    "df.columns"
   ]
  },
  {
   "cell_type": "code",
   "execution_count": 9,
   "id": "c1db009a-7209-4cf8-9098-78153c85a45b",
   "metadata": {},
   "outputs": [],
   "source": [
    "# converting the string to datetime format\n",
    "df['Request_Reviewed_On'] = pd.to_datetime(df['Request_Reviewed_On'])"
   ]
  },
  {
   "cell_type": "code",
   "execution_count": 10,
   "id": "50981cae-c9e3-4ad2-a73e-3622dfffca61",
   "metadata": {},
   "outputs": [],
   "source": [
    "# converting the string to datetime format\n",
    "df['Request_Updated_On'] = pd.to_datetime(df['Request_Updated_On'])"
   ]
  },
  {
   "cell_type": "code",
   "execution_count": 11,
   "id": "c91e85e4-54f4-459c-a080-12a62b8f5618",
   "metadata": {},
   "outputs": [],
   "source": [
    "# converting the string to datetime format\n",
    "df['Date_of_Review'] = pd.to_datetime(df['Date_of_Review'])"
   ]
  },
  {
   "cell_type": "code",
   "execution_count": 12,
   "id": "9a64c055-a024-45b1-8d71-4a5ead0e1afc",
   "metadata": {},
   "outputs": [],
   "source": [
    "# converting the string to datetime format\n",
    "df['Request_Created_On'] = pd.to_datetime(df['Request_Created_On'])"
   ]
  },
  {
   "cell_type": "code",
   "execution_count": 13,
   "id": "14c22c99-a6a0-4c66-8ed3-f86829b1915f",
   "metadata": {},
   "outputs": [
    {
     "data": {
      "text/plain": [
       "Request_ID                          int64\n",
       "Request_Activity_ID                 int64\n",
       "Request_Assessment_ID               int64\n",
       "Review_Result_ID                  float64\n",
       "Request_Finalized                    bool\n",
       "Request_Plan_ID                     int64\n",
       "Request_Type                       object\n",
       "Reviewed_By_Employee_ID           float64\n",
       "Request_Reviewed_On        datetime64[ns]\n",
       "Request_Updated_On         datetime64[ns]\n",
       "Date_of_Review             datetime64[ns]\n",
       "Request_Created_On         datetime64[ns]\n",
       "Staff_Notes                        object\n",
       "Outcome_Selection                  object\n",
       "dtype: object"
      ]
     },
     "execution_count": 13,
     "metadata": {},
     "output_type": "execute_result"
    }
   ],
   "source": [
    "df.dtypes"
   ]
  },
  {
   "cell_type": "code",
   "execution_count": 14,
   "id": "180055ca-f1ab-45b0-82bd-1227c792b1c7",
   "metadata": {},
   "outputs": [],
   "source": [
    "#export file without index column\n",
    "df.to_excel(\"UIC_Review_CSP_reviews.xlsx\", index=False)"
   ]
  },
  {
   "cell_type": "code",
   "execution_count": 15,
   "id": "c70dcc48-110f-4473-a218-98b9d789cce7",
   "metadata": {},
   "outputs": [
    {
     "name": "stdout",
     "output_type": "stream",
     "text": [
      "2024-09-20 11:26:58.015667\n"
     ]
    }
   ],
   "source": [
    "# Create a timestamp object\n",
    "timestamp = pd.Timestamp(datetime.datetime.now())\n",
    "\n",
    "# Print the timestamp\n",
    "print(timestamp)"
   ]
  },
  {
   "cell_type": "code",
   "execution_count": 16,
   "id": "acc90d14-d687-4917-945d-6b7ea3cf0137",
   "metadata": {},
   "outputs": [],
   "source": [
    "#the end!"
   ]
  },
  {
   "cell_type": "code",
   "execution_count": null,
   "id": "619c0970-3ae5-4980-8fd5-67c0a16216c1",
   "metadata": {},
   "outputs": [],
   "source": []
  },
  {
   "cell_type": "code",
   "execution_count": null,
   "id": "4e50a5ce-8cae-4eac-a149-0bf9c0778cbd",
   "metadata": {},
   "outputs": [],
   "source": []
  }
 ],
 "metadata": {
  "kernelspec": {
   "display_name": "Python 3 (ipykernel)",
   "language": "python",
   "name": "python3"
  },
  "language_info": {
   "codemirror_mode": {
    "name": "ipython",
    "version": 3
   },
   "file_extension": ".py",
   "mimetype": "text/x-python",
   "name": "python",
   "nbconvert_exporter": "python",
   "pygments_lexer": "ipython3",
   "version": "3.9.13"
  }
 },
 "nbformat": 4,
 "nbformat_minor": 5
}
