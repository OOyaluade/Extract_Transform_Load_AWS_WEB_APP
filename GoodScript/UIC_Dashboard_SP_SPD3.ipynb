{
 "cells": [
  {
   "cell_type": "code",
   "execution_count": 1,
   "id": "2edbeabb",
   "metadata": {},
   "outputs": [],
   "source": [
    "import pandas as pd\n",
    "import numpy as np\n",
    "import time\n",
    "import re\n",
    "import os\n",
    "import datetime"
   ]
  },
  {
   "cell_type": "code",
   "execution_count": 2,
   "id": "ce60e637-0d8b-4e2c-9c2d-2591c01793b2",
   "metadata": {},
   "outputs": [],
   "source": [
    "os.chdir(r'C:/Users/vwalds/Documents/My Data Sources/')"
   ]
  },
  {
   "cell_type": "code",
   "execution_count": 3,
   "id": "4f146531-7777-4cfc-9383-fb5cf4817f51",
   "metadata": {},
   "outputs": [],
   "source": [
    "import warnings\n",
    "warnings.filterwarnings('ignore')\n",
    "warnings.simplefilter('ignore')"
   ]
  },
  {
   "cell_type": "code",
   "execution_count": 4,
   "id": "bd6c9099-b615-42a2-84b6-cab021ef3888",
   "metadata": {},
   "outputs": [],
   "source": [
    "# Grab Current Time Before Running the Code\n",
    "start = time.time()"
   ]
  },
  {
   "cell_type": "code",
   "execution_count": 5,
   "id": "d4c0cbec-8afc-4dfb-aee3-33abb7d622b1",
   "metadata": {},
   "outputs": [],
   "source": [
    "#UIC_Dashboard_SP_SPD3\n"
   ]
  },
  {
   "cell_type": "code",
   "execution_count": 6,
   "id": "ce513d12-555b-4e0d-93b7-b596f78be1c5",
   "metadata": {},
   "outputs": [],
   "source": [
    "df = pd.read_excel(\"UIC_Dashboard_SP_SPD3.xlsx\")"
   ]
  },
  {
   "cell_type": "code",
   "execution_count": 7,
   "id": "8d9aa52b-ccaa-4872-a51b-c31ba9ec7ac8",
   "metadata": {},
   "outputs": [
    {
     "name": "stdout",
     "output_type": "stream",
     "text": [
      "<class 'pandas.core.frame.DataFrame'>\n",
      "RangeIndex: 15655 entries, 0 to 15654\n",
      "Data columns (total 66 columns):\n",
      " #   Column                                                   Non-Null Count  Dtype  \n",
      "---  ------                                                   --------------  -----  \n",
      " 0   PPM_P_Comprehensive_Plan_ID                              15655 non-null  int64  \n",
      " 1   PPM_P_Comprehensive_Plan_Finalize                        15655 non-null  bool   \n",
      " 2   PPM_P_Comprehensive_Plan_Activity_ID                     15655 non-null  int64  \n",
      " 3   PPM_P_Comprehensive_Plan_Quadrant                        12116 non-null  float64\n",
      " 4   PPM_P_Comprehensive_Plan_Date                            15655 non-null  object \n",
      " 5   Activity_ID                                              15655 non-null  int64  \n",
      " 6   PPM_Member_ID                                            15655 non-null  int64  \n",
      " 7   PPM_P_Comprehensive_Plan_Reason_Not_Completed_ID         51 non-null     float64\n",
      " 8   Plan_Updated_On                                          15619 non-null  object \n",
      " 9   PPM_P_Comprehensive_Plan_Updated_Date                    15655 non-null  object \n",
      " 10  PPM_P_Comprehensive_Plan_Planner_ID                      15596 non-null  float64\n",
      " 11  First_Name                                               15655 non-null  object \n",
      " 12  Last_Name                                                15655 non-null  object \n",
      " 13  Housing_Type_PSH                                         15655 non-null  bool   \n",
      " 14  Housing_Type_PH                                          15655 non-null  bool   \n",
      " 15  Housing_Type_SL                                          15655 non-null  bool   \n",
      " 16  Housing_Type_SR                                          15655 non-null  bool   \n",
      " 17  Housing_Type_AL                                          15655 non-null  bool   \n",
      " 18  Housing_Type_SH                                          15655 non-null  bool   \n",
      " 19  Housing_Type_Other                                       15655 non-null  bool   \n",
      " 20  Housing_Type_O_Des                                       32 non-null     object \n",
      " 21  Housing_Type_Text                                        1195 non-null   object \n",
      " 22  Activity_NF_ID                                           15630 non-null  float64\n",
      " 23  Activity_Closed_YN                                       15655 non-null  bool   \n",
      " 24  Activity_Closed_Date                                     8678 non-null   object \n",
      " 25  Activity_Closed_Reason_ID                                8652 non-null   float64\n",
      " 26  Current_Outreach_ID                                      15653 non-null  float64\n",
      " 27  Plan_Type_ID                                             14990 non-null  float64\n",
      " 28  PPM_Outreach_Activity_Prime_ID                           15609 non-null  float64\n",
      " 29  PPM_P_Comprehensive_Plan_Modification_YN                 15655 non-null  bool   \n",
      " 30  PPM_P_Comprehensive_Plan_Transitioned_YN                 15655 non-null  bool   \n",
      " 31  PPM_P_Comprehensive_Plan_Transitioned_Type_ID            8709 non-null   float64\n",
      " 32  PPM_P_Comprehensive_Plan_Clinical_Basis_Alternate_1      15655 non-null  bool   \n",
      " 33  PPM_P_Comprehensive_Plan_Clinical_Basis_Alternate_2      15655 non-null  bool   \n",
      " 34  PPM_P_Comprehensive_Plan_Clinical_Basis_Alternate_3      15655 non-null  bool   \n",
      " 35  PPM_P_Comprehensive_Plan_Clinical_Basis_Alternate_List   0 non-null      float64\n",
      " 36  PPM_P_Comprehensive_Plan_Clinical_Basis_Alternate_Other  3510 non-null   object \n",
      " 37  PPM_P_Comprehensive_Plan_Recommended_Setting_1           15655 non-null  bool   \n",
      " 38  PPM_P_Comprehensive_Plan_Recommended_Setting_2           15655 non-null  bool   \n",
      " 39  PPM_P_Comprehensive_Plan_Recommended_Setting_3           15655 non-null  bool   \n",
      " 40  PPM_P_Comprehensive_Plan_Recommended_Setting_Basis_1     15655 non-null  bool   \n",
      " 41  PPM_P_Comprehensive_Plan_Recommended_Setting_Basis_2     15655 non-null  bool   \n",
      " 42  PPM_P_Comprehensive_Plan_Recommended_Setting_Basis_3     15655 non-null  bool   \n",
      " 43  PPM_P_Comprehensive_Plan_Recommended_Setting_Basis_4     15655 non-null  bool   \n",
      " 44  PPM_P_Comprehensive_Plan_Recommended_Setting_Basis_5     15655 non-null  bool   \n",
      " 45  PPM_P_Comprehensive_Plan_Recommended_Setting_Basis_6     15655 non-null  bool   \n",
      " 46  PPM_P_Comprehensive_Plan_Recommended_Setting_Basis_7     15655 non-null  bool   \n",
      " 47  PPM_P_Comprehensive_Plan_Recommended_Setting_Basis_8     15655 non-null  bool   \n",
      " 48  PPM_Member_Prime_ID                                      15655 non-null  int64  \n",
      " 49  Member_Phase_ID                                          15655 non-null  int64  \n",
      " 50  PPM_P_Comprehensive_Plan_Assessment_ID                   15655 non-null  int64  \n",
      " 51  Updated_YN                                               15655 non-null  bool   \n",
      " 52  UIC_Requested_YN                                         15655 non-null  bool   \n",
      " 53  Updated_QA_YN                                            15655 non-null  bool   \n",
      " 54  PPM_P_Comprehensive_Plan_Phase_ID                        15199 non-null  float64\n",
      " 55  PPM_P_Comprehensive_Plan_Projected_Transition_Date       12268 non-null  object \n",
      " 56  PPM_P_Comprehensive_Plan_Transition_Date                 1 non-null      object \n",
      " 57  PSH_Planned_YN                                           749 non-null    object \n",
      " 58  Secondary_Transition_To_PSH_Date                         721 non-null    object \n",
      " 59  Non_PSH_Setting_YN                                       15655 non-null  bool   \n",
      " 60  Clinical_Needs_Requiring_Non_PSH                         15655 non-null  bool   \n",
      " 61  Signed_Approved_by_Member                                15655 non-null  bool   \n",
      " 62  Employment_Current_1                                     15655 non-null  bool   \n",
      " 63  Employment_Current_2                                     15655 non-null  bool   \n",
      " 64  Member_DOB                                               15654 non-null  object \n",
      " 65  Member_Gender_ID                                         15447 non-null  float64\n",
      "dtypes: bool(33), float64(12), int64(7), object(14)\n",
      "memory usage: 4.4+ MB\n"
     ]
    }
   ],
   "source": [
    "df.info()"
   ]
  },
  {
   "cell_type": "code",
   "execution_count": 8,
   "id": "8e6548e8-a030-476f-8925-2f917aab9ac5",
   "metadata": {},
   "outputs": [
    {
     "data": {
      "text/plain": [
       "Index(['PPM_P_Comprehensive_Plan_ID', 'PPM_P_Comprehensive_Plan_Finalize',\n",
       "       'PPM_P_Comprehensive_Plan_Activity_ID',\n",
       "       'PPM_P_Comprehensive_Plan_Quadrant', 'PPM_P_Comprehensive_Plan_Date',\n",
       "       'Activity_ID', 'PPM_Member_ID',\n",
       "       'PPM_P_Comprehensive_Plan_Reason_Not_Completed_ID', 'Plan_Updated_On',\n",
       "       'PPM_P_Comprehensive_Plan_Updated_Date',\n",
       "       'PPM_P_Comprehensive_Plan_Planner_ID', 'First_Name', 'Last_Name',\n",
       "       'Housing_Type_PSH', 'Housing_Type_PH', 'Housing_Type_SL',\n",
       "       'Housing_Type_SR', 'Housing_Type_AL', 'Housing_Type_SH',\n",
       "       'Housing_Type_Other', 'Housing_Type_O_Des', 'Housing_Type_Text',\n",
       "       'Activity_NF_ID', 'Activity_Closed_YN', 'Activity_Closed_Date',\n",
       "       'Activity_Closed_Reason_ID', 'Current_Outreach_ID', 'Plan_Type_ID',\n",
       "       'PPM_Outreach_Activity_Prime_ID',\n",
       "       'PPM_P_Comprehensive_Plan_Modification_YN',\n",
       "       'PPM_P_Comprehensive_Plan_Transitioned_YN',\n",
       "       'PPM_P_Comprehensive_Plan_Transitioned_Type_ID',\n",
       "       'PPM_P_Comprehensive_Plan_Clinical_Basis_Alternate_1',\n",
       "       'PPM_P_Comprehensive_Plan_Clinical_Basis_Alternate_2',\n",
       "       'PPM_P_Comprehensive_Plan_Clinical_Basis_Alternate_3',\n",
       "       'PPM_P_Comprehensive_Plan_Clinical_Basis_Alternate_List',\n",
       "       'PPM_P_Comprehensive_Plan_Clinical_Basis_Alternate_Other',\n",
       "       'PPM_P_Comprehensive_Plan_Recommended_Setting_1',\n",
       "       'PPM_P_Comprehensive_Plan_Recommended_Setting_2',\n",
       "       'PPM_P_Comprehensive_Plan_Recommended_Setting_3',\n",
       "       'PPM_P_Comprehensive_Plan_Recommended_Setting_Basis_1',\n",
       "       'PPM_P_Comprehensive_Plan_Recommended_Setting_Basis_2',\n",
       "       'PPM_P_Comprehensive_Plan_Recommended_Setting_Basis_3',\n",
       "       'PPM_P_Comprehensive_Plan_Recommended_Setting_Basis_4',\n",
       "       'PPM_P_Comprehensive_Plan_Recommended_Setting_Basis_5',\n",
       "       'PPM_P_Comprehensive_Plan_Recommended_Setting_Basis_6',\n",
       "       'PPM_P_Comprehensive_Plan_Recommended_Setting_Basis_7',\n",
       "       'PPM_P_Comprehensive_Plan_Recommended_Setting_Basis_8',\n",
       "       'PPM_Member_Prime_ID', 'Member_Phase_ID',\n",
       "       'PPM_P_Comprehensive_Plan_Assessment_ID', 'Updated_YN',\n",
       "       'UIC_Requested_YN', 'Updated_QA_YN',\n",
       "       'PPM_P_Comprehensive_Plan_Phase_ID',\n",
       "       'PPM_P_Comprehensive_Plan_Projected_Transition_Date',\n",
       "       'PPM_P_Comprehensive_Plan_Transition_Date', 'PSH_Planned_YN',\n",
       "       'Secondary_Transition_To_PSH_Date', 'Non_PSH_Setting_YN',\n",
       "       'Clinical_Needs_Requiring_Non_PSH', 'Signed_Approved_by_Member',\n",
       "       'Employment_Current_1', 'Employment_Current_2', 'Member_DOB',\n",
       "       'Member_Gender_ID'],\n",
       "      dtype='object')"
      ]
     },
     "execution_count": 8,
     "metadata": {},
     "output_type": "execute_result"
    }
   ],
   "source": [
    "df.columns"
   ]
  },
  {
   "cell_type": "code",
   "execution_count": 9,
   "id": "c1db009a-7209-4cf8-9098-78153c85a45b",
   "metadata": {},
   "outputs": [],
   "source": [
    "# converting the string to datetime format\n",
    "df['PPM_P_Comprehensive_Plan_Date'] = pd.to_datetime(df['PPM_P_Comprehensive_Plan_Date'])"
   ]
  },
  {
   "cell_type": "code",
   "execution_count": 10,
   "id": "50981cae-c9e3-4ad2-a73e-3622dfffca61",
   "metadata": {},
   "outputs": [],
   "source": [
    "# converting the string to datetime format\n",
    "df['Plan_Updated_On'] = pd.to_datetime(df['Plan_Updated_On'])"
   ]
  },
  {
   "cell_type": "code",
   "execution_count": 11,
   "id": "c91e85e4-54f4-459c-a080-12a62b8f5618",
   "metadata": {},
   "outputs": [],
   "source": [
    "# converting the string to datetime format\n",
    "df['PPM_P_Comprehensive_Plan_Updated_Date'] = pd.to_datetime(df['PPM_P_Comprehensive_Plan_Updated_Date'])"
   ]
  },
  {
   "cell_type": "code",
   "execution_count": 12,
   "id": "9a64c055-a024-45b1-8d71-4a5ead0e1afc",
   "metadata": {},
   "outputs": [],
   "source": [
    "# converting the string to datetime format\n",
    "df['Activity_Closed_Date'] = pd.to_datetime(df['Activity_Closed_Date'])"
   ]
  },
  {
   "cell_type": "code",
   "execution_count": 13,
   "id": "a17c9095-b896-4557-b080-666d39c51e9e",
   "metadata": {},
   "outputs": [],
   "source": [
    "# converting the string to datetime format \n",
    "#df['PPM_Assessment_1_Info_Date_Referred']= pd.to_datetime(df['PPM_Assessment_1_Info_Date_Referred'])#, errors = 'coerce')"
   ]
  },
  {
   "cell_type": "code",
   "execution_count": 14,
   "id": "d33fe3a9-d8d0-426c-ab2b-e0f4b967ba28",
   "metadata": {},
   "outputs": [],
   "source": [
    "# converting the string to datetime format\n",
    "df['Member_DOB'] = pd.to_datetime(df['Member_DOB'])"
   ]
  },
  {
   "cell_type": "code",
   "execution_count": 15,
   "id": "1b471839-d244-4d6c-89cf-531d5492fbc2",
   "metadata": {},
   "outputs": [],
   "source": [
    "# converting the string to datetime format\n",
    "df['PPM_P_Comprehensive_Plan_Projected_Transition_Date'] = pd.to_datetime(df['PPM_P_Comprehensive_Plan_Projected_Transition_Date'])"
   ]
  },
  {
   "cell_type": "code",
   "execution_count": 16,
   "id": "8d83d960-592d-4685-87d2-b0bfbf0363bc",
   "metadata": {},
   "outputs": [],
   "source": [
    "# converting the string to datetime format\n",
    "df['PPM_P_Comprehensive_Plan_Transition_Date'] = pd.to_datetime(df['PPM_P_Comprehensive_Plan_Transition_Date'])"
   ]
  },
  {
   "cell_type": "code",
   "execution_count": 17,
   "id": "843806e4-1be8-4a56-9b9b-7ee58d491570",
   "metadata": {},
   "outputs": [],
   "source": [
    "# converting the string to datetime format\n",
    "df['Secondary_Transition_To_PSH_Date'] = pd.to_datetime(df['Secondary_Transition_To_PSH_Date'])"
   ]
  },
  {
   "cell_type": "code",
   "execution_count": 18,
   "id": "7f3f274c-dd0f-44d6-8e7e-0d3c296bf18a",
   "metadata": {},
   "outputs": [
    {
     "name": "stdout",
     "output_type": "stream",
     "text": [
      "<class 'pandas.core.frame.DataFrame'>\n",
      "RangeIndex: 15655 entries, 0 to 15654\n",
      "Data columns (total 66 columns):\n",
      " #   Column                                                   Non-Null Count  Dtype         \n",
      "---  ------                                                   --------------  -----         \n",
      " 0   PPM_P_Comprehensive_Plan_ID                              15655 non-null  int64         \n",
      " 1   PPM_P_Comprehensive_Plan_Finalize                        15655 non-null  bool          \n",
      " 2   PPM_P_Comprehensive_Plan_Activity_ID                     15655 non-null  int64         \n",
      " 3   PPM_P_Comprehensive_Plan_Quadrant                        12116 non-null  float64       \n",
      " 4   PPM_P_Comprehensive_Plan_Date                            15655 non-null  datetime64[ns]\n",
      " 5   Activity_ID                                              15655 non-null  int64         \n",
      " 6   PPM_Member_ID                                            15655 non-null  int64         \n",
      " 7   PPM_P_Comprehensive_Plan_Reason_Not_Completed_ID         51 non-null     float64       \n",
      " 8   Plan_Updated_On                                          15619 non-null  datetime64[ns]\n",
      " 9   PPM_P_Comprehensive_Plan_Updated_Date                    15655 non-null  datetime64[ns]\n",
      " 10  PPM_P_Comprehensive_Plan_Planner_ID                      15596 non-null  float64       \n",
      " 11  First_Name                                               15655 non-null  object        \n",
      " 12  Last_Name                                                15655 non-null  object        \n",
      " 13  Housing_Type_PSH                                         15655 non-null  bool          \n",
      " 14  Housing_Type_PH                                          15655 non-null  bool          \n",
      " 15  Housing_Type_SL                                          15655 non-null  bool          \n",
      " 16  Housing_Type_SR                                          15655 non-null  bool          \n",
      " 17  Housing_Type_AL                                          15655 non-null  bool          \n",
      " 18  Housing_Type_SH                                          15655 non-null  bool          \n",
      " 19  Housing_Type_Other                                       15655 non-null  bool          \n",
      " 20  Housing_Type_O_Des                                       32 non-null     object        \n",
      " 21  Housing_Type_Text                                        1195 non-null   object        \n",
      " 22  Activity_NF_ID                                           15630 non-null  float64       \n",
      " 23  Activity_Closed_YN                                       15655 non-null  bool          \n",
      " 24  Activity_Closed_Date                                     8678 non-null   datetime64[ns]\n",
      " 25  Activity_Closed_Reason_ID                                8652 non-null   float64       \n",
      " 26  Current_Outreach_ID                                      15653 non-null  float64       \n",
      " 27  Plan_Type_ID                                             14990 non-null  float64       \n",
      " 28  PPM_Outreach_Activity_Prime_ID                           15609 non-null  float64       \n",
      " 29  PPM_P_Comprehensive_Plan_Modification_YN                 15655 non-null  bool          \n",
      " 30  PPM_P_Comprehensive_Plan_Transitioned_YN                 15655 non-null  bool          \n",
      " 31  PPM_P_Comprehensive_Plan_Transitioned_Type_ID            8709 non-null   float64       \n",
      " 32  PPM_P_Comprehensive_Plan_Clinical_Basis_Alternate_1      15655 non-null  bool          \n",
      " 33  PPM_P_Comprehensive_Plan_Clinical_Basis_Alternate_2      15655 non-null  bool          \n",
      " 34  PPM_P_Comprehensive_Plan_Clinical_Basis_Alternate_3      15655 non-null  bool          \n",
      " 35  PPM_P_Comprehensive_Plan_Clinical_Basis_Alternate_List   0 non-null      float64       \n",
      " 36  PPM_P_Comprehensive_Plan_Clinical_Basis_Alternate_Other  3510 non-null   object        \n",
      " 37  PPM_P_Comprehensive_Plan_Recommended_Setting_1           15655 non-null  bool          \n",
      " 38  PPM_P_Comprehensive_Plan_Recommended_Setting_2           15655 non-null  bool          \n",
      " 39  PPM_P_Comprehensive_Plan_Recommended_Setting_3           15655 non-null  bool          \n",
      " 40  PPM_P_Comprehensive_Plan_Recommended_Setting_Basis_1     15655 non-null  bool          \n",
      " 41  PPM_P_Comprehensive_Plan_Recommended_Setting_Basis_2     15655 non-null  bool          \n",
      " 42  PPM_P_Comprehensive_Plan_Recommended_Setting_Basis_3     15655 non-null  bool          \n",
      " 43  PPM_P_Comprehensive_Plan_Recommended_Setting_Basis_4     15655 non-null  bool          \n",
      " 44  PPM_P_Comprehensive_Plan_Recommended_Setting_Basis_5     15655 non-null  bool          \n",
      " 45  PPM_P_Comprehensive_Plan_Recommended_Setting_Basis_6     15655 non-null  bool          \n",
      " 46  PPM_P_Comprehensive_Plan_Recommended_Setting_Basis_7     15655 non-null  bool          \n",
      " 47  PPM_P_Comprehensive_Plan_Recommended_Setting_Basis_8     15655 non-null  bool          \n",
      " 48  PPM_Member_Prime_ID                                      15655 non-null  int64         \n",
      " 49  Member_Phase_ID                                          15655 non-null  int64         \n",
      " 50  PPM_P_Comprehensive_Plan_Assessment_ID                   15655 non-null  int64         \n",
      " 51  Updated_YN                                               15655 non-null  bool          \n",
      " 52  UIC_Requested_YN                                         15655 non-null  bool          \n",
      " 53  Updated_QA_YN                                            15655 non-null  bool          \n",
      " 54  PPM_P_Comprehensive_Plan_Phase_ID                        15199 non-null  float64       \n",
      " 55  PPM_P_Comprehensive_Plan_Projected_Transition_Date       12268 non-null  datetime64[ns]\n",
      " 56  PPM_P_Comprehensive_Plan_Transition_Date                 1 non-null      datetime64[ns]\n",
      " 57  PSH_Planned_YN                                           749 non-null    object        \n",
      " 58  Secondary_Transition_To_PSH_Date                         721 non-null    datetime64[ns]\n",
      " 59  Non_PSH_Setting_YN                                       15655 non-null  bool          \n",
      " 60  Clinical_Needs_Requiring_Non_PSH                         15655 non-null  bool          \n",
      " 61  Signed_Approved_by_Member                                15655 non-null  bool          \n",
      " 62  Employment_Current_1                                     15655 non-null  bool          \n",
      " 63  Employment_Current_2                                     15655 non-null  bool          \n",
      " 64  Member_DOB                                               15654 non-null  datetime64[ns]\n",
      " 65  Member_Gender_ID                                         15447 non-null  float64       \n",
      "dtypes: bool(33), datetime64[ns](8), float64(12), int64(7), object(6)\n",
      "memory usage: 4.4+ MB\n"
     ]
    }
   ],
   "source": [
    "df.info()"
   ]
  },
  {
   "cell_type": "code",
   "execution_count": 19,
   "id": "180055ca-f1ab-45b0-82bd-1227c792b1c7",
   "metadata": {},
   "outputs": [],
   "source": [
    "#export file without index column\n",
    "df.to_excel(\"UIC_Dashboard_SP_SPD3.xlsx\", index=False)"
   ]
  },
  {
   "cell_type": "code",
   "execution_count": 20,
   "id": "c70dcc48-110f-4473-a218-98b9d789cce7",
   "metadata": {},
   "outputs": [
    {
     "name": "stdout",
     "output_type": "stream",
     "text": [
      "2024-09-20 11:30:25.669401\n"
     ]
    }
   ],
   "source": [
    "# Create a timestamp object\n",
    "timestamp = pd.Timestamp(datetime.datetime.now())\n",
    "\n",
    "# Print the timestamp\n",
    "print(timestamp)"
   ]
  },
  {
   "cell_type": "code",
   "execution_count": 21,
   "id": "acc90d14-d687-4917-945d-6b7ea3cf0137",
   "metadata": {},
   "outputs": [],
   "source": [
    "#the end!"
   ]
  },
  {
   "cell_type": "code",
   "execution_count": null,
   "id": "619c0970-3ae5-4980-8fd5-67c0a16216c1",
   "metadata": {},
   "outputs": [],
   "source": []
  },
  {
   "cell_type": "code",
   "execution_count": null,
   "id": "4e50a5ce-8cae-4eac-a149-0bf9c0778cbd",
   "metadata": {},
   "outputs": [],
   "source": []
  }
 ],
 "metadata": {
  "kernelspec": {
   "display_name": "Python 3 (ipykernel)",
   "language": "python",
   "name": "python3"
  },
  "language_info": {
   "codemirror_mode": {
    "name": "ipython",
    "version": 3
   },
   "file_extension": ".py",
   "mimetype": "text/x-python",
   "name": "python",
   "nbconvert_exporter": "python",
   "pygments_lexer": "ipython3",
   "version": "3.9.13"
  }
 },
 "nbformat": 4,
 "nbformat_minor": 5
}
