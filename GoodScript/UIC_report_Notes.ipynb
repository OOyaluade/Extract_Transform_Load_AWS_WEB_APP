{
 "cells": [
  {
   "cell_type": "code",
   "execution_count": 1,
   "id": "5f0dcfa0-1e9f-44a8-a58d-5b05cb02392e",
   "metadata": {},
   "outputs": [],
   "source": [
    "import pandas as pd\n",
    "import numpy as np\n",
    "import time\n",
    "import re\n",
    "import os\n",
    "import datetime"
   ]
  },
  {
   "cell_type": "code",
   "execution_count": 2,
   "id": "4f146531-7777-4cfc-9383-fb5cf4817f51",
   "metadata": {},
   "outputs": [],
   "source": [
    "import warnings\n",
    "warnings.filterwarnings('ignore')\n",
    "warnings.simplefilter('ignore')"
   ]
  },
  {
   "cell_type": "code",
   "execution_count": 3,
   "id": "a88b63e7-d209-426c-9244-1acbbb9deb10",
   "metadata": {},
   "outputs": [],
   "source": [
    "os.chdir(r'C:/Users/vwalds/Documents/My Data Sources/')"
   ]
  },
  {
   "cell_type": "code",
   "execution_count": 4,
   "id": "bd6c9099-b615-42a2-84b6-cab021ef3888",
   "metadata": {},
   "outputs": [],
   "source": [
    "# Grab Current Time Before Running the Code\n",
    "start = time.time()"
   ]
  },
  {
   "cell_type": "code",
   "execution_count": 5,
   "id": "ac84b2f1-4f95-46e9-b13e-85039efb6ae6",
   "metadata": {},
   "outputs": [],
   "source": [
    "#UIC_report_notes"
   ]
  },
  {
   "cell_type": "code",
   "execution_count": 6,
   "id": "6b46308c-3bed-44ca-b767-8047e14f3075",
   "metadata": {},
   "outputs": [],
   "source": [
    "df = pd.read_excel(\"UIC_report_notes.xlsx\")"
   ]
  },
  {
   "cell_type": "code",
   "execution_count": 7,
   "id": "781540d9-8396-45e8-b3ef-d20fb6a5c26a",
   "metadata": {},
   "outputs": [
    {
     "name": "stdout",
     "output_type": "stream",
     "text": [
      "<class 'pandas.core.frame.DataFrame'>\n",
      "RangeIndex: 154615 entries, 0 to 154614\n",
      "Data columns (total 15 columns):\n",
      " #   Column                       Non-Null Count   Dtype  \n",
      "---  ------                       --------------   -----  \n",
      " 0   Note_ID                      154615 non-null  int64  \n",
      " 1   Note_Activity_ID             154615 non-null  int64  \n",
      " 2   Note_Assessment_ID           154613 non-null  float64\n",
      " 3   Note_Member_ID               154615 non-null  int64  \n",
      " 4   Note_Phase_ID                154615 non-null  int64  \n",
      " 5   Note_Note_Type_ID            154615 non-null  int64  \n",
      " 6   Note_Created_By_Employee_ID  154615 non-null  int64  \n",
      " 7   Note_Date_Created            154615 non-null  object \n",
      " 8   Note_Note                    154463 non-null  object \n",
      " 9   Note_Updated_Date            14609 non-null   object \n",
      " 10  Note_Prime_ID                152216 non-null  float64\n",
      " 11  Note_Date_Updated            14609 non-null   object \n",
      " 12  Note_Created_By              154613 non-null  float64\n",
      " 13  Note_Updated_By              0 non-null       float64\n",
      " 14  Note_Date_Of_Activity        154615 non-null  object \n",
      "dtypes: float64(4), int64(6), object(5)\n",
      "memory usage: 17.7+ MB\n"
     ]
    }
   ],
   "source": [
    "df.info()"
   ]
  },
  {
   "cell_type": "code",
   "execution_count": 8,
   "id": "996578ca-5d5e-4d7e-a78e-81116e68b4e8",
   "metadata": {},
   "outputs": [
    {
     "data": {
      "text/plain": [
       "Index(['Note_ID', 'Note_Activity_ID', 'Note_Assessment_ID', 'Note_Member_ID',\n",
       "       'Note_Phase_ID', 'Note_Note_Type_ID', 'Note_Created_By_Employee_ID',\n",
       "       'Note_Date_Created', 'Note_Note', 'Note_Updated_Date', 'Note_Prime_ID',\n",
       "       'Note_Date_Updated', 'Note_Created_By', 'Note_Updated_By',\n",
       "       'Note_Date_Of_Activity'],\n",
       "      dtype='object')"
      ]
     },
     "execution_count": 8,
     "metadata": {},
     "output_type": "execute_result"
    }
   ],
   "source": [
    "df.columns"
   ]
  },
  {
   "cell_type": "code",
   "execution_count": 9,
   "id": "7433c6ec-d8b4-4331-b558-bba5dbe5a034",
   "metadata": {},
   "outputs": [],
   "source": [
    "# converting the string to datetime format\n",
    "df['Note_Date_Created'] = pd.to_datetime(df['Note_Date_Created'])"
   ]
  },
  {
   "cell_type": "code",
   "execution_count": 10,
   "id": "86c1eef7-9bdc-4c13-8a3c-a700be0bfba3",
   "metadata": {},
   "outputs": [],
   "source": [
    "# converting the string to datetime format\n",
    "df['Note_Updated_Date'] = pd.to_datetime(df['Note_Updated_Date'])"
   ]
  },
  {
   "cell_type": "code",
   "execution_count": 11,
   "id": "d0b7a1f3-68b3-43ca-af3f-088a1da283c4",
   "metadata": {},
   "outputs": [],
   "source": [
    "# converting the string to datetime format\n",
    "df['Note_Date_Updated'] = pd.to_datetime(df['Note_Date_Updated'])"
   ]
  },
  {
   "cell_type": "code",
   "execution_count": 12,
   "id": "ac1fbba4-a5c4-4c4c-a66e-15b9fde12c9e",
   "metadata": {},
   "outputs": [],
   "source": [
    "# converting the string to datetime format\n",
    "df['Note_Date_Of_Activity'] = pd.to_datetime(df['Note_Date_Of_Activity'])"
   ]
  },
  {
   "cell_type": "code",
   "execution_count": 13,
   "id": "28396b18-8038-42f9-be65-9d3b967be203",
   "metadata": {},
   "outputs": [
    {
     "data": {
      "text/plain": [
       "Note_ID                                 int64\n",
       "Note_Activity_ID                        int64\n",
       "Note_Assessment_ID                    float64\n",
       "Note_Member_ID                          int64\n",
       "Note_Phase_ID                           int64\n",
       "Note_Note_Type_ID                       int64\n",
       "Note_Created_By_Employee_ID             int64\n",
       "Note_Date_Created              datetime64[ns]\n",
       "Note_Note                              object\n",
       "Note_Updated_Date              datetime64[ns]\n",
       "Note_Prime_ID                         float64\n",
       "Note_Date_Updated              datetime64[ns]\n",
       "Note_Created_By                       float64\n",
       "Note_Updated_By                       float64\n",
       "Note_Date_Of_Activity          datetime64[ns]\n",
       "dtype: object"
      ]
     },
     "execution_count": 13,
     "metadata": {},
     "output_type": "execute_result"
    }
   ],
   "source": [
    "df.dtypes"
   ]
  },
  {
   "cell_type": "code",
   "execution_count": 14,
   "id": "24c0da84-81d2-46f4-b913-8ca79b1bd8f0",
   "metadata": {},
   "outputs": [],
   "source": [
    "#export file without index column\n",
    "df.to_excel(\"UIC_report_notes.xlsx\", index=False)"
   ]
  },
  {
   "cell_type": "code",
   "execution_count": 15,
   "id": "dad44b06-eefd-486b-8589-8296c16af640",
   "metadata": {},
   "outputs": [
    {
     "name": "stdout",
     "output_type": "stream",
     "text": [
      "2024-09-05 15:37:03.400901\n"
     ]
    }
   ],
   "source": [
    "# Create a timestamp object\n",
    "timestamp = pd.Timestamp(datetime.datetime.now())\n",
    "\n",
    "# Print the timestamp\n",
    "print(timestamp)"
   ]
  },
  {
   "cell_type": "code",
   "execution_count": 16,
   "id": "acc90d14-d687-4917-945d-6b7ea3cf0137",
   "metadata": {},
   "outputs": [],
   "source": [
    "#the end!"
   ]
  },
  {
   "cell_type": "code",
   "execution_count": null,
   "id": "bcc29cb0-2c38-4d90-ace8-8349b81e33ce",
   "metadata": {},
   "outputs": [],
   "source": []
  }
 ],
 "metadata": {
  "kernelspec": {
   "display_name": "Python 3 (ipykernel)",
   "language": "python",
   "name": "python3"
  },
  "language_info": {
   "codemirror_mode": {
    "name": "ipython",
    "version": 3
   },
   "file_extension": ".py",
   "mimetype": "text/x-python",
   "name": "python",
   "nbconvert_exporter": "python",
   "pygments_lexer": "ipython3",
   "version": "3.9.13"
  }
 },
 "nbformat": 4,
 "nbformat_minor": 5
}
