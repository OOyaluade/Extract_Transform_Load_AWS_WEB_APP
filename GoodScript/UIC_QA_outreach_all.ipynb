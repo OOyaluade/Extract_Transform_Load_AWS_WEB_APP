{
 "cells": [
  {
   "cell_type": "code",
   "execution_count": 1,
   "id": "5f0dcfa0-1e9f-44a8-a58d-5b05cb02392e",
   "metadata": {},
   "outputs": [],
   "source": [
    "import pandas as pd\n",
    "import numpy as np\n",
    "# import the builtin time module\n",
    "import time\n",
    "#regex\n",
    "import re\n",
    "import os"
   ]
  },
  {
   "cell_type": "code",
   "execution_count": 2,
   "id": "4f146531-7777-4cfc-9383-fb5cf4817f51",
   "metadata": {},
   "outputs": [],
   "source": [
    "import warnings\n",
    "warnings.filterwarnings('ignore')\n",
    "warnings.simplefilter('ignore')"
   ]
  },
  {
   "cell_type": "code",
   "execution_count": 3,
   "id": "a833eaea-4dd7-46bc-8415-5db60600aa38",
   "metadata": {},
   "outputs": [],
   "source": [
    "os.chdir(r'C:/Users/vwalds/Documents/My Data Sources/')"
   ]
  },
  {
   "cell_type": "code",
   "execution_count": 4,
   "id": "bd6c9099-b615-42a2-84b6-cab021ef3888",
   "metadata": {},
   "outputs": [],
   "source": [
    "# Grab Currrent Time Before Running the Code\n",
    "start = time.time()"
   ]
  },
  {
   "cell_type": "code",
   "execution_count": 5,
   "id": "6b46308c-3bed-44ca-b767-8047e14f3075",
   "metadata": {},
   "outputs": [],
   "source": [
    "df = pd.read_excel(\"UIC_QA_outreach_all.xlsx\")"
   ]
  },
  {
   "cell_type": "code",
   "execution_count": 6,
   "id": "ae17145a-0e31-45e8-9485-cc4a03914b4f",
   "metadata": {},
   "outputs": [
    {
     "name": "stdout",
     "output_type": "stream",
     "text": [
      "<class 'pandas.core.frame.DataFrame'>\n",
      "RangeIndex: 96695 entries, 0 to 96694\n",
      "Data columns (total 40 columns):\n",
      " #   Column                                    Non-Null Count  Dtype         \n",
      "---  ------                                    --------------  -----         \n",
      " 0   Activity_ID                               96695 non-null  int64         \n",
      " 1   PPM_Outreach_Activity_Type_ID             93095 non-null  float64       \n",
      " 2   PPM_Outreach_Activity_Member_ID           96695 non-null  int64         \n",
      " 3   PPM_Outreach_Activity_Staff_ID            58183 non-null  float64       \n",
      " 4   PPM_Outreach_Activity_Source_ID           73677 non-null  float64       \n",
      " 5   PPM_Member_ID                             96695 non-null  int64         \n",
      " 6   PPM_Member_Phase_ID                       96695 non-null  int64         \n",
      " 7   PPM_Member_Current_Outreach_ID            96690 non-null  float64       \n",
      " 8   PPM_Member_First_Name                     96695 non-null  object        \n",
      " 9   PPM_Member_Last_Name                      96695 non-null  object        \n",
      " 10  PPM_Member_DOB                            96453 non-null  datetime64[ns]\n",
      " 11  PPM_Member_RIN                            96242 non-null  float64       \n",
      " 12  PPM_Member_Prime_ID                       94065 non-null  float64       \n",
      " 13  PPM_Outreach_Attempt_Result_ID            96319 non-null  float64       \n",
      " 14  PPM_Outreach_Activity_Date_Created        96695 non-null  datetime64[ns]\n",
      " 15  PPM_Outreach_Activity_Date_Started        78549 non-null  datetime64[ns]\n",
      " 16  PPM_Outreach_Attempt_Last_YN              96695 non-null  bool          \n",
      " 17  PPM_Outreach_Attempt_ID                   96320 non-null  float64       \n",
      " 18  PPM_Outreach_Attempt_Attempt_Date         78187 non-null  datetime64[ns]\n",
      " 19  PPM_Outreach_Attempt_Result_Reason_ID     68095 non-null  float64       \n",
      " 20  PPM_Outreach_Activity_Closed_YN           96695 non-null  bool          \n",
      " 21  PPM_Outreach_Activity_Closed_Date         85795 non-null  datetime64[ns]\n",
      " 22  PPM_Outreach_Activity_Closed_Reason_ID    81337 non-null  float64       \n",
      " 23  PPM_Outreach_Activity_Prime_ID            80160 non-null  float64       \n",
      " 24  PPM_Outreach_Attempt_Created_By_Staff_ID  78152 non-null  float64       \n",
      " 25  PPM_Outreach_Activity_NF_ID               85477 non-null  float64       \n",
      " 26  PPM_Member_Frozen_YN                      96695 non-null  bool          \n",
      " 27  PPM_Member_Closed_YN                      96695 non-null  bool          \n",
      " 28  PPM_Member_Closed_Reason_ID               33173 non-null  float64       \n",
      " 29  Assessment_ID                             96695 non-null  int64         \n",
      " 30  Assessment_Main_YN                        96695 non-null  bool          \n",
      " 31  Outcome_Status_ID                         17998 non-null  float64       \n",
      " 32  Summary_Finished_YN                       96695 non-null  bool          \n",
      " 33  Info_Date_Assessed                        23926 non-null  datetime64[ns]\n",
      " 34  NLP_Reason_ID                             26675 non-null  float64       \n",
      " 35  NLP_FX_Event_Date                         26430 non-null  datetime64[ns]\n",
      " 36  Activity_Phase_ID                         96659 non-null  float64       \n",
      " 37  Transition_Discharge_Date                 7971 non-null   datetime64[ns]\n",
      " 38  Transition_Finished_YN                    96695 non-null  bool          \n",
      " 39  Gender_ID                                 48466 non-null  float64       \n",
      "dtypes: bool(7), datetime64[ns](8), float64(18), int64(5), object(2)\n",
      "memory usage: 25.0+ MB\n"
     ]
    }
   ],
   "source": [
    "df.info()"
   ]
  },
  {
   "cell_type": "code",
   "execution_count": 7,
   "id": "996578ca-5d5e-4d7e-a78e-81116e68b4e8",
   "metadata": {},
   "outputs": [
    {
     "data": {
      "text/plain": [
       "Index(['Activity_ID', 'PPM_Outreach_Activity_Type_ID',\n",
       "       'PPM_Outreach_Activity_Member_ID', 'PPM_Outreach_Activity_Staff_ID',\n",
       "       'PPM_Outreach_Activity_Source_ID', 'PPM_Member_ID',\n",
       "       'PPM_Member_Phase_ID', 'PPM_Member_Current_Outreach_ID',\n",
       "       'PPM_Member_First_Name', 'PPM_Member_Last_Name', 'PPM_Member_DOB',\n",
       "       'PPM_Member_RIN', 'PPM_Member_Prime_ID',\n",
       "       'PPM_Outreach_Attempt_Result_ID', 'PPM_Outreach_Activity_Date_Created',\n",
       "       'PPM_Outreach_Activity_Date_Started', 'PPM_Outreach_Attempt_Last_YN',\n",
       "       'PPM_Outreach_Attempt_ID', 'PPM_Outreach_Attempt_Attempt_Date',\n",
       "       'PPM_Outreach_Attempt_Result_Reason_ID',\n",
       "       'PPM_Outreach_Activity_Closed_YN', 'PPM_Outreach_Activity_Closed_Date',\n",
       "       'PPM_Outreach_Activity_Closed_Reason_ID',\n",
       "       'PPM_Outreach_Activity_Prime_ID',\n",
       "       'PPM_Outreach_Attempt_Created_By_Staff_ID',\n",
       "       'PPM_Outreach_Activity_NF_ID', 'PPM_Member_Frozen_YN',\n",
       "       'PPM_Member_Closed_YN', 'PPM_Member_Closed_Reason_ID', 'Assessment_ID',\n",
       "       'Assessment_Main_YN', 'Outcome_Status_ID', 'Summary_Finished_YN',\n",
       "       'Info_Date_Assessed', 'NLP_Reason_ID', 'NLP_FX_Event_Date',\n",
       "       'Activity_Phase_ID', 'Transition_Discharge_Date',\n",
       "       'Transition_Finished_YN', 'Gender_ID'],\n",
       "      dtype='object')"
      ]
     },
     "execution_count": 7,
     "metadata": {},
     "output_type": "execute_result"
    }
   ],
   "source": [
    "df.columns"
   ]
  },
  {
   "cell_type": "code",
   "execution_count": 8,
   "id": "cc6b6472-e5d5-49fb-bb72-bab55a35c4f3",
   "metadata": {},
   "outputs": [],
   "source": [
    "# converting the string to datetime format\n",
    "df['PPM_Outreach_Activity_Date_Started'] = pd.to_datetime(df['PPM_Outreach_Activity_Date_Started'])"
   ]
  },
  {
   "cell_type": "code",
   "execution_count": 9,
   "id": "89eec6d3-edbe-4909-a327-3808e4681cd1",
   "metadata": {},
   "outputs": [],
   "source": [
    "# converting the string to datetime format\n",
    "df['PPM_Outreach_Activity_Date_Created'] = pd.to_datetime(df['PPM_Outreach_Activity_Date_Created'])"
   ]
  },
  {
   "cell_type": "code",
   "execution_count": 10,
   "id": "f479c9f3-88d7-4ebd-8394-890597b57d61",
   "metadata": {},
   "outputs": [],
   "source": [
    "# converting the string to datetime format\n",
    "df['PPM_Outreach_Attempt_Attempt_Date'] = pd.to_datetime(df['PPM_Outreach_Attempt_Attempt_Date'])"
   ]
  },
  {
   "cell_type": "code",
   "execution_count": 11,
   "id": "4ccadbb6-d898-404b-bc52-958e1a9a81f9",
   "metadata": {},
   "outputs": [],
   "source": [
    "# converting the string to datetime format\n",
    "df['PPM_Outreach_Activity_Closed_Date'] = pd.to_datetime(df['PPM_Outreach_Activity_Closed_Date'])"
   ]
  },
  {
   "cell_type": "code",
   "execution_count": 12,
   "id": "5f27663a-6d5c-46a0-8a72-b1655ab6d069",
   "metadata": {},
   "outputs": [],
   "source": [
    "# converting the string to datetime format\n",
    "df['Info_Date_Assessed'] = pd.to_datetime(df['Info_Date_Assessed'])"
   ]
  },
  {
   "cell_type": "code",
   "execution_count": 13,
   "id": "1a43fc05-b203-4bd5-b062-2a12848b595d",
   "metadata": {},
   "outputs": [],
   "source": [
    "# converting the string to datetime format\n",
    "df['NLP_FX_Event_Date'] = pd.to_datetime(df['NLP_FX_Event_Date'])"
   ]
  },
  {
   "cell_type": "code",
   "execution_count": 14,
   "id": "7e1efce0-8601-473e-8265-2e7a9f859282",
   "metadata": {},
   "outputs": [],
   "source": [
    "# converting the string to datetime format\n",
    "df['Transition_Discharge_Date'] = pd.to_datetime(df['Transition_Discharge_Date'])"
   ]
  },
  {
   "cell_type": "code",
   "execution_count": 15,
   "id": "c3cd5460-5c84-4c6b-81f9-164fa0dd47e4",
   "metadata": {},
   "outputs": [],
   "source": [
    "# converting the string to datetime format\n",
    "df['PPM_Member_DOB'] = pd.to_datetime(df['PPM_Member_DOB'])"
   ]
  },
  {
   "cell_type": "code",
   "execution_count": 16,
   "id": "e924f06f-2b90-42c6-bbce-4ca9729cc19b",
   "metadata": {},
   "outputs": [
    {
     "data": {
      "text/plain": [
       "Activity_ID                                          int64\n",
       "PPM_Outreach_Activity_Type_ID                      float64\n",
       "PPM_Outreach_Activity_Member_ID                      int64\n",
       "PPM_Outreach_Activity_Staff_ID                     float64\n",
       "PPM_Outreach_Activity_Source_ID                    float64\n",
       "PPM_Member_ID                                        int64\n",
       "PPM_Member_Phase_ID                                  int64\n",
       "PPM_Member_Current_Outreach_ID                     float64\n",
       "PPM_Member_First_Name                               object\n",
       "PPM_Member_Last_Name                                object\n",
       "PPM_Member_DOB                              datetime64[ns]\n",
       "PPM_Member_RIN                                     float64\n",
       "PPM_Member_Prime_ID                                float64\n",
       "PPM_Outreach_Attempt_Result_ID                     float64\n",
       "PPM_Outreach_Activity_Date_Created          datetime64[ns]\n",
       "PPM_Outreach_Activity_Date_Started          datetime64[ns]\n",
       "PPM_Outreach_Attempt_Last_YN                          bool\n",
       "PPM_Outreach_Attempt_ID                            float64\n",
       "PPM_Outreach_Attempt_Attempt_Date           datetime64[ns]\n",
       "PPM_Outreach_Attempt_Result_Reason_ID              float64\n",
       "PPM_Outreach_Activity_Closed_YN                       bool\n",
       "PPM_Outreach_Activity_Closed_Date           datetime64[ns]\n",
       "PPM_Outreach_Activity_Closed_Reason_ID             float64\n",
       "PPM_Outreach_Activity_Prime_ID                     float64\n",
       "PPM_Outreach_Attempt_Created_By_Staff_ID           float64\n",
       "PPM_Outreach_Activity_NF_ID                        float64\n",
       "PPM_Member_Frozen_YN                                  bool\n",
       "PPM_Member_Closed_YN                                  bool\n",
       "PPM_Member_Closed_Reason_ID                        float64\n",
       "Assessment_ID                                        int64\n",
       "Assessment_Main_YN                                    bool\n",
       "Outcome_Status_ID                                  float64\n",
       "Summary_Finished_YN                                   bool\n",
       "Info_Date_Assessed                          datetime64[ns]\n",
       "NLP_Reason_ID                                      float64\n",
       "NLP_FX_Event_Date                           datetime64[ns]\n",
       "Activity_Phase_ID                                  float64\n",
       "Transition_Discharge_Date                   datetime64[ns]\n",
       "Transition_Finished_YN                                bool\n",
       "Gender_ID                                          float64\n",
       "dtype: object"
      ]
     },
     "execution_count": 16,
     "metadata": {},
     "output_type": "execute_result"
    }
   ],
   "source": [
    "df.dtypes"
   ]
  },
  {
   "cell_type": "code",
   "execution_count": 17,
   "id": "f4c28329-f70a-4e58-8603-bfd6b95c755c",
   "metadata": {},
   "outputs": [
    {
     "data": {
      "text/plain": [
       "43816     54123450.0\n",
       "46669    164633539.0\n",
       "14401     39499603.0\n",
       "62721    144328341.0\n",
       "61358    174941120.0\n",
       "64275    222763047.0\n",
       "19623     43088798.0\n",
       "80051    960710135.0\n",
       "87925     67373621.0\n",
       "86079    153692314.0\n",
       "Name: PPM_Member_RIN, dtype: float64"
      ]
     },
     "execution_count": 17,
     "metadata": {},
     "output_type": "execute_result"
    }
   ],
   "source": [
    "df.PPM_Member_RIN.sample(10)"
   ]
  },
  {
   "cell_type": "code",
   "execution_count": 20,
   "id": "8d9ade4c-58ca-49ce-ae9c-2d42d5a48caf",
   "metadata": {},
   "outputs": [],
   "source": [
    "# Convert RIN to string\n",
    "df['PPM_Member_RIN'] = df['PPM_Member_RIN'].astype('str')"
   ]
  },
  {
   "cell_type": "code",
   "execution_count": 21,
   "id": "568a0f4b-e1e3-4929-b8b6-e1b88e865d12",
   "metadata": {},
   "outputs": [
    {
     "data": {
      "text/plain": [
       "38363    364102905.0\n",
       "13630    200298396.0\n",
       "61769    170823066.0\n",
       "21056    349753616.0\n",
       "87521     11544186.0\n",
       "11339    983640541.0\n",
       "2321     366567964.0\n",
       "53939    157106816.0\n",
       "70861    221777725.0\n",
       "53205    161567078.0\n",
       "Name: PPM_Member_RIN, dtype: object"
      ]
     },
     "execution_count": 21,
     "metadata": {},
     "output_type": "execute_result"
    }
   ],
   "source": [
    "df.PPM_Member_RIN.sample(10)"
   ]
  },
  {
   "cell_type": "code",
   "execution_count": 22,
   "id": "990f68c2-ad2d-40e4-88d3-e2c43e8da058",
   "metadata": {},
   "outputs": [],
   "source": [
    "# add leading zeros to Member_RIN\n",
    "df['PPM_Member_RIN'] = df['PPM_Member_RIN'].str.zfill(11)"
   ]
  },
  {
   "cell_type": "code",
   "execution_count": 23,
   "id": "fc93afeb-5a20-4ecc-97c8-46dee9cc771d",
   "metadata": {},
   "outputs": [
    {
     "data": {
      "text/plain": [
       "9770     351356795.0\n",
       "24334    223172198.0\n",
       "45848    358070860.0\n",
       "12765    142859586.0\n",
       "22535    114117294.0\n",
       "51089    091565218.0\n",
       "46821    170903744.0\n",
       "64688    022631468.0\n",
       "36787    090377466.0\n",
       "59553    100604537.0\n",
       "Name: PPM_Member_RIN, dtype: object"
      ]
     },
     "execution_count": 23,
     "metadata": {},
     "output_type": "execute_result"
    }
   ],
   "source": [
    "df.PPM_Member_RIN.sample(10)"
   ]
  },
  {
   "cell_type": "code",
   "execution_count": 24,
   "id": "bcc29cb0-2c38-4d90-ace8-8349b81e33ce",
   "metadata": {},
   "outputs": [],
   "source": [
    "#export file without index column\n",
    "df.to_excel(\"UIC_QA_outreach_all.xlsx\", index=False)"
   ]
  },
  {
   "cell_type": "code",
   "execution_count": 25,
   "id": "e332c4f7-7d32-4102-9df8-d08fb1729f25",
   "metadata": {},
   "outputs": [
    {
     "name": "stdout",
     "output_type": "stream",
     "text": [
      "\n",
      "1866.5031847953796\n"
     ]
    }
   ],
   "source": [
    "# Grab Current Time After Running the Code\n",
    "end = time.time()\n",
    "\n",
    "#Subtract Start Time from The End Time\n",
    "total_time = end - start\n",
    "print(\"\\n\"+ str(total_time))"
   ]
  },
  {
   "cell_type": "code",
   "execution_count": null,
   "id": "acc90d14-d687-4917-945d-6b7ea3cf0137",
   "metadata": {},
   "outputs": [],
   "source": [
    "#the end!"
   ]
  },
  {
   "cell_type": "code",
   "execution_count": null,
   "id": "58fbe787-3308-4a5d-a114-bb39c9088d42",
   "metadata": {},
   "outputs": [],
   "source": []
  }
 ],
 "metadata": {
  "kernelspec": {
   "display_name": "Python 3 (ipykernel)",
   "language": "python",
   "name": "python3"
  },
  "language_info": {
   "codemirror_mode": {
    "name": "ipython",
    "version": 3
   },
   "file_extension": ".py",
   "mimetype": "text/x-python",
   "name": "python",
   "nbconvert_exporter": "python",
   "pygments_lexer": "ipython3",
   "version": "3.9.13"
  }
 },
 "nbformat": 4,
 "nbformat_minor": 5
}
