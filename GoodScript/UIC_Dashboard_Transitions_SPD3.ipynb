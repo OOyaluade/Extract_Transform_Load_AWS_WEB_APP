{
 "cells": [
  {
   "cell_type": "code",
   "execution_count": 1,
   "id": "2edbeabb",
   "metadata": {},
   "outputs": [],
   "source": [
    "import pandas as pd\n",
    "import numpy as np\n",
    "import time\n",
    "import re\n",
    "import os\n",
    "import datetime"
   ]
  },
  {
   "cell_type": "code",
   "execution_count": 2,
   "id": "ce60e637-0d8b-4e2c-9c2d-2591c01793b2",
   "metadata": {},
   "outputs": [],
   "source": [
    "os.chdir(r'C:/Users/vwalds/Documents/My Data Sources/')"
   ]
  },
  {
   "cell_type": "code",
   "execution_count": 3,
   "id": "4f146531-7777-4cfc-9383-fb5cf4817f51",
   "metadata": {},
   "outputs": [],
   "source": [
    "import warnings\n",
    "warnings.filterwarnings('ignore')\n",
    "warnings.simplefilter('ignore')"
   ]
  },
  {
   "cell_type": "code",
   "execution_count": 4,
   "id": "bd6c9099-b615-42a2-84b6-cab021ef3888",
   "metadata": {},
   "outputs": [],
   "source": [
    "# Grab Current Time Before Running the Code\n",
    "start = time.time()"
   ]
  },
  {
   "cell_type": "code",
   "execution_count": 5,
   "id": "d4c0cbec-8afc-4dfb-aee3-33abb7d622b1",
   "metadata": {},
   "outputs": [],
   "source": [
    "#UIC_Dashboard_Transitions_SPD3\n"
   ]
  },
  {
   "cell_type": "code",
   "execution_count": 6,
   "id": "ce513d12-555b-4e0d-93b7-b596f78be1c5",
   "metadata": {},
   "outputs": [],
   "source": [
    "df = pd.read_excel(\"UIC_Dashboard_Transitions_SPD3.xlsx\")"
   ]
  },
  {
   "cell_type": "code",
   "execution_count": 7,
   "id": "8d9aa52b-ccaa-4872-a51b-c31ba9ec7ac8",
   "metadata": {},
   "outputs": [
    {
     "name": "stdout",
     "output_type": "stream",
     "text": [
      "<class 'pandas.core.frame.DataFrame'>\n",
      "RangeIndex: 1609 entries, 0 to 1608\n",
      "Data columns (total 39 columns):\n",
      " #   Column                          Non-Null Count  Dtype  \n",
      "---  ------                          --------------  -----  \n",
      " 0   Transition_ID                   1609 non-null   int64  \n",
      " 1   Transition_Discharge_Date       1609 non-null   object \n",
      " 2   Transition_Finished_YN          1609 non-null   bool   \n",
      " 3   PPM_Member_ID                   1609 non-null   int64  \n",
      " 4   PPM_Member_First_Name           1609 non-null   object \n",
      " 5   PPM_Member_Last_Name            1609 non-null   object \n",
      " 6   PPM_Member_RIN                  1609 non-null   int64  \n",
      " 7   Transition_Finished_Date        1492 non-null   object \n",
      " 8   Activity_ID                     1609 non-null   int64  \n",
      " 9   Activity_Closed_YN              1609 non-null   bool   \n",
      " 10  Nursing_Facility_Class_ID       1609 non-null   int64  \n",
      " 11  PPM_Member_Gender_ID            1601 non-null   float64\n",
      " 12  Activity_Closed_Date            548 non-null    object \n",
      " 13  PActivity_Closed_Reason_ID      547 non-null    float64\n",
      " 14  Activity_Employee_ID            1547 non-null   float64\n",
      " 15  Activity_Prime_ID               1609 non-null   int64  \n",
      " 16  Nursing_Facility_ID             1609 non-null   int64  \n",
      " 17  Nursing_Facility_Name           1609 non-null   object \n",
      " 18  Transition_Created_By           1397 non-null   float64\n",
      " 19  Member_Prime_ID                 1609 non-null   int64  \n",
      " 20  Community_Address               1479 non-null   object \n",
      " 21  Transition_ZIP                  1591 non-null   float64\n",
      " 22  Transition_City                 1431 non-null   object \n",
      " 23  Discharge_Type_ID               1609 non-null   int64  \n",
      " 24  PPM_P_Transition_Assessment_ID  1609 non-null   int64  \n",
      " 25  PreTransition_Prime_ID          1437 non-null   float64\n",
      " 26  Engaged_YN                      1609 non-null   bool   \n",
      " 27  Engaged_Describe                1041 non-null   object \n",
      " 28  In_Process_ID                   1362 non-null   float64\n",
      " 29  Assessed_After_Movein_YN        1609 non-null   bool   \n",
      " 30  DOB                             1609 non-null   object \n",
      " 31  Marital_Status_ID               1602 non-null   float64\n",
      " 32  Race_ID                         1602 non-null   float64\n",
      " 33  Ethnicity_ID                    1496 non-null   float64\n",
      " 34  Guardian_ID                     0 non-null      float64\n",
      " 35  Type_Other                      2 non-null      object \n",
      " 36  Transitioned_Type_ID            1216 non-null   float64\n",
      " 37  Post_Transition_Prime_ID        1609 non-null   int64  \n",
      " 38  Transition_Comments             217 non-null    object \n",
      "dtypes: bool(4), float64(12), int64(11), object(12)\n",
      "memory usage: 446.4+ KB\n"
     ]
    }
   ],
   "source": [
    "df.info()"
   ]
  },
  {
   "cell_type": "code",
   "execution_count": 8,
   "id": "8e6548e8-a030-476f-8925-2f917aab9ac5",
   "metadata": {},
   "outputs": [
    {
     "data": {
      "text/plain": [
       "Index(['Transition_ID', 'Transition_Discharge_Date', 'Transition_Finished_YN',\n",
       "       'PPM_Member_ID', 'PPM_Member_First_Name', 'PPM_Member_Last_Name',\n",
       "       'PPM_Member_RIN', 'Transition_Finished_Date', 'Activity_ID',\n",
       "       'Activity_Closed_YN', 'Nursing_Facility_Class_ID',\n",
       "       'PPM_Member_Gender_ID', 'Activity_Closed_Date',\n",
       "       'PActivity_Closed_Reason_ID', 'Activity_Employee_ID',\n",
       "       'Activity_Prime_ID', 'Nursing_Facility_ID', 'Nursing_Facility_Name',\n",
       "       'Transition_Created_By', 'Member_Prime_ID', 'Community_Address',\n",
       "       'Transition_ZIP', 'Transition_City', 'Discharge_Type_ID',\n",
       "       'PPM_P_Transition_Assessment_ID', 'PreTransition_Prime_ID',\n",
       "       'Engaged_YN', 'Engaged_Describe', 'In_Process_ID',\n",
       "       'Assessed_After_Movein_YN', 'DOB', 'Marital_Status_ID', 'Race_ID',\n",
       "       'Ethnicity_ID', 'Guardian_ID', 'Type_Other', 'Transitioned_Type_ID',\n",
       "       'Post_Transition_Prime_ID', 'Transition_Comments'],\n",
       "      dtype='object')"
      ]
     },
     "execution_count": 8,
     "metadata": {},
     "output_type": "execute_result"
    }
   ],
   "source": [
    "df.columns"
   ]
  },
  {
   "cell_type": "code",
   "execution_count": 9,
   "id": "c1db009a-7209-4cf8-9098-78153c85a45b",
   "metadata": {},
   "outputs": [],
   "source": [
    "# converting the string to datetime format\n",
    "df['Transition_Discharge_Date'] = pd.to_datetime(df['Transition_Discharge_Date'])"
   ]
  },
  {
   "cell_type": "code",
   "execution_count": 10,
   "id": "50981cae-c9e3-4ad2-a73e-3622dfffca61",
   "metadata": {},
   "outputs": [],
   "source": [
    "# converting the string to datetime format\n",
    "df['Transition_Finished_Date'] = pd.to_datetime(df['Transition_Finished_Date'])"
   ]
  },
  {
   "cell_type": "code",
   "execution_count": 11,
   "id": "c91e85e4-54f4-459c-a080-12a62b8f5618",
   "metadata": {},
   "outputs": [],
   "source": [
    "# converting the string to datetime format\n",
    "df['Activity_Closed_Date'] = pd.to_datetime(df['Activity_Closed_Date'])"
   ]
  },
  {
   "cell_type": "code",
   "execution_count": 12,
   "id": "9a64c055-a024-45b1-8d71-4a5ead0e1afc",
   "metadata": {},
   "outputs": [],
   "source": [
    "# converting the string to datetime format\n",
    "df['DOB'] = pd.to_datetime(df['DOB'])"
   ]
  },
  {
   "cell_type": "code",
   "execution_count": 13,
   "id": "14c22c99-a6a0-4c66-8ed3-f86829b1915f",
   "metadata": {},
   "outputs": [
    {
     "data": {
      "text/plain": [
       "Transition_ID                              int64\n",
       "Transition_Discharge_Date         datetime64[ns]\n",
       "Transition_Finished_YN                      bool\n",
       "PPM_Member_ID                              int64\n",
       "PPM_Member_First_Name                     object\n",
       "PPM_Member_Last_Name                      object\n",
       "PPM_Member_RIN                             int64\n",
       "Transition_Finished_Date          datetime64[ns]\n",
       "Activity_ID                                int64\n",
       "Activity_Closed_YN                          bool\n",
       "Nursing_Facility_Class_ID                  int64\n",
       "PPM_Member_Gender_ID                     float64\n",
       "Activity_Closed_Date              datetime64[ns]\n",
       "PActivity_Closed_Reason_ID               float64\n",
       "Activity_Employee_ID                     float64\n",
       "Activity_Prime_ID                          int64\n",
       "Nursing_Facility_ID                        int64\n",
       "Nursing_Facility_Name                     object\n",
       "Transition_Created_By                    float64\n",
       "Member_Prime_ID                            int64\n",
       "Community_Address                         object\n",
       "Transition_ZIP                           float64\n",
       "Transition_City                           object\n",
       "Discharge_Type_ID                          int64\n",
       "PPM_P_Transition_Assessment_ID             int64\n",
       "PreTransition_Prime_ID                   float64\n",
       "Engaged_YN                                  bool\n",
       "Engaged_Describe                          object\n",
       "In_Process_ID                            float64\n",
       "Assessed_After_Movein_YN                    bool\n",
       "DOB                               datetime64[ns]\n",
       "Marital_Status_ID                        float64\n",
       "Race_ID                                  float64\n",
       "Ethnicity_ID                             float64\n",
       "Guardian_ID                              float64\n",
       "Type_Other                                object\n",
       "Transitioned_Type_ID                     float64\n",
       "Post_Transition_Prime_ID                   int64\n",
       "Transition_Comments                       object\n",
       "dtype: object"
      ]
     },
     "execution_count": 13,
     "metadata": {},
     "output_type": "execute_result"
    }
   ],
   "source": [
    "df.dtypes"
   ]
  },
  {
   "cell_type": "code",
   "execution_count": 14,
   "id": "51daa0d0-9989-40e9-927c-4cbdc264213c",
   "metadata": {},
   "outputs": [
    {
     "data": {
      "text/plain": [
       "111     322078031\n",
       "991      22601645\n",
       "75      199195660\n",
       "463     314361213\n",
       "643      31092372\n",
       "752     154478051\n",
       "394     188344477\n",
       "1174     66849209\n",
       "344     921261376\n",
       "707     146222526\n",
       "807     145321766\n",
       "1346    201243482\n",
       "858     189994114\n",
       "1192    194358602\n",
       "723     386787139\n",
       "Name: PPM_Member_RIN, dtype: int64"
      ]
     },
     "execution_count": 14,
     "metadata": {},
     "output_type": "execute_result"
    }
   ],
   "source": [
    "df['PPM_Member_RIN'].sample(15)"
   ]
  },
  {
   "cell_type": "code",
   "execution_count": 15,
   "id": "55b6a6e6-38b2-4859-bc6e-42f01deb241a",
   "metadata": {},
   "outputs": [],
   "source": [
    "# Convert RIN to string\n",
    "df['PPM_Member_RIN'] = df['PPM_Member_RIN'].astype('str') "
   ]
  },
  {
   "cell_type": "code",
   "execution_count": 16,
   "id": "7d656121-ee26-4bd7-852c-722ffa380cda",
   "metadata": {},
   "outputs": [],
   "source": [
    "df['PPM_Member_RIN'] = df['PPM_Member_RIN'].str.strip()"
   ]
  },
  {
   "cell_type": "code",
   "execution_count": 17,
   "id": "49b723df-328f-4f2f-a2c6-7f4ac8e6517b",
   "metadata": {},
   "outputs": [],
   "source": [
    "# add leading zeros to Member_RIN\n",
    "df['PPM_Member_RIN'] = df['PPM_Member_RIN'].str.zfill(9)"
   ]
  },
  {
   "cell_type": "code",
   "execution_count": 18,
   "id": "051cb6f8-4dc9-47bc-863b-32291147a406",
   "metadata": {},
   "outputs": [
    {
     "data": {
      "text/plain": [
       "694     962264461\n",
       "668     426142485\n",
       "565     185294477\n",
       "1509    172860330\n",
       "195     051620771\n",
       "259     209553007\n",
       "1312    149759821\n",
       "162     099659617\n",
       "1335    195475215\n",
       "596     170572671\n",
       "498     350905543\n",
       "1571    105750400\n",
       "296     185468873\n",
       "1187    107233983\n",
       "1       098720741\n",
       "Name: PPM_Member_RIN, dtype: object"
      ]
     },
     "execution_count": 18,
     "metadata": {},
     "output_type": "execute_result"
    }
   ],
   "source": [
    "df['PPM_Member_RIN'].sample(15)"
   ]
  },
  {
   "cell_type": "code",
   "execution_count": 19,
   "id": "180055ca-f1ab-45b0-82bd-1227c792b1c7",
   "metadata": {},
   "outputs": [],
   "source": [
    "#export file without index column\n",
    "df.to_excel(\"UIC_Dashboard_Transitions_SPD3.xlsx\", index=False)"
   ]
  },
  {
   "cell_type": "code",
   "execution_count": 20,
   "id": "c70dcc48-110f-4473-a218-98b9d789cce7",
   "metadata": {},
   "outputs": [
    {
     "name": "stdout",
     "output_type": "stream",
     "text": [
      "2024-09-04 12:19:21.526500\n"
     ]
    }
   ],
   "source": [
    "# Create a timestamp object\n",
    "timestamp = pd.Timestamp(datetime.datetime.now())\n",
    "\n",
    "# Print the timestamp\n",
    "print(timestamp)"
   ]
  },
  {
   "cell_type": "code",
   "execution_count": 21,
   "id": "acc90d14-d687-4917-945d-6b7ea3cf0137",
   "metadata": {},
   "outputs": [],
   "source": [
    "#the end!"
   ]
  },
  {
   "cell_type": "code",
   "execution_count": null,
   "id": "619c0970-3ae5-4980-8fd5-67c0a16216c1",
   "metadata": {},
   "outputs": [],
   "source": []
  }
 ],
 "metadata": {
  "kernelspec": {
   "display_name": "Python 3 (ipykernel)",
   "language": "python",
   "name": "python3"
  },
  "language_info": {
   "codemirror_mode": {
    "name": "ipython",
    "version": 3
   },
   "file_extension": ".py",
   "mimetype": "text/x-python",
   "name": "python",
   "nbconvert_exporter": "python",
   "pygments_lexer": "ipython3",
   "version": "3.9.13"
  }
 },
 "nbformat": 4,
 "nbformat_minor": 5
}
