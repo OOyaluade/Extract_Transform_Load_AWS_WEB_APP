{
 "cells": [
  {
   "cell_type": "code",
   "execution_count": 1,
   "id": "2edbeabb",
   "metadata": {},
   "outputs": [],
   "source": [
    "import pandas as pd\n",
    "import numpy as np\n",
    "import time\n",
    "import re\n",
    "import os\n",
    "import datetime"
   ]
  },
  {
   "cell_type": "code",
   "execution_count": 2,
   "id": "ce60e637-0d8b-4e2c-9c2d-2591c01793b2",
   "metadata": {},
   "outputs": [],
   "source": [
    "os.chdir(r'C:/Users/vwalds/Documents/My Data Sources/')"
   ]
  },
  {
   "cell_type": "code",
   "execution_count": 3,
   "id": "4f146531-7777-4cfc-9383-fb5cf4817f51",
   "metadata": {},
   "outputs": [],
   "source": [
    "import warnings\n",
    "warnings.filterwarnings('ignore')\n",
    "warnings.simplefilter('ignore')"
   ]
  },
  {
   "cell_type": "code",
   "execution_count": 4,
   "id": "bd6c9099-b615-42a2-84b6-cab021ef3888",
   "metadata": {},
   "outputs": [],
   "source": [
    "# Grab Current Time Before Running the Code\n",
    "start = time.time()"
   ]
  },
  {
   "cell_type": "code",
   "execution_count": 5,
   "id": "d4c0cbec-8afc-4dfb-aee3-33abb7d622b1",
   "metadata": {},
   "outputs": [],
   "source": [
    "#UIC_Dashboard_SP_Initiated\n"
   ]
  },
  {
   "cell_type": "code",
   "execution_count": 6,
   "id": "ce513d12-555b-4e0d-93b7-b596f78be1c5",
   "metadata": {},
   "outputs": [],
   "source": [
    "df = pd.read_excel(\"UIC_Dashboard_SP_Initiated.xlsx\")"
   ]
  },
  {
   "cell_type": "code",
   "execution_count": 7,
   "id": "8d9aa52b-ccaa-4872-a51b-c31ba9ec7ac8",
   "metadata": {},
   "outputs": [
    {
     "name": "stdout",
     "output_type": "stream",
     "text": [
      "<class 'pandas.core.frame.DataFrame'>\n",
      "RangeIndex: 10256 entries, 0 to 10255\n",
      "Data columns (total 11 columns):\n",
      " #   Column                   Non-Null Count  Dtype  \n",
      "---  ------                   --------------  -----  \n",
      " 0   Member_ID                10256 non-null  int64  \n",
      " 1   Member_Phase_ID          10256 non-null  int64  \n",
      " 2   Member_Prime_ID          10256 non-null  int64  \n",
      " 3   Current_Outreach_ID      10256 non-null  int64  \n",
      " 4   Comprehensive_Plan_ID    10256 non-null  int64  \n",
      " 5   Plan_Finalize            10256 non-null  bool   \n",
      " 6   Plan_Updated_Date        10256 non-null  object \n",
      " 7   Plan_Updated_On          9499 non-null   object \n",
      " 8   Plan_Date                10256 non-null  object \n",
      " 9   Log_NF_ID                10255 non-null  float64\n",
      " 10  Facility_Admission_Date  8033 non-null   object \n",
      "dtypes: bool(1), float64(1), int64(5), object(4)\n",
      "memory usage: 811.4+ KB\n"
     ]
    }
   ],
   "source": [
    "df.info()"
   ]
  },
  {
   "cell_type": "code",
   "execution_count": 8,
   "id": "8e6548e8-a030-476f-8925-2f917aab9ac5",
   "metadata": {},
   "outputs": [
    {
     "data": {
      "text/plain": [
       "Index(['Member_ID', 'Member_Phase_ID', 'Member_Prime_ID',\n",
       "       'Current_Outreach_ID', 'Comprehensive_Plan_ID', 'Plan_Finalize',\n",
       "       'Plan_Updated_Date', 'Plan_Updated_On', 'Plan_Date', 'Log_NF_ID',\n",
       "       'Facility_Admission_Date'],\n",
       "      dtype='object')"
      ]
     },
     "execution_count": 8,
     "metadata": {},
     "output_type": "execute_result"
    }
   ],
   "source": [
    "df.columns"
   ]
  },
  {
   "cell_type": "code",
   "execution_count": 9,
   "id": "c1db009a-7209-4cf8-9098-78153c85a45b",
   "metadata": {},
   "outputs": [],
   "source": [
    "# converting the string to datetime format\n",
    "df['Plan_Updated_Date'] = pd.to_datetime(df['Plan_Updated_Date'])"
   ]
  },
  {
   "cell_type": "code",
   "execution_count": 10,
   "id": "50981cae-c9e3-4ad2-a73e-3622dfffca61",
   "metadata": {},
   "outputs": [],
   "source": [
    "# converting the string to datetime format\n",
    "df['Plan_Updated_On'] = pd.to_datetime(df['Plan_Updated_On'])"
   ]
  },
  {
   "cell_type": "code",
   "execution_count": 11,
   "id": "c91e85e4-54f4-459c-a080-12a62b8f5618",
   "metadata": {},
   "outputs": [],
   "source": [
    "# converting the string to datetime format\n",
    "df['Plan_Date'] = pd.to_datetime(df['Plan_Date'])"
   ]
  },
  {
   "cell_type": "code",
   "execution_count": 12,
   "id": "9a64c055-a024-45b1-8d71-4a5ead0e1afc",
   "metadata": {},
   "outputs": [],
   "source": [
    "# converting the string to datetime format\n",
    "df['Facility_Admission_Date'] = pd.to_datetime(df['Facility_Admission_Date'])"
   ]
  },
  {
   "cell_type": "code",
   "execution_count": 13,
   "id": "14c22c99-a6a0-4c66-8ed3-f86829b1915f",
   "metadata": {},
   "outputs": [
    {
     "data": {
      "text/plain": [
       "Member_ID                           int64\n",
       "Member_Phase_ID                     int64\n",
       "Member_Prime_ID                     int64\n",
       "Current_Outreach_ID                 int64\n",
       "Comprehensive_Plan_ID               int64\n",
       "Plan_Finalize                        bool\n",
       "Plan_Updated_Date          datetime64[ns]\n",
       "Plan_Updated_On            datetime64[ns]\n",
       "Plan_Date                  datetime64[ns]\n",
       "Log_NF_ID                         float64\n",
       "Facility_Admission_Date    datetime64[ns]\n",
       "dtype: object"
      ]
     },
     "execution_count": 13,
     "metadata": {},
     "output_type": "execute_result"
    }
   ],
   "source": [
    "df.dtypes"
   ]
  },
  {
   "cell_type": "code",
   "execution_count": 14,
   "id": "180055ca-f1ab-45b0-82bd-1227c792b1c7",
   "metadata": {},
   "outputs": [],
   "source": [
    "#export file without index column\n",
    "df.to_excel(\"UIC_Dashboard_SP_Initiated.xlsx\", index=False)"
   ]
  },
  {
   "cell_type": "code",
   "execution_count": 15,
   "id": "c70dcc48-110f-4473-a218-98b9d789cce7",
   "metadata": {},
   "outputs": [
    {
     "name": "stdout",
     "output_type": "stream",
     "text": [
      "2024-07-26 14:52:58.054031\n"
     ]
    }
   ],
   "source": [
    "# Create a timestamp object\n",
    "timestamp = pd.Timestamp(datetime.datetime.now())\n",
    "\n",
    "# Print the timestamp\n",
    "print(timestamp)"
   ]
  },
  {
   "cell_type": "code",
   "execution_count": 16,
   "id": "acc90d14-d687-4917-945d-6b7ea3cf0137",
   "metadata": {},
   "outputs": [],
   "source": [
    "#the end!"
   ]
  },
  {
   "cell_type": "code",
   "execution_count": null,
   "id": "619c0970-3ae5-4980-8fd5-67c0a16216c1",
   "metadata": {},
   "outputs": [],
   "source": []
  },
  {
   "cell_type": "code",
   "execution_count": null,
   "id": "4e50a5ce-8cae-4eac-a149-0bf9c0778cbd",
   "metadata": {},
   "outputs": [],
   "source": []
  }
 ],
 "metadata": {
  "kernelspec": {
   "display_name": "Python 3 (ipykernel)",
   "language": "python",
   "name": "python3"
  },
  "language_info": {
   "codemirror_mode": {
    "name": "ipython",
    "version": 3
   },
   "file_extension": ".py",
   "mimetype": "text/x-python",
   "name": "python",
   "nbconvert_exporter": "python",
   "pygments_lexer": "ipython3",
   "version": "3.9.13"
  }
 },
 "nbformat": 4,
 "nbformat_minor": 5
}
