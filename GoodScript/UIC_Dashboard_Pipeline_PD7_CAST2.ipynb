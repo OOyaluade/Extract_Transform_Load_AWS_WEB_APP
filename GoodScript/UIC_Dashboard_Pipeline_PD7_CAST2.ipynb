{
 "cells": [
  {
   "cell_type": "code",
   "execution_count": 1,
   "id": "2edbeabb",
   "metadata": {},
   "outputs": [],
   "source": [
    "import pandas as pd\n",
    "import numpy as np\n",
    "import time\n",
    "import re\n",
    "import os\n",
    "import datetime"
   ]
  },
  {
   "cell_type": "code",
   "execution_count": 2,
   "id": "ce60e637-0d8b-4e2c-9c2d-2591c01793b2",
   "metadata": {},
   "outputs": [],
   "source": [
    "os.chdir(r'C:/Users/vwalds/Documents/My Data Sources/')"
   ]
  },
  {
   "cell_type": "code",
   "execution_count": 3,
   "id": "4f146531-7777-4cfc-9383-fb5cf4817f51",
   "metadata": {},
   "outputs": [],
   "source": [
    "import warnings\n",
    "warnings.filterwarnings('ignore')\n",
    "warnings.simplefilter('ignore')"
   ]
  },
  {
   "cell_type": "code",
   "execution_count": 4,
   "id": "bd6c9099-b615-42a2-84b6-cab021ef3888",
   "metadata": {},
   "outputs": [],
   "source": [
    "# Grab Current Time Before Running the Code\n",
    "start = time.time()"
   ]
  },
  {
   "cell_type": "code",
   "execution_count": 5,
   "id": "d4c0cbec-8afc-4dfb-aee3-33abb7d622b1",
   "metadata": {},
   "outputs": [],
   "source": [
    "#UIC_Dashboard_Pipeline_PD7_CAST2\n"
   ]
  },
  {
   "cell_type": "code",
   "execution_count": 6,
   "id": "ce513d12-555b-4e0d-93b7-b596f78be1c5",
   "metadata": {},
   "outputs": [],
   "source": [
    "df = pd.read_excel(\"UIC_Dashboard_Pipeline_PD7_CAST2.xlsx\")"
   ]
  },
  {
   "cell_type": "code",
   "execution_count": 7,
   "id": "8d9aa52b-ccaa-4872-a51b-c31ba9ec7ac8",
   "metadata": {},
   "outputs": [
    {
     "name": "stdout",
     "output_type": "stream",
     "text": [
      "<class 'pandas.core.frame.DataFrame'>\n",
      "RangeIndex: 184 entries, 0 to 183\n",
      "Data columns (total 25 columns):\n",
      " #   Column                                           Non-Null Count  Dtype  \n",
      "---  ------                                           --------------  -----  \n",
      " 0   Member_ID                                        184 non-null    int64  \n",
      " 1   PPM_Member_First_Name                            184 non-null    object \n",
      " 2   PPM_Member_Last_Name                             184 non-null    object \n",
      " 3   Member_RIN                                       184 non-null    int64  \n",
      " 4   PPM_Member_DOB                                   184 non-null    object \n",
      " 5   PPM_Member_Gender_ID                             182 non-null    float64\n",
      " 6   Request_ID                                       184 non-null    int64  \n",
      " 7   Request_Created_On                               184 non-null    object \n",
      " 8   PPM_C_Review_Request_Date_All_Document_Recieved  90 non-null     object \n",
      " 9   Request_Finalized                                184 non-null    bool   \n",
      " 10  Activity_ID                                      184 non-null    int64  \n",
      " 11  PPM_C_Review_Request_Initial_Review_Date         171 non-null    object \n",
      " 12  Reviewer_Notes                                   171 non-null    object \n",
      " 13  Request_Reviewed_On                              162 non-null    object \n",
      " 14  Request_Updated_On                               171 non-null    object \n",
      " 15  Review_Result_ID                                 163 non-null    float64\n",
      " 16  PPM_C_Review_Request_Assessment_ID               184 non-null    int64  \n",
      " 17  PPM_Outreach_Activity_Prime_ID                   184 non-null    int64  \n",
      " 18  CAST_Agree_Rationale                             132 non-null    object \n",
      " 19  Activity_Closed_YN                               184 non-null    bool   \n",
      " 20  Activity_Closed_Date                             88 non-null     object \n",
      " 21  Activity_Closed_Reason_ID                        87 non-null     float64\n",
      " 22  Activity_NF_ID                                   184 non-null    int64  \n",
      " 23  Member_Phase_ID                                  184 non-null    int64  \n",
      " 24  Member_Prime_ID                                  184 non-null    int64  \n",
      "dtypes: bool(2), float64(3), int64(9), object(11)\n",
      "memory usage: 33.5+ KB\n"
     ]
    }
   ],
   "source": [
    "df.info()"
   ]
  },
  {
   "cell_type": "code",
   "execution_count": 8,
   "id": "8e6548e8-a030-476f-8925-2f917aab9ac5",
   "metadata": {},
   "outputs": [
    {
     "data": {
      "text/plain": [
       "Index(['Member_ID', 'PPM_Member_First_Name', 'PPM_Member_Last_Name',\n",
       "       'Member_RIN', 'PPM_Member_DOB', 'PPM_Member_Gender_ID', 'Request_ID',\n",
       "       'Request_Created_On', 'PPM_C_Review_Request_Date_All_Document_Recieved',\n",
       "       'Request_Finalized', 'Activity_ID',\n",
       "       'PPM_C_Review_Request_Initial_Review_Date', 'Reviewer_Notes',\n",
       "       'Request_Reviewed_On', 'Request_Updated_On', 'Review_Result_ID',\n",
       "       'PPM_C_Review_Request_Assessment_ID', 'PPM_Outreach_Activity_Prime_ID',\n",
       "       'CAST_Agree_Rationale', 'Activity_Closed_YN', 'Activity_Closed_Date',\n",
       "       'Activity_Closed_Reason_ID', 'Activity_NF_ID', 'Member_Phase_ID',\n",
       "       'Member_Prime_ID'],\n",
       "      dtype='object')"
      ]
     },
     "execution_count": 8,
     "metadata": {},
     "output_type": "execute_result"
    }
   ],
   "source": [
    "df.columns"
   ]
  },
  {
   "cell_type": "code",
   "execution_count": 9,
   "id": "628881b8-d6c4-4420-813b-74726af3919a",
   "metadata": {},
   "outputs": [],
   "source": [
    "# converting the string to datetime format\n",
    "df['PPM_Member_DOB'] = pd.to_datetime(df['PPM_Member_DOB'])"
   ]
  },
  {
   "cell_type": "code",
   "execution_count": 10,
   "id": "4af6df54-a0d9-463a-92a7-72454ae29068",
   "metadata": {},
   "outputs": [],
   "source": [
    "# converting the string to datetime format\n",
    "df['Request_Created_On'] = pd.to_datetime(df['Request_Created_On'])"
   ]
  },
  {
   "cell_type": "code",
   "execution_count": 11,
   "id": "d954786e-d340-4707-859b-3bd8d9acab58",
   "metadata": {},
   "outputs": [],
   "source": [
    "# converting the string to datetime format\n",
    "df['PPM_C_Review_Request_Date_All_Document_Recieved'] = pd.to_datetime(df['PPM_C_Review_Request_Date_All_Document_Recieved'])"
   ]
  },
  {
   "cell_type": "code",
   "execution_count": 12,
   "id": "ab64c653-c66b-4c8a-b2b9-6a39ac8b8b4e",
   "metadata": {},
   "outputs": [],
   "source": [
    "# converting the string to datetime format\n",
    "df['PPM_C_Review_Request_Initial_Review_Date'] = pd.to_datetime(df['PPM_C_Review_Request_Initial_Review_Date'])"
   ]
  },
  {
   "cell_type": "code",
   "execution_count": 13,
   "id": "4ec5583e-91c0-4447-a688-b85bfa09adaa",
   "metadata": {},
   "outputs": [],
   "source": [
    "# converting the string to datetime format\n",
    "df['Request_Reviewed_On'] = pd.to_datetime(df['Request_Reviewed_On'])"
   ]
  },
  {
   "cell_type": "code",
   "execution_count": 14,
   "id": "1ea8d10c-31ae-4eb0-b49b-fd4ace22ef8a",
   "metadata": {},
   "outputs": [],
   "source": [
    "# converting the string to datetime format\n",
    "df['Request_Updated_On'] = pd.to_datetime(df['Request_Updated_On'])"
   ]
  },
  {
   "cell_type": "code",
   "execution_count": 15,
   "id": "6dcf421c-4dce-4b96-84fb-3bf23528e39c",
   "metadata": {},
   "outputs": [],
   "source": [
    "# converting the string to datetime format\n",
    "df['Activity_Closed_Date'] = pd.to_datetime(df['Activity_Closed_Date'])"
   ]
  },
  {
   "cell_type": "code",
   "execution_count": 16,
   "id": "258218cc-a9af-4e7f-8ecf-30692d054bd2",
   "metadata": {},
   "outputs": [
    {
     "data": {
      "text/plain": [
       "Member_ID                                                   int64\n",
       "PPM_Member_First_Name                                      object\n",
       "PPM_Member_Last_Name                                       object\n",
       "Member_RIN                                                  int64\n",
       "PPM_Member_DOB                                     datetime64[ns]\n",
       "PPM_Member_Gender_ID                                      float64\n",
       "Request_ID                                                  int64\n",
       "Request_Created_On                                 datetime64[ns]\n",
       "PPM_C_Review_Request_Date_All_Document_Recieved    datetime64[ns]\n",
       "Request_Finalized                                            bool\n",
       "Activity_ID                                                 int64\n",
       "PPM_C_Review_Request_Initial_Review_Date           datetime64[ns]\n",
       "Reviewer_Notes                                             object\n",
       "Request_Reviewed_On                                datetime64[ns]\n",
       "Request_Updated_On                                 datetime64[ns]\n",
       "Review_Result_ID                                          float64\n",
       "PPM_C_Review_Request_Assessment_ID                          int64\n",
       "PPM_Outreach_Activity_Prime_ID                              int64\n",
       "CAST_Agree_Rationale                                       object\n",
       "Activity_Closed_YN                                           bool\n",
       "Activity_Closed_Date                               datetime64[ns]\n",
       "Activity_Closed_Reason_ID                                 float64\n",
       "Activity_NF_ID                                              int64\n",
       "Member_Phase_ID                                             int64\n",
       "Member_Prime_ID                                             int64\n",
       "dtype: object"
      ]
     },
     "execution_count": 16,
     "metadata": {},
     "output_type": "execute_result"
    }
   ],
   "source": [
    "df.dtypes"
   ]
  },
  {
   "cell_type": "code",
   "execution_count": 17,
   "id": "180055ca-f1ab-45b0-82bd-1227c792b1c7",
   "metadata": {},
   "outputs": [],
   "source": [
    "#export file without index column\n",
    "df.to_excel(\"UIC_Dashboard_Pipeline_PD7_CAST2.xlsx\", index=False)"
   ]
  },
  {
   "cell_type": "code",
   "execution_count": 18,
   "id": "c70dcc48-110f-4473-a218-98b9d789cce7",
   "metadata": {},
   "outputs": [
    {
     "name": "stdout",
     "output_type": "stream",
     "text": [
      "2024-09-04 12:15:48.791858\n"
     ]
    }
   ],
   "source": [
    "# Create a timestamp object\n",
    "timestamp = pd.Timestamp(datetime.datetime.now())\n",
    "\n",
    "# Print the timestamp\n",
    "print(timestamp)"
   ]
  },
  {
   "cell_type": "code",
   "execution_count": 19,
   "id": "acc90d14-d687-4917-945d-6b7ea3cf0137",
   "metadata": {},
   "outputs": [],
   "source": [
    "#the end!"
   ]
  },
  {
   "cell_type": "code",
   "execution_count": null,
   "id": "619c0970-3ae5-4980-8fd5-67c0a16216c1",
   "metadata": {},
   "outputs": [],
   "source": []
  },
  {
   "cell_type": "code",
   "execution_count": null,
   "id": "4e50a5ce-8cae-4eac-a149-0bf9c0778cbd",
   "metadata": {},
   "outputs": [],
   "source": []
  }
 ],
 "metadata": {
  "kernelspec": {
   "display_name": "Python 3 (ipykernel)",
   "language": "python",
   "name": "python3"
  },
  "language_info": {
   "codemirror_mode": {
    "name": "ipython",
    "version": 3
   },
   "file_extension": ".py",
   "mimetype": "text/x-python",
   "name": "python",
   "nbconvert_exporter": "python",
   "pygments_lexer": "ipython3",
   "version": "3.9.13"
  }
 },
 "nbformat": 4,
 "nbformat_minor": 5
}
