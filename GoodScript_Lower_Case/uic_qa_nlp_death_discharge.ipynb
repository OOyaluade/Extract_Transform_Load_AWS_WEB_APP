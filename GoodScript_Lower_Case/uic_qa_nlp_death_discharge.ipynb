{
 "cells": [
  {
   "cell_type": "code",
   "execution_count": 1,
   "id": "2edbeabb",
   "metadata": {},
   "outputs": [],
   "source": [
    "import pandas as pd\n",
    "import numpy as np\n",
    "import time\n",
    "import re\n",
    "import os\n",
    "import datetime\n",
    "import warnings\n",
    "warnings.filterwarnings('ignore')\n",
    "warnings.simplefilter('ignore')"
   ]
  },
  {
   "cell_type": "code",
   "execution_count": 2,
   "id": "ce60e637-0d8b-4e2c-9c2d-2591c01793b2",
   "metadata": {},
   "outputs": [],
   "source": [
    "os.chdir(r'C:/Users/vwalds/Documents/My Data Sources/')"
   ]
  },
  {
   "cell_type": "code",
   "execution_count": 3,
   "id": "bd6c9099-b615-42a2-84b6-cab021ef3888",
   "metadata": {},
   "outputs": [],
   "source": [
    "# Grab Current Time Before Running the Code\n",
    "start = time.time()"
   ]
  },
  {
   "cell_type": "code",
   "execution_count": 4,
   "id": "d4c0cbec-8afc-4dfb-aee3-33abb7d622b1",
   "metadata": {},
   "outputs": [],
   "source": [
    "#UIC_QA_NLP_Death_Discharge\n",
    "\n"
   ]
  },
  {
   "cell_type": "code",
   "execution_count": 5,
   "id": "ce513d12-555b-4e0d-93b7-b596f78be1c5",
   "metadata": {},
   "outputs": [],
   "source": [
    "df = pd.read_excel(\"UIC_QA_NLP_Death_Discharge.xlsx\")"
   ]
  },
  {
   "cell_type": "code",
   "execution_count": 6,
   "id": "8d9aa52b-ccaa-4872-a51b-c31ba9ec7ac8",
   "metadata": {},
   "outputs": [
    {
     "name": "stdout",
     "output_type": "stream",
     "text": [
      "<class 'pandas.core.frame.DataFrame'>\n",
      "RangeIndex: 22263 entries, 0 to 22262\n",
      "Data columns (total 15 columns):\n",
      " #   Column                       Non-Null Count  Dtype  \n",
      "---  ------                       --------------  -----  \n",
      " 0   Member_Prime_ID              21841 non-null  float64\n",
      " 1   Member_ID                    22263 non-null  int64  \n",
      " 2   Last_Name                    22263 non-null  object \n",
      " 3   First_Name                   22263 non-null  object \n",
      " 4   RIN                          22052 non-null  float64\n",
      " 5   Reason                       16510 non-null  object \n",
      " 6   NLP_Date                     16373 non-null  object \n",
      " 7   Member_Frozen_YN             22263 non-null  bool   \n",
      " 8   Member_Closed_YN             22263 non-null  bool   \n",
      " 9   Member_Closed_Reason_ID      21448 non-null  float64\n",
      " 10  Current_Outreach_ID          21623 non-null  float64\n",
      " 11  Member_Approval_Status       22263 non-null  int64  \n",
      " 12  Member_Phase_ID              22263 non-null  int64  \n",
      " 13  Log_NF_ID                    21741 non-null  float64\n",
      " 14  Log_Facility_Admission_Date  13558 non-null  object \n",
      "dtypes: bool(2), float64(5), int64(3), object(5)\n",
      "memory usage: 2.3+ MB\n"
     ]
    }
   ],
   "source": [
    "df.info()"
   ]
  },
  {
   "cell_type": "code",
   "execution_count": 7,
   "id": "8e6548e8-a030-476f-8925-2f917aab9ac5",
   "metadata": {},
   "outputs": [
    {
     "data": {
      "text/plain": [
       "Index(['Member_Prime_ID', 'Member_ID', 'Last_Name', 'First_Name', 'RIN',\n",
       "       'Reason', 'NLP_Date', 'Member_Frozen_YN', 'Member_Closed_YN',\n",
       "       'Member_Closed_Reason_ID', 'Current_Outreach_ID',\n",
       "       'Member_Approval_Status', 'Member_Phase_ID', 'Log_NF_ID',\n",
       "       'Log_Facility_Admission_Date'],\n",
       "      dtype='object')"
      ]
     },
     "execution_count": 7,
     "metadata": {},
     "output_type": "execute_result"
    }
   ],
   "source": [
    "df.columns"
   ]
  },
  {
   "cell_type": "code",
   "execution_count": 8,
   "id": "c1db009a-7209-4cf8-9098-78153c85a45b",
   "metadata": {},
   "outputs": [],
   "source": [
    "# converting the string to datetime format\n",
    "df['NLP_Date'] = pd.to_datetime(df['NLP_Date'])"
   ]
  },
  {
   "cell_type": "code",
   "execution_count": 9,
   "id": "50981cae-c9e3-4ad2-a73e-3622dfffca61",
   "metadata": {},
   "outputs": [],
   "source": [
    "# converting the string to datetime format\n",
    "df['Log_Facility_Admission_Date'] = pd.to_datetime(df['Log_Facility_Admission_Date'])"
   ]
  },
  {
   "cell_type": "code",
   "execution_count": 10,
   "id": "14c22c99-a6a0-4c66-8ed3-f86829b1915f",
   "metadata": {},
   "outputs": [
    {
     "data": {
      "text/plain": [
       "Member_Prime_ID                       float64\n",
       "Member_ID                               int64\n",
       "Last_Name                              object\n",
       "First_Name                             object\n",
       "RIN                                   float64\n",
       "Reason                                 object\n",
       "NLP_Date                       datetime64[ns]\n",
       "Member_Frozen_YN                         bool\n",
       "Member_Closed_YN                         bool\n",
       "Member_Closed_Reason_ID               float64\n",
       "Current_Outreach_ID                   float64\n",
       "Member_Approval_Status                  int64\n",
       "Member_Phase_ID                         int64\n",
       "Log_NF_ID                             float64\n",
       "Log_Facility_Admission_Date    datetime64[ns]\n",
       "dtype: object"
      ]
     },
     "execution_count": 10,
     "metadata": {},
     "output_type": "execute_result"
    }
   ],
   "source": [
    "df.dtypes"
   ]
  },
  {
   "cell_type": "code",
   "execution_count": 11,
   "id": "78df0b47-7e1c-40b9-bcb0-bb2d6508c98d",
   "metadata": {},
   "outputs": [
    {
     "data": {
      "text/plain": [
       "15707    222228215.0\n",
       "16576     57801375.0\n",
       "1804      86965522.0\n",
       "11250    367604386.0\n",
       "8421      52573045.0\n",
       "2957     221797475.0\n",
       "20359    963381355.0\n",
       "21249     94883238.0\n",
       "14221    208019067.0\n",
       "19985    163135528.0\n",
       "9561     205835838.0\n",
       "15175    156624959.0\n",
       "8618     168327146.0\n",
       "22097    350795233.0\n",
       "10636    960122455.0\n",
       "Name: RIN, dtype: float64"
      ]
     },
     "execution_count": 11,
     "metadata": {},
     "output_type": "execute_result"
    }
   ],
   "source": [
    "df['RIN'].sample(15)"
   ]
  },
  {
   "cell_type": "code",
   "execution_count": 12,
   "id": "f21d44b8-8674-4758-ba2b-a75c94fda330",
   "metadata": {},
   "outputs": [],
   "source": [
    "# Convert RIN to string\n",
    "df['RIN'] = df['RIN'].astype('str') "
   ]
  },
  {
   "cell_type": "code",
   "execution_count": 13,
   "id": "45dca7a2-536a-4b1b-aa69-142d0722dfa1",
   "metadata": {},
   "outputs": [],
   "source": [
    "df['RIN'] = df['RIN'].str.strip()"
   ]
  },
  {
   "cell_type": "code",
   "execution_count": 14,
   "id": "9dc13ef8-b796-46d5-a019-60c82d8384d3",
   "metadata": {},
   "outputs": [],
   "source": [
    "# add leading zeros to Member_RIN\n",
    "df['RIN'] = df['RIN'].str.zfill(11)"
   ]
  },
  {
   "cell_type": "code",
   "execution_count": 15,
   "id": "4369874d-afc7-4a98-9695-16791b749d74",
   "metadata": {},
   "outputs": [
    {
     "data": {
      "text/plain": [
       "15663    341087120.0\n",
       "7757     225847516.0\n",
       "18921    346847270.0\n",
       "3507     360462329.0\n",
       "8146     355412784.0\n",
       "19981    100358415.0\n",
       "4887     355835208.0\n",
       "326      350456794.0\n",
       "17918    347192528.0\n",
       "16179    177641461.0\n",
       "18025    313569014.0\n",
       "462      350871703.0\n",
       "16475    219327814.0\n",
       "5033     216255729.0\n",
       "10439    081417768.0\n",
       "Name: RIN, dtype: object"
      ]
     },
     "execution_count": 15,
     "metadata": {},
     "output_type": "execute_result"
    }
   ],
   "source": [
    "df['RIN'].sample(15)"
   ]
  },
  {
   "cell_type": "code",
   "execution_count": 16,
   "id": "cbd8c8dc-de42-47e6-add0-d4ee89df424d",
   "metadata": {},
   "outputs": [
    {
     "data": {
      "text/plain": [
       "Member_Prime_ID                       float64\n",
       "Member_ID                               int64\n",
       "Last_Name                              object\n",
       "First_Name                             object\n",
       "RIN                                    object\n",
       "Reason                                 object\n",
       "NLP_Date                       datetime64[ns]\n",
       "Member_Frozen_YN                         bool\n",
       "Member_Closed_YN                         bool\n",
       "Member_Closed_Reason_ID               float64\n",
       "Current_Outreach_ID                   float64\n",
       "Member_Approval_Status                  int64\n",
       "Member_Phase_ID                         int64\n",
       "Log_NF_ID                             float64\n",
       "Log_Facility_Admission_Date    datetime64[ns]\n",
       "dtype: object"
      ]
     },
     "execution_count": 16,
     "metadata": {},
     "output_type": "execute_result"
    }
   ],
   "source": [
    "df.dtypes"
   ]
  },
  {
   "cell_type": "code",
   "execution_count": 17,
   "id": "180055ca-f1ab-45b0-82bd-1227c792b1c7",
   "metadata": {},
   "outputs": [],
   "source": [
    "#export file without index column\n",
    "df.to_excel(\"UIC_QA_NLP_Death_Discharge.xlsx\", index=False)"
   ]
  },
  {
   "cell_type": "code",
   "execution_count": 18,
   "id": "c70dcc48-110f-4473-a218-98b9d789cce7",
   "metadata": {},
   "outputs": [
    {
     "name": "stdout",
     "output_type": "stream",
     "text": [
      "2024-09-04 12:21:40.359680\n"
     ]
    }
   ],
   "source": [
    "# Create a timestamp object\n",
    "timestamp = pd.Timestamp(datetime.datetime.now())\n",
    "\n",
    "# Print the timestamp\n",
    "print(timestamp)"
   ]
  },
  {
   "cell_type": "code",
   "execution_count": 19,
   "id": "acc90d14-d687-4917-945d-6b7ea3cf0137",
   "metadata": {},
   "outputs": [],
   "source": [
    "#the end!"
   ]
  },
  {
   "cell_type": "code",
   "execution_count": null,
   "id": "619c0970-3ae5-4980-8fd5-67c0a16216c1",
   "metadata": {},
   "outputs": [],
   "source": []
  },
  {
   "cell_type": "code",
   "execution_count": null,
   "id": "4e50a5ce-8cae-4eac-a149-0bf9c0778cbd",
   "metadata": {},
   "outputs": [],
   "source": []
  }
 ],
 "metadata": {
  "kernelspec": {
   "display_name": "Python 3 (ipykernel)",
   "language": "python",
   "name": "python3"
  },
  "language_info": {
   "codemirror_mode": {
    "name": "ipython",
    "version": 3
   },
   "file_extension": ".py",
   "mimetype": "text/x-python",
   "name": "python",
   "nbconvert_exporter": "python",
   "pygments_lexer": "ipython3",
   "version": "3.9.13"
  }
 },
 "nbformat": 4,
 "nbformat_minor": 5
}
