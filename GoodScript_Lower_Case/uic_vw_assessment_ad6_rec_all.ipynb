{
 "cells": [
  {
   "cell_type": "code",
   "execution_count": 1,
   "id": "2edbeabb",
   "metadata": {},
   "outputs": [],
   "source": [
    "import pandas as pd\n",
    "import numpy as np\n",
    "import time\n",
    "import re\n",
    "import os\n",
    "import datetime"
   ]
  },
  {
   "cell_type": "code",
   "execution_count": 2,
   "id": "4f146531-7777-4cfc-9383-fb5cf4817f51",
   "metadata": {},
   "outputs": [],
   "source": [
    "import warnings\n",
    "warnings.filterwarnings('ignore')\n",
    "warnings.simplefilter('ignore')"
   ]
  },
  {
   "cell_type": "code",
   "execution_count": 3,
   "id": "ce60e637-0d8b-4e2c-9c2d-2591c01793b2",
   "metadata": {},
   "outputs": [],
   "source": [
    "# os.chdir(r'C:/Users/vwalds/Documents/My Data Sources/')"
   ]
  },
  {
   "cell_type": "code",
   "execution_count": 4,
   "id": "bd6c9099-b615-42a2-84b6-cab021ef3888",
   "metadata": {},
   "outputs": [],
   "source": [
    "# Grab Current Time Before Running the Code\n",
    "start = time.time()"
   ]
  },
  {
   "cell_type": "code",
   "execution_count": 5,
   "id": "d4c0cbec-8afc-4dfb-aee3-33abb7d622b1",
   "metadata": {},
   "outputs": [],
   "source": [
    "#UIC_VW_Assessment_AD6_Rec_All\n"
   ]
  },
  {
   "cell_type": "code",
   "execution_count": 6,
   "id": "ce513d12-555b-4e0d-93b7-b596f78be1c5",
   "metadata": {},
   "outputs": [
    {
     "ename": "FileNotFoundError",
     "evalue": "[Errno 2] No such file or directory: '/home/node1/Documents/uic/FilesUsed/UIC_VW_Assessment_AD6_Rec_All.xlsx'",
     "output_type": "error",
     "traceback": [
      "\u001b[0;31m---------------------------------------------------------------------------\u001b[0m",
      "\u001b[0;31mFileNotFoundError\u001b[0m                         Traceback (most recent call last)",
      "Cell \u001b[0;32mIn[6], line 1\u001b[0m\n\u001b[0;32m----> 1\u001b[0m df \u001b[38;5;241m=\u001b[39m \u001b[43mpd\u001b[49m\u001b[38;5;241;43m.\u001b[39;49m\u001b[43mread_excel\u001b[49m\u001b[43m(\u001b[49m\u001b[38;5;124;43m\"\u001b[39;49m\u001b[38;5;124;43m/home/node1/Documents/uic/FilesUsed/UIC_VW_Assessment_AD6_Rec_All.xlsx\u001b[39;49m\u001b[38;5;124;43m\"\u001b[39;49m\u001b[43m)\u001b[49m\n",
      "File \u001b[0;32m~/Documents/uic/venv/lib/python3.12/site-packages/pandas/io/excel/_base.py:495\u001b[0m, in \u001b[0;36mread_excel\u001b[0;34m(io, sheet_name, header, names, index_col, usecols, dtype, engine, converters, true_values, false_values, skiprows, nrows, na_values, keep_default_na, na_filter, verbose, parse_dates, date_parser, date_format, thousands, decimal, comment, skipfooter, storage_options, dtype_backend, engine_kwargs)\u001b[0m\n\u001b[1;32m    493\u001b[0m \u001b[38;5;28;01mif\u001b[39;00m \u001b[38;5;129;01mnot\u001b[39;00m \u001b[38;5;28misinstance\u001b[39m(io, ExcelFile):\n\u001b[1;32m    494\u001b[0m     should_close \u001b[38;5;241m=\u001b[39m \u001b[38;5;28;01mTrue\u001b[39;00m\n\u001b[0;32m--> 495\u001b[0m     io \u001b[38;5;241m=\u001b[39m \u001b[43mExcelFile\u001b[49m\u001b[43m(\u001b[49m\n\u001b[1;32m    496\u001b[0m \u001b[43m        \u001b[49m\u001b[43mio\u001b[49m\u001b[43m,\u001b[49m\n\u001b[1;32m    497\u001b[0m \u001b[43m        \u001b[49m\u001b[43mstorage_options\u001b[49m\u001b[38;5;241;43m=\u001b[39;49m\u001b[43mstorage_options\u001b[49m\u001b[43m,\u001b[49m\n\u001b[1;32m    498\u001b[0m \u001b[43m        \u001b[49m\u001b[43mengine\u001b[49m\u001b[38;5;241;43m=\u001b[39;49m\u001b[43mengine\u001b[49m\u001b[43m,\u001b[49m\n\u001b[1;32m    499\u001b[0m \u001b[43m        \u001b[49m\u001b[43mengine_kwargs\u001b[49m\u001b[38;5;241;43m=\u001b[39;49m\u001b[43mengine_kwargs\u001b[49m\u001b[43m,\u001b[49m\n\u001b[1;32m    500\u001b[0m \u001b[43m    \u001b[49m\u001b[43m)\u001b[49m\n\u001b[1;32m    501\u001b[0m \u001b[38;5;28;01melif\u001b[39;00m engine \u001b[38;5;129;01mand\u001b[39;00m engine \u001b[38;5;241m!=\u001b[39m io\u001b[38;5;241m.\u001b[39mengine:\n\u001b[1;32m    502\u001b[0m     \u001b[38;5;28;01mraise\u001b[39;00m \u001b[38;5;167;01mValueError\u001b[39;00m(\n\u001b[1;32m    503\u001b[0m         \u001b[38;5;124m\"\u001b[39m\u001b[38;5;124mEngine should not be specified when passing \u001b[39m\u001b[38;5;124m\"\u001b[39m\n\u001b[1;32m    504\u001b[0m         \u001b[38;5;124m\"\u001b[39m\u001b[38;5;124man ExcelFile - ExcelFile already has the engine set\u001b[39m\u001b[38;5;124m\"\u001b[39m\n\u001b[1;32m    505\u001b[0m     )\n",
      "File \u001b[0;32m~/Documents/uic/venv/lib/python3.12/site-packages/pandas/io/excel/_base.py:1550\u001b[0m, in \u001b[0;36mExcelFile.__init__\u001b[0;34m(self, path_or_buffer, engine, storage_options, engine_kwargs)\u001b[0m\n\u001b[1;32m   1548\u001b[0m     ext \u001b[38;5;241m=\u001b[39m \u001b[38;5;124m\"\u001b[39m\u001b[38;5;124mxls\u001b[39m\u001b[38;5;124m\"\u001b[39m\n\u001b[1;32m   1549\u001b[0m \u001b[38;5;28;01melse\u001b[39;00m:\n\u001b[0;32m-> 1550\u001b[0m     ext \u001b[38;5;241m=\u001b[39m \u001b[43minspect_excel_format\u001b[49m\u001b[43m(\u001b[49m\n\u001b[1;32m   1551\u001b[0m \u001b[43m        \u001b[49m\u001b[43mcontent_or_path\u001b[49m\u001b[38;5;241;43m=\u001b[39;49m\u001b[43mpath_or_buffer\u001b[49m\u001b[43m,\u001b[49m\u001b[43m \u001b[49m\u001b[43mstorage_options\u001b[49m\u001b[38;5;241;43m=\u001b[39;49m\u001b[43mstorage_options\u001b[49m\n\u001b[1;32m   1552\u001b[0m \u001b[43m    \u001b[49m\u001b[43m)\u001b[49m\n\u001b[1;32m   1553\u001b[0m     \u001b[38;5;28;01mif\u001b[39;00m ext \u001b[38;5;129;01mis\u001b[39;00m \u001b[38;5;28;01mNone\u001b[39;00m:\n\u001b[1;32m   1554\u001b[0m         \u001b[38;5;28;01mraise\u001b[39;00m \u001b[38;5;167;01mValueError\u001b[39;00m(\n\u001b[1;32m   1555\u001b[0m             \u001b[38;5;124m\"\u001b[39m\u001b[38;5;124mExcel file format cannot be determined, you must specify \u001b[39m\u001b[38;5;124m\"\u001b[39m\n\u001b[1;32m   1556\u001b[0m             \u001b[38;5;124m\"\u001b[39m\u001b[38;5;124man engine manually.\u001b[39m\u001b[38;5;124m\"\u001b[39m\n\u001b[1;32m   1557\u001b[0m         )\n",
      "File \u001b[0;32m~/Documents/uic/venv/lib/python3.12/site-packages/pandas/io/excel/_base.py:1402\u001b[0m, in \u001b[0;36minspect_excel_format\u001b[0;34m(content_or_path, storage_options)\u001b[0m\n\u001b[1;32m   1399\u001b[0m \u001b[38;5;28;01mif\u001b[39;00m \u001b[38;5;28misinstance\u001b[39m(content_or_path, \u001b[38;5;28mbytes\u001b[39m):\n\u001b[1;32m   1400\u001b[0m     content_or_path \u001b[38;5;241m=\u001b[39m BytesIO(content_or_path)\n\u001b[0;32m-> 1402\u001b[0m \u001b[38;5;28;01mwith\u001b[39;00m \u001b[43mget_handle\u001b[49m\u001b[43m(\u001b[49m\n\u001b[1;32m   1403\u001b[0m \u001b[43m    \u001b[49m\u001b[43mcontent_or_path\u001b[49m\u001b[43m,\u001b[49m\u001b[43m \u001b[49m\u001b[38;5;124;43m\"\u001b[39;49m\u001b[38;5;124;43mrb\u001b[39;49m\u001b[38;5;124;43m\"\u001b[39;49m\u001b[43m,\u001b[49m\u001b[43m \u001b[49m\u001b[43mstorage_options\u001b[49m\u001b[38;5;241;43m=\u001b[39;49m\u001b[43mstorage_options\u001b[49m\u001b[43m,\u001b[49m\u001b[43m \u001b[49m\u001b[43mis_text\u001b[49m\u001b[38;5;241;43m=\u001b[39;49m\u001b[38;5;28;43;01mFalse\u001b[39;49;00m\n\u001b[1;32m   1404\u001b[0m \u001b[43m\u001b[49m\u001b[43m)\u001b[49m \u001b[38;5;28;01mas\u001b[39;00m handle:\n\u001b[1;32m   1405\u001b[0m     stream \u001b[38;5;241m=\u001b[39m handle\u001b[38;5;241m.\u001b[39mhandle\n\u001b[1;32m   1406\u001b[0m     stream\u001b[38;5;241m.\u001b[39mseek(\u001b[38;5;241m0\u001b[39m)\n",
      "File \u001b[0;32m~/Documents/uic/venv/lib/python3.12/site-packages/pandas/io/common.py:882\u001b[0m, in \u001b[0;36mget_handle\u001b[0;34m(path_or_buf, mode, encoding, compression, memory_map, is_text, errors, storage_options)\u001b[0m\n\u001b[1;32m    873\u001b[0m         handle \u001b[38;5;241m=\u001b[39m \u001b[38;5;28mopen\u001b[39m(\n\u001b[1;32m    874\u001b[0m             handle,\n\u001b[1;32m    875\u001b[0m             ioargs\u001b[38;5;241m.\u001b[39mmode,\n\u001b[0;32m   (...)\u001b[0m\n\u001b[1;32m    878\u001b[0m             newline\u001b[38;5;241m=\u001b[39m\u001b[38;5;124m\"\u001b[39m\u001b[38;5;124m\"\u001b[39m,\n\u001b[1;32m    879\u001b[0m         )\n\u001b[1;32m    880\u001b[0m     \u001b[38;5;28;01melse\u001b[39;00m:\n\u001b[1;32m    881\u001b[0m         \u001b[38;5;66;03m# Binary mode\u001b[39;00m\n\u001b[0;32m--> 882\u001b[0m         handle \u001b[38;5;241m=\u001b[39m \u001b[38;5;28;43mopen\u001b[39;49m\u001b[43m(\u001b[49m\u001b[43mhandle\u001b[49m\u001b[43m,\u001b[49m\u001b[43m \u001b[49m\u001b[43mioargs\u001b[49m\u001b[38;5;241;43m.\u001b[39;49m\u001b[43mmode\u001b[49m\u001b[43m)\u001b[49m\n\u001b[1;32m    883\u001b[0m     handles\u001b[38;5;241m.\u001b[39mappend(handle)\n\u001b[1;32m    885\u001b[0m \u001b[38;5;66;03m# Convert BytesIO or file objects passed with an encoding\u001b[39;00m\n",
      "\u001b[0;31mFileNotFoundError\u001b[0m: [Errno 2] No such file or directory: '/home/node1/Documents/uic/FilesUsed/UIC_VW_Assessment_AD6_Rec_All.xlsx'"
     ]
    }
   ],
   "source": [
    "df = pd.read_excel(\"/home/node1/Documents/uic/FilesUsed/UIC_VW_assessment_AD6_Rec_all.xlsx\")"
   ]
  },
  {
   "cell_type": "code",
   "execution_count": 7,
   "id": "8d9aa52b-ccaa-4872-a51b-c31ba9ec7ac8",
   "metadata": {},
   "outputs": [
    {
     "name": "stdout",
     "output_type": "stream",
     "text": [
      "<class 'pandas.core.frame.DataFrame'>\n",
      "RangeIndex: 8893 entries, 0 to 8892\n",
      "Data columns (total 24 columns):\n",
      " #   Column                             Non-Null Count  Dtype  \n",
      "---  ------                             --------------  -----  \n",
      " 0   Member_ID                          8893 non-null   int64  \n",
      " 1   Last_Name                          8893 non-null   object \n",
      " 2   First_Name                         8893 non-null   object \n",
      " 3   RIN                                8891 non-null   float64\n",
      " 4   Activity_ID                        8893 non-null   int64  \n",
      " 5   Assessment_ID                      8893 non-null   int64  \n",
      " 6   Info_Date_Assessed                 8893 non-null   object \n",
      " 7   Summary_Outcome_Status_ID          8893 non-null   int64  \n",
      " 8   Summary_Finished_YN                8893 non-null   bool   \n",
      " 9   Assessment_Main_YN                 8893 non-null   bool   \n",
      " 10  Activity_Closed_Reason_ID          5264 non-null   float64\n",
      " 11  PPM_Outreach_Activity_Closed_YN    8893 non-null   bool   \n",
      " 12  PPM_Outreach_Activity_Closed_Date  5237 non-null   object \n",
      " 13  PPM_Member_Phase_ID                8893 non-null   int64  \n",
      " 14  Current_Outreach_ID                8892 non-null   float64\n",
      " 15  Assessment_Phase_ID                8893 non-null   int64  \n",
      " 16  Member_Prime_ID                    8893 non-null   int64  \n",
      " 17  Class_ID                           8893 non-null   int64  \n",
      " 18  Nursing_Facility_Name              8893 non-null   object \n",
      " 19  PPM_Outreach_Activity_Prime_ID     8828 non-null   float64\n",
      " 20  Member_Closed_YN                   8893 non-null   bool   \n",
      " 21  Member_Closed_Reason_ID            1671 non-null   float64\n",
      " 22  Summary_Finished_Date              8888 non-null   object \n",
      " 23  Summary_Updated_Date               8309 non-null   object \n",
      "dtypes: bool(4), float64(5), int64(8), object(7)\n",
      "memory usage: 1.4+ MB\n"
     ]
    }
   ],
   "source": [
    "df.info()"
   ]
  },
  {
   "cell_type": "code",
   "execution_count": 8,
   "id": "8e6548e8-a030-476f-8925-2f917aab9ac5",
   "metadata": {},
   "outputs": [
    {
     "data": {
      "text/plain": [
       "Index(['Member_ID', 'Last_Name', 'First_Name', 'RIN', 'Activity_ID',\n",
       "       'Assessment_ID', 'Info_Date_Assessed', 'Summary_Outcome_Status_ID',\n",
       "       'Summary_Finished_YN', 'Assessment_Main_YN',\n",
       "       'Activity_Closed_Reason_ID', 'PPM_Outreach_Activity_Closed_YN',\n",
       "       'PPM_Outreach_Activity_Closed_Date', 'PPM_Member_Phase_ID',\n",
       "       'Current_Outreach_ID', 'Assessment_Phase_ID', 'Member_Prime_ID',\n",
       "       'Class_ID', 'Nursing_Facility_Name', 'PPM_Outreach_Activity_Prime_ID',\n",
       "       'Member_Closed_YN', 'Member_Closed_Reason_ID', 'Summary_Finished_Date',\n",
       "       'Summary_Updated_Date'],\n",
       "      dtype='object')"
      ]
     },
     "execution_count": 8,
     "metadata": {},
     "output_type": "execute_result"
    }
   ],
   "source": [
    "df.columns"
   ]
  },
  {
   "cell_type": "code",
   "execution_count": 9,
   "id": "c1db009a-7209-4cf8-9098-78153c85a45b",
   "metadata": {},
   "outputs": [],
   "source": [
    "# converting the string to datetime format\n",
    "df['Info_Date_Assessed'] = pd.to_datetime(df['Info_Date_Assessed'])"
   ]
  },
  {
   "cell_type": "code",
   "execution_count": 10,
   "id": "50981cae-c9e3-4ad2-a73e-3622dfffca61",
   "metadata": {},
   "outputs": [],
   "source": [
    "# converting the string to datetime format\n",
    "df['PPM_Outreach_Activity_Closed_Date'] = pd.to_datetime(df['PPM_Outreach_Activity_Closed_Date'])"
   ]
  },
  {
   "cell_type": "code",
   "execution_count": 11,
   "id": "c91e85e4-54f4-459c-a080-12a62b8f5618",
   "metadata": {},
   "outputs": [],
   "source": [
    "# converting the string to datetime format\n",
    "df['Summary_Finished_Date'] = pd.to_datetime(df['Summary_Finished_Date'])"
   ]
  },
  {
   "cell_type": "code",
   "execution_count": 12,
   "id": "9a64c055-a024-45b1-8d71-4a5ead0e1afc",
   "metadata": {},
   "outputs": [],
   "source": [
    "# converting the string to datetime format\n",
    "df['Summary_Updated_Date'] = pd.to_datetime(df['Summary_Updated_Date'])"
   ]
  },
  {
   "cell_type": "code",
   "execution_count": 13,
   "id": "a17c9095-b896-4557-b080-666d39c51e9e",
   "metadata": {},
   "outputs": [],
   "source": [
    "# converting the string to datetime format \n",
    "#df['PPM_Assessment_1_Info_Date_Referred']= pd.to_datetime(df['PPM_Assessment_1_Info_Date_Referred'], errors = 'coerce')"
   ]
  },
  {
   "cell_type": "code",
   "execution_count": 14,
   "id": "14c22c99-a6a0-4c66-8ed3-f86829b1915f",
   "metadata": {},
   "outputs": [
    {
     "data": {
      "text/plain": [
       "Member_ID                                     int64\n",
       "Last_Name                                    object\n",
       "First_Name                                   object\n",
       "RIN                                         float64\n",
       "Activity_ID                                   int64\n",
       "Assessment_ID                                 int64\n",
       "Info_Date_Assessed                   datetime64[ns]\n",
       "Summary_Outcome_Status_ID                     int64\n",
       "Summary_Finished_YN                            bool\n",
       "Assessment_Main_YN                             bool\n",
       "Activity_Closed_Reason_ID                   float64\n",
       "PPM_Outreach_Activity_Closed_YN                bool\n",
       "PPM_Outreach_Activity_Closed_Date    datetime64[ns]\n",
       "PPM_Member_Phase_ID                           int64\n",
       "Current_Outreach_ID                         float64\n",
       "Assessment_Phase_ID                           int64\n",
       "Member_Prime_ID                               int64\n",
       "Class_ID                                      int64\n",
       "Nursing_Facility_Name                        object\n",
       "PPM_Outreach_Activity_Prime_ID              float64\n",
       "Member_Closed_YN                               bool\n",
       "Member_Closed_Reason_ID                     float64\n",
       "Summary_Finished_Date                datetime64[ns]\n",
       "Summary_Updated_Date                 datetime64[ns]\n",
       "dtype: object"
      ]
     },
     "execution_count": 14,
     "metadata": {},
     "output_type": "execute_result"
    }
   ],
   "source": [
    "df.dtypes"
   ]
  },
  {
   "cell_type": "code",
   "execution_count": 15,
   "id": "51daa0d0-9989-40e9-927c-4cbdc264213c",
   "metadata": {},
   "outputs": [
    {
     "data": {
      "text/plain": [
       "5076    108784919.0\n",
       "1791    351481528.0\n",
       "798     157266289.0\n",
       "4631    104931969.0\n",
       "5175    154184881.0\n",
       "1006    963875877.0\n",
       "4110    387853138.0\n",
       "4266    193234788.0\n",
       "4291    219453131.0\n",
       "4596     72761604.0\n",
       "4656    134447341.0\n",
       "2084    152933776.0\n",
       "4177    188019426.0\n",
       "2516    140922097.0\n",
       "699     963283460.0\n",
       "Name: RIN, dtype: float64"
      ]
     },
     "execution_count": 15,
     "metadata": {},
     "output_type": "execute_result"
    }
   ],
   "source": [
    "df['RIN'].sample(15)"
   ]
  },
  {
   "cell_type": "code",
   "execution_count": 16,
   "id": "55b6a6e6-38b2-4859-bc6e-42f01deb241a",
   "metadata": {},
   "outputs": [],
   "source": [
    "# Convert RIN to string\n",
    "df['RIN'] = df['RIN'].astype('str') "
   ]
  },
  {
   "cell_type": "code",
   "execution_count": 16,
   "id": "5496a9ed-3d5a-4128-9edc-2bbb51a9d64f",
   "metadata": {},
   "outputs": [],
   "source": [
    "# Convert RIN to string\n",
    "df['RIN'] = df['RIN'].astype('str') "
   ]
  },
  {
   "cell_type": "code",
   "execution_count": 17,
   "id": "9cb658bf-3a2f-4252-8980-880f5f0c0fd7",
   "metadata": {},
   "outputs": [
    {
     "data": {
      "text/plain": [
       "6169    222117277.0\n",
       "177      45165602.0\n",
       "4679    924958606.0\n",
       "395     309678357.0\n",
       "7448     52456894.0\n",
       "6436    224897199.0\n",
       "8148    134765932.0\n",
       "9       195882345.0\n",
       "3046    346442239.0\n",
       "6103    923204051.0\n",
       "4852    366209484.0\n",
       "6716    148211808.0\n",
       "1365    206071524.0\n",
       "2122    171821697.0\n",
       "4702    346945520.0\n",
       "Name: RIN, dtype: object"
      ]
     },
     "execution_count": 17,
     "metadata": {},
     "output_type": "execute_result"
    }
   ],
   "source": [
    "df['RIN'].sample(15)"
   ]
  },
  {
   "cell_type": "code",
   "execution_count": 18,
   "id": "49b723df-328f-4f2f-a2c6-7f4ac8e6517b",
   "metadata": {},
   "outputs": [],
   "source": [
    "# add leading zeros to Member_RIN\n",
    "df['RIN'] = df['RIN'].str.zfill(11)"
   ]
  },
  {
   "cell_type": "code",
   "execution_count": 19,
   "id": "32a66682-2648-48eb-9eaa-e9e12fa0a695",
   "metadata": {},
   "outputs": [
    {
     "data": {
      "text/plain": [
       "7967    138961750.0\n",
       "7842    069895845.0\n",
       "1099    369588835.0\n",
       "2821    331149591.0\n",
       "6365    119733756.0\n",
       "6611    173165085.0\n",
       "7497    149979841.0\n",
       "1819    179489851.0\n",
       "7684    164061293.0\n",
       "8401    155872823.0\n",
       "5258    425143518.0\n",
       "2925    081954323.0\n",
       "8493    226449668.0\n",
       "1662    359705852.0\n",
       "7492    190820738.0\n",
       "Name: RIN, dtype: object"
      ]
     },
     "execution_count": 19,
     "metadata": {},
     "output_type": "execute_result"
    }
   ],
   "source": [
    "df['RIN'].sample(15)"
   ]
  },
  {
   "cell_type": "code",
   "execution_count": 20,
   "id": "180055ca-f1ab-45b0-82bd-1227c792b1c7",
   "metadata": {},
   "outputs": [],
   "source": [
    "#export file without index column\n",
    "df.to_excel(\"UIC_VW_Assessment_AD6_Rec_All.xlsx\", index=False)"
   ]
  },
  {
   "cell_type": "code",
   "execution_count": 21,
   "id": "c70dcc48-110f-4473-a218-98b9d789cce7",
   "metadata": {},
   "outputs": [
    {
     "name": "stdout",
     "output_type": "stream",
     "text": [
      "2024-09-05 15:19:29.574987\n"
     ]
    }
   ],
   "source": [
    "# Create a timestamp object\n",
    "timestamp = pd.Timestamp(datetime.datetime.now())\n",
    "\n",
    "# Print the timestamp\n",
    "print(timestamp)"
   ]
  },
  {
   "cell_type": "code",
   "execution_count": 22,
   "id": "acc90d14-d687-4917-945d-6b7ea3cf0137",
   "metadata": {},
   "outputs": [],
   "source": [
    "#the end!"
   ]
  },
  {
   "cell_type": "code",
   "execution_count": null,
   "id": "619c0970-3ae5-4980-8fd5-67c0a16216c1",
   "metadata": {},
   "outputs": [],
   "source": []
  },
  {
   "cell_type": "code",
   "execution_count": null,
   "id": "4e50a5ce-8cae-4eac-a149-0bf9c0778cbd",
   "metadata": {},
   "outputs": [],
   "source": []
  }
 ],
 "metadata": {
  "kernelspec": {
   "display_name": "venv",
   "language": "python",
   "name": "python3"
  },
  "language_info": {
   "codemirror_mode": {
    "name": "ipython",
    "version": 3
   },
   "file_extension": ".py",
   "mimetype": "text/x-python",
   "name": "python",
   "nbconvert_exporter": "python",
   "pygments_lexer": "ipython3",
   "version": "3.12.3"
  }
 },
 "nbformat": 4,
 "nbformat_minor": 5
}
