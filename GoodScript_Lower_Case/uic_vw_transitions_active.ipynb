{
 "cells": [
  {
   "cell_type": "code",
   "execution_count": 1,
   "id": "2edbeabb",
   "metadata": {},
   "outputs": [],
   "source": [
    "import pandas as pd\n",
    "import numpy as np\n",
    "import time\n",
    "import re\n",
    "import os\n",
    "import datetime"
   ]
  },
  {
   "cell_type": "code",
   "execution_count": 2,
   "id": "4f146531-7777-4cfc-9383-fb5cf4817f51",
   "metadata": {},
   "outputs": [],
   "source": [
    "import warnings\n",
    "warnings.filterwarnings('ignore')\n",
    "warnings.simplefilter('ignore')"
   ]
  },
  {
   "cell_type": "code",
   "execution_count": 3,
   "id": "ce60e637-0d8b-4e2c-9c2d-2591c01793b2",
   "metadata": {},
   "outputs": [],
   "source": [
    "# os.chdir(r'C:/Users/vwalds/Documents/My Data Sources/')"
   ]
  },
  {
   "cell_type": "code",
   "execution_count": 4,
   "id": "bd6c9099-b615-42a2-84b6-cab021ef3888",
   "metadata": {},
   "outputs": [],
   "source": [
    "# Grab Current Time Before Running the Code\n",
    "start = time.time()"
   ]
  },
  {
   "cell_type": "code",
   "execution_count": 5,
   "id": "d4c0cbec-8afc-4dfb-aee3-33abb7d622b1",
   "metadata": {},
   "outputs": [],
   "source": [
    "#UIC_VW_Transitions_Active\n"
   ]
  },
  {
   "cell_type": "code",
   "execution_count": 6,
   "id": "ce513d12-555b-4e0d-93b7-b596f78be1c5",
   "metadata": {},
   "outputs": [],
   "source": [
    "df = pd.read_excel(\"/home/node1/Documents/uic/FilesUsed/UIC_VW_Transitions_Active.xlsx\")"
   ]
  },
  {
   "cell_type": "code",
   "execution_count": 7,
   "id": "8d9aa52b-ccaa-4872-a51b-c31ba9ec7ac8",
   "metadata": {},
   "outputs": [
    {
     "name": "stdout",
     "output_type": "stream",
     "text": [
      "<class 'pandas.core.frame.DataFrame'>\n",
      "RangeIndex: 3704 entries, 0 to 3703\n",
      "Data columns (total 39 columns):\n",
      " #   Column                           Non-Null Count  Dtype  \n",
      "---  ------                           --------------  -----  \n",
      " 0   Member_Phase_ID                  3704 non-null   int64  \n",
      " 1   Member_Prime_ID                  3703 non-null   float64\n",
      " 2   Nursing_Facility_ID              3704 non-null   int64  \n",
      " 3   Activity_NF_ID                   3704 non-null   int64  \n",
      " 4   Member_ID                        3704 non-null   int64  \n",
      " 5   PPM_Member_Last_Name             3704 non-null   object \n",
      " 6   PPM_Member_First_Name            3704 non-null   object \n",
      " 7   PPM_Member_RIN                   3704 non-null   int64  \n",
      " 8   Transition_Date                  3704 non-null   object \n",
      " 9   PPM_Member_Frozen_YN             3704 non-null   bool   \n",
      " 10  PPM_Member_Closed_YN             3704 non-null   bool   \n",
      " 11  Activity_ID                      3704 non-null   int64  \n",
      " 12  PPM_Outreach_Activity_Closed_YN  3704 non-null   bool   \n",
      " 13  Activity_Closed_Date             2630 non-null   object \n",
      " 14  Activity_Closed_Reason_ID        2633 non-null   float64\n",
      " 15  Transition_Assessment_ID         3704 non-null   int64  \n",
      " 16  Activity_Prime_ID                3201 non-null   float64\n",
      " 17  Nursing_Facility_Name            3704 non-null   object \n",
      " 18  Case_Prime                       3201 non-null   object \n",
      " 19  PPM_Nursing_Facility_Class_ID    3704 non-null   int64  \n",
      " 20  Not_Proceeding_ID                710 non-null    float64\n",
      " 21  Not_Proceeding_Reason_ID         710 non-null    float64\n",
      " 22  FX_Event_Date                    708 non-null    object \n",
      " 23  Member_Closed_Reason_ID          416 non-null    float64\n",
      " 24  Current_Outreach_ID              3704 non-null   int64  \n",
      " 25  Transition_ID                    3704 non-null   int64  \n",
      " 26  Current_Address_Location_ID      3701 non-null   float64\n",
      " 27  Member_Address                   3425 non-null   object \n",
      " 28  Member_City                      2990 non-null   object \n",
      " 29  Member_State                     3248 non-null   object \n",
      " 30  Member_ZIP                       3567 non-null   float64\n",
      " 31  Member_Phone                     3544 non-null   object \n",
      " 32  Activity_Assigned_QM             2731 non-null   float64\n",
      " 33  Activity_Assigned_QM_Date        2044 non-null   object \n",
      " 34  Activity_Last_QM_Visit_Date      1961 non-null   object \n",
      " 35  PreTransition_Prime_ID           2274 non-null   float64\n",
      " 36  Transition_Comments              537 non-null    object \n",
      " 37  Post_Transition_Prime_ID         3201 non-null   float64\n",
      " 38  PPM_Member_DOB                   3704 non-null   object \n",
      "dtypes: bool(3), float64(11), int64(10), object(15)\n",
      "memory usage: 1.0+ MB\n"
     ]
    }
   ],
   "source": [
    "df.info()"
   ]
  },
  {
   "cell_type": "code",
   "execution_count": 8,
   "id": "8e6548e8-a030-476f-8925-2f917aab9ac5",
   "metadata": {},
   "outputs": [
    {
     "data": {
      "text/plain": [
       "Index(['Member_Phase_ID', 'Member_Prime_ID', 'Nursing_Facility_ID',\n",
       "       'Activity_NF_ID', 'Member_ID', 'PPM_Member_Last_Name',\n",
       "       'PPM_Member_First_Name', 'PPM_Member_RIN', 'Transition_Date',\n",
       "       'PPM_Member_Frozen_YN', 'PPM_Member_Closed_YN', 'Activity_ID',\n",
       "       'PPM_Outreach_Activity_Closed_YN', 'Activity_Closed_Date',\n",
       "       'Activity_Closed_Reason_ID', 'Transition_Assessment_ID',\n",
       "       'Activity_Prime_ID', 'Nursing_Facility_Name', 'Case_Prime',\n",
       "       'PPM_Nursing_Facility_Class_ID', 'Not_Proceeding_ID',\n",
       "       'Not_Proceeding_Reason_ID', 'FX_Event_Date', 'Member_Closed_Reason_ID',\n",
       "       'Current_Outreach_ID', 'Transition_ID', 'Current_Address_Location_ID',\n",
       "       'Member_Address', 'Member_City', 'Member_State', 'Member_ZIP',\n",
       "       'Member_Phone', 'Activity_Assigned_QM', 'Activity_Assigned_QM_Date',\n",
       "       'Activity_Last_QM_Visit_Date', 'PreTransition_Prime_ID',\n",
       "       'Transition_Comments', 'Post_Transition_Prime_ID', 'PPM_Member_DOB'],\n",
       "      dtype='object')"
      ]
     },
     "execution_count": 8,
     "metadata": {},
     "output_type": "execute_result"
    }
   ],
   "source": [
    "df.columns"
   ]
  },
  {
   "cell_type": "code",
   "execution_count": 9,
   "id": "c1db009a-7209-4cf8-9098-78153c85a45b",
   "metadata": {},
   "outputs": [],
   "source": [
    "# converting the string to datetime format\n",
    "df['Transition_Date'] = pd.to_datetime(df['Transition_Date'])"
   ]
  },
  {
   "cell_type": "code",
   "execution_count": 10,
   "id": "50981cae-c9e3-4ad2-a73e-3622dfffca61",
   "metadata": {},
   "outputs": [
    {
     "ename": "ValueError",
     "evalue": "time data \"8/20/2022\" doesn't match format \"%m/%d/%Y %I:%M:%S %p\", at position 24. You might want to try:\n    - passing `format` if your strings have a consistent format;\n    - passing `format='ISO8601'` if your strings are all ISO8601 but not necessarily in exactly the same format;\n    - passing `format='mixed'`, and the format will be inferred for each element individually. You might want to use `dayfirst` alongside this.",
     "output_type": "error",
     "traceback": [
      "\u001b[0;31m---------------------------------------------------------------------------\u001b[0m",
      "\u001b[0;31mValueError\u001b[0m                                Traceback (most recent call last)",
      "Cell \u001b[0;32mIn[10], line 2\u001b[0m\n\u001b[1;32m      1\u001b[0m \u001b[38;5;66;03m# converting the string to datetime format\u001b[39;00m\n\u001b[0;32m----> 2\u001b[0m df[\u001b[38;5;124m'\u001b[39m\u001b[38;5;124mActivity_Closed_Date\u001b[39m\u001b[38;5;124m'\u001b[39m] \u001b[38;5;241m=\u001b[39m \u001b[43mpd\u001b[49m\u001b[38;5;241;43m.\u001b[39;49m\u001b[43mto_datetime\u001b[49m\u001b[43m(\u001b[49m\u001b[43mdf\u001b[49m\u001b[43m[\u001b[49m\u001b[38;5;124;43m'\u001b[39;49m\u001b[38;5;124;43mActivity_Closed_Date\u001b[39;49m\u001b[38;5;124;43m'\u001b[39;49m\u001b[43m]\u001b[49m\u001b[43m)\u001b[49m\n",
      "File \u001b[0;32m~/Documents/uic/venv/lib/python3.12/site-packages/pandas/core/tools/datetimes.py:1063\u001b[0m, in \u001b[0;36mto_datetime\u001b[0;34m(arg, errors, dayfirst, yearfirst, utc, format, exact, unit, infer_datetime_format, origin, cache)\u001b[0m\n\u001b[1;32m   1061\u001b[0m             result \u001b[38;5;241m=\u001b[39m arg\u001b[38;5;241m.\u001b[39mtz_localize(\u001b[38;5;124m\"\u001b[39m\u001b[38;5;124mutc\u001b[39m\u001b[38;5;124m\"\u001b[39m)\n\u001b[1;32m   1062\u001b[0m \u001b[38;5;28;01melif\u001b[39;00m \u001b[38;5;28misinstance\u001b[39m(arg, ABCSeries):\n\u001b[0;32m-> 1063\u001b[0m     cache_array \u001b[38;5;241m=\u001b[39m \u001b[43m_maybe_cache\u001b[49m\u001b[43m(\u001b[49m\u001b[43marg\u001b[49m\u001b[43m,\u001b[49m\u001b[43m \u001b[49m\u001b[38;5;28;43mformat\u001b[39;49m\u001b[43m,\u001b[49m\u001b[43m \u001b[49m\u001b[43mcache\u001b[49m\u001b[43m,\u001b[49m\u001b[43m \u001b[49m\u001b[43mconvert_listlike\u001b[49m\u001b[43m)\u001b[49m\n\u001b[1;32m   1064\u001b[0m     \u001b[38;5;28;01mif\u001b[39;00m \u001b[38;5;129;01mnot\u001b[39;00m cache_array\u001b[38;5;241m.\u001b[39mempty:\n\u001b[1;32m   1065\u001b[0m         result \u001b[38;5;241m=\u001b[39m arg\u001b[38;5;241m.\u001b[39mmap(cache_array)\n",
      "File \u001b[0;32m~/Documents/uic/venv/lib/python3.12/site-packages/pandas/core/tools/datetimes.py:247\u001b[0m, in \u001b[0;36m_maybe_cache\u001b[0;34m(arg, format, cache, convert_listlike)\u001b[0m\n\u001b[1;32m    245\u001b[0m unique_dates \u001b[38;5;241m=\u001b[39m unique(arg)\n\u001b[1;32m    246\u001b[0m \u001b[38;5;28;01mif\u001b[39;00m \u001b[38;5;28mlen\u001b[39m(unique_dates) \u001b[38;5;241m<\u001b[39m \u001b[38;5;28mlen\u001b[39m(arg):\n\u001b[0;32m--> 247\u001b[0m     cache_dates \u001b[38;5;241m=\u001b[39m \u001b[43mconvert_listlike\u001b[49m\u001b[43m(\u001b[49m\u001b[43munique_dates\u001b[49m\u001b[43m,\u001b[49m\u001b[43m \u001b[49m\u001b[38;5;28;43mformat\u001b[39;49m\u001b[43m)\u001b[49m\n\u001b[1;32m    248\u001b[0m     \u001b[38;5;66;03m# GH#45319\u001b[39;00m\n\u001b[1;32m    249\u001b[0m     \u001b[38;5;28;01mtry\u001b[39;00m:\n",
      "File \u001b[0;32m~/Documents/uic/venv/lib/python3.12/site-packages/pandas/core/tools/datetimes.py:433\u001b[0m, in \u001b[0;36m_convert_listlike_datetimes\u001b[0;34m(arg, format, name, utc, unit, errors, dayfirst, yearfirst, exact)\u001b[0m\n\u001b[1;32m    431\u001b[0m \u001b[38;5;66;03m# `format` could be inferred, or user didn't ask for mixed-format parsing.\u001b[39;00m\n\u001b[1;32m    432\u001b[0m \u001b[38;5;28;01mif\u001b[39;00m \u001b[38;5;28mformat\u001b[39m \u001b[38;5;129;01mis\u001b[39;00m \u001b[38;5;129;01mnot\u001b[39;00m \u001b[38;5;28;01mNone\u001b[39;00m \u001b[38;5;129;01mand\u001b[39;00m \u001b[38;5;28mformat\u001b[39m \u001b[38;5;241m!=\u001b[39m \u001b[38;5;124m\"\u001b[39m\u001b[38;5;124mmixed\u001b[39m\u001b[38;5;124m\"\u001b[39m:\n\u001b[0;32m--> 433\u001b[0m     \u001b[38;5;28;01mreturn\u001b[39;00m \u001b[43m_array_strptime_with_fallback\u001b[49m\u001b[43m(\u001b[49m\u001b[43marg\u001b[49m\u001b[43m,\u001b[49m\u001b[43m \u001b[49m\u001b[43mname\u001b[49m\u001b[43m,\u001b[49m\u001b[43m \u001b[49m\u001b[43mutc\u001b[49m\u001b[43m,\u001b[49m\u001b[43m \u001b[49m\u001b[38;5;28;43mformat\u001b[39;49m\u001b[43m,\u001b[49m\u001b[43m \u001b[49m\u001b[43mexact\u001b[49m\u001b[43m,\u001b[49m\u001b[43m \u001b[49m\u001b[43merrors\u001b[49m\u001b[43m)\u001b[49m\n\u001b[1;32m    435\u001b[0m result, tz_parsed \u001b[38;5;241m=\u001b[39m objects_to_datetime64(\n\u001b[1;32m    436\u001b[0m     arg,\n\u001b[1;32m    437\u001b[0m     dayfirst\u001b[38;5;241m=\u001b[39mdayfirst,\n\u001b[0;32m   (...)\u001b[0m\n\u001b[1;32m    441\u001b[0m     allow_object\u001b[38;5;241m=\u001b[39m\u001b[38;5;28;01mTrue\u001b[39;00m,\n\u001b[1;32m    442\u001b[0m )\n\u001b[1;32m    444\u001b[0m \u001b[38;5;28;01mif\u001b[39;00m tz_parsed \u001b[38;5;129;01mis\u001b[39;00m \u001b[38;5;129;01mnot\u001b[39;00m \u001b[38;5;28;01mNone\u001b[39;00m:\n\u001b[1;32m    445\u001b[0m     \u001b[38;5;66;03m# We can take a shortcut since the datetime64 numpy array\u001b[39;00m\n\u001b[1;32m    446\u001b[0m     \u001b[38;5;66;03m# is in UTC\u001b[39;00m\n",
      "File \u001b[0;32m~/Documents/uic/venv/lib/python3.12/site-packages/pandas/core/tools/datetimes.py:467\u001b[0m, in \u001b[0;36m_array_strptime_with_fallback\u001b[0;34m(arg, name, utc, fmt, exact, errors)\u001b[0m\n\u001b[1;32m    456\u001b[0m \u001b[38;5;28;01mdef\u001b[39;00m\u001b[38;5;250m \u001b[39m\u001b[38;5;21m_array_strptime_with_fallback\u001b[39m(\n\u001b[1;32m    457\u001b[0m     arg,\n\u001b[1;32m    458\u001b[0m     name,\n\u001b[0;32m   (...)\u001b[0m\n\u001b[1;32m    462\u001b[0m     errors: \u001b[38;5;28mstr\u001b[39m,\n\u001b[1;32m    463\u001b[0m ) \u001b[38;5;241m-\u001b[39m\u001b[38;5;241m>\u001b[39m Index:\n\u001b[1;32m    464\u001b[0m \u001b[38;5;250m    \u001b[39m\u001b[38;5;124;03m\"\"\"\u001b[39;00m\n\u001b[1;32m    465\u001b[0m \u001b[38;5;124;03m    Call array_strptime, with fallback behavior depending on 'errors'.\u001b[39;00m\n\u001b[1;32m    466\u001b[0m \u001b[38;5;124;03m    \"\"\"\u001b[39;00m\n\u001b[0;32m--> 467\u001b[0m     result, tz_out \u001b[38;5;241m=\u001b[39m \u001b[43marray_strptime\u001b[49m\u001b[43m(\u001b[49m\u001b[43marg\u001b[49m\u001b[43m,\u001b[49m\u001b[43m \u001b[49m\u001b[43mfmt\u001b[49m\u001b[43m,\u001b[49m\u001b[43m \u001b[49m\u001b[43mexact\u001b[49m\u001b[38;5;241;43m=\u001b[39;49m\u001b[43mexact\u001b[49m\u001b[43m,\u001b[49m\u001b[43m \u001b[49m\u001b[43merrors\u001b[49m\u001b[38;5;241;43m=\u001b[39;49m\u001b[43merrors\u001b[49m\u001b[43m,\u001b[49m\u001b[43m \u001b[49m\u001b[43mutc\u001b[49m\u001b[38;5;241;43m=\u001b[39;49m\u001b[43mutc\u001b[49m\u001b[43m)\u001b[49m\n\u001b[1;32m    468\u001b[0m     \u001b[38;5;28;01mif\u001b[39;00m tz_out \u001b[38;5;129;01mis\u001b[39;00m \u001b[38;5;129;01mnot\u001b[39;00m \u001b[38;5;28;01mNone\u001b[39;00m:\n\u001b[1;32m    469\u001b[0m         unit \u001b[38;5;241m=\u001b[39m np\u001b[38;5;241m.\u001b[39mdatetime_data(result\u001b[38;5;241m.\u001b[39mdtype)[\u001b[38;5;241m0\u001b[39m]\n",
      "File \u001b[0;32mstrptime.pyx:501\u001b[0m, in \u001b[0;36mpandas._libs.tslibs.strptime.array_strptime\u001b[0;34m()\u001b[0m\n",
      "File \u001b[0;32mstrptime.pyx:451\u001b[0m, in \u001b[0;36mpandas._libs.tslibs.strptime.array_strptime\u001b[0;34m()\u001b[0m\n",
      "File \u001b[0;32mstrptime.pyx:583\u001b[0m, in \u001b[0;36mpandas._libs.tslibs.strptime._parse_with_format\u001b[0;34m()\u001b[0m\n",
      "\u001b[0;31mValueError\u001b[0m: time data \"8/20/2022\" doesn't match format \"%m/%d/%Y %I:%M:%S %p\", at position 24. You might want to try:\n    - passing `format` if your strings have a consistent format;\n    - passing `format='ISO8601'` if your strings are all ISO8601 but not necessarily in exactly the same format;\n    - passing `format='mixed'`, and the format will be inferred for each element individually. You might want to use `dayfirst` alongside this."
     ]
    }
   ],
   "source": [
    "# converting the string to datetime format\n",
    "df['Activity_Closed_Date'] = pd.to_datetime(df['Activity_Closed_Date'])"
   ]
  },
  {
   "cell_type": "code",
   "execution_count": 11,
   "id": "c91e85e4-54f4-459c-a080-12a62b8f5618",
   "metadata": {},
   "outputs": [],
   "source": [
    "# converting the string to datetime format\n",
    "df['FX_Event_Date'] = pd.to_datetime(df['FX_Event_Date'])"
   ]
  },
  {
   "cell_type": "code",
   "execution_count": 12,
   "id": "9a64c055-a024-45b1-8d71-4a5ead0e1afc",
   "metadata": {},
   "outputs": [],
   "source": [
    "# converting the string to datetime format\n",
    "df['Activity_Assigned_QM_Date'] = pd.to_datetime(df['Activity_Assigned_QM_Date'])"
   ]
  },
  {
   "cell_type": "code",
   "execution_count": 13,
   "id": "c5e46b3f-0054-4ef6-92e8-6c102c276292",
   "metadata": {},
   "outputs": [],
   "source": [
    "# converting the string to datetime format\n",
    "df['Activity_Last_QM_Visit_Date'] = pd.to_datetime(df['Activity_Last_QM_Visit_Date'])"
   ]
  },
  {
   "cell_type": "code",
   "execution_count": 14,
   "id": "14c22c99-a6a0-4c66-8ed3-f86829b1915f",
   "metadata": {},
   "outputs": [
    {
     "data": {
      "text/plain": [
       "Member_Phase_ID                             int64\n",
       "Member_Prime_ID                           float64\n",
       "Nursing_Facility_ID                         int64\n",
       "Activity_NF_ID                              int64\n",
       "Member_ID                                   int64\n",
       "PPM_Member_Last_Name                       object\n",
       "PPM_Member_First_Name                      object\n",
       "PPM_Member_RIN                              int64\n",
       "Transition_Date                    datetime64[ns]\n",
       "PPM_Member_Frozen_YN                         bool\n",
       "PPM_Member_Closed_YN                         bool\n",
       "Activity_ID                                 int64\n",
       "PPM_Outreach_Activity_Closed_YN              bool\n",
       "Activity_Closed_Date               datetime64[ns]\n",
       "Activity_Closed_Reason_ID                 float64\n",
       "Transition_Assessment_ID                    int64\n",
       "Activity_Prime_ID                         float64\n",
       "Nursing_Facility_Name                      object\n",
       "Case_Prime                                 object\n",
       "PPM_Nursing_Facility_Class_ID               int64\n",
       "Not_Proceeding_ID                         float64\n",
       "Not_Proceeding_Reason_ID                  float64\n",
       "FX_Event_Date                      datetime64[ns]\n",
       "Member_Closed_Reason_ID                   float64\n",
       "Current_Outreach_ID                         int64\n",
       "Transition_ID                               int64\n",
       "Current_Address_Location_ID               float64\n",
       "Member_Address                             object\n",
       "Member_City                                object\n",
       "Member_State                               object\n",
       "Member_ZIP                                float64\n",
       "Member_Phone                               object\n",
       "Activity_Assigned_QM                      float64\n",
       "Activity_Assigned_QM_Date          datetime64[ns]\n",
       "Activity_Last_QM_Visit_Date        datetime64[ns]\n",
       "PreTransition_Prime_ID                    float64\n",
       "Transition_Comments                        object\n",
       "Post_Transition_Prime_ID                  float64\n",
       "dtype: object"
      ]
     },
     "execution_count": 14,
     "metadata": {},
     "output_type": "execute_result"
    }
   ],
   "source": [
    "df.dtypes"
   ]
  },
  {
   "cell_type": "code",
   "execution_count": 15,
   "id": "51daa0d0-9989-40e9-927c-4cbdc264213c",
   "metadata": {},
   "outputs": [
    {
     "data": {
      "text/plain": [
       "1950    349346890\n",
       "1033     49061385\n",
       "490     140689894\n",
       "3069    434541462\n",
       "201     219354628\n",
       "486     181656331\n",
       "1685    224322776\n",
       "128     173923780\n",
       "2180    155916935\n",
       "2792     76787019\n",
       "Name: PPM_Member_RIN, dtype: int64"
      ]
     },
     "execution_count": 15,
     "metadata": {},
     "output_type": "execute_result"
    }
   ],
   "source": [
    "df['PPM_Member_RIN'].sample(10)"
   ]
  },
  {
   "cell_type": "code",
   "execution_count": 16,
   "id": "55b6a6e6-38b2-4859-bc6e-42f01deb241a",
   "metadata": {},
   "outputs": [],
   "source": [
    "# Convert RIN to string\n",
    "df['PPM_Member_RIN'] = df['PPM_Member_RIN'].astype('str') "
   ]
  },
  {
   "cell_type": "code",
   "execution_count": 16,
   "id": "d17841f4-bf61-4cb0-a9ec-c65e578a4337",
   "metadata": {},
   "outputs": [],
   "source": []
  },
  {
   "cell_type": "code",
   "execution_count": 17,
   "id": "7d656121-ee26-4bd7-852c-722ffa380cda",
   "metadata": {},
   "outputs": [],
   "source": [
    "df['PPM_Member_RIN'] = df['PPM_Member_RIN'].str.strip()"
   ]
  },
  {
   "cell_type": "code",
   "execution_count": 18,
   "id": "49b723df-328f-4f2f-a2c6-7f4ac8e6517b",
   "metadata": {},
   "outputs": [],
   "source": [
    "# add leading zeros to Member_RIN\n",
    "df['PPM_Member_RIN'] = df['PPM_Member_RIN'].str.zfill(9)"
   ]
  },
  {
   "cell_type": "code",
   "execution_count": 19,
   "id": "819b63ef-747e-406b-b3ba-d9e60d2af94c",
   "metadata": {},
   "outputs": [
    {
     "data": {
      "text/plain": [
       "1825    202372082\n",
       "3079    045222130\n",
       "2219    089300487\n",
       "980     095818183\n",
       "358     076608751\n",
       "303     950192070\n",
       "3240    195475215\n",
       "946     185187846\n",
       "576     204173660\n",
       "2039    098511652\n",
       "2326    177170560\n",
       "2652    178764445\n",
       "2463    220149983\n",
       "3128    170572549\n",
       "1411    177645330\n",
       "Name: PPM_Member_RIN, dtype: object"
      ]
     },
     "execution_count": 19,
     "metadata": {},
     "output_type": "execute_result"
    }
   ],
   "source": [
    "df['PPM_Member_RIN'].sample(15)"
   ]
  },
  {
   "cell_type": "code",
   "execution_count": 20,
   "id": "180055ca-f1ab-45b0-82bd-1227c792b1c7",
   "metadata": {},
   "outputs": [],
   "source": [
    "#export file without index column\n",
    "df.to_excel(\"UIC_VW_Transitions_Active.xlsx\", index=False)"
   ]
  },
  {
   "cell_type": "code",
   "execution_count": 21,
   "id": "c70dcc48-110f-4473-a218-98b9d789cce7",
   "metadata": {},
   "outputs": [
    {
     "name": "stdout",
     "output_type": "stream",
     "text": [
      "2024-09-05 15:29:35.165007\n"
     ]
    }
   ],
   "source": [
    "# Create a timestamp object\n",
    "timestamp = pd.Timestamp(datetime.datetime.now())\n",
    "\n",
    "# Print the timestamp\n",
    "print(timestamp)"
   ]
  },
  {
   "cell_type": "code",
   "execution_count": 22,
   "id": "acc90d14-d687-4917-945d-6b7ea3cf0137",
   "metadata": {},
   "outputs": [],
   "source": [
    "#the end!"
   ]
  },
  {
   "cell_type": "code",
   "execution_count": null,
   "id": "619c0970-3ae5-4980-8fd5-67c0a16216c1",
   "metadata": {},
   "outputs": [],
   "source": []
  }
 ],
 "metadata": {
  "kernelspec": {
   "display_name": "venv",
   "language": "python",
   "name": "python3"
  },
  "language_info": {
   "codemirror_mode": {
    "name": "ipython",
    "version": 3
   },
   "file_extension": ".py",
   "mimetype": "text/x-python",
   "name": "python",
   "nbconvert_exporter": "python",
   "pygments_lexer": "ipython3",
   "version": "3.12.3"
  }
 },
 "nbformat": 4,
 "nbformat_minor": 5
}
