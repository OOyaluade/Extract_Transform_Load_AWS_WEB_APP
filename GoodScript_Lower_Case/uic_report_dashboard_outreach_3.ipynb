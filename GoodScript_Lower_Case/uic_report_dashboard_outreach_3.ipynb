{
 "cells": [
  {
   "cell_type": "code",
   "execution_count": 1,
   "id": "2edbeabb",
   "metadata": {},
   "outputs": [],
   "source": [
    "import pandas as pd\n",
    "import numpy as np\n",
    "import time\n",
    "import re\n",
    "import os\n",
    "import datetime"
   ]
  },
  {
   "cell_type": "code",
   "execution_count": 2,
   "id": "4f146531-7777-4cfc-9383-fb5cf4817f51",
   "metadata": {},
   "outputs": [],
   "source": [
    "import warnings\n",
    "warnings.filterwarnings('ignore')\n",
    "warnings.simplefilter('ignore')"
   ]
  },
  {
   "cell_type": "code",
   "execution_count": 3,
   "id": "ce60e637-0d8b-4e2c-9c2d-2591c01793b2",
   "metadata": {},
   "outputs": [],
   "source": [
    "os.chdir(r'C:/Users/vwalds/Documents/My Data Sources/')"
   ]
  },
  {
   "cell_type": "code",
   "execution_count": 4,
   "id": "bd6c9099-b615-42a2-84b6-cab021ef3888",
   "metadata": {},
   "outputs": [],
   "source": [
    "# Grab Current Time Before Running the Code\n",
    "start = time.time()"
   ]
  },
  {
   "cell_type": "code",
   "execution_count": 5,
   "id": "d4c0cbec-8afc-4dfb-aee3-33abb7d622b1",
   "metadata": {},
   "outputs": [],
   "source": [
    "#UIC_Report_Dashboard_Outreach_3"
   ]
  },
  {
   "cell_type": "code",
   "execution_count": 6,
   "id": "ce513d12-555b-4e0d-93b7-b596f78be1c5",
   "metadata": {},
   "outputs": [],
   "source": [
    "df = pd.read_excel(\"UIC_Report_Dashboard_Outreach_3.xlsx\")"
   ]
  },
  {
   "cell_type": "code",
   "execution_count": 7,
   "id": "8d9aa52b-ccaa-4872-a51b-c31ba9ec7ac8",
   "metadata": {},
   "outputs": [
    {
     "name": "stdout",
     "output_type": "stream",
     "text": [
      "<class 'pandas.core.frame.DataFrame'>\n",
      "RangeIndex: 36613 entries, 0 to 36612\n",
      "Data columns (total 37 columns):\n",
      " #   Column                                  Non-Null Count  Dtype  \n",
      "---  ------                                  --------------  -----  \n",
      " 0   Activity_ID                             36613 non-null  int64  \n",
      " 1   Activity_Type_ID                        35249 non-null  float64\n",
      " 2   Activity_Member_ID                      36613 non-null  int64  \n",
      " 3   Activity_Staff_ID                       36546 non-null  float64\n",
      " 4   Activity_Status_ID                      36611 non-null  float64\n",
      " 5   Activity_Source_ID                      35244 non-null  float64\n",
      " 6   Member_ID                               36613 non-null  int64  \n",
      " 7   Member_Phase_ID                         36613 non-null  int64  \n",
      " 8   Member_Current_Outreach_ID              36609 non-null  float64\n",
      " 9   Member_First_Name                       36613 non-null  object \n",
      " 10  Member_Last_Name                        36613 non-null  object \n",
      " 11  PPM_Member_RIN                          36587 non-null  float64\n",
      " 12  Member_Prime_ID                         36609 non-null  float64\n",
      " 13  NF_Class_ID                             36613 non-null  int64  \n",
      " 14  Nursing_Facility_Name                   36613 non-null  object \n",
      " 15  Result_ID                               36613 non-null  int64  \n",
      " 16  Result_Tag                              36613 non-null  object \n",
      " 17  Activity_Date_Created                   36613 non-null  object \n",
      " 18  Attempt_Creation_Date                   36613 non-null  object \n",
      " 19  Activity_Date_Started                   36613 non-null  object \n",
      " 20  Attempt_Last_YN                         36613 non-null  bool   \n",
      " 21  Attempt_ID                              36613 non-null  int64  \n",
      " 22  Attempt_Date                            36613 non-null  object \n",
      " 23  Last_Attempt_Created_YN                 36613 non-null  bool   \n",
      " 24  Result_Reason_ID                        31443 non-null  float64\n",
      " 25  PPM_Outreach_Activity_Closed_YN         36613 non-null  bool   \n",
      " 26  PPM_Outreach_Activity_Closed_Date       33475 non-null  object \n",
      " 27  PPM_Outreach_Activity_Closed_Reason_ID  33468 non-null  float64\n",
      " 28  PPM_Outreach_Activity_Prime_ID          36613 non-null  int64  \n",
      " 29  PPM_Outreach_Attempt_Result_Notes       1 non-null      object \n",
      " 30  PPM_Outreach_Attempt_Notes              25155 non-null  object \n",
      " 31  Activity_Updated_By_Employee_ID         28769 non-null  float64\n",
      " 32  Attempt_Created_By_Staff_ID             36606 non-null  float64\n",
      " 33  PPM_Outreach_Activity_NF_ID             36613 non-null  int64  \n",
      " 34  Address_Concern_YN                      36613 non-null  bool   \n",
      " 35  Address_Concern                         7354 non-null   object \n",
      " 36  PPM_Member_DOB                          36564 non-null  object \n",
      "dtypes: bool(4), float64(11), int64(9), object(13)\n",
      "memory usage: 9.4+ MB\n"
     ]
    }
   ],
   "source": [
    "df.info()"
   ]
  },
  {
   "cell_type": "code",
   "execution_count": 8,
   "id": "8e6548e8-a030-476f-8925-2f917aab9ac5",
   "metadata": {},
   "outputs": [
    {
     "data": {
      "text/plain": [
       "Index(['Activity_ID', 'Activity_Type_ID', 'Activity_Member_ID',\n",
       "       'Activity_Staff_ID', 'Activity_Status_ID', 'Activity_Source_ID',\n",
       "       'Member_ID', 'Member_Phase_ID', 'Member_Current_Outreach_ID',\n",
       "       'Member_First_Name', 'Member_Last_Name', 'PPM_Member_RIN',\n",
       "       'Member_Prime_ID', 'NF_Class_ID', 'Nursing_Facility_Name', 'Result_ID',\n",
       "       'Result_Tag', 'Activity_Date_Created', 'Attempt_Creation_Date',\n",
       "       'Activity_Date_Started', 'Attempt_Last_YN', 'Attempt_ID',\n",
       "       'Attempt_Date', 'Last_Attempt_Created_YN', 'Result_Reason_ID',\n",
       "       'PPM_Outreach_Activity_Closed_YN', 'PPM_Outreach_Activity_Closed_Date',\n",
       "       'PPM_Outreach_Activity_Closed_Reason_ID',\n",
       "       'PPM_Outreach_Activity_Prime_ID', 'PPM_Outreach_Attempt_Result_Notes',\n",
       "       'PPM_Outreach_Attempt_Notes', 'Activity_Updated_By_Employee_ID',\n",
       "       'Attempt_Created_By_Staff_ID', 'PPM_Outreach_Activity_NF_ID',\n",
       "       'Address_Concern_YN', 'Address_Concern', 'PPM_Member_DOB'],\n",
       "      dtype='object')"
      ]
     },
     "execution_count": 8,
     "metadata": {},
     "output_type": "execute_result"
    }
   ],
   "source": [
    "df.columns"
   ]
  },
  {
   "cell_type": "code",
   "execution_count": 9,
   "id": "c1db009a-7209-4cf8-9098-78153c85a45b",
   "metadata": {},
   "outputs": [],
   "source": [
    "# converting the string to datetime format\n",
    "df['Activity_Date_Created'] = pd.to_datetime(df['Activity_Date_Created'])"
   ]
  },
  {
   "cell_type": "code",
   "execution_count": 10,
   "id": "50981cae-c9e3-4ad2-a73e-3622dfffca61",
   "metadata": {},
   "outputs": [],
   "source": [
    "# converting the string to datetime format\n",
    "df['Attempt_Creation_Date'] = pd.to_datetime(df['Attempt_Creation_Date'])"
   ]
  },
  {
   "cell_type": "code",
   "execution_count": 11,
   "id": "c91e85e4-54f4-459c-a080-12a62b8f5618",
   "metadata": {},
   "outputs": [],
   "source": [
    "# converting the string to datetime format\n",
    "df['Activity_Date_Started'] = pd.to_datetime(df['Activity_Date_Started'])"
   ]
  },
  {
   "cell_type": "code",
   "execution_count": 12,
   "id": "9a64c055-a024-45b1-8d71-4a5ead0e1afc",
   "metadata": {},
   "outputs": [],
   "source": [
    "# converting the string to datetime format\n",
    "df['Attempt_Date'] = pd.to_datetime(df['Attempt_Date'])"
   ]
  },
  {
   "cell_type": "code",
   "execution_count": 13,
   "id": "a17c9095-b896-4557-b080-666d39c51e9e",
   "metadata": {},
   "outputs": [],
   "source": [
    "# converting the string to datetime format \n",
    "df['PPM_Outreach_Activity_Closed_Date']= pd.to_datetime(df['PPM_Outreach_Activity_Closed_Date'])#, errors = 'coerce')"
   ]
  },
  {
   "cell_type": "code",
   "execution_count": 14,
   "id": "d33fe3a9-d8d0-426c-ab2b-e0f4b967ba28",
   "metadata": {},
   "outputs": [],
   "source": [
    "# converting the string to datetime format\n",
    "df['PPM_Member_DOB'] = pd.to_datetime(df['PPM_Member_DOB'])"
   ]
  },
  {
   "cell_type": "code",
   "execution_count": 15,
   "id": "14c22c99-a6a0-4c66-8ed3-f86829b1915f",
   "metadata": {},
   "outputs": [
    {
     "data": {
      "text/plain": [
       "Activity_ID                                        int64\n",
       "Activity_Type_ID                                 float64\n",
       "Activity_Member_ID                                 int64\n",
       "Activity_Staff_ID                                float64\n",
       "Activity_Status_ID                               float64\n",
       "Activity_Source_ID                               float64\n",
       "Member_ID                                          int64\n",
       "Member_Phase_ID                                    int64\n",
       "Member_Current_Outreach_ID                       float64\n",
       "Member_First_Name                                 object\n",
       "Member_Last_Name                                  object\n",
       "PPM_Member_RIN                                   float64\n",
       "Member_Prime_ID                                  float64\n",
       "NF_Class_ID                                        int64\n",
       "Nursing_Facility_Name                             object\n",
       "Result_ID                                          int64\n",
       "Result_Tag                                        object\n",
       "Activity_Date_Created                     datetime64[ns]\n",
       "Attempt_Creation_Date                     datetime64[ns]\n",
       "Activity_Date_Started                     datetime64[ns]\n",
       "Attempt_Last_YN                                     bool\n",
       "Attempt_ID                                         int64\n",
       "Attempt_Date                              datetime64[ns]\n",
       "Last_Attempt_Created_YN                             bool\n",
       "Result_Reason_ID                                 float64\n",
       "PPM_Outreach_Activity_Closed_YN                     bool\n",
       "PPM_Outreach_Activity_Closed_Date         datetime64[ns]\n",
       "PPM_Outreach_Activity_Closed_Reason_ID           float64\n",
       "PPM_Outreach_Activity_Prime_ID                     int64\n",
       "PPM_Outreach_Attempt_Result_Notes                 object\n",
       "PPM_Outreach_Attempt_Notes                        object\n",
       "Activity_Updated_By_Employee_ID                  float64\n",
       "Attempt_Created_By_Staff_ID                      float64\n",
       "PPM_Outreach_Activity_NF_ID                        int64\n",
       "Address_Concern_YN                                  bool\n",
       "Address_Concern                                   object\n",
       "PPM_Member_DOB                            datetime64[ns]\n",
       "dtype: object"
      ]
     },
     "execution_count": 15,
     "metadata": {},
     "output_type": "execute_result"
    }
   ],
   "source": [
    "df.dtypes"
   ]
  },
  {
   "cell_type": "code",
   "execution_count": 16,
   "id": "9b29dbff-2ebc-4a60-b571-0acfe4b5e6d5",
   "metadata": {},
   "outputs": [
    {
     "data": {
      "text/plain": [
       "10344    180029357.0\n",
       "30839    198654816.0\n",
       "4206     395614613.0\n",
       "29037    324896414.0\n",
       "30900    351136270.0\n",
       "17505     96391487.0\n",
       "23067    423217785.0\n",
       "1388     304872518.0\n",
       "15214    150076438.0\n",
       "8192     383433497.0\n",
       "Name: PPM_Member_RIN, dtype: float64"
      ]
     },
     "execution_count": 16,
     "metadata": {},
     "output_type": "execute_result"
    }
   ],
   "source": [
    "df.PPM_Member_RIN.sample(10)"
   ]
  },
  {
   "cell_type": "code",
   "execution_count": 17,
   "id": "180055ca-f1ab-45b0-82bd-1227c792b1c7",
   "metadata": {},
   "outputs": [],
   "source": [
    "#export file without index column\n",
    "df.to_excel(\"UIC_Report_Dashboard_Outreach_3.xlsx\", index=False)"
   ]
  },
  {
   "cell_type": "code",
   "execution_count": 18,
   "id": "c70dcc48-110f-4473-a218-98b9d789cce7",
   "metadata": {},
   "outputs": [
    {
     "name": "stdout",
     "output_type": "stream",
     "text": [
      "2024-09-05 15:16:33.409391\n"
     ]
    }
   ],
   "source": [
    "# Create a timestamp object\n",
    "timestamp = pd.Timestamp(datetime.datetime.now())\n",
    "\n",
    "# Print the timestamp\n",
    "print(timestamp)"
   ]
  },
  {
   "cell_type": "code",
   "execution_count": 19,
   "id": "acc90d14-d687-4917-945d-6b7ea3cf0137",
   "metadata": {},
   "outputs": [],
   "source": [
    "#the end!"
   ]
  },
  {
   "cell_type": "code",
   "execution_count": null,
   "id": "619c0970-3ae5-4980-8fd5-67c0a16216c1",
   "metadata": {},
   "outputs": [],
   "source": []
  },
  {
   "cell_type": "code",
   "execution_count": null,
   "id": "4e50a5ce-8cae-4eac-a149-0bf9c0778cbd",
   "metadata": {},
   "outputs": [],
   "source": []
  }
 ],
 "metadata": {
  "kernelspec": {
   "display_name": "Python 3 (ipykernel)",
   "language": "python",
   "name": "python3"
  },
  "language_info": {
   "codemirror_mode": {
    "name": "ipython",
    "version": 3
   },
   "file_extension": ".py",
   "mimetype": "text/x-python",
   "name": "python",
   "nbconvert_exporter": "python",
   "pygments_lexer": "ipython3",
   "version": "3.9.13"
  }
 },
 "nbformat": 4,
 "nbformat_minor": 5
}
