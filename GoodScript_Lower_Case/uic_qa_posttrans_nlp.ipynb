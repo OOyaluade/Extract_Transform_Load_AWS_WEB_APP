{
 "cells": [
  {
   "cell_type": "code",
   "execution_count": 1,
   "id": "2edbeabb",
   "metadata": {},
   "outputs": [],
   "source": [
    "import pandas as pd\n",
    "import numpy as np\n",
    "import time\n",
    "import re\n",
    "import os\n",
    "import datetime\n",
    "import warnings\n",
    "warnings.filterwarnings('ignore')\n",
    "warnings.simplefilter('ignore')"
   ]
  },
  {
   "cell_type": "code",
   "execution_count": 2,
   "id": "ce60e637-0d8b-4e2c-9c2d-2591c01793b2",
   "metadata": {},
   "outputs": [],
   "source": [
    "os.chdir(r'C:/Users/vwalds/Documents/My Data Sources/')"
   ]
  },
  {
   "cell_type": "code",
   "execution_count": 3,
   "id": "bd6c9099-b615-42a2-84b6-cab021ef3888",
   "metadata": {},
   "outputs": [],
   "source": [
    "# Grab Current Time Before Running the Code\n",
    "start = time.time()"
   ]
  },
  {
   "cell_type": "code",
   "execution_count": 4,
   "id": "d4c0cbec-8afc-4dfb-aee3-33abb7d622b1",
   "metadata": {},
   "outputs": [],
   "source": [
    "#UIC_QA_PostTrans_NLP\n"
   ]
  },
  {
   "cell_type": "code",
   "execution_count": 5,
   "id": "ce513d12-555b-4e0d-93b7-b596f78be1c5",
   "metadata": {},
   "outputs": [],
   "source": [
    "df = pd.read_excel(\"UIC_QA_PostTrans_NLP.xlsx\")"
   ]
  },
  {
   "cell_type": "code",
   "execution_count": 6,
   "id": "8d9aa52b-ccaa-4872-a51b-c31ba9ec7ac8",
   "metadata": {},
   "outputs": [
    {
     "name": "stdout",
     "output_type": "stream",
     "text": [
      "<class 'pandas.core.frame.DataFrame'>\n",
      "RangeIndex: 54 entries, 0 to 53\n",
      "Data columns (total 17 columns):\n",
      " #   Column                       Non-Null Count  Dtype  \n",
      "---  ------                       --------------  -----  \n",
      " 0   Not_Proceeding_Created_Date  54 non-null     object \n",
      " 1   Member_Prime_ID              54 non-null     int64  \n",
      " 2   Member_Name                  54 non-null     object \n",
      " 3   Transition_Discharge_Date    54 non-null     object \n",
      " 4   FX_Event_Date                54 non-null     object \n",
      " 5   Not_Proceeding_Reason_ID     54 non-null     int64  \n",
      " 6   Not_Proceeding_Comments      49 non-null     object \n",
      " 7   Member_ID                    54 non-null     int64  \n",
      " 8   Activity_ID                  54 non-null     int64  \n",
      " 9   Member_Phase_ID              54 non-null     int64  \n",
      " 10  Member_Closed_Reason_ID      3 non-null      float64\n",
      " 11  Member_Current_Outreach_ID   54 non-null     int64  \n",
      " 12  Activity_Closed_YN           54 non-null     bool   \n",
      " 13  Activity_Closed_Date         54 non-null     object \n",
      " 14  Activity_Closed_Reason_ID    53 non-null     float64\n",
      " 15  Assessment_ID                54 non-null     int64  \n",
      " 16  Not_Proceeding_Created_By    48 non-null     float64\n",
      "dtypes: bool(1), float64(3), int64(7), object(6)\n",
      "memory usage: 6.9+ KB\n"
     ]
    }
   ],
   "source": [
    "df.info()"
   ]
  },
  {
   "cell_type": "code",
   "execution_count": 7,
   "id": "8e6548e8-a030-476f-8925-2f917aab9ac5",
   "metadata": {},
   "outputs": [
    {
     "data": {
      "text/plain": [
       "Index(['Not_Proceeding_Created_Date', 'Member_Prime_ID', 'Member_Name',\n",
       "       'Transition_Discharge_Date', 'FX_Event_Date',\n",
       "       'Not_Proceeding_Reason_ID', 'Not_Proceeding_Comments', 'Member_ID',\n",
       "       'Activity_ID', 'Member_Phase_ID', 'Member_Closed_Reason_ID',\n",
       "       'Member_Current_Outreach_ID', 'Activity_Closed_YN',\n",
       "       'Activity_Closed_Date', 'Activity_Closed_Reason_ID', 'Assessment_ID',\n",
       "       'Not_Proceeding_Created_By'],\n",
       "      dtype='object')"
      ]
     },
     "execution_count": 7,
     "metadata": {},
     "output_type": "execute_result"
    }
   ],
   "source": [
    "df.columns"
   ]
  },
  {
   "cell_type": "code",
   "execution_count": 8,
   "id": "c1db009a-7209-4cf8-9098-78153c85a45b",
   "metadata": {},
   "outputs": [],
   "source": [
    "# converting the string to datetime format\n",
    "df['Not_Proceeding_Created_Date'] = pd.to_datetime(df['Not_Proceeding_Created_Date'])"
   ]
  },
  {
   "cell_type": "code",
   "execution_count": 9,
   "id": "50981cae-c9e3-4ad2-a73e-3622dfffca61",
   "metadata": {},
   "outputs": [],
   "source": [
    "# converting the string to datetime format\n",
    "df['Transition_Discharge_Date'] = pd.to_datetime(df['Transition_Discharge_Date'])"
   ]
  },
  {
   "cell_type": "code",
   "execution_count": 10,
   "id": "93285a2d-99e3-468e-9d39-ec9f06fd15cf",
   "metadata": {},
   "outputs": [],
   "source": [
    "# converting the string to datetime format\n",
    "df['FX_Event_Date'] = pd.to_datetime(df['FX_Event_Date'])"
   ]
  },
  {
   "cell_type": "code",
   "execution_count": 11,
   "id": "0cd36976-5529-41f3-9208-ed977d86ec57",
   "metadata": {},
   "outputs": [],
   "source": [
    "# converting the string to datetime format\n",
    "df['Activity_Closed_Date'] = pd.to_datetime(df['Activity_Closed_Date'])"
   ]
  },
  {
   "cell_type": "code",
   "execution_count": 12,
   "id": "14c22c99-a6a0-4c66-8ed3-f86829b1915f",
   "metadata": {},
   "outputs": [
    {
     "data": {
      "text/plain": [
       "Not_Proceeding_Created_Date    datetime64[ns]\n",
       "Member_Prime_ID                         int64\n",
       "Member_Name                            object\n",
       "Transition_Discharge_Date      datetime64[ns]\n",
       "FX_Event_Date                  datetime64[ns]\n",
       "Not_Proceeding_Reason_ID                int64\n",
       "Not_Proceeding_Comments                object\n",
       "Member_ID                               int64\n",
       "Activity_ID                             int64\n",
       "Member_Phase_ID                         int64\n",
       "Member_Closed_Reason_ID               float64\n",
       "Member_Current_Outreach_ID              int64\n",
       "Activity_Closed_YN                       bool\n",
       "Activity_Closed_Date           datetime64[ns]\n",
       "Activity_Closed_Reason_ID             float64\n",
       "Assessment_ID                           int64\n",
       "Not_Proceeding_Created_By             float64\n",
       "dtype: object"
      ]
     },
     "execution_count": 12,
     "metadata": {},
     "output_type": "execute_result"
    }
   ],
   "source": [
    "df.dtypes"
   ]
  },
  {
   "cell_type": "code",
   "execution_count": 13,
   "id": "180055ca-f1ab-45b0-82bd-1227c792b1c7",
   "metadata": {},
   "outputs": [],
   "source": [
    "#export file without index column\n",
    "df.to_excel(\"UIC_QA_PostTrans_NLP.xlsx\", index=False)"
   ]
  },
  {
   "cell_type": "code",
   "execution_count": 14,
   "id": "c70dcc48-110f-4473-a218-98b9d789cce7",
   "metadata": {},
   "outputs": [
    {
     "name": "stdout",
     "output_type": "stream",
     "text": [
      "2024-09-05 15:43:36.018292\n"
     ]
    }
   ],
   "source": [
    "# Create a timestamp object\n",
    "timestamp = pd.Timestamp(datetime.datetime.now())\n",
    "\n",
    "# Print the timestamp\n",
    "print(timestamp)"
   ]
  },
  {
   "cell_type": "code",
   "execution_count": 15,
   "id": "acc90d14-d687-4917-945d-6b7ea3cf0137",
   "metadata": {},
   "outputs": [],
   "source": [
    "#the end!"
   ]
  },
  {
   "cell_type": "code",
   "execution_count": null,
   "id": "619c0970-3ae5-4980-8fd5-67c0a16216c1",
   "metadata": {},
   "outputs": [],
   "source": []
  },
  {
   "cell_type": "code",
   "execution_count": null,
   "id": "4e50a5ce-8cae-4eac-a149-0bf9c0778cbd",
   "metadata": {},
   "outputs": [],
   "source": []
  }
 ],
 "metadata": {
  "kernelspec": {
   "display_name": "Python 3 (ipykernel)",
   "language": "python",
   "name": "python3"
  },
  "language_info": {
   "codemirror_mode": {
    "name": "ipython",
    "version": 3
   },
   "file_extension": ".py",
   "mimetype": "text/x-python",
   "name": "python",
   "nbconvert_exporter": "python",
   "pygments_lexer": "ipython3",
   "version": "3.9.13"
  }
 },
 "nbformat": 4,
 "nbformat_minor": 5
}
