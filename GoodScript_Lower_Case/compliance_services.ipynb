{
 "cells": [
  {
   "cell_type": "code",
   "execution_count": 1,
   "id": "02f8e315-db52-4a6f-8687-ef22d71a470a",
   "metadata": {},
   "outputs": [],
   "source": [
    "#import libraries and packages\n",
    "import pandas as pd"
   ]
  },
  {
   "cell_type": "code",
   "execution_count": 2,
   "id": "fcf44c2f-4032-4d1f-b678-e55797d3ec2a",
   "metadata": {},
   "outputs": [],
   "source": [
    "import numpy as np"
   ]
  },
  {
   "cell_type": "code",
   "execution_count": 3,
   "id": "15873957-0e96-47b0-bcea-c1d8a5f0cf20",
   "metadata": {},
   "outputs": [
    {
     "ename": "FileNotFoundError",
     "evalue": "[Errno 2] No such file or directory: '/home/node1/Documents/uic/FilesUsed/pd1_services.csv'",
     "output_type": "error",
     "traceback": [
      "\u001b[0;31m---------------------------------------------------------------------------\u001b[0m",
      "\u001b[0;31mFileNotFoundError\u001b[0m                         Traceback (most recent call last)",
      "Cell \u001b[0;32mIn[3], line 2\u001b[0m\n\u001b[1;32m      1\u001b[0m \u001b[38;5;66;03m#import the df clean data csv file\u001b[39;00m\n\u001b[0;32m----> 2\u001b[0m df \u001b[38;5;241m=\u001b[39m \u001b[43mpd\u001b[49m\u001b[38;5;241;43m.\u001b[39;49m\u001b[43mread_csv\u001b[49m\u001b[43m(\u001b[49m\u001b[38;5;124;43m\"\u001b[39;49m\u001b[38;5;124;43m/home/node1/Documents/uic/FilesUsed/pd1_services.csv\u001b[39;49m\u001b[38;5;124;43m\"\u001b[39;49m\u001b[43m)\u001b[49m\n",
      "File \u001b[0;32m~/Documents/uic/venv/lib/python3.12/site-packages/pandas/io/parsers/readers.py:1026\u001b[0m, in \u001b[0;36mread_csv\u001b[0;34m(filepath_or_buffer, sep, delimiter, header, names, index_col, usecols, dtype, engine, converters, true_values, false_values, skipinitialspace, skiprows, skipfooter, nrows, na_values, keep_default_na, na_filter, verbose, skip_blank_lines, parse_dates, infer_datetime_format, keep_date_col, date_parser, date_format, dayfirst, cache_dates, iterator, chunksize, compression, thousands, decimal, lineterminator, quotechar, quoting, doublequote, escapechar, comment, encoding, encoding_errors, dialect, on_bad_lines, delim_whitespace, low_memory, memory_map, float_precision, storage_options, dtype_backend)\u001b[0m\n\u001b[1;32m   1013\u001b[0m kwds_defaults \u001b[38;5;241m=\u001b[39m _refine_defaults_read(\n\u001b[1;32m   1014\u001b[0m     dialect,\n\u001b[1;32m   1015\u001b[0m     delimiter,\n\u001b[0;32m   (...)\u001b[0m\n\u001b[1;32m   1022\u001b[0m     dtype_backend\u001b[38;5;241m=\u001b[39mdtype_backend,\n\u001b[1;32m   1023\u001b[0m )\n\u001b[1;32m   1024\u001b[0m kwds\u001b[38;5;241m.\u001b[39mupdate(kwds_defaults)\n\u001b[0;32m-> 1026\u001b[0m \u001b[38;5;28;01mreturn\u001b[39;00m \u001b[43m_read\u001b[49m\u001b[43m(\u001b[49m\u001b[43mfilepath_or_buffer\u001b[49m\u001b[43m,\u001b[49m\u001b[43m \u001b[49m\u001b[43mkwds\u001b[49m\u001b[43m)\u001b[49m\n",
      "File \u001b[0;32m~/Documents/uic/venv/lib/python3.12/site-packages/pandas/io/parsers/readers.py:620\u001b[0m, in \u001b[0;36m_read\u001b[0;34m(filepath_or_buffer, kwds)\u001b[0m\n\u001b[1;32m    617\u001b[0m _validate_names(kwds\u001b[38;5;241m.\u001b[39mget(\u001b[38;5;124m\"\u001b[39m\u001b[38;5;124mnames\u001b[39m\u001b[38;5;124m\"\u001b[39m, \u001b[38;5;28;01mNone\u001b[39;00m))\n\u001b[1;32m    619\u001b[0m \u001b[38;5;66;03m# Create the parser.\u001b[39;00m\n\u001b[0;32m--> 620\u001b[0m parser \u001b[38;5;241m=\u001b[39m \u001b[43mTextFileReader\u001b[49m\u001b[43m(\u001b[49m\u001b[43mfilepath_or_buffer\u001b[49m\u001b[43m,\u001b[49m\u001b[43m \u001b[49m\u001b[38;5;241;43m*\u001b[39;49m\u001b[38;5;241;43m*\u001b[39;49m\u001b[43mkwds\u001b[49m\u001b[43m)\u001b[49m\n\u001b[1;32m    622\u001b[0m \u001b[38;5;28;01mif\u001b[39;00m chunksize \u001b[38;5;129;01mor\u001b[39;00m iterator:\n\u001b[1;32m    623\u001b[0m     \u001b[38;5;28;01mreturn\u001b[39;00m parser\n",
      "File \u001b[0;32m~/Documents/uic/venv/lib/python3.12/site-packages/pandas/io/parsers/readers.py:1620\u001b[0m, in \u001b[0;36mTextFileReader.__init__\u001b[0;34m(self, f, engine, **kwds)\u001b[0m\n\u001b[1;32m   1617\u001b[0m     \u001b[38;5;28mself\u001b[39m\u001b[38;5;241m.\u001b[39moptions[\u001b[38;5;124m\"\u001b[39m\u001b[38;5;124mhas_index_names\u001b[39m\u001b[38;5;124m\"\u001b[39m] \u001b[38;5;241m=\u001b[39m kwds[\u001b[38;5;124m\"\u001b[39m\u001b[38;5;124mhas_index_names\u001b[39m\u001b[38;5;124m\"\u001b[39m]\n\u001b[1;32m   1619\u001b[0m \u001b[38;5;28mself\u001b[39m\u001b[38;5;241m.\u001b[39mhandles: IOHandles \u001b[38;5;241m|\u001b[39m \u001b[38;5;28;01mNone\u001b[39;00m \u001b[38;5;241m=\u001b[39m \u001b[38;5;28;01mNone\u001b[39;00m\n\u001b[0;32m-> 1620\u001b[0m \u001b[38;5;28mself\u001b[39m\u001b[38;5;241m.\u001b[39m_engine \u001b[38;5;241m=\u001b[39m \u001b[38;5;28;43mself\u001b[39;49m\u001b[38;5;241;43m.\u001b[39;49m\u001b[43m_make_engine\u001b[49m\u001b[43m(\u001b[49m\u001b[43mf\u001b[49m\u001b[43m,\u001b[49m\u001b[43m \u001b[49m\u001b[38;5;28;43mself\u001b[39;49m\u001b[38;5;241;43m.\u001b[39;49m\u001b[43mengine\u001b[49m\u001b[43m)\u001b[49m\n",
      "File \u001b[0;32m~/Documents/uic/venv/lib/python3.12/site-packages/pandas/io/parsers/readers.py:1880\u001b[0m, in \u001b[0;36mTextFileReader._make_engine\u001b[0;34m(self, f, engine)\u001b[0m\n\u001b[1;32m   1878\u001b[0m     \u001b[38;5;28;01mif\u001b[39;00m \u001b[38;5;124m\"\u001b[39m\u001b[38;5;124mb\u001b[39m\u001b[38;5;124m\"\u001b[39m \u001b[38;5;129;01mnot\u001b[39;00m \u001b[38;5;129;01min\u001b[39;00m mode:\n\u001b[1;32m   1879\u001b[0m         mode \u001b[38;5;241m+\u001b[39m\u001b[38;5;241m=\u001b[39m \u001b[38;5;124m\"\u001b[39m\u001b[38;5;124mb\u001b[39m\u001b[38;5;124m\"\u001b[39m\n\u001b[0;32m-> 1880\u001b[0m \u001b[38;5;28mself\u001b[39m\u001b[38;5;241m.\u001b[39mhandles \u001b[38;5;241m=\u001b[39m \u001b[43mget_handle\u001b[49m\u001b[43m(\u001b[49m\n\u001b[1;32m   1881\u001b[0m \u001b[43m    \u001b[49m\u001b[43mf\u001b[49m\u001b[43m,\u001b[49m\n\u001b[1;32m   1882\u001b[0m \u001b[43m    \u001b[49m\u001b[43mmode\u001b[49m\u001b[43m,\u001b[49m\n\u001b[1;32m   1883\u001b[0m \u001b[43m    \u001b[49m\u001b[43mencoding\u001b[49m\u001b[38;5;241;43m=\u001b[39;49m\u001b[38;5;28;43mself\u001b[39;49m\u001b[38;5;241;43m.\u001b[39;49m\u001b[43moptions\u001b[49m\u001b[38;5;241;43m.\u001b[39;49m\u001b[43mget\u001b[49m\u001b[43m(\u001b[49m\u001b[38;5;124;43m\"\u001b[39;49m\u001b[38;5;124;43mencoding\u001b[39;49m\u001b[38;5;124;43m\"\u001b[39;49m\u001b[43m,\u001b[49m\u001b[43m \u001b[49m\u001b[38;5;28;43;01mNone\u001b[39;49;00m\u001b[43m)\u001b[49m\u001b[43m,\u001b[49m\n\u001b[1;32m   1884\u001b[0m \u001b[43m    \u001b[49m\u001b[43mcompression\u001b[49m\u001b[38;5;241;43m=\u001b[39;49m\u001b[38;5;28;43mself\u001b[39;49m\u001b[38;5;241;43m.\u001b[39;49m\u001b[43moptions\u001b[49m\u001b[38;5;241;43m.\u001b[39;49m\u001b[43mget\u001b[49m\u001b[43m(\u001b[49m\u001b[38;5;124;43m\"\u001b[39;49m\u001b[38;5;124;43mcompression\u001b[39;49m\u001b[38;5;124;43m\"\u001b[39;49m\u001b[43m,\u001b[49m\u001b[43m \u001b[49m\u001b[38;5;28;43;01mNone\u001b[39;49;00m\u001b[43m)\u001b[49m\u001b[43m,\u001b[49m\n\u001b[1;32m   1885\u001b[0m \u001b[43m    \u001b[49m\u001b[43mmemory_map\u001b[49m\u001b[38;5;241;43m=\u001b[39;49m\u001b[38;5;28;43mself\u001b[39;49m\u001b[38;5;241;43m.\u001b[39;49m\u001b[43moptions\u001b[49m\u001b[38;5;241;43m.\u001b[39;49m\u001b[43mget\u001b[49m\u001b[43m(\u001b[49m\u001b[38;5;124;43m\"\u001b[39;49m\u001b[38;5;124;43mmemory_map\u001b[39;49m\u001b[38;5;124;43m\"\u001b[39;49m\u001b[43m,\u001b[49m\u001b[43m \u001b[49m\u001b[38;5;28;43;01mFalse\u001b[39;49;00m\u001b[43m)\u001b[49m\u001b[43m,\u001b[49m\n\u001b[1;32m   1886\u001b[0m \u001b[43m    \u001b[49m\u001b[43mis_text\u001b[49m\u001b[38;5;241;43m=\u001b[39;49m\u001b[43mis_text\u001b[49m\u001b[43m,\u001b[49m\n\u001b[1;32m   1887\u001b[0m \u001b[43m    \u001b[49m\u001b[43merrors\u001b[49m\u001b[38;5;241;43m=\u001b[39;49m\u001b[38;5;28;43mself\u001b[39;49m\u001b[38;5;241;43m.\u001b[39;49m\u001b[43moptions\u001b[49m\u001b[38;5;241;43m.\u001b[39;49m\u001b[43mget\u001b[49m\u001b[43m(\u001b[49m\u001b[38;5;124;43m\"\u001b[39;49m\u001b[38;5;124;43mencoding_errors\u001b[39;49m\u001b[38;5;124;43m\"\u001b[39;49m\u001b[43m,\u001b[49m\u001b[43m \u001b[49m\u001b[38;5;124;43m\"\u001b[39;49m\u001b[38;5;124;43mstrict\u001b[39;49m\u001b[38;5;124;43m\"\u001b[39;49m\u001b[43m)\u001b[49m\u001b[43m,\u001b[49m\n\u001b[1;32m   1888\u001b[0m \u001b[43m    \u001b[49m\u001b[43mstorage_options\u001b[49m\u001b[38;5;241;43m=\u001b[39;49m\u001b[38;5;28;43mself\u001b[39;49m\u001b[38;5;241;43m.\u001b[39;49m\u001b[43moptions\u001b[49m\u001b[38;5;241;43m.\u001b[39;49m\u001b[43mget\u001b[49m\u001b[43m(\u001b[49m\u001b[38;5;124;43m\"\u001b[39;49m\u001b[38;5;124;43mstorage_options\u001b[39;49m\u001b[38;5;124;43m\"\u001b[39;49m\u001b[43m,\u001b[49m\u001b[43m \u001b[49m\u001b[38;5;28;43;01mNone\u001b[39;49;00m\u001b[43m)\u001b[49m\u001b[43m,\u001b[49m\n\u001b[1;32m   1889\u001b[0m \u001b[43m\u001b[49m\u001b[43m)\u001b[49m\n\u001b[1;32m   1890\u001b[0m \u001b[38;5;28;01massert\u001b[39;00m \u001b[38;5;28mself\u001b[39m\u001b[38;5;241m.\u001b[39mhandles \u001b[38;5;129;01mis\u001b[39;00m \u001b[38;5;129;01mnot\u001b[39;00m \u001b[38;5;28;01mNone\u001b[39;00m\n\u001b[1;32m   1891\u001b[0m f \u001b[38;5;241m=\u001b[39m \u001b[38;5;28mself\u001b[39m\u001b[38;5;241m.\u001b[39mhandles\u001b[38;5;241m.\u001b[39mhandle\n",
      "File \u001b[0;32m~/Documents/uic/venv/lib/python3.12/site-packages/pandas/io/common.py:873\u001b[0m, in \u001b[0;36mget_handle\u001b[0;34m(path_or_buf, mode, encoding, compression, memory_map, is_text, errors, storage_options)\u001b[0m\n\u001b[1;32m    868\u001b[0m \u001b[38;5;28;01melif\u001b[39;00m \u001b[38;5;28misinstance\u001b[39m(handle, \u001b[38;5;28mstr\u001b[39m):\n\u001b[1;32m    869\u001b[0m     \u001b[38;5;66;03m# Check whether the filename is to be opened in binary mode.\u001b[39;00m\n\u001b[1;32m    870\u001b[0m     \u001b[38;5;66;03m# Binary mode does not support 'encoding' and 'newline'.\u001b[39;00m\n\u001b[1;32m    871\u001b[0m     \u001b[38;5;28;01mif\u001b[39;00m ioargs\u001b[38;5;241m.\u001b[39mencoding \u001b[38;5;129;01mand\u001b[39;00m \u001b[38;5;124m\"\u001b[39m\u001b[38;5;124mb\u001b[39m\u001b[38;5;124m\"\u001b[39m \u001b[38;5;129;01mnot\u001b[39;00m \u001b[38;5;129;01min\u001b[39;00m ioargs\u001b[38;5;241m.\u001b[39mmode:\n\u001b[1;32m    872\u001b[0m         \u001b[38;5;66;03m# Encoding\u001b[39;00m\n\u001b[0;32m--> 873\u001b[0m         handle \u001b[38;5;241m=\u001b[39m \u001b[38;5;28;43mopen\u001b[39;49m\u001b[43m(\u001b[49m\n\u001b[1;32m    874\u001b[0m \u001b[43m            \u001b[49m\u001b[43mhandle\u001b[49m\u001b[43m,\u001b[49m\n\u001b[1;32m    875\u001b[0m \u001b[43m            \u001b[49m\u001b[43mioargs\u001b[49m\u001b[38;5;241;43m.\u001b[39;49m\u001b[43mmode\u001b[49m\u001b[43m,\u001b[49m\n\u001b[1;32m    876\u001b[0m \u001b[43m            \u001b[49m\u001b[43mencoding\u001b[49m\u001b[38;5;241;43m=\u001b[39;49m\u001b[43mioargs\u001b[49m\u001b[38;5;241;43m.\u001b[39;49m\u001b[43mencoding\u001b[49m\u001b[43m,\u001b[49m\n\u001b[1;32m    877\u001b[0m \u001b[43m            \u001b[49m\u001b[43merrors\u001b[49m\u001b[38;5;241;43m=\u001b[39;49m\u001b[43merrors\u001b[49m\u001b[43m,\u001b[49m\n\u001b[1;32m    878\u001b[0m \u001b[43m            \u001b[49m\u001b[43mnewline\u001b[49m\u001b[38;5;241;43m=\u001b[39;49m\u001b[38;5;124;43m\"\u001b[39;49m\u001b[38;5;124;43m\"\u001b[39;49m\u001b[43m,\u001b[49m\n\u001b[1;32m    879\u001b[0m \u001b[43m        \u001b[49m\u001b[43m)\u001b[49m\n\u001b[1;32m    880\u001b[0m     \u001b[38;5;28;01melse\u001b[39;00m:\n\u001b[1;32m    881\u001b[0m         \u001b[38;5;66;03m# Binary mode\u001b[39;00m\n\u001b[1;32m    882\u001b[0m         handle \u001b[38;5;241m=\u001b[39m \u001b[38;5;28mopen\u001b[39m(handle, ioargs\u001b[38;5;241m.\u001b[39mmode)\n",
      "\u001b[0;31mFileNotFoundError\u001b[0m: [Errno 2] No such file or directory: '/home/node1/Documents/uic/FilesUsed/pd1_services.csv'"
     ]
    }
   ],
   "source": [
    "#import the df clean data csv file\n",
    "df = pd.read_csv(\"/home/node1/Documents/uic/FilesUsed/PD1_services.csv\")"
   ]
  },
  {
   "cell_type": "code",
   "execution_count": 4,
   "id": "dae55112-fa48-48b6-820e-4571c0a11a12",
   "metadata": {},
   "outputs": [
    {
     "data": {
      "text/plain": [
       "(1576, 95)"
      ]
     },
     "execution_count": 4,
     "metadata": {},
     "output_type": "execute_result"
    }
   ],
   "source": [
    "#inspect the shape of the data frame\n",
    "df.shape"
   ]
  },
  {
   "cell_type": "code",
   "execution_count": 5,
   "id": "7f6affde-3daa-4f26-bd45-209d91956b48",
   "metadata": {},
   "outputs": [
    {
     "name": "stdout",
     "output_type": "stream",
     "text": [
      "<class 'pandas.core.frame.DataFrame'>\n",
      "RangeIndex: 1576 entries, 0 to 1575\n",
      "Data columns (total 95 columns):\n",
      " #   Column                          Non-Null Count  Dtype  \n",
      "---  ------                          --------------  -----  \n",
      " 0   Member_ID                       1576 non-null   int64  \n",
      " 1   Activity_ID                     1576 non-null   int64  \n",
      " 2   Assessment_ID                   1576 non-null   int64  \n",
      " 3   Class                           1576 non-null   object \n",
      " 4   Facility                        1576 non-null   object \n",
      " 5   Member_Prime                    1576 non-null   object \n",
      " 6   Current_Age                     1576 non-null   int64  \n",
      " 7   Assess_Date                     1576 non-null   object \n",
      " 8   MaxOfInfo_Date_Assessed         1575 non-null   object \n",
      " 9   DaysGroup                       1575 non-null   object \n",
      " 10  Dashboard_Status                1576 non-null   object \n",
      " 11  Pipeline_Dashboard_DaysinPhase  1576 non-null   object \n",
      " 12  Plan_ID                         765 non-null    float64\n",
      " 13  Plan_Date                       765 non-null    object \n",
      " 14  Planner_ID                      765 non-null    float64\n",
      " 15  Aging_Waiver_1                  1576 non-null   int64  \n",
      " 16  Aging_Waiver_2                  1576 non-null   int64  \n",
      " 17  Aging_Waiver_3                  1576 non-null   int64  \n",
      " 18  DRS_Waiver_1                    1576 non-null   int64  \n",
      " 19  DRS_Waiver_2                    1576 non-null   int64  \n",
      " 20  DRS_Waiver_3                    1576 non-null   int64  \n",
      " 21  DRS_Waiver_4                    1576 non-null   int64  \n",
      " 22  DRS_Waiver_5                    1576 non-null   int64  \n",
      " 23  DRS_Waiver_6                    1576 non-null   int64  \n",
      " 24  DRS_Waiver_7                    1576 non-null   int64  \n",
      " 25  DRS_Waiver_8                    1576 non-null   int64  \n",
      " 26  DRS_Waiver_9                    1576 non-null   int64  \n",
      " 27  DRS_Waiver_10                   1576 non-null   int64  \n",
      " 28  DRS_Waiver_11                   1576 non-null   int64  \n",
      " 29  Mental_Health_Services_1        1576 non-null   int64  \n",
      " 30  Mental_Health_Services_2        1576 non-null   int64  \n",
      " 31  Mental_Health_Services_3        1576 non-null   int64  \n",
      " 32  Mental_Health_Services_4        1576 non-null   int64  \n",
      " 33  Mental_Health_Services_5        1576 non-null   int64  \n",
      " 34  Mental_Health_Services_6        1576 non-null   int64  \n",
      " 35  Mental_Health_Services_7        1576 non-null   int64  \n",
      " 36  Mental_Health_Services_8        1576 non-null   int64  \n",
      " 37  Mental_Health_Services_9        1576 non-null   int64  \n",
      " 38  Mental_Health_Services_10       1576 non-null   int64  \n",
      " 39  Substance_Use_Services_1        1576 non-null   int64  \n",
      " 40  Substance_Use_Services_2        1576 non-null   int64  \n",
      " 41  Substance_Use_Services_3        1576 non-null   int64  \n",
      " 42  Substance_Use_Services_4        1576 non-null   int64  \n",
      " 43  Substance_Use_Services_5        1576 non-null   int64  \n",
      " 44  Substance_Use_Services_6        1576 non-null   int64  \n",
      " 45  Substance_Use_Services_7        1576 non-null   int64  \n",
      " 46  Substance_Use_Services_8        1576 non-null   int64  \n",
      " 47  Specialty_Providers_1           1576 non-null   int64  \n",
      " 48  Specialty_Providers_2           1576 non-null   int64  \n",
      " 49  Specialty_Providers_3           1576 non-null   int64  \n",
      " 50  Specialty_Providers_4           1576 non-null   int64  \n",
      " 51  Specialty_Providers_5           1576 non-null   int64  \n",
      " 52  Specialty_Providers_6           1576 non-null   int64  \n",
      " 53  Specialty_Providers_7           1576 non-null   int64  \n",
      " 54  Specialty_Providers_8           1576 non-null   int64  \n",
      " 55  Specialty_Providers_9           1576 non-null   int64  \n",
      " 56  Specialty_Providers_10          1576 non-null   int64  \n",
      " 57  Specialty_Providers_11          1576 non-null   int64  \n",
      " 58  Specialty_Providers_12          1576 non-null   int64  \n",
      " 59  Specialty_Providers_13          1576 non-null   int64  \n",
      " 60  Specialty_Providers_14          1576 non-null   int64  \n",
      " 61  Other_Specialty_1               1576 non-null   int64  \n",
      " 62  Other_Specialty_2               1576 non-null   int64  \n",
      " 63  Other_Specialty_3               1576 non-null   int64  \n",
      " 64  Other_Specialty_4               1576 non-null   int64  \n",
      " 65  Other_Specialty_5               1576 non-null   int64  \n",
      " 66  Other_Specialty_6               1576 non-null   int64  \n",
      " 67  Other_Specialty_7               1576 non-null   int64  \n",
      " 68  Medication_1                    1576 non-null   int64  \n",
      " 69  Medication_2                    1576 non-null   int64  \n",
      " 70  Medication_3                    1576 non-null   int64  \n",
      " 71  Medication_4                    1576 non-null   int64  \n",
      " 72  Medication_5                    1576 non-null   int64  \n",
      " 73  Medication_6                    1576 non-null   int64  \n",
      " 74  Transportation_1                1576 non-null   int64  \n",
      " 75  Transportation_2                1576 non-null   int64  \n",
      " 76  Transportation_3                1576 non-null   int64  \n",
      " 77  Other_Services_1                1576 non-null   int64  \n",
      " 78  Other_Services_2                1576 non-null   int64  \n",
      " 79  Other_Services_3                1576 non-null   int64  \n",
      " 80  Other_Services_4                1576 non-null   int64  \n",
      " 81  Documentation_Needs_1           1576 non-null   int64  \n",
      " 82  Documentation_Needs_2           1576 non-null   int64  \n",
      " 83  Documentation_Needs_3           1576 non-null   int64  \n",
      " 84  Documentation_Needs_4           1576 non-null   int64  \n",
      " 85  Documentation_Needs_5           1576 non-null   int64  \n",
      " 86  Further_Info_Eval_2_1           1576 non-null   int64  \n",
      " 87  Further_Info_Eval_2_2           1576 non-null   int64  \n",
      " 88  Further_Info_Eval_2_3           1576 non-null   int64  \n",
      " 89  Further_Info_Eval_2_4           1576 non-null   int64  \n",
      " 90  Further_Info_Eval_2_5           1576 non-null   int64  \n",
      " 91  Further_Info_Eval_2_6           1576 non-null   int64  \n",
      " 92  Further_Info_Eval_2_7           1576 non-null   int64  \n",
      " 93  Further_Info_Eval_2_8           1576 non-null   int64  \n",
      " 94  Further_Info_Eval_2_9           55 non-null     object \n",
      "dtypes: float64(2), int64(83), object(10)\n",
      "memory usage: 1.1+ MB\n"
     ]
    }
   ],
   "source": [
    "#explore the data frame\n",
    "df.info()"
   ]
  },
  {
   "cell_type": "code",
   "execution_count": 6,
   "id": "77710bc8-4d8c-444b-9e17-cc8d382f7279",
   "metadata": {
    "tags": []
   },
   "outputs": [
    {
     "data": {
      "text/plain": [
       "False"
      ]
     },
     "execution_count": 6,
     "metadata": {},
     "output_type": "execute_result"
    }
   ],
   "source": [
    "#DUPLICATES\n",
    "#view duplicates by fields\n",
    "df.Member_ID.duplicated().any()\n"
   ]
  },
  {
   "cell_type": "code",
   "execution_count": 7,
   "id": "b1a47cf2-940d-4d39-800c-34d1ab0ab502",
   "metadata": {},
   "outputs": [
    {
     "data": {
      "text/plain": [
       "False"
      ]
     },
     "execution_count": 7,
     "metadata": {},
     "output_type": "execute_result"
    }
   ],
   "source": [
    "df.Plan_ID.duplicated().all()"
   ]
  },
  {
   "cell_type": "code",
   "execution_count": 8,
   "id": "b5018214-dc93-459d-9107-65b763617e1f",
   "metadata": {},
   "outputs": [
    {
     "data": {
      "text/plain": [
       "False"
      ]
     },
     "execution_count": 8,
     "metadata": {},
     "output_type": "execute_result"
    }
   ],
   "source": [
    "df.Activity_ID.duplicated().all()\n"
   ]
  },
  {
   "cell_type": "code",
   "execution_count": 9,
   "id": "2a53a536-4727-47c2-8174-97efac718b9d",
   "metadata": {},
   "outputs": [],
   "source": [
    "#create new column titled 'Aging_Waiver' that is updated to Yes/1 if e aging_waiver_1 fields is yes.\n",
    "#df['Aging_Waiver'] = np.where(df['Aging_Waiver_1']=1, 1, 0)\n"
   ]
  },
  {
   "cell_type": "code",
   "execution_count": 10,
   "id": "376ef72e-8d55-4d47-917f-98a063832619",
   "metadata": {},
   "outputs": [
    {
     "data": {
      "text/plain": [
       "0    1569\n",
       "1       7\n",
       "Name: Further_Info_Eval_2_1, dtype: int64"
      ]
     },
     "execution_count": 10,
     "metadata": {},
     "output_type": "execute_result"
    }
   ],
   "source": [
    "df['Further_Info_Eval_2_1'].value_counts()          "
   ]
  },
  {
   "cell_type": "code",
   "execution_count": 11,
   "id": "5f3cf54e-c623-4f8c-9eb1-295708ad0148",
   "metadata": {},
   "outputs": [
    {
     "data": {
      "text/plain": [
       "0    1388\n",
       "1     188\n",
       "Name: Further_Evaluation, dtype: int64"
      ]
     },
     "execution_count": 11,
     "metadata": {},
     "output_type": "execute_result"
    }
   ],
   "source": [
    "#Further_Evaluation\n",
    "#define function for classifying new field based on any of the service fields being yes\n",
    "def f(row):\n",
    "    if row['Further_Info_Eval_2_1']==1:\n",
    "        val = '1'\n",
    "    elif row['Further_Info_Eval_2_2']==1:\n",
    "        val = '1'\n",
    "    elif row['Further_Info_Eval_2_3']==1:\n",
    "        val = '1'\n",
    "    elif row['Further_Info_Eval_2_4']==1:\n",
    "        val = '1'\n",
    "    elif row['Further_Info_Eval_2_5']==1:\n",
    "        val = '1'\n",
    "    elif row['Further_Info_Eval_2_6']==1:\n",
    "        val = '1'\n",
    "    elif row['Further_Info_Eval_2_7']==1:\n",
    "        val = '1'\n",
    "    elif row['Further_Info_Eval_2_8']==1:\n",
    "        val = '1'\n",
    "    else:\n",
    "        val = '0'\n",
    "    return val\n",
    "\n",
    "#create new column 'Further_Evaluation' using the function above\n",
    "df['Further_Evaluation'] = df.apply(f, axis=1)\n",
    "\n",
    "#check value counts of new field\n",
    "df['Further_Evaluation'].value_counts()"
   ]
  },
  {
   "cell_type": "code",
   "execution_count": 12,
   "id": "97337383-122a-48eb-aa37-5b9b7eda904b",
   "metadata": {},
   "outputs": [],
   "source": [
    "#Aging_Waiver\n",
    "#define function for classifying 'Aging_Waiver' based on any of the aging waiver fields is yes\n",
    "def f(row):\n",
    "    if row['Aging_Waiver_1']==1:\n",
    "        val = '1'\n",
    "    elif row['Aging_Waiver_2']==1:\n",
    "        val = '1'\n",
    "    elif row['Aging_Waiver_3']==1:\n",
    "        val = '1'\n",
    "    else:\n",
    "        val = '0'\n",
    "    return val\n",
    "\n",
    "#create new column 'Aging_Waiver' using the function above\n",
    "df['Aging_Waiver'] = df.apply(f, axis=1)"
   ]
  },
  {
   "cell_type": "code",
   "execution_count": 13,
   "id": "6a00b5f3-e522-4a41-964a-2a3316376838",
   "metadata": {},
   "outputs": [
    {
     "data": {
      "text/plain": [
       "0    1474\n",
       "1     102\n",
       "Name: Aging_Waiver, dtype: int64"
      ]
     },
     "execution_count": 13,
     "metadata": {},
     "output_type": "execute_result"
    }
   ],
   "source": [
    "#check value counts of new field\n",
    "df['Aging_Waiver'].value_counts()"
   ]
  },
  {
   "cell_type": "code",
   "execution_count": 14,
   "id": "a818bfde-4a5f-4eaa-96db-28a652d7f57a",
   "metadata": {},
   "outputs": [
    {
     "data": {
      "text/plain": [
       "0    1269\n",
       "1     307\n",
       "Name: DRS_Waiver, dtype: int64"
      ]
     },
     "execution_count": 14,
     "metadata": {},
     "output_type": "execute_result"
    }
   ],
   "source": [
    "#DRS_Waiver\n",
    "#define function for classifying 'DRS_Waiver' based on any of the DRS waiver fields being yes\n",
    "def f(row):\n",
    "    if row['DRS_Waiver_1']==1:\n",
    "        val = '1'\n",
    "    elif row['DRS_Waiver_2']==1:\n",
    "        val = '1'\n",
    "    elif row['DRS_Waiver_3']==1:\n",
    "        val = '1'\n",
    "    elif row['DRS_Waiver_4']==1:\n",
    "        val = '1'\n",
    "    elif row['DRS_Waiver_5']==1:\n",
    "        val = '1'\n",
    "    elif row['DRS_Waiver_6']==1:\n",
    "        val = '1'\n",
    "    elif row['DRS_Waiver_7']==1:\n",
    "        val = '1'\n",
    "    elif row['DRS_Waiver_8']==1:\n",
    "        val = '1'\n",
    "    elif row['DRS_Waiver_9']==1:\n",
    "        val = '1'\n",
    "    elif row['DRS_Waiver_10']==1:\n",
    "        val = '1'\n",
    "    elif row['DRS_Waiver_11']==1:\n",
    "        val = '1'\n",
    "    else:\n",
    "        val = '0'\n",
    "    return val\n",
    "\n",
    "#create new column 'DRS_Waiver' using the function above\n",
    "df['DRS_Waiver'] = df.apply(f, axis=1)\n",
    "\n",
    "#check value counts of new field\n",
    "df['DRS_Waiver'].value_counts()\n"
   ]
  },
  {
   "cell_type": "code",
   "execution_count": 15,
   "id": "0b48c967-41a1-4244-9314-37fc6e2e1fce",
   "metadata": {},
   "outputs": [
    {
     "data": {
      "text/plain": [
       "0    911\n",
       "1    665\n",
       "Name: Mental_Health_Services, dtype: int64"
      ]
     },
     "execution_count": 15,
     "metadata": {},
     "output_type": "execute_result"
    }
   ],
   "source": [
    "#Mental_Health_Services\n",
    "#define function for classifying new field based on any of the service fields being yes\n",
    "def f(row):\n",
    "    if row['Mental_Health_Services_1']==1:\n",
    "        val = '1'\n",
    "    elif row['Mental_Health_Services_2']==1:\n",
    "        val = '1'\n",
    "    elif row['Mental_Health_Services_3']==1:\n",
    "        val = '1'\n",
    "    elif row['Mental_Health_Services_4']==1:\n",
    "        val = '1'\n",
    "    elif row['Mental_Health_Services_5']==1:\n",
    "        val = '1'\n",
    "    elif row['Mental_Health_Services_6']==1:\n",
    "        val = '1'\n",
    "    elif row['Mental_Health_Services_7']==1:\n",
    "        val = '1'\n",
    "    elif row['Mental_Health_Services_8']==1:\n",
    "        val = '1'\n",
    "    elif row['Mental_Health_Services_9']==1:\n",
    "        val = '1'\n",
    "    elif row['Mental_Health_Services_10']==1:\n",
    "        val = '1'\n",
    "    else:\n",
    "        val = '0'\n",
    "    return val\n",
    "\n",
    "#create new column 'Mental_Health_Services' using the function above\n",
    "df['Mental_Health_Services'] = df.apply(f, axis=1)\n",
    "\n",
    "#check value counts of new field\n",
    "df['Mental_Health_Services'].value_counts()"
   ]
  },
  {
   "cell_type": "code",
   "execution_count": 16,
   "id": "8cb5fa0a-8bbf-4872-9732-dfaa3b1980c0",
   "metadata": {},
   "outputs": [
    {
     "data": {
      "text/plain": [
       "0    1325\n",
       "1     251\n",
       "Name: Substance_Use_Services, dtype: int64"
      ]
     },
     "execution_count": 16,
     "metadata": {},
     "output_type": "execute_result"
    }
   ],
   "source": [
    "#Substance_Use_Services\n",
    "#define function for classifying new field based on any of the service fields being yes\n",
    "def f(row):\n",
    "    if row['Substance_Use_Services_1']==1:\n",
    "        val = '1'\n",
    "    elif row['Substance_Use_Services_2']==1:\n",
    "        val = '1'\n",
    "    elif row['Substance_Use_Services_3']==1:\n",
    "        val = '1'\n",
    "    elif row['Substance_Use_Services_4']==1:\n",
    "        val = '1'\n",
    "    elif row['Substance_Use_Services_5']==1:\n",
    "        val = '1'\n",
    "    elif row['Substance_Use_Services_6']==1:\n",
    "        val = '1'\n",
    "    elif row['Substance_Use_Services_7']==1:\n",
    "        val = '1'\n",
    "    elif row['Substance_Use_Services_8']==1:\n",
    "        val = '1'\n",
    "    else:\n",
    "        val = '0'\n",
    "    return val\n",
    "\n",
    "#create new column 'Substance_Use_Services' using the function above\n",
    "df['Substance_Use_Services'] = df.apply(f, axis=1)\n",
    "\n",
    "#check value counts of new field\n",
    "df['Substance_Use_Services'].value_counts()"
   ]
  },
  {
   "cell_type": "code",
   "execution_count": 17,
   "id": "8386cdd4-577d-4ec5-bf04-c389afe3705a",
   "metadata": {},
   "outputs": [
    {
     "data": {
      "text/plain": [
       "0    871\n",
       "1    705\n",
       "Name: Specialty_Providers, dtype: int64"
      ]
     },
     "execution_count": 17,
     "metadata": {},
     "output_type": "execute_result"
    }
   ],
   "source": [
    "#Specialty_Providers\n",
    "#define function for classifying new field based on any of the service fields being yes\n",
    "def f(row):\n",
    "    if row['Specialty_Providers_1']==1:\n",
    "        val = '1'\n",
    "    elif row['Specialty_Providers_2']==1:\n",
    "        val = '1'\n",
    "    elif row['Specialty_Providers_3']==1:\n",
    "        val = '1'\n",
    "    elif row['Specialty_Providers_4']==1:\n",
    "        val = '1'\n",
    "    elif row['Specialty_Providers_5']==1:\n",
    "        val = '1'\n",
    "    elif row['Specialty_Providers_6']==1:\n",
    "        val = '1'\n",
    "    elif row['Specialty_Providers_7']==1:\n",
    "        val = '1'\n",
    "    elif row['Specialty_Providers_8']==1:\n",
    "        val = '1'\n",
    "    elif row['Specialty_Providers_9']==1:\n",
    "        val = '1'\n",
    "    elif row['Specialty_Providers_10']==1:\n",
    "        val = '1'\n",
    "    elif row['Specialty_Providers_11']==1:\n",
    "        val = '1'\n",
    "    elif row['Specialty_Providers_12']==1:\n",
    "        val = '1'\n",
    "    elif row['Specialty_Providers_13']==1:\n",
    "        val = '1'    \n",
    "    elif row['Specialty_Providers_14']==1:\n",
    "        val = '1'       \n",
    "    else:\n",
    "        val = '0'\n",
    "    return val\n",
    "\n",
    "#create new column 'Substance_Use_Services' using the function above\n",
    "df['Specialty_Providers'] = df.apply(f, axis=1)\n",
    "\n",
    "#check value counts of new field\n",
    "df['Specialty_Providers'].value_counts()"
   ]
  },
  {
   "cell_type": "code",
   "execution_count": 18,
   "id": "d149ad07-a6e2-48ad-80c4-1dff25a65699",
   "metadata": {},
   "outputs": [
    {
     "data": {
      "text/plain": [
       "0    986\n",
       "1    590\n",
       "Name: Psychiatrist, dtype: int64"
      ]
     },
     "execution_count": 18,
     "metadata": {},
     "output_type": "execute_result"
    }
   ],
   "source": [
    "#Psychiatrist\n",
    "#define function for classifying new field based on any of the service fields being yes\n",
    "def f(row):\n",
    "    if row['Specialty_Providers_13']==1:\n",
    "        val = '1'     \n",
    "    else:\n",
    "        val = '0'\n",
    "    return val\n",
    "\n",
    "#create new column using the function above\n",
    "df['Psychiatrist'] = df.apply(f, axis=1)\n",
    "\n",
    "#check value counts of new field\n",
    "df['Psychiatrist'].value_counts()"
   ]
  },
  {
   "cell_type": "code",
   "execution_count": 19,
   "id": "a07accc5-4ae2-432b-a41e-26aba1111472",
   "metadata": {},
   "outputs": [
    {
     "data": {
      "text/plain": [
       "0    1299\n",
       "1     277\n",
       "Name: Cardiologist, dtype: int64"
      ]
     },
     "execution_count": 19,
     "metadata": {},
     "output_type": "execute_result"
    }
   ],
   "source": [
    "#Cardiologist\n",
    "#define function for classifying new field based on any of the service fields being yes\n",
    "def f(row):\n",
    "    if row['Specialty_Providers_1']==1:\n",
    "        val = '1'     \n",
    "    else:\n",
    "        val = '0'\n",
    "    return val\n",
    "\n",
    "#create new column using the function above\n",
    "df['Cardiologist'] = df.apply(f, axis=1)\n",
    "\n",
    "#check value counts of new field\n",
    "df['Cardiologist'].value_counts()"
   ]
  },
  {
   "cell_type": "code",
   "execution_count": 20,
   "id": "8f10451f-53b5-4d7e-aea5-5b494d41ffb0",
   "metadata": {},
   "outputs": [
    {
     "data": {
      "text/plain": [
       "0    1382\n",
       "1     194\n",
       "Name: Pain_Management, dtype: int64"
      ]
     },
     "execution_count": 20,
     "metadata": {},
     "output_type": "execute_result"
    }
   ],
   "source": [
    "#Pain_Management\n",
    "#define function for classifying new field based on any of the service fields being yes\n",
    "def f(row):\n",
    "    if row['Specialty_Providers_11']==1:\n",
    "        val = '1'     \n",
    "    else:\n",
    "        val = '0'\n",
    "    return val\n",
    "\n",
    "#create new column using the function above\n",
    "df['Pain_Management'] = df.apply(f, axis=1)\n",
    "\n",
    "#check value counts of new field\n",
    "df['Pain_Management'].value_counts()"
   ]
  },
  {
   "cell_type": "code",
   "execution_count": 21,
   "id": "080a1e1e-6850-48c3-9b86-5a43647ed2eb",
   "metadata": {},
   "outputs": [
    {
     "data": {
      "text/plain": [
       "0    1443\n",
       "1     133\n",
       "Name: Pulmonologist, dtype: int64"
      ]
     },
     "execution_count": 21,
     "metadata": {},
     "output_type": "execute_result"
    }
   ],
   "source": [
    "#Pulmonologist\n",
    "#define function for classifying new field based on any of the service fields being yes\n",
    "def f(row):\n",
    "    if row['Specialty_Providers_14']==1:\n",
    "        val = '1'     \n",
    "    else:\n",
    "        val = '0'\n",
    "    return val\n",
    "\n",
    "#create new column using the function above\n",
    "df['Pulmonologist'] = df.apply(f, axis=1)\n",
    "\n",
    "#check value counts of new field\n",
    "df['Pulmonologist'].value_counts()"
   ]
  },
  {
   "cell_type": "code",
   "execution_count": 22,
   "id": "8935fd5b-42c0-4754-bccf-5803536836a9",
   "metadata": {},
   "outputs": [
    {
     "data": {
      "text/plain": [
       "0    1412\n",
       "1     164\n",
       "Name: Neurologist, dtype: int64"
      ]
     },
     "execution_count": 22,
     "metadata": {},
     "output_type": "execute_result"
    }
   ],
   "source": [
    "#Neurologist\n",
    "#define function for classifying new field based on any of the service fields being yes\n",
    "def f(row):\n",
    "    if row['Specialty_Providers_6']==1:\n",
    "        val = '1'     \n",
    "    else:\n",
    "        val = '0'\n",
    "    return val\n",
    "\n",
    "#create new column using the function above\n",
    "df['Neurologist'] = df.apply(f, axis=1)\n",
    "\n",
    "#check value counts of new field\n",
    "df['Neurologist'].value_counts()"
   ]
  },
  {
   "cell_type": "code",
   "execution_count": 23,
   "id": "a340f51f-1954-4e8b-bbef-d4e972b91be4",
   "metadata": {},
   "outputs": [
    {
     "data": {
      "text/plain": [
       "0    1548\n",
       "1      28\n",
       "Name: Oncologist, dtype: int64"
      ]
     },
     "execution_count": 23,
     "metadata": {},
     "output_type": "execute_result"
    }
   ],
   "source": [
    "#Oncologist\n",
    "#define function for classifying new field based on any of the service fields being yes\n",
    "def f(row):\n",
    "    if row['Specialty_Providers_8']==1:\n",
    "        val = '1'     \n",
    "    else:\n",
    "        val = '0'\n",
    "    return val\n",
    "\n",
    "#create new column using the function above\n",
    "df['Oncologist'] = df.apply(f, axis=1)\n",
    "\n",
    "#check value counts of new field\n",
    "df['Oncologist'].value_counts()"
   ]
  },
  {
   "cell_type": "code",
   "execution_count": 24,
   "id": "661c6380-094e-4a75-92b0-ab8aa2b8fe7a",
   "metadata": {},
   "outputs": [
    {
     "data": {
      "text/plain": [
       "0    1171\n",
       "1     405\n",
       "Name: Other_Specialty, dtype: int64"
      ]
     },
     "execution_count": 24,
     "metadata": {},
     "output_type": "execute_result"
    }
   ],
   "source": [
    "#Other_Specialty\n",
    "#define function for classifying new field based on any of the service fields being yes\n",
    "def f(row):\n",
    "    if row['Other_Specialty_1']==1:\n",
    "        val = '1'\n",
    "    elif row['Other_Specialty_2']==1:\n",
    "        val = '1'\n",
    "    elif row['Other_Specialty_3']==1:\n",
    "        val = '1'\n",
    "    elif row['Other_Specialty_4']==1:\n",
    "        val = '1'\n",
    "    elif row['Other_Specialty_5']==1:\n",
    "        val = '1'\n",
    "    elif row['Other_Specialty_6']==1:\n",
    "        val = '1'\n",
    "    elif row['Other_Specialty_7']==1:\n",
    "        val = '1'\n",
    "    else:\n",
    "        val = '0'\n",
    "    return val\n",
    "\n",
    "#create new column using the function above\n",
    "df['Other_Specialty'] = df.apply(f, axis=1)\n",
    "\n",
    "#check value counts of new field\n",
    "df['Other_Specialty'].value_counts()"
   ]
  },
  {
   "cell_type": "code",
   "execution_count": null,
   "id": "b8bb86b6-9e98-407f-a4f4-653436d325d6",
   "metadata": {},
   "outputs": [],
   "source": []
  },
  {
   "cell_type": "code",
   "execution_count": 25,
   "id": "47af4462-66ec-4176-a322-d291419d019a",
   "metadata": {},
   "outputs": [
    {
     "data": {
      "text/plain": [
       "0    1334\n",
       "1     242\n",
       "Name: Physical_Therapy (PT), dtype: int64"
      ]
     },
     "execution_count": 25,
     "metadata": {},
     "output_type": "execute_result"
    }
   ],
   "source": [
    "#Physical_Therapy\n",
    "#define function for classifying new field based on any of the service fields being yes\n",
    "def f(row):\n",
    "    if row['Other_Specialty_4']==1:\n",
    "        val = '1'\n",
    "    else:\n",
    "        val = '0'\n",
    "    return val\n",
    "\n",
    "#create new column using the function above\n",
    "df['Physical_Therapy (PT)'] = df.apply(f, axis=1)\n",
    "\n",
    "#check value counts of new field\n",
    "df['Physical_Therapy (PT)'].value_counts()"
   ]
  },
  {
   "cell_type": "code",
   "execution_count": 26,
   "id": "9cfaa98e-04cd-4ac2-a513-295ad2990e99",
   "metadata": {},
   "outputs": [
    {
     "data": {
      "text/plain": [
       "0    1263\n",
       "1     313\n",
       "Name: Occupational_Therapy (OT), dtype: int64"
      ]
     },
     "execution_count": 26,
     "metadata": {},
     "output_type": "execute_result"
    }
   ],
   "source": [
    "#Occupational_Therapy\n",
    "#define function for classifying new field based on any of the service fields being yes\n",
    "def f(row):\n",
    "    if row['Other_Specialty_5']==1:\n",
    "        val = '1'\n",
    "    else:\n",
    "        val = '0'\n",
    "    return val\n",
    "\n",
    "#create new column using the function above\n",
    "df['Occupational_Therapy (OT)'] = df.apply(f, axis=1)\n",
    "\n",
    "#check value counts of new field\n",
    "df['Occupational_Therapy (OT)'].value_counts()"
   ]
  },
  {
   "cell_type": "code",
   "execution_count": 27,
   "id": "25134351-f96f-4101-826f-3771d9a79fc0",
   "metadata": {},
   "outputs": [
    {
     "data": {
      "text/plain": [
       "0    873\n",
       "1    703\n",
       "Name: Medication, dtype: int64"
      ]
     },
     "execution_count": 27,
     "metadata": {},
     "output_type": "execute_result"
    }
   ],
   "source": [
    "#Medication\n",
    "#define function for classifying new field based on any of the service fields being yes\n",
    "def f(row):\n",
    "    if row['Medication_1']==1:\n",
    "        val = '1'\n",
    "    elif row['Medication_2']==1:\n",
    "        val = '1'\n",
    "    elif row['Medication_3']==1:\n",
    "        val = '1'\n",
    "    elif row['Medication_4']==1:\n",
    "        val = '1'\n",
    "    elif row['Medication_5']==1:\n",
    "        val = '1'\n",
    "    elif row['Medication_6']==1:\n",
    "        val = '1'\n",
    "    else:\n",
    "        val = '0'\n",
    "    return val\n",
    "\n",
    "#create new column 'Medication' using the function above\n",
    "df['Medication'] = df.apply(f, axis=1)\n",
    "\n",
    "#check value counts of new field\n",
    "df['Medication'].value_counts()"
   ]
  },
  {
   "cell_type": "code",
   "execution_count": 28,
   "id": "f9ffdfff-a560-41cd-9a0b-7d54bae3ce1b",
   "metadata": {},
   "outputs": [
    {
     "data": {
      "text/plain": [
       "0    869\n",
       "1    707\n",
       "Name: Transportation, dtype: int64"
      ]
     },
     "execution_count": 28,
     "metadata": {},
     "output_type": "execute_result"
    }
   ],
   "source": [
    "#Transportation\n",
    "#define function for classifying new field based on any of the service fields being yes\n",
    "def f(row):\n",
    "    if row['Transportation_1']==1:\n",
    "        val = '1'\n",
    "    elif row['Transportation_2']==1:\n",
    "        val = '1'\n",
    "    elif row['Transportation_3']==1:\n",
    "        val = '1'\n",
    "    else:\n",
    "        val = '0'\n",
    "    return val\n",
    "\n",
    "#create new column 'Transportation' using the function above\n",
    "df['Transportation'] = df.apply(f, axis=1)\n",
    "\n",
    "#check value counts of new field\n",
    "df['Transportation'].value_counts()"
   ]
  },
  {
   "cell_type": "code",
   "execution_count": 29,
   "id": "4f795d71-29d8-4642-b840-29615ff76b5b",
   "metadata": {},
   "outputs": [
    {
     "data": {
      "text/plain": [
       "0    1016\n",
       "1     560\n",
       "Name: Other_Services, dtype: int64"
      ]
     },
     "execution_count": 29,
     "metadata": {},
     "output_type": "execute_result"
    }
   ],
   "source": [
    "#Other_Services\n",
    "#define function for classifying new field based on any of the service fields being yes\n",
    "def f(row):\n",
    "    if row['Other_Services_1']==1:\n",
    "        val = '1'\n",
    "    elif row['Other_Services_2']==1:\n",
    "        val = '1'\n",
    "    elif row['Other_Services_3']==1:\n",
    "        val = '1'\n",
    "    elif row['Other_Services_4']==1:\n",
    "        val = '1'\n",
    "    else:\n",
    "        val = '0'\n",
    "    return val\n",
    "\n",
    "#create new column 'Other_Services' using the function above\n",
    "df['Other_Services'] = df.apply(f, axis=1)\n",
    "\n",
    "#check value counts of new field\n",
    "df['Other_Services'].value_counts()"
   ]
  },
  {
   "cell_type": "code",
   "execution_count": 30,
   "id": "b16ca3f7-1bd6-461b-ad8c-0a7f968d3059",
   "metadata": {},
   "outputs": [
    {
     "data": {
      "text/plain": [
       "0    988\n",
       "1    588\n",
       "Name: Documentation_Needs, dtype: int64"
      ]
     },
     "execution_count": 30,
     "metadata": {},
     "output_type": "execute_result"
    }
   ],
   "source": [
    "#Documentation_Needs\n",
    "#define function for classifying new field based on any of the service fields being yes\n",
    "def f(row):\n",
    "    if row['Documentation_Needs_1']==1:\n",
    "        val = '1'\n",
    "    elif row['Documentation_Needs_2']==1:\n",
    "        val = '1'\n",
    "    elif row['Documentation_Needs_3']==1:\n",
    "        val = '1'\n",
    "    elif row['Documentation_Needs_4']==1:\n",
    "        val = '1'\n",
    "    elif row['Documentation_Needs_5']==1:\n",
    "        val = '1'\n",
    "    else:\n",
    "        val = '0'\n",
    "    return val\n",
    "\n",
    "#create new column 'Documentation_Needs' using the function above\n",
    "df['Documentation_Needs'] = df.apply(f, axis=1)\n",
    "\n",
    "#check value counts of new field\n",
    "df['Documentation_Needs'].value_counts()"
   ]
  },
  {
   "cell_type": "code",
   "execution_count": 31,
   "id": "17c263ca-ec9d-4508-b13a-bb9046e30629",
   "metadata": {},
   "outputs": [
    {
     "data": {
      "text/plain": [
       "Index(['Member_ID', 'Activity_ID', 'Assessment_ID', 'Class', 'Facility',\n",
       "       'Member_Prime', 'Current_Age', 'Assess_Date', 'MaxOfInfo_Date_Assessed',\n",
       "       'DaysGroup',\n",
       "       ...\n",
       "       'Pulmonologist', 'Neurologist', 'Oncologist', 'Other_Specialty',\n",
       "       'Physical_Therapy (PT)', 'Occupational_Therapy (OT)', 'Medication',\n",
       "       'Transportation', 'Other_Services', 'Documentation_Needs'],\n",
       "      dtype='object', length=114)"
      ]
     },
     "execution_count": 31,
     "metadata": {},
     "output_type": "execute_result"
    }
   ],
   "source": [
    "df.columns"
   ]
  },
  {
   "cell_type": "code",
   "execution_count": 32,
   "id": "e917b43c-1a5b-4601-8232-c5e689f640f9",
   "metadata": {},
   "outputs": [
    {
     "data": {
      "text/plain": [
       "Colbert     1054\n",
       "Williams     522\n",
       "Name: Class, dtype: int64"
      ]
     },
     "execution_count": 32,
     "metadata": {},
     "output_type": "execute_result"
    }
   ],
   "source": [
    "df['Class'].value_counts()"
   ]
  },
  {
   "cell_type": "code",
   "execution_count": 33,
   "id": "227abb71-d4d0-4a6d-9501-e2ab7b60f07f",
   "metadata": {},
   "outputs": [],
   "source": [
    "#MISSING DATA\n",
    "#replace all null values with NaN for consistency\n",
    "#df['Plan_ID'] = df['Plan_ID'].replace('', np.NaN)"
   ]
  },
  {
   "cell_type": "code",
   "execution_count": 34,
   "id": "8a224c90-d774-4977-b35b-2383fe76043c",
   "metadata": {},
   "outputs": [],
   "source": [
    "PD1_serv_gp = df[['Member_ID', 'Activity_ID', 'Assessment_ID', 'Class', 'Facility', 'Member_Prime', 'Plan_ID', 'Plan_Date','Aging_Waiver','DRS_Waiver', \n",
    "         'Mental_Health_Services', 'Substance_Use_Services','Specialty_Providers', 'Other_Specialty', 'Medication','Transportation',\n",
    "         'Other_Services', 'Documentation_Needs','Further_Evaluation', 'Pulmonologist', 'Neurologist', 'Oncologist', 'Psychiatrist', 'Cardiologist',\n",
    "         'Pain_Management','Physical_Therapy (PT)', 'Occupational_Therapy (OT)']].copy(deep=True)"
   ]
  },
  {
   "cell_type": "code",
   "execution_count": 35,
   "id": "29270db6-9c07-46ce-9a40-7a878c4bf208",
   "metadata": {},
   "outputs": [
    {
     "name": "stdout",
     "output_type": "stream",
     "text": [
      "<class 'pandas.core.frame.DataFrame'>\n",
      "RangeIndex: 1576 entries, 0 to 1575\n",
      "Data columns (total 27 columns):\n",
      " #   Column                     Non-Null Count  Dtype  \n",
      "---  ------                     --------------  -----  \n",
      " 0   Member_ID                  1576 non-null   int64  \n",
      " 1   Activity_ID                1576 non-null   int64  \n",
      " 2   Assessment_ID              1576 non-null   int64  \n",
      " 3   Class                      1576 non-null   object \n",
      " 4   Facility                   1576 non-null   object \n",
      " 5   Member_Prime               1576 non-null   object \n",
      " 6   Plan_ID                    765 non-null    float64\n",
      " 7   Plan_Date                  765 non-null    object \n",
      " 8   Aging_Waiver               1576 non-null   object \n",
      " 9   DRS_Waiver                 1576 non-null   object \n",
      " 10  Mental_Health_Services     1576 non-null   object \n",
      " 11  Substance_Use_Services     1576 non-null   object \n",
      " 12  Specialty_Providers        1576 non-null   object \n",
      " 13  Other_Specialty            1576 non-null   object \n",
      " 14  Medication                 1576 non-null   object \n",
      " 15  Transportation             1576 non-null   object \n",
      " 16  Other_Services             1576 non-null   object \n",
      " 17  Documentation_Needs        1576 non-null   object \n",
      " 18  Further_Evaluation         1576 non-null   object \n",
      " 19  Pulmonologist              1576 non-null   object \n",
      " 20  Neurologist                1576 non-null   object \n",
      " 21  Oncologist                 1576 non-null   object \n",
      " 22  Psychiatrist               1576 non-null   object \n",
      " 23  Cardiologist               1576 non-null   object \n",
      " 24  Pain_Management            1576 non-null   object \n",
      " 25  Physical_Therapy (PT)      1576 non-null   object \n",
      " 26  Occupational_Therapy (OT)  1576 non-null   object \n",
      "dtypes: float64(1), int64(3), object(23)\n",
      "memory usage: 332.6+ KB\n"
     ]
    }
   ],
   "source": [
    "PD1_serv_gp.info()"
   ]
  },
  {
   "cell_type": "code",
   "execution_count": 36,
   "id": "4249d34a-877f-4931-a305-fca2a84fad64",
   "metadata": {},
   "outputs": [],
   "source": [
    "#Plan Status\n",
    "#define function for classifying new field based on any of the service fields being yes\n",
    "#def f(row):\n",
    "    #if row['Plan_ID']==0:\n",
    "        #val = 'No Plan'\n",
    "    #else:\n",
    "        #val = 'FY23 P1 Plan Completed'\n",
    "    #return val\n",
    "\n",
    "#create new column 'Documentation_Needs' using the function above\n",
    "#PD1_services_grouped['Plan_Status'] = df.apply(f, axis=1)\n",
    "\n",
    "#check value counts of new field\n",
    "#PD1_services_grouped['Plan_Status'].value_counts()"
   ]
  },
  {
   "cell_type": "code",
   "execution_count": 38,
   "id": "827cba6d-eee2-453c-9cb3-194d3467ac48",
   "metadata": {},
   "outputs": [],
   "source": [
    "#Export data\n",
    "PD1_serv_gp.to_csv(r'C:/Users/vwalds/Documents/python/dashboard/PD1_serv_gp.csv')"
   ]
  },
  {
   "cell_type": "code",
   "execution_count": null,
   "id": "448ed7db-8732-43c7-b72d-21402b7d9ae3",
   "metadata": {},
   "outputs": [],
   "source": []
  }
 ],
 "metadata": {
  "kernelspec": {
   "display_name": "venv",
   "language": "python",
   "name": "python3"
  },
  "language_info": {
   "codemirror_mode": {
    "name": "ipython",
    "version": 3
   },
   "file_extension": ".py",
   "mimetype": "text/x-python",
   "name": "python",
   "nbconvert_exporter": "python",
   "pygments_lexer": "ipython3",
   "version": "3.12.3"
  },
  "toc-autonumbering": true,
  "toc-showcode": true,
  "toc-showmarkdowntxt": true
 },
 "nbformat": 4,
 "nbformat_minor": 5
}
