{
 "cells": [
  {
   "cell_type": "code",
   "execution_count": 1,
   "id": "2edbeabb",
   "metadata": {},
   "outputs": [],
   "source": [
    "import pandas as pd\n",
    "import numpy as np\n",
    "import time\n",
    "import re\n",
    "import os\n",
    "import datetime"
   ]
  },
  {
   "cell_type": "code",
   "execution_count": 2,
   "id": "ce60e637-0d8b-4e2c-9c2d-2591c01793b2",
   "metadata": {},
   "outputs": [],
   "source": [
    "os.chdir(r'C:/Users/vwalds/Documents/My Data Sources/')"
   ]
  },
  {
   "cell_type": "code",
   "execution_count": 3,
   "id": "4f146531-7777-4cfc-9383-fb5cf4817f51",
   "metadata": {},
   "outputs": [],
   "source": [
    "import warnings\n",
    "warnings.filterwarnings('ignore')\n",
    "warnings.simplefilter('ignore')"
   ]
  },
  {
   "cell_type": "code",
   "execution_count": 4,
   "id": "bd6c9099-b615-42a2-84b6-cab021ef3888",
   "metadata": {},
   "outputs": [],
   "source": [
    "# Grab Current Time Before Running the Code\n",
    "start = time.time()"
   ]
  },
  {
   "cell_type": "code",
   "execution_count": 5,
   "id": "d4c0cbec-8afc-4dfb-aee3-33abb7d622b1",
   "metadata": {},
   "outputs": [],
   "source": [
    "#UIC_Dashboard_TD5_CR\n"
   ]
  },
  {
   "cell_type": "code",
   "execution_count": 6,
   "id": "ce513d12-555b-4e0d-93b7-b596f78be1c5",
   "metadata": {},
   "outputs": [],
   "source": [
    "df = pd.read_excel(\"UIC_Dashboard_TD5_CR.xlsx\")"
   ]
  },
  {
   "cell_type": "code",
   "execution_count": 7,
   "id": "8d9aa52b-ccaa-4872-a51b-c31ba9ec7ac8",
   "metadata": {},
   "outputs": [
    {
     "name": "stdout",
     "output_type": "stream",
     "text": [
      "<class 'pandas.core.frame.DataFrame'>\n",
      "RangeIndex: 3645 entries, 0 to 3644\n",
      "Data columns (total 23 columns):\n",
      " #   Column                           Non-Null Count  Dtype  \n",
      "---  ------                           --------------  -----  \n",
      " 0   Review_Request_ID                3645 non-null   int64  \n",
      " 1   Review_Result_ID                 3042 non-null   float64\n",
      " 2   Reason_ID                        497 non-null    float64\n",
      " 3   Review_Request_Date_Identified   1699 non-null   object \n",
      " 4   Outreach_Activity_ID             3645 non-null   int64  \n",
      " 5   Member_ID                        3645 non-null   int64  \n",
      " 6   Member_RIN                       3643 non-null   float64\n",
      " 7   Dates_Document_Requested         4 non-null      object \n",
      " 8   Date_All_Document_Recieved       1467 non-null   object \n",
      " 9   Date_Initial_Summary_Sent_Agent  2070 non-null   object \n",
      " 10  Date_Initial_Call_Completed      1821 non-null   object \n",
      " 11  Created_On                       3645 non-null   object \n",
      " 12  Date_Final_Summary_Sent_Agency   1201 non-null   object \n",
      " 13  Request_Type                     3645 non-null   object \n",
      " 14  Outreach_Activity_Closed_YN      3645 non-null   bool   \n",
      " 15  Outreach_Activity_Closed_Date    2121 non-null   object \n",
      " 16  First_Name                       3645 non-null   object \n",
      " 17  Last_Name                        3645 non-null   object \n",
      " 18  Review_Assessment_ID             3645 non-null   int64  \n",
      " 19  Request_Finalized                3645 non-null   bool   \n",
      " 20  Request_Updated_On               3147 non-null   object \n",
      " 21  Request_Reviewed_On              2029 non-null   object \n",
      " 22  Date_30_day_Post_Transition      2340 non-null   object \n",
      "dtypes: bool(2), float64(3), int64(4), object(14)\n",
      "memory usage: 605.3+ KB\n"
     ]
    }
   ],
   "source": [
    "df.info()"
   ]
  },
  {
   "cell_type": "code",
   "execution_count": 8,
   "id": "8e6548e8-a030-476f-8925-2f917aab9ac5",
   "metadata": {},
   "outputs": [
    {
     "data": {
      "text/plain": [
       "Index(['Review_Request_ID', 'Review_Result_ID', 'Reason_ID',\n",
       "       'Review_Request_Date_Identified', 'Outreach_Activity_ID', 'Member_ID',\n",
       "       'Member_RIN', 'Dates_Document_Requested', 'Date_All_Document_Recieved',\n",
       "       'Date_Initial_Summary_Sent_Agent', 'Date_Initial_Call_Completed',\n",
       "       'Created_On', 'Date_Final_Summary_Sent_Agency', 'Request_Type',\n",
       "       'Outreach_Activity_Closed_YN', 'Outreach_Activity_Closed_Date',\n",
       "       'First_Name', 'Last_Name', 'Review_Assessment_ID', 'Request_Finalized',\n",
       "       'Request_Updated_On', 'Request_Reviewed_On',\n",
       "       'Date_30_day_Post_Transition'],\n",
       "      dtype='object')"
      ]
     },
     "execution_count": 8,
     "metadata": {},
     "output_type": "execute_result"
    }
   ],
   "source": [
    "df.columns"
   ]
  },
  {
   "cell_type": "code",
   "execution_count": 9,
   "id": "c1db009a-7209-4cf8-9098-78153c85a45b",
   "metadata": {},
   "outputs": [],
   "source": [
    "# converting the string to datetime format\n",
    "df['Review_Request_Date_Identified'] = pd.to_datetime(df['Review_Request_Date_Identified'])"
   ]
  },
  {
   "cell_type": "code",
   "execution_count": 10,
   "id": "50981cae-c9e3-4ad2-a73e-3622dfffca61",
   "metadata": {},
   "outputs": [],
   "source": [
    "# converting the string to datetime format\n",
    "df['Dates_Document_Requested'] = pd.to_datetime(df['Dates_Document_Requested'])"
   ]
  },
  {
   "cell_type": "code",
   "execution_count": 11,
   "id": "c91e85e4-54f4-459c-a080-12a62b8f5618",
   "metadata": {},
   "outputs": [],
   "source": [
    "# converting the string to datetime format\n",
    "df['Date_All_Document_Recieved'] = pd.to_datetime(df['Date_All_Document_Recieved'])"
   ]
  },
  {
   "cell_type": "code",
   "execution_count": 12,
   "id": "9a64c055-a024-45b1-8d71-4a5ead0e1afc",
   "metadata": {},
   "outputs": [],
   "source": [
    "# converting the string to datetime format\n",
    "df['Date_Initial_Summary_Sent_Agent'] = pd.to_datetime(df['Date_Initial_Summary_Sent_Agent'])"
   ]
  },
  {
   "cell_type": "code",
   "execution_count": 13,
   "id": "a17c9095-b896-4557-b080-666d39c51e9e",
   "metadata": {},
   "outputs": [],
   "source": [
    "# converting the string to datetime format \n",
    "df['Date_Initial_Call_Completed']= pd.to_datetime(df['Date_Initial_Call_Completed'])#, errors = 'coerce')"
   ]
  },
  {
   "cell_type": "code",
   "execution_count": 14,
   "id": "d33fe3a9-d8d0-426c-ab2b-e0f4b967ba28",
   "metadata": {},
   "outputs": [],
   "source": [
    "# converting the string to datetime format\n",
    "df['Created_On'] = pd.to_datetime(df['Created_On'])"
   ]
  },
  {
   "cell_type": "code",
   "execution_count": 15,
   "id": "1b471839-d244-4d6c-89cf-531d5492fbc2",
   "metadata": {},
   "outputs": [],
   "source": [
    "# converting the string to datetime format\n",
    "df['Date_Final_Summary_Sent_Agency'] = pd.to_datetime(df['Date_Final_Summary_Sent_Agency'])"
   ]
  },
  {
   "cell_type": "code",
   "execution_count": 16,
   "id": "8d83d960-592d-4685-87d2-b0bfbf0363bc",
   "metadata": {},
   "outputs": [],
   "source": [
    "# converting the string to datetime format\n",
    "df['Outreach_Activity_Closed_Date'] = pd.to_datetime(df['Outreach_Activity_Closed_Date'])"
   ]
  },
  {
   "cell_type": "code",
   "execution_count": 17,
   "id": "843806e4-1be8-4a56-9b9b-7ee58d491570",
   "metadata": {},
   "outputs": [],
   "source": [
    "# converting the string to datetime format\n",
    "df['Request_Updated_On'] = pd.to_datetime(df['Request_Updated_On'])"
   ]
  },
  {
   "cell_type": "code",
   "execution_count": 18,
   "id": "3b7d65b3-71e6-4746-8f01-d646e33cedc9",
   "metadata": {},
   "outputs": [],
   "source": [
    "# converting the string to datetime format\n",
    "df['Request_Reviewed_On'] = pd.to_datetime(df['Request_Reviewed_On'])"
   ]
  },
  {
   "cell_type": "code",
   "execution_count": 19,
   "id": "a2ef4718-f383-492c-809a-6b636771cf2d",
   "metadata": {},
   "outputs": [],
   "source": [
    "# converting the string to datetime format\n",
    "df['Date_30_day_Post_Transition'] = pd.to_datetime(df['Date_30_day_Post_Transition'])"
   ]
  },
  {
   "cell_type": "code",
   "execution_count": 20,
   "id": "14c22c99-a6a0-4c66-8ed3-f86829b1915f",
   "metadata": {},
   "outputs": [
    {
     "data": {
      "text/plain": [
       "Review_Request_ID                           int64\n",
       "Review_Result_ID                          float64\n",
       "Reason_ID                                 float64\n",
       "Review_Request_Date_Identified     datetime64[ns]\n",
       "Outreach_Activity_ID                        int64\n",
       "Member_ID                                   int64\n",
       "Member_RIN                                float64\n",
       "Dates_Document_Requested           datetime64[ns]\n",
       "Date_All_Document_Recieved         datetime64[ns]\n",
       "Date_Initial_Summary_Sent_Agent    datetime64[ns]\n",
       "Date_Initial_Call_Completed        datetime64[ns]\n",
       "Created_On                         datetime64[ns]\n",
       "Date_Final_Summary_Sent_Agency     datetime64[ns]\n",
       "Request_Type                               object\n",
       "Outreach_Activity_Closed_YN                  bool\n",
       "Outreach_Activity_Closed_Date      datetime64[ns]\n",
       "First_Name                                 object\n",
       "Last_Name                                  object\n",
       "Review_Assessment_ID                        int64\n",
       "Request_Finalized                            bool\n",
       "Request_Updated_On                 datetime64[ns]\n",
       "Request_Reviewed_On                datetime64[ns]\n",
       "Date_30_day_Post_Transition        datetime64[ns]\n",
       "dtype: object"
      ]
     },
     "execution_count": 20,
     "metadata": {},
     "output_type": "execute_result"
    }
   ],
   "source": [
    "df.dtypes"
   ]
  },
  {
   "cell_type": "code",
   "execution_count": 21,
   "id": "51daa0d0-9989-40e9-927c-4cbdc264213c",
   "metadata": {},
   "outputs": [
    {
     "data": {
      "text/plain": [
       "3225    144711389.0\n",
       "2302    194412672.0\n",
       "619     159734136.0\n",
       "1475    205282817.0\n",
       "2388    392556890.0\n",
       "1070    180505588.0\n",
       "2272    165113077.0\n",
       "1016    169043882.0\n",
       "3129    390915734.0\n",
       "431     333247450.0\n",
       "3063    140474610.0\n",
       "1932    964215651.0\n",
       "1001    926430166.0\n",
       "1564    153077490.0\n",
       "3636    103859898.0\n",
       "Name: Member_RIN, dtype: float64"
      ]
     },
     "execution_count": 21,
     "metadata": {},
     "output_type": "execute_result"
    }
   ],
   "source": [
    "df['Member_RIN'].sample(15)"
   ]
  },
  {
   "cell_type": "code",
   "execution_count": 22,
   "id": "55b6a6e6-38b2-4859-bc6e-42f01deb241a",
   "metadata": {},
   "outputs": [],
   "source": [
    "# Convert RIN to string\n",
    "df['Member_RIN'] = df['Member_RIN'].astype('str') "
   ]
  },
  {
   "cell_type": "code",
   "execution_count": 23,
   "id": "7d656121-ee26-4bd7-852c-722ffa380cda",
   "metadata": {},
   "outputs": [],
   "source": [
    "df['Member_RIN'] = df['Member_RIN'].str.strip()"
   ]
  },
  {
   "cell_type": "code",
   "execution_count": 24,
   "id": "49b723df-328f-4f2f-a2c6-7f4ac8e6517b",
   "metadata": {},
   "outputs": [],
   "source": [
    "# add leading zeros to Member_RIN\n",
    "df['Member_RIN'] = df['Member_RIN'].str.zfill(11)"
   ]
  },
  {
   "cell_type": "code",
   "execution_count": 25,
   "id": "32a66682-2648-48eb-9eaa-e9e12fa0a695",
   "metadata": {},
   "outputs": [
    {
     "data": {
      "text/plain": [
       "937     350353074.0\n",
       "2044    363942574.0\n",
       "3179    366898351.0\n",
       "1679    165247313.0\n",
       "2496    199819939.0\n",
       "1064    133510669.0\n",
       "2822    075736744.0\n",
       "498     116120882.0\n",
       "3221    193262631.0\n",
       "1610    356196865.0\n",
       "34      097384770.0\n",
       "2956    114327224.0\n",
       "1198    212129274.0\n",
       "2492    122431166.0\n",
       "356     092051713.0\n",
       "Name: Member_RIN, dtype: object"
      ]
     },
     "execution_count": 25,
     "metadata": {},
     "output_type": "execute_result"
    }
   ],
   "source": [
    "df['Member_RIN'].sample(15)"
   ]
  },
  {
   "cell_type": "code",
   "execution_count": 26,
   "id": "180055ca-f1ab-45b0-82bd-1227c792b1c7",
   "metadata": {},
   "outputs": [],
   "source": [
    "#export file without index column\n",
    "df.to_excel(\"UIC_Dashboard_TD5_CR.xlsx\", index=False)"
   ]
  },
  {
   "cell_type": "code",
   "execution_count": 27,
   "id": "c70dcc48-110f-4473-a218-98b9d789cce7",
   "metadata": {},
   "outputs": [
    {
     "name": "stdout",
     "output_type": "stream",
     "text": [
      "2024-09-04 12:19:08.575332\n"
     ]
    }
   ],
   "source": [
    "# Create a timestamp object\n",
    "timestamp = pd.Timestamp(datetime.datetime.now())\n",
    "\n",
    "# Print the timestamp\n",
    "print(timestamp)"
   ]
  },
  {
   "cell_type": "code",
   "execution_count": 28,
   "id": "acc90d14-d687-4917-945d-6b7ea3cf0137",
   "metadata": {},
   "outputs": [],
   "source": [
    "#the end!"
   ]
  },
  {
   "cell_type": "code",
   "execution_count": null,
   "id": "619c0970-3ae5-4980-8fd5-67c0a16216c1",
   "metadata": {},
   "outputs": [],
   "source": []
  },
  {
   "cell_type": "code",
   "execution_count": null,
   "id": "4e50a5ce-8cae-4eac-a149-0bf9c0778cbd",
   "metadata": {},
   "outputs": [],
   "source": []
  }
 ],
 "metadata": {
  "kernelspec": {
   "display_name": "Python 3 (ipykernel)",
   "language": "python",
   "name": "python3"
  },
  "language_info": {
   "codemirror_mode": {
    "name": "ipython",
    "version": 3
   },
   "file_extension": ".py",
   "mimetype": "text/x-python",
   "name": "python",
   "nbconvert_exporter": "python",
   "pygments_lexer": "ipython3",
   "version": "3.9.13"
  }
 },
 "nbformat": 4,
 "nbformat_minor": 5
}
