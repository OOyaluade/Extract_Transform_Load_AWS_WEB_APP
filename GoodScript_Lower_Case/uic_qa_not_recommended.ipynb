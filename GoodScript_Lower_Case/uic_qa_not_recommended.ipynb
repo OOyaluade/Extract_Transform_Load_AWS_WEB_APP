{
 "cells": [
  {
   "cell_type": "code",
   "execution_count": 1,
   "id": "2edbeabb",
   "metadata": {},
   "outputs": [],
   "source": [
    "import pandas as pd\n",
    "import numpy as np\n",
    "import time\n",
    "import re\n",
    "import os\n",
    "import datetime"
   ]
  },
  {
   "cell_type": "code",
   "execution_count": 2,
   "id": "ce60e637-0d8b-4e2c-9c2d-2591c01793b2",
   "metadata": {},
   "outputs": [],
   "source": [
    "os.chdir(r'C:/Users/vwalds/Documents/My Data Sources/')"
   ]
  },
  {
   "cell_type": "code",
   "execution_count": 3,
   "id": "4f146531-7777-4cfc-9383-fb5cf4817f51",
   "metadata": {},
   "outputs": [],
   "source": [
    "import warnings\n",
    "warnings.filterwarnings('ignore')\n",
    "warnings.simplefilter('ignore')"
   ]
  },
  {
   "cell_type": "code",
   "execution_count": 4,
   "id": "bd6c9099-b615-42a2-84b6-cab021ef3888",
   "metadata": {},
   "outputs": [],
   "source": [
    "# Grab Current Time Before Running the Code\n",
    "start = time.time()"
   ]
  },
  {
   "cell_type": "code",
   "execution_count": 5,
   "id": "d4c0cbec-8afc-4dfb-aee3-33abb7d622b1",
   "metadata": {},
   "outputs": [],
   "source": [
    "#UIC_QA_Not_Recommended\n"
   ]
  },
  {
   "cell_type": "code",
   "execution_count": 6,
   "id": "ce513d12-555b-4e0d-93b7-b596f78be1c5",
   "metadata": {},
   "outputs": [],
   "source": [
    "df = pd.read_excel(\"UIC_QA_Not_Recommended.xlsx\")"
   ]
  },
  {
   "cell_type": "code",
   "execution_count": 7,
   "id": "8d9aa52b-ccaa-4872-a51b-c31ba9ec7ac8",
   "metadata": {},
   "outputs": [
    {
     "name": "stdout",
     "output_type": "stream",
     "text": [
      "<class 'pandas.core.frame.DataFrame'>\n",
      "RangeIndex: 233 entries, 0 to 232\n",
      "Data columns (total 27 columns):\n",
      " #   Column                        Non-Null Count  Dtype  \n",
      "---  ------                        --------------  -----  \n",
      " 0   Member_Prime_ID               233 non-null    int64  \n",
      " 1   Member_ID                     233 non-null    int64  \n",
      " 2   Current_Outreach_ID           233 non-null    int64  \n",
      " 3   Assessment_ID                 233 non-null    int64  \n",
      " 4   Member_Phase_ID               233 non-null    int64  \n",
      " 5   Activity_Phase_ID             233 non-null    int64  \n",
      " 6   Assessment_Phase_ID           233 non-null    int64  \n",
      " 7   Member_Frozen_YN              233 non-null    bool   \n",
      " 8   Member_Closed_YN              233 non-null    bool   \n",
      " 9   Member_Closed_Reason_ID       0 non-null      float64\n",
      " 10  Info_Date_Assessed            233 non-null    object \n",
      " 11  Outcome_Status_ID             233 non-null    int64  \n",
      " 12  Info_Finished_YN              233 non-null    bool   \n",
      " 13  Assessment_YN                 233 non-null    bool   \n",
      " 14  Review_Summary_Finished_YN    233 non-null    bool   \n",
      " 15  New_Assessment_YN             233 non-null    bool   \n",
      " 16  Activity_Closed_YN            233 non-null    bool   \n",
      " 17  Activity_Date_Started         207 non-null    object \n",
      " 18  Assessment_Main_YN            233 non-null    bool   \n",
      " 19  Member_First_Name             233 non-null    object \n",
      " 20  Member_Last_Name              233 non-null    object \n",
      " 21  Log_NF_ID                     233 non-null    int64  \n",
      " 22  Admission_Date                83 non-null     object \n",
      " 23  Not_Proceeding_Reason_ID      0 non-null      float64\n",
      " 24  Not_Proceeding_FX_Event_Date  0 non-null      float64\n",
      " 25  CAST_ID                       55 non-null     float64\n",
      " 26  CAST_Transition_Delay_ID      55 non-null     float64\n",
      "dtypes: bool(8), float64(5), int64(9), object(5)\n",
      "memory usage: 36.5+ KB\n"
     ]
    }
   ],
   "source": [
    "df.info()"
   ]
  },
  {
   "cell_type": "code",
   "execution_count": 8,
   "id": "8e6548e8-a030-476f-8925-2f917aab9ac5",
   "metadata": {},
   "outputs": [
    {
     "data": {
      "text/plain": [
       "Index(['Member_Prime_ID', 'Member_ID', 'Current_Outreach_ID', 'Assessment_ID',\n",
       "       'Member_Phase_ID', 'Activity_Phase_ID', 'Assessment_Phase_ID',\n",
       "       'Member_Frozen_YN', 'Member_Closed_YN', 'Member_Closed_Reason_ID',\n",
       "       'Info_Date_Assessed', 'Outcome_Status_ID', 'Info_Finished_YN',\n",
       "       'Assessment_YN', 'Review_Summary_Finished_YN', 'New_Assessment_YN',\n",
       "       'Activity_Closed_YN', 'Activity_Date_Started', 'Assessment_Main_YN',\n",
       "       'Member_First_Name', 'Member_Last_Name', 'Log_NF_ID', 'Admission_Date',\n",
       "       'Not_Proceeding_Reason_ID', 'Not_Proceeding_FX_Event_Date', 'CAST_ID',\n",
       "       'CAST_Transition_Delay_ID'],\n",
       "      dtype='object')"
      ]
     },
     "execution_count": 8,
     "metadata": {},
     "output_type": "execute_result"
    }
   ],
   "source": [
    "df.columns"
   ]
  },
  {
   "cell_type": "code",
   "execution_count": 9,
   "id": "c1db009a-7209-4cf8-9098-78153c85a45b",
   "metadata": {},
   "outputs": [],
   "source": [
    "# converting the string to datetime format\n",
    "df['Info_Date_Assessed'] = pd.to_datetime(df['Info_Date_Assessed'])"
   ]
  },
  {
   "cell_type": "code",
   "execution_count": 10,
   "id": "50981cae-c9e3-4ad2-a73e-3622dfffca61",
   "metadata": {},
   "outputs": [],
   "source": [
    "# converting the string to datetime format\n",
    "df['Activity_Date_Started'] = pd.to_datetime(df['Activity_Date_Started'])"
   ]
  },
  {
   "cell_type": "code",
   "execution_count": 11,
   "id": "c91e85e4-54f4-459c-a080-12a62b8f5618",
   "metadata": {},
   "outputs": [],
   "source": [
    "# converting the string to datetime format\n",
    "df['Admission_Date'] = pd.to_datetime(df['Admission_Date'])"
   ]
  },
  {
   "cell_type": "code",
   "execution_count": 12,
   "id": "9a64c055-a024-45b1-8d71-4a5ead0e1afc",
   "metadata": {},
   "outputs": [],
   "source": [
    "# converting the string to datetime format\n",
    "df['Not_Proceeding_FX_Event_Date'] = pd.to_datetime(df['Not_Proceeding_FX_Event_Date'])"
   ]
  },
  {
   "cell_type": "code",
   "execution_count": 13,
   "id": "a17c9095-b896-4557-b080-666d39c51e9e",
   "metadata": {},
   "outputs": [],
   "source": [
    "# converting the string to datetime format \n",
    "#df['PPM_Assessment_1_Info_Date_Referred']= pd.to_datetime(df['PPM_Assessment_1_Info_Date_Referred'], errors = 'coerce')"
   ]
  },
  {
   "cell_type": "code",
   "execution_count": 14,
   "id": "14c22c99-a6a0-4c66-8ed3-f86829b1915f",
   "metadata": {},
   "outputs": [
    {
     "data": {
      "text/plain": [
       "Member_Prime_ID                          int64\n",
       "Member_ID                                int64\n",
       "Current_Outreach_ID                      int64\n",
       "Assessment_ID                            int64\n",
       "Member_Phase_ID                          int64\n",
       "Activity_Phase_ID                        int64\n",
       "Assessment_Phase_ID                      int64\n",
       "Member_Frozen_YN                          bool\n",
       "Member_Closed_YN                          bool\n",
       "Member_Closed_Reason_ID                float64\n",
       "Info_Date_Assessed              datetime64[ns]\n",
       "Outcome_Status_ID                        int64\n",
       "Info_Finished_YN                          bool\n",
       "Assessment_YN                             bool\n",
       "Review_Summary_Finished_YN                bool\n",
       "New_Assessment_YN                         bool\n",
       "Activity_Closed_YN                        bool\n",
       "Activity_Date_Started           datetime64[ns]\n",
       "Assessment_Main_YN                        bool\n",
       "Member_First_Name                       object\n",
       "Member_Last_Name                        object\n",
       "Log_NF_ID                                int64\n",
       "Admission_Date                  datetime64[ns]\n",
       "Not_Proceeding_Reason_ID               float64\n",
       "Not_Proceeding_FX_Event_Date    datetime64[ns]\n",
       "CAST_ID                                float64\n",
       "CAST_Transition_Delay_ID               float64\n",
       "dtype: object"
      ]
     },
     "execution_count": 14,
     "metadata": {},
     "output_type": "execute_result"
    }
   ],
   "source": [
    "df.dtypes"
   ]
  },
  {
   "cell_type": "code",
   "execution_count": 15,
   "id": "180055ca-f1ab-45b0-82bd-1227c792b1c7",
   "metadata": {},
   "outputs": [],
   "source": [
    "#export file without index column\n",
    "df.to_excel(\"UIC_QA_Not_Recommended.xlsx\", index=False)"
   ]
  },
  {
   "cell_type": "code",
   "execution_count": 16,
   "id": "c70dcc48-110f-4473-a218-98b9d789cce7",
   "metadata": {},
   "outputs": [
    {
     "name": "stdout",
     "output_type": "stream",
     "text": [
      "2024-09-04 12:21:50.257114\n"
     ]
    }
   ],
   "source": [
    "# Create a timestamp object\n",
    "timestamp = pd.Timestamp(datetime.datetime.now())\n",
    "\n",
    "# Print the timestamp\n",
    "print(timestamp)"
   ]
  },
  {
   "cell_type": "code",
   "execution_count": 17,
   "id": "acc90d14-d687-4917-945d-6b7ea3cf0137",
   "metadata": {},
   "outputs": [],
   "source": [
    "#the end!"
   ]
  },
  {
   "cell_type": "code",
   "execution_count": null,
   "id": "619c0970-3ae5-4980-8fd5-67c0a16216c1",
   "metadata": {},
   "outputs": [],
   "source": []
  },
  {
   "cell_type": "code",
   "execution_count": null,
   "id": "4e50a5ce-8cae-4eac-a149-0bf9c0778cbd",
   "metadata": {},
   "outputs": [],
   "source": []
  }
 ],
 "metadata": {
  "kernelspec": {
   "display_name": "Python 3 (ipykernel)",
   "language": "python",
   "name": "python3"
  },
  "language_info": {
   "codemirror_mode": {
    "name": "ipython",
    "version": 3
   },
   "file_extension": ".py",
   "mimetype": "text/x-python",
   "name": "python",
   "nbconvert_exporter": "python",
   "pygments_lexer": "ipython3",
   "version": "3.9.13"
  }
 },
 "nbformat": 4,
 "nbformat_minor": 5
}
