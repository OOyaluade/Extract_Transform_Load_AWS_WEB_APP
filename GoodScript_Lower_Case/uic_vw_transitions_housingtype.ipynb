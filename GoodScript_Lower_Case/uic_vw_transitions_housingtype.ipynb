{
 "cells": [
  {
   "cell_type": "code",
   "execution_count": 88,
   "id": "2edbeabb",
   "metadata": {},
   "outputs": [],
   "source": [
    "import pandas as pd\n",
    "import numpy as np\n",
    "import time\n",
    "import re\n",
    "import os\n",
    "import datetime"
   ]
  },
  {
   "cell_type": "code",
   "execution_count": 89,
   "id": "4f146531-7777-4cfc-9383-fb5cf4817f51",
   "metadata": {},
   "outputs": [],
   "source": [
    "import warnings\n",
    "warnings.filterwarnings('ignore')\n",
    "warnings.simplefilter('ignore')"
   ]
  },
  {
   "cell_type": "code",
   "execution_count": 90,
   "id": "ce60e637-0d8b-4e2c-9c2d-2591c01793b2",
   "metadata": {},
   "outputs": [],
   "source": [
    "# os.chdir(r'C:/Users/vwalds/Documents/My Data Sources/')"
   ]
  },
  {
   "cell_type": "code",
   "execution_count": 91,
   "id": "bd6c9099-b615-42a2-84b6-cab021ef3888",
   "metadata": {},
   "outputs": [],
   "source": [
    "# Grab Current Time Before Running the Code\n",
    "start = time.time()"
   ]
  },
  {
   "cell_type": "code",
   "execution_count": 92,
   "id": "d4c0cbec-8afc-4dfb-aee3-33abb7d622b1",
   "metadata": {},
   "outputs": [],
   "source": [
    "#UIC_VW_Transitions_Housingtype\n",
    "\n"
   ]
  },
  {
   "cell_type": "code",
   "execution_count": 93,
   "id": "ce513d12-555b-4e0d-93b7-b596f78be1c5",
   "metadata": {},
   "outputs": [],
   "source": [
    "df = pd.read_excel(\"../WebApp/uploads/uic_vw_transitions_housingtype.xlsx\")"
   ]
  },
  {
   "cell_type": "code",
   "execution_count": 94,
   "id": "8d9aa52b-ccaa-4872-a51b-c31ba9ec7ac8",
   "metadata": {},
   "outputs": [
    {
     "name": "stdout",
     "output_type": "stream",
     "text": [
      "<class 'pandas.core.frame.DataFrame'>\n",
      "RangeIndex: 3045 entries, 0 to 3044\n",
      "Data columns (total 39 columns):\n",
      " #   Column                                       Non-Null Count  Dtype  \n",
      "---  ------                                       --------------  -----  \n",
      " 0   Member_ID                                    3045 non-null   int64  \n",
      " 1   Member_First_Name                            3045 non-null   object \n",
      " 2   Member_Last_Name                             3045 non-null   object \n",
      " 3   RIN                                          3045 non-null   int64  \n",
      " 4   Transition_ID                                3045 non-null   int64  \n",
      " 5   Transition_Discharge_Date                    3045 non-null   object \n",
      " 6   Transitioned_Type_ID                         2006 non-null   float64\n",
      " 7   Transition_Assessed_After_Movein_YN          3045 non-null   bool   \n",
      " 8   Nursing_Facility_Name                        3045 non-null   object \n",
      " 9   Clinical_Basis_Alternate_1                   52 non-null     object \n",
      " 10  Clinical_Basis_Alternate_2                   125 non-null    object \n",
      " 11  Clinical_Basis_Alternate_3                   83 non-null     object \n",
      " 12  Recommended_Setting_1                        659 non-null    float64\n",
      " 13  Recommended_Setting_Basis_1                  34 non-null     float64\n",
      " 14  Recommended_Setting_1_1                      24 non-null     float64\n",
      " 15  Recommended_Setting_1_2                      25 non-null     float64\n",
      " 16  Recommended_Setting_Basis_1_1                33 non-null     float64\n",
      " 17  Recommended_Setting_Basis_1_2                458 non-null    float64\n",
      " 18  Recommended_Setting_Basis_1_3                412 non-null    float64\n",
      " 19  Recommended_Setting_Basis_1_4                355 non-null    float64\n",
      " 20  Recommended_Setting_Basis_1_5                487 non-null    float64\n",
      " 21  Recommended_Setting_Basis_1_6                405 non-null    float64\n",
      " 22  Recommended_Setting_Basis_1_7                482 non-null    float64\n",
      " 23  Recommended_Setting_Basis_1_8                448 non-null    float64\n",
      " 24  Discharge_Type_ID                            3045 non-null   int64  \n",
      " 25  Transition_In_Process_ID                     2484 non-null   float64\n",
      " 26  Transition_Comments                          536 non-null    object \n",
      " 27  Transition_Housing_type_based_on_member_pre  3045 non-null   bool   \n",
      " 28  Member_Phase_ID                              3045 non-null   int64  \n",
      " 29  Activity_ID                                  3045 non-null   int64  \n",
      " 30  Activity_Closed_Date                         1975 non-null   object \n",
      " 31  Activity_Phase_ID                            3045 non-null   int64  \n",
      " 32  Activity_Date_Started                        2554 non-null   object \n",
      " 33  Activity_NF_ID                               3045 non-null   int64  \n",
      " 34  Activity_Prime_ID                            3045 non-null   int64  \n",
      " 35  Assessment_ID                                3045 non-null   int64  \n",
      " 36  Transition_Type_Other                        300 non-null    object \n",
      " 37  Transition_Finished_Date                     2468 non-null   object \n",
      " 38  Transition_Type_List                         386 non-null    object \n",
      "dtypes: bool(2), float64(14), int64(10), object(13)\n",
      "memory usage: 886.3+ KB\n"
     ]
    }
   ],
   "source": [
    "# df.info()"
   ]
  },
  {
   "cell_type": "code",
   "execution_count": 95,
   "id": "8e6548e8-a030-476f-8925-2f917aab9ac5",
   "metadata": {},
   "outputs": [
    {
     "data": {
      "text/plain": [
       "Index(['Member_ID', 'Member_First_Name', 'Member_Last_Name', 'RIN',\n",
       "       'Transition_ID', 'Transition_Discharge_Date', 'Transitioned_Type_ID',\n",
       "       'Transition_Assessed_After_Movein_YN', 'Nursing_Facility_Name',\n",
       "       'Clinical_Basis_Alternate_1', 'Clinical_Basis_Alternate_2',\n",
       "       'Clinical_Basis_Alternate_3', 'Recommended_Setting_1',\n",
       "       'Recommended_Setting_Basis_1', 'Recommended_Setting_1_1',\n",
       "       'Recommended_Setting_1_2', 'Recommended_Setting_Basis_1_1',\n",
       "       'Recommended_Setting_Basis_1_2', 'Recommended_Setting_Basis_1_3',\n",
       "       'Recommended_Setting_Basis_1_4', 'Recommended_Setting_Basis_1_5',\n",
       "       'Recommended_Setting_Basis_1_6', 'Recommended_Setting_Basis_1_7',\n",
       "       'Recommended_Setting_Basis_1_8', 'Discharge_Type_ID',\n",
       "       'Transition_In_Process_ID', 'Transition_Comments',\n",
       "       'Transition_Housing_type_based_on_member_pre', 'Member_Phase_ID',\n",
       "       'Activity_ID', 'Activity_Closed_Date', 'Activity_Phase_ID',\n",
       "       'Activity_Date_Started', 'Activity_NF_ID', 'Activity_Prime_ID',\n",
       "       'Assessment_ID', 'Transition_Type_Other', 'Transition_Finished_Date',\n",
       "       'Transition_Type_List'],\n",
       "      dtype='object')"
      ]
     },
     "execution_count": 95,
     "metadata": {},
     "output_type": "execute_result"
    }
   ],
   "source": [
    "df.columns"
   ]
  },
  {
   "cell_type": "code",
   "execution_count": 96,
   "id": "c1db009a-7209-4cf8-9098-78153c85a45b",
   "metadata": {},
   "outputs": [],
   "source": [
    "# converting the string to datetime format\n",
    "df['Transition_Discharge_Date'] = pd.to_datetime(df['Transition_Discharge_Date'])"
   ]
  },
  {
   "cell_type": "code",
   "execution_count": 97,
   "id": "50981cae-c9e3-4ad2-a73e-3622dfffca61",
   "metadata": {},
   "outputs": [],
   "source": [
    "# converting the string to datetime format\n",
    "# df['Activity_Closed_Date'] = pd.to_datetime(df['Activity_Closed_Date'])"
   ]
  },
  {
   "cell_type": "code",
   "execution_count": 98,
   "id": "c91e85e4-54f4-459c-a080-12a62b8f5618",
   "metadata": {},
   "outputs": [],
   "source": [
    "# converting the string to datetime format\n",
    "df['Activity_Date_Started'] = pd.to_datetime(df['Activity_Date_Started'])"
   ]
  },
  {
   "cell_type": "code",
   "execution_count": 99,
   "id": "9a64c055-a024-45b1-8d71-4a5ead0e1afc",
   "metadata": {},
   "outputs": [],
   "source": [
    "# converting the string to datetime format\n",
    "df['Transition_Finished_Date'] = pd.to_datetime(df['Transition_Finished_Date'])"
   ]
  },
  {
   "cell_type": "code",
   "execution_count": 100,
   "id": "14c22c99-a6a0-4c66-8ed3-f86829b1915f",
   "metadata": {},
   "outputs": [
    {
     "data": {
      "text/plain": [
       "Member_ID                                               int64\n",
       "Member_First_Name                                      object\n",
       "Member_Last_Name                                       object\n",
       "RIN                                                     int64\n",
       "Transition_ID                                           int64\n",
       "Transition_Discharge_Date                      datetime64[ns]\n",
       "Transitioned_Type_ID                                  float64\n",
       "Transition_Assessed_After_Movein_YN                      bool\n",
       "Nursing_Facility_Name                                  object\n",
       "Clinical_Basis_Alternate_1                             object\n",
       "Clinical_Basis_Alternate_2                             object\n",
       "Clinical_Basis_Alternate_3                             object\n",
       "Recommended_Setting_1                                 float64\n",
       "Recommended_Setting_Basis_1                           float64\n",
       "Recommended_Setting_1_1                               float64\n",
       "Recommended_Setting_1_2                               float64\n",
       "Recommended_Setting_Basis_1_1                         float64\n",
       "Recommended_Setting_Basis_1_2                         float64\n",
       "Recommended_Setting_Basis_1_3                         float64\n",
       "Recommended_Setting_Basis_1_4                         float64\n",
       "Recommended_Setting_Basis_1_5                         float64\n",
       "Recommended_Setting_Basis_1_6                         float64\n",
       "Recommended_Setting_Basis_1_7                         float64\n",
       "Recommended_Setting_Basis_1_8                         float64\n",
       "Discharge_Type_ID                                       int64\n",
       "Transition_In_Process_ID                              float64\n",
       "Transition_Comments                                    object\n",
       "Transition_Housing_type_based_on_member_pre              bool\n",
       "Member_Phase_ID                                         int64\n",
       "Activity_ID                                             int64\n",
       "Activity_Closed_Date                                   object\n",
       "Activity_Phase_ID                                       int64\n",
       "Activity_Date_Started                          datetime64[ns]\n",
       "Activity_NF_ID                                          int64\n",
       "Activity_Prime_ID                                       int64\n",
       "Assessment_ID                                           int64\n",
       "Transition_Type_Other                                  object\n",
       "Transition_Finished_Date                       datetime64[ns]\n",
       "Transition_Type_List                                   object\n",
       "dtype: object"
      ]
     },
     "execution_count": 100,
     "metadata": {},
     "output_type": "execute_result"
    }
   ],
   "source": [
    "df.dtypes"
   ]
  },
  {
   "cell_type": "code",
   "execution_count": 101,
   "id": "51daa0d0-9989-40e9-927c-4cbdc264213c",
   "metadata": {},
   "outputs": [
    {
     "data": {
      "text/plain": [
       "2387     83471896\n",
       "1609    179304951\n",
       "1910    349448464\n",
       "1033     33630914\n",
       "1531     51302313\n",
       "1179    218339570\n",
       "1898    202287645\n",
       "2606     78256591\n",
       "57       89576714\n",
       "1242    173923780\n",
       "Name: RIN, dtype: int64"
      ]
     },
     "execution_count": 101,
     "metadata": {},
     "output_type": "execute_result"
    }
   ],
   "source": [
    "df['RIN'].sample(10)"
   ]
  },
  {
   "cell_type": "code",
   "execution_count": 102,
   "id": "55b6a6e6-38b2-4859-bc6e-42f01deb241a",
   "metadata": {},
   "outputs": [],
   "source": [
    "# Convert RIN to string\n",
    "df['RIN'] = df['RIN'].astype('str') "
   ]
  },
  {
   "cell_type": "code",
   "execution_count": 103,
   "id": "7d656121-ee26-4bd7-852c-722ffa380cda",
   "metadata": {},
   "outputs": [],
   "source": [
    "df['RIN'] = df['RIN'].str.strip()"
   ]
  },
  {
   "cell_type": "code",
   "execution_count": 104,
   "id": "819b63ef-747e-406b-b3ba-d9e60d2af94c",
   "metadata": {},
   "outputs": [
    {
     "data": {
      "text/plain": [
       "788     227587854\n",
       "1811    156847600\n",
       "1264    342458163\n",
       "455     225717347\n",
       "1196    357714841\n",
       "466      86282100\n",
       "1982    921897781\n",
       "1670     83104349\n",
       "2804    172724882\n",
       "499      70608344\n",
       "1739    140890658\n",
       "1944    158642140\n",
       "427     983009747\n",
       "793     364472340\n",
       "1042    363942574\n",
       "Name: RIN, dtype: object"
      ]
     },
     "execution_count": 104,
     "metadata": {},
     "output_type": "execute_result"
    }
   ],
   "source": [
    "df['RIN'].sample(5)"
   ]
  },
  {
   "cell_type": "code",
   "execution_count": 105,
   "id": "49b723df-328f-4f2f-a2c6-7f4ac8e6517b",
   "metadata": {},
   "outputs": [],
   "source": [
    "# add leading zeros to Member_RIN\n",
    "df['RIN'] = df['RIN'].str.zfill(9)"
   ]
  },
  {
   "cell_type": "code",
   "execution_count": 106,
   "id": "2f010394-03c3-4e01-b6f9-4cb26a8dc075",
   "metadata": {},
   "outputs": [
    {
     "data": {
      "text/plain": [
       "1444    301934089\n",
       "2893    362278541\n",
       "2574    078876570\n",
       "2654    227704095\n",
       "944     226380863\n",
       "1588    199830142\n",
       "1834    214055626\n",
       "2269    224396358\n",
       "1542    346945520\n",
       "309     147138457\n",
       "Name: RIN, dtype: object"
      ]
     },
     "execution_count": 106,
     "metadata": {},
     "output_type": "execute_result"
    }
   ],
   "source": [
    "# df['RIN'].sample(10)"
   ]
  },
  {
   "cell_type": "code",
   "execution_count": null,
   "id": "0bc94971",
   "metadata": {},
   "outputs": [],
   "source": [
    "from pathlib import Path\n",
    "script_path = Path.cwd().parent\n",
    "output_dir = script_path / \"WebApp\" / \"processed\"\n",
    "output_dir.mkdir(parents=True, exist_ok=True)\n",
    "output_file = output_dir / \"UIC_VW_Transitions_Housingtype.xlsx\".lower()\n",
    "df.to_excel(output_file, index=False)"
   ]
  },
  {
   "cell_type": "code",
   "execution_count": null,
   "id": "c70dcc48-110f-4473-a218-98b9d789cce7",
   "metadata": {},
   "outputs": [],
   "source": [
    "# Create a timestamp object\n",
    "timestamp = pd.Timestamp(datetime.datetime.now())\n",
    "\n"
   ]
  },
  {
   "cell_type": "code",
   "execution_count": 22,
   "id": "acc90d14-d687-4917-945d-6b7ea3cf0137",
   "metadata": {},
   "outputs": [],
   "source": []
  },
  {
   "cell_type": "code",
   "execution_count": null,
   "id": "619c0970-3ae5-4980-8fd5-67c0a16216c1",
   "metadata": {},
   "outputs": [],
   "source": []
  }
 ],
 "metadata": {
  "kernelspec": {
   "display_name": "venv",
   "language": "python",
   "name": "python3"
  },
  "language_info": {
   "codemirror_mode": {
    "name": "ipython",
    "version": 3
   },
   "file_extension": ".py",
   "mimetype": "text/x-python",
   "name": "python",
   "nbconvert_exporter": "python",
   "pygments_lexer": "ipython3",
   "version": "3.12.3"
  }
 },
 "nbformat": 4,
 "nbformat_minor": 5
}
