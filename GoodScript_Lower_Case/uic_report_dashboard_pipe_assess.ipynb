{
 "cells": [
  {
   "cell_type": "code",
   "execution_count": 1,
   "id": "2edbeabb",
   "metadata": {},
   "outputs": [],
   "source": [
    "import pandas as pd\n",
    "import numpy as np\n",
    "import time\n",
    "import re\n",
    "import os\n",
    "import datetime"
   ]
  },
  {
   "cell_type": "code",
   "execution_count": 2,
   "id": "4f146531-7777-4cfc-9383-fb5cf4817f51",
   "metadata": {},
   "outputs": [],
   "source": [
    "import warnings\n",
    "warnings.filterwarnings('ignore')\n",
    "warnings.simplefilter('ignore')"
   ]
  },
  {
   "cell_type": "code",
   "execution_count": 3,
   "id": "ce60e637-0d8b-4e2c-9c2d-2591c01793b2",
   "metadata": {},
   "outputs": [],
   "source": [
    "os.chdir(r'C:/Users/vwalds/Documents/My Data Sources/')"
   ]
  },
  {
   "cell_type": "code",
   "execution_count": 4,
   "id": "bd6c9099-b615-42a2-84b6-cab021ef3888",
   "metadata": {},
   "outputs": [],
   "source": [
    "# Grab Current Time Before Running the Code\n",
    "start = time.time()"
   ]
  },
  {
   "cell_type": "code",
   "execution_count": 5,
   "id": "d4c0cbec-8afc-4dfb-aee3-33abb7d622b1",
   "metadata": {},
   "outputs": [],
   "source": [
    "#UIC_Report_Dashboard_Pipe_Assess\n"
   ]
  },
  {
   "cell_type": "code",
   "execution_count": 6,
   "id": "ce513d12-555b-4e0d-93b7-b596f78be1c5",
   "metadata": {},
   "outputs": [],
   "source": [
    "df = pd.read_excel(\"UIC_Report_Dashboard_Pipe_Assess.xlsx\")"
   ]
  },
  {
   "cell_type": "code",
   "execution_count": 7,
   "id": "8d9aa52b-ccaa-4872-a51b-c31ba9ec7ac8",
   "metadata": {},
   "outputs": [
    {
     "name": "stdout",
     "output_type": "stream",
     "text": [
      "<class 'pandas.core.frame.DataFrame'>\n",
      "RangeIndex: 2015 entries, 0 to 2014\n",
      "Data columns (total 44 columns):\n",
      " #   Column                               Non-Null Count  Dtype  \n",
      "---  ------                               --------------  -----  \n",
      " 0   Member_ID                            2015 non-null   int64  \n",
      " 1   Member_First_Name                    2015 non-null   object \n",
      " 2   Member_Last_Name                     2015 non-null   object \n",
      " 3   Member_DOB                           2014 non-null   object \n",
      " 4   Member_RIN                           2015 non-null   int64  \n",
      " 5   PPM_Assessment_1_Info_Date_Assessed  2015 non-null   object \n",
      " 6   Member_Phase_ID                      2015 non-null   int64  \n",
      " 7   Summary_Finished_YN                  2015 non-null   bool   \n",
      " 8   Pipeline_Dashboard_Date              2015 non-null   object \n",
      " 9   Pipeline_Dashboard_NoOfDays          1335 non-null   float64\n",
      " 10  Pipeline_Dashboard_Updated_Date      2014 non-null   object \n",
      " 11  Member_Prime_ID                      2015 non-null   int64  \n",
      " 12  Summary_DateCreated                  1977 non-null   object \n",
      " 13  Summary_Updated_Date                 2000 non-null   object \n",
      " 14  Summary_Created_Date                 1955 non-null   object \n",
      " 15  PPM_Assessment_ID                    2015 non-null   int64  \n",
      " 16  Pipeline_Dashboard_DaysinPhase       2015 non-null   object \n",
      " 17  Pipeline_Dashboard_Housing_ID        0 non-null      float64\n",
      " 18  Pipeline_Dashboard_Created_Date      2015 non-null   object \n",
      " 19  PPM_Assessment_Activity_ID           2015 non-null   int64  \n",
      " 20  Member_Gender_ID                     1896 non-null   float64\n",
      " 21  Activity_NF_ID                       2015 non-null   int64  \n",
      " 22  Activity_Prime_ID                    2015 non-null   int64  \n",
      " 23  PPM_Nursing_Facility_ID              2015 non-null   int64  \n",
      " 24  PPM_Nursing_Facility_Name            2015 non-null   object \n",
      " 25  PPM_Nursing_Facility_Class_ID        2015 non-null   int64  \n",
      " 26  Dashboard_Status                     2015 non-null   object \n",
      " 27  Transition_Event_ID                  2015 non-null   int64  \n",
      " 28  Transition_Delay_ID                  881 non-null    float64\n",
      " 29  Member_Frozen_YN                     2015 non-null   bool   \n",
      " 30  Member_Closed_YN                     2015 non-null   bool   \n",
      " 31  Member_Closed_Reason_ID              1 non-null      float64\n",
      " 32  Activity_Closed_YN                   2015 non-null   bool   \n",
      " 33  Activity_Closed_Date                 0 non-null      float64\n",
      " 34  Activity_Closed_Reason_ID            0 non-null      float64\n",
      " 35  Log_NF_ID                            2015 non-null   int64  \n",
      " 36  Facility_Admission_Date              1857 non-null   object \n",
      " 37  Assessment_Main_YN                   2015 non-null   bool   \n",
      " 38  Transition_Delay_Date                1168 non-null   object \n",
      " 39  Transition_Date                      531 non-null    object \n",
      " 40  Assessment_Finished_Date             0 non-null      float64\n",
      " 41  Transition_Delay_Outcome             303 non-null    float64\n",
      " 42  Transition_Delay_Resolved_DT         303 non-null    object \n",
      " 43  Activity_Comments                    98 non-null     object \n",
      "dtypes: bool(5), float64(9), int64(12), object(18)\n",
      "memory usage: 623.9+ KB\n"
     ]
    }
   ],
   "source": [
    "df.info()"
   ]
  },
  {
   "cell_type": "code",
   "execution_count": 8,
   "id": "8e6548e8-a030-476f-8925-2f917aab9ac5",
   "metadata": {},
   "outputs": [
    {
     "data": {
      "text/plain": [
       "Index(['Member_ID', 'Member_First_Name', 'Member_Last_Name', 'Member_DOB',\n",
       "       'Member_RIN', 'PPM_Assessment_1_Info_Date_Assessed', 'Member_Phase_ID',\n",
       "       'Summary_Finished_YN', 'Pipeline_Dashboard_Date',\n",
       "       'Pipeline_Dashboard_NoOfDays', 'Pipeline_Dashboard_Updated_Date',\n",
       "       'Member_Prime_ID', 'Summary_DateCreated', 'Summary_Updated_Date',\n",
       "       'Summary_Created_Date', 'PPM_Assessment_ID',\n",
       "       'Pipeline_Dashboard_DaysinPhase', 'Pipeline_Dashboard_Housing_ID',\n",
       "       'Pipeline_Dashboard_Created_Date', 'PPM_Assessment_Activity_ID',\n",
       "       'Member_Gender_ID', 'Activity_NF_ID', 'Activity_Prime_ID',\n",
       "       'PPM_Nursing_Facility_ID', 'PPM_Nursing_Facility_Name',\n",
       "       'PPM_Nursing_Facility_Class_ID', 'Dashboard_Status',\n",
       "       'Transition_Event_ID', 'Transition_Delay_ID', 'Member_Frozen_YN',\n",
       "       'Member_Closed_YN', 'Member_Closed_Reason_ID', 'Activity_Closed_YN',\n",
       "       'Activity_Closed_Date', 'Activity_Closed_Reason_ID', 'Log_NF_ID',\n",
       "       'Facility_Admission_Date', 'Assessment_Main_YN',\n",
       "       'Transition_Delay_Date', 'Transition_Date', 'Assessment_Finished_Date',\n",
       "       'Transition_Delay_Outcome', 'Transition_Delay_Resolved_DT',\n",
       "       'Activity_Comments'],\n",
       "      dtype='object')"
      ]
     },
     "execution_count": 8,
     "metadata": {},
     "output_type": "execute_result"
    }
   ],
   "source": [
    "df.columns"
   ]
  },
  {
   "cell_type": "code",
   "execution_count": 9,
   "id": "c1db009a-7209-4cf8-9098-78153c85a45b",
   "metadata": {},
   "outputs": [],
   "source": [
    "# converting the string to datetime format\n",
    "df['PPM_Assessment_1_Info_Date_Assessed'] = pd.to_datetime(df['PPM_Assessment_1_Info_Date_Assessed'])"
   ]
  },
  {
   "cell_type": "code",
   "execution_count": 10,
   "id": "50981cae-c9e3-4ad2-a73e-3622dfffca61",
   "metadata": {},
   "outputs": [],
   "source": [
    "# converting the string to datetime format\n",
    "df['Pipeline_Dashboard_Date'] = pd.to_datetime(df['Pipeline_Dashboard_Date'])"
   ]
  },
  {
   "cell_type": "code",
   "execution_count": 11,
   "id": "c91e85e4-54f4-459c-a080-12a62b8f5618",
   "metadata": {},
   "outputs": [],
   "source": [
    "# converting the string to datetime format\n",
    "df['Pipeline_Dashboard_Updated_Date'] = pd.to_datetime(df['Pipeline_Dashboard_Updated_Date'])"
   ]
  },
  {
   "cell_type": "code",
   "execution_count": 12,
   "id": "aee11f9b-9a1a-4f6c-bd71-88b3160994d7",
   "metadata": {},
   "outputs": [],
   "source": [
    "# converting the string to datetime format\n",
    "df['Summary_DateCreated'] = pd.to_datetime(df['Summary_DateCreated'])"
   ]
  },
  {
   "cell_type": "code",
   "execution_count": 13,
   "id": "f926cdcc-e734-456b-9dbb-7b755f8fe131",
   "metadata": {},
   "outputs": [],
   "source": [
    "# converting the string to datetime format\n",
    "df['Summary_Updated_Date'] = pd.to_datetime(df['Summary_Updated_Date'])"
   ]
  },
  {
   "cell_type": "code",
   "execution_count": 14,
   "id": "eb8c8bcb-acf2-4038-8fe9-574e91104b2e",
   "metadata": {},
   "outputs": [],
   "source": [
    "# converting the string to datetime format\n",
    "df['Summary_Created_Date'] = pd.to_datetime(df['Summary_Created_Date'])"
   ]
  },
  {
   "cell_type": "code",
   "execution_count": 15,
   "id": "2a283501-88c6-4dc5-9fd1-ce45546e2c7f",
   "metadata": {},
   "outputs": [],
   "source": [
    "# converting the string to datetime format\n",
    "df['Pipeline_Dashboard_Updated_Date'] = pd.to_datetime(df['Pipeline_Dashboard_Updated_Date'])"
   ]
  },
  {
   "cell_type": "code",
   "execution_count": 16,
   "id": "f7a12187-1495-4090-b18b-7a36ce70e3b9",
   "metadata": {},
   "outputs": [],
   "source": [
    "# converting the string to datetime format\n",
    "df['Pipeline_Dashboard_Created_Date'] = pd.to_datetime(df['Pipeline_Dashboard_Created_Date'])"
   ]
  },
  {
   "cell_type": "code",
   "execution_count": 17,
   "id": "45ab6efe-e7f3-4fbb-8be8-e9eda2ecb1d5",
   "metadata": {},
   "outputs": [],
   "source": [
    "# converting the string to datetime format\n",
    "df['Activity_Closed_Date'] = pd.to_datetime(df['Activity_Closed_Date'])"
   ]
  },
  {
   "cell_type": "code",
   "execution_count": 18,
   "id": "d42685a9-d999-4ddb-a8fe-5e1ee5e2ffe8",
   "metadata": {},
   "outputs": [],
   "source": [
    "# converting the string to datetime format\n",
    "df['Facility_Admission_Date'] = pd.to_datetime(df['Facility_Admission_Date'])"
   ]
  },
  {
   "cell_type": "code",
   "execution_count": 19,
   "id": "d02e51cf-e90b-4f43-8409-a70e386d7420",
   "metadata": {},
   "outputs": [],
   "source": [
    "# converting the string to datetime format\n",
    "df['Transition_Delay_Date'] = pd.to_datetime(df['Transition_Delay_Date'])"
   ]
  },
  {
   "cell_type": "code",
   "execution_count": 20,
   "id": "4c71c549-41b1-433d-be92-9e4284a743b7",
   "metadata": {},
   "outputs": [],
   "source": [
    "# converting the string to datetime format\n",
    "df['Transition_Date'] = pd.to_datetime(df['Transition_Date'])"
   ]
  },
  {
   "cell_type": "code",
   "execution_count": 21,
   "id": "ec4401ef-4a20-40dc-a987-8dbc58aa20ba",
   "metadata": {},
   "outputs": [],
   "source": [
    "# converting the string to datetime format\n",
    "df['Assessment_Finished_Date'] = pd.to_datetime(df['Assessment_Finished_Date'])"
   ]
  },
  {
   "cell_type": "code",
   "execution_count": 22,
   "id": "9a64c055-a024-45b1-8d71-4a5ead0e1afc",
   "metadata": {},
   "outputs": [],
   "source": [
    "# converting the string to datetime format\n",
    "df['Transition_Delay_Resolved_DT'] = pd.to_datetime(df['Transition_Delay_Resolved_DT'])"
   ]
  },
  {
   "cell_type": "code",
   "execution_count": 23,
   "id": "0fd63c5a-9153-4720-add2-dcf9e25c0c63",
   "metadata": {},
   "outputs": [],
   "source": [
    "# converting the string to datetime format\n",
    "df['Member_DOB'] = pd.to_datetime(df['Member_DOB'])"
   ]
  },
  {
   "cell_type": "code",
   "execution_count": 24,
   "id": "14c22c99-a6a0-4c66-8ed3-f86829b1915f",
   "metadata": {},
   "outputs": [
    {
     "data": {
      "text/plain": [
       "Member_ID                                       int64\n",
       "Member_First_Name                              object\n",
       "Member_Last_Name                               object\n",
       "Member_DOB                             datetime64[ns]\n",
       "Member_RIN                                      int64\n",
       "PPM_Assessment_1_Info_Date_Assessed    datetime64[ns]\n",
       "Member_Phase_ID                                 int64\n",
       "Summary_Finished_YN                              bool\n",
       "Pipeline_Dashboard_Date                datetime64[ns]\n",
       "Pipeline_Dashboard_NoOfDays                   float64\n",
       "Pipeline_Dashboard_Updated_Date        datetime64[ns]\n",
       "Member_Prime_ID                                 int64\n",
       "Summary_DateCreated                    datetime64[ns]\n",
       "Summary_Updated_Date                   datetime64[ns]\n",
       "Summary_Created_Date                   datetime64[ns]\n",
       "PPM_Assessment_ID                               int64\n",
       "Pipeline_Dashboard_DaysinPhase                 object\n",
       "Pipeline_Dashboard_Housing_ID                 float64\n",
       "Pipeline_Dashboard_Created_Date        datetime64[ns]\n",
       "PPM_Assessment_Activity_ID                      int64\n",
       "Member_Gender_ID                              float64\n",
       "Activity_NF_ID                                  int64\n",
       "Activity_Prime_ID                               int64\n",
       "PPM_Nursing_Facility_ID                         int64\n",
       "PPM_Nursing_Facility_Name                      object\n",
       "PPM_Nursing_Facility_Class_ID                   int64\n",
       "Dashboard_Status                               object\n",
       "Transition_Event_ID                             int64\n",
       "Transition_Delay_ID                           float64\n",
       "Member_Frozen_YN                                 bool\n",
       "Member_Closed_YN                                 bool\n",
       "Member_Closed_Reason_ID                       float64\n",
       "Activity_Closed_YN                               bool\n",
       "Activity_Closed_Date                   datetime64[ns]\n",
       "Activity_Closed_Reason_ID                     float64\n",
       "Log_NF_ID                                       int64\n",
       "Facility_Admission_Date                datetime64[ns]\n",
       "Assessment_Main_YN                               bool\n",
       "Transition_Delay_Date                  datetime64[ns]\n",
       "Transition_Date                        datetime64[ns]\n",
       "Assessment_Finished_Date               datetime64[ns]\n",
       "Transition_Delay_Outcome                      float64\n",
       "Transition_Delay_Resolved_DT           datetime64[ns]\n",
       "Activity_Comments                              object\n",
       "dtype: object"
      ]
     },
     "execution_count": 24,
     "metadata": {},
     "output_type": "execute_result"
    }
   ],
   "source": [
    "df.dtypes"
   ]
  },
  {
   "cell_type": "code",
   "execution_count": 25,
   "id": "51daa0d0-9989-40e9-927c-4cbdc264213c",
   "metadata": {},
   "outputs": [
    {
     "data": {
      "text/plain": [
       "383      24435083\n",
       "1681    188795645\n",
       "191     170977755\n",
       "646     345978050\n",
       "1609    153184569\n",
       "1256    366049666\n",
       "24      135619476\n",
       "941      64392707\n",
       "180      37859840\n",
       "86      962865937\n",
       "579     354450645\n",
       "546     162227011\n",
       "380     144795465\n",
       "1678     49095847\n",
       "1955     78876570\n",
       "Name: Member_RIN, dtype: int64"
      ]
     },
     "execution_count": 25,
     "metadata": {},
     "output_type": "execute_result"
    }
   ],
   "source": [
    "df['Member_RIN'].sample(15)"
   ]
  },
  {
   "cell_type": "code",
   "execution_count": 26,
   "id": "55b6a6e6-38b2-4859-bc6e-42f01deb241a",
   "metadata": {},
   "outputs": [],
   "source": [
    "# Convert RIN to string\n",
    "df['Member_RIN'] = df['Member_RIN'].astype('str') "
   ]
  },
  {
   "cell_type": "code",
   "execution_count": 27,
   "id": "051cb6f8-4dc9-47bc-863b-32291147a406",
   "metadata": {},
   "outputs": [
    {
     "data": {
      "text/plain": [
       "1915    223412255\n",
       "887     921375903\n",
       "1457    337143317\n",
       "293     152946224\n",
       "1991    140180266\n",
       "758      96880935\n",
       "68      360603674\n",
       "1706    361513302\n",
       "1547     32711335\n",
       "356     158645507\n",
       "1422     91066589\n",
       "1038    190820241\n",
       "1466     80723042\n",
       "1260    191437532\n",
       "1521    437588031\n",
       "Name: Member_RIN, dtype: object"
      ]
     },
     "execution_count": 27,
     "metadata": {},
     "output_type": "execute_result"
    }
   ],
   "source": [
    "df['Member_RIN'].sample(15)"
   ]
  },
  {
   "cell_type": "code",
   "execution_count": 28,
   "id": "7d656121-ee26-4bd7-852c-722ffa380cda",
   "metadata": {},
   "outputs": [],
   "source": [
    "df['Member_RIN'] = df['Member_RIN'].str.strip()"
   ]
  },
  {
   "cell_type": "code",
   "execution_count": 29,
   "id": "49b723df-328f-4f2f-a2c6-7f4ac8e6517b",
   "metadata": {},
   "outputs": [],
   "source": [
    "# add leading zeros to Member_RIN\n",
    "df['Member_RIN'] = df['Member_RIN'].str.zfill(9)"
   ]
  },
  {
   "cell_type": "code",
   "execution_count": 30,
   "id": "56c9fc4e-71df-4ea7-9a29-7655de72ab5b",
   "metadata": {},
   "outputs": [
    {
     "data": {
      "text/plain": [
       "235     106083249\n",
       "387     182842989\n",
       "1709    349941823\n",
       "756     059102269\n",
       "1808    980525927\n",
       "639     151212123\n",
       "1891    144153723\n",
       "847     163728538\n",
       "1800    196866909\n",
       "1765    215546961\n",
       "401     078903549\n",
       "986     391583762\n",
       "75      046989091\n",
       "516     038540019\n",
       "1184    156741423\n",
       "Name: Member_RIN, dtype: object"
      ]
     },
     "execution_count": 30,
     "metadata": {},
     "output_type": "execute_result"
    }
   ],
   "source": [
    "df['Member_RIN'].sample(15)"
   ]
  },
  {
   "cell_type": "code",
   "execution_count": 31,
   "id": "9eb32060-9581-4b23-9970-fa877d507771",
   "metadata": {},
   "outputs": [
    {
     "data": {
      "text/plain": [
       "More than 120 days    805\n",
       "0-30 days             507\n",
       "31-60 days            325\n",
       "61-90 days            196\n",
       "91-120 days           182\n",
       "Name: Pipeline_Dashboard_DaysinPhase, dtype: int64"
      ]
     },
     "execution_count": 31,
     "metadata": {},
     "output_type": "execute_result"
    }
   ],
   "source": [
    "df.Pipeline_Dashboard_DaysinPhase.value_counts()                "
   ]
  },
  {
   "cell_type": "code",
   "execution_count": 32,
   "id": "180055ca-f1ab-45b0-82bd-1227c792b1c7",
   "metadata": {},
   "outputs": [],
   "source": [
    "#export file without index column\n",
    "df.to_excel(\"UIC_Report_Dashboard_Pipe_Assess.xlsx\", index=False)"
   ]
  },
  {
   "cell_type": "code",
   "execution_count": 33,
   "id": "c70dcc48-110f-4473-a218-98b9d789cce7",
   "metadata": {},
   "outputs": [
    {
     "name": "stdout",
     "output_type": "stream",
     "text": [
      "2024-09-05 15:18:37.598639\n"
     ]
    }
   ],
   "source": [
    "# Create a timestamp object\n",
    "timestamp = pd.Timestamp(datetime.datetime.now())\n",
    "\n",
    "# Print the timestamp\n",
    "print(timestamp)"
   ]
  },
  {
   "cell_type": "code",
   "execution_count": 34,
   "id": "acc90d14-d687-4917-945d-6b7ea3cf0137",
   "metadata": {},
   "outputs": [],
   "source": [
    "#the end!"
   ]
  },
  {
   "cell_type": "code",
   "execution_count": null,
   "id": "619c0970-3ae5-4980-8fd5-67c0a16216c1",
   "metadata": {},
   "outputs": [],
   "source": []
  }
 ],
 "metadata": {
  "kernelspec": {
   "display_name": "Python 3 (ipykernel)",
   "language": "python",
   "name": "python3"
  },
  "language_info": {
   "codemirror_mode": {
    "name": "ipython",
    "version": 3
   },
   "file_extension": ".py",
   "mimetype": "text/x-python",
   "name": "python",
   "nbconvert_exporter": "python",
   "pygments_lexer": "ipython3",
   "version": "3.9.13"
  }
 },
 "nbformat": 4,
 "nbformat_minor": 5
}
