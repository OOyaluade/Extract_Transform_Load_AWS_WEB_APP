{
 "cells": [
  {
   "cell_type": "code",
   "execution_count": 1,
   "id": "2edbeabb",
   "metadata": {},
   "outputs": [],
   "source": [
    "import pandas as pd\n",
    "import numpy as np\n",
    "import time\n",
    "import re\n",
    "import os\n",
    "import datetime\n",
    "import warnings\n",
    "warnings.filterwarnings('ignore')\n",
    "warnings.simplefilter('ignore')"
   ]
  },
  {
   "cell_type": "code",
   "execution_count": 2,
   "id": "ce60e637-0d8b-4e2c-9c2d-2591c01793b2",
   "metadata": {},
   "outputs": [],
   "source": [
    "os.chdir(r'C:/Users/vwalds/Documents/My Data Sources/')"
   ]
  },
  {
   "cell_type": "code",
   "execution_count": 3,
   "id": "bd6c9099-b615-42a2-84b6-cab021ef3888",
   "metadata": {},
   "outputs": [],
   "source": [
    "# Grab Current Time Before Running the Code\n",
    "start = time.time()"
   ]
  },
  {
   "cell_type": "code",
   "execution_count": 4,
   "id": "d4c0cbec-8afc-4dfb-aee3-33abb7d622b1",
   "metadata": {},
   "outputs": [],
   "source": [
    "#UIC_report_CAST"
   ]
  },
  {
   "cell_type": "code",
   "execution_count": 5,
   "id": "ce513d12-555b-4e0d-93b7-b596f78be1c5",
   "metadata": {},
   "outputs": [],
   "source": [
    "df = pd.read_excel(\"UIC_report_CAST.xlsx\")"
   ]
  },
  {
   "cell_type": "code",
   "execution_count": 6,
   "id": "8d9aa52b-ccaa-4872-a51b-c31ba9ec7ac8",
   "metadata": {},
   "outputs": [
    {
     "name": "stdout",
     "output_type": "stream",
     "text": [
      "<class 'pandas.core.frame.DataFrame'>\n",
      "RangeIndex: 164 entries, 0 to 163\n",
      "Data columns (total 16 columns):\n",
      " #   Column                       Non-Null Count  Dtype  \n",
      "---  ------                       --------------  -----  \n",
      " 0   CAST_ID                      164 non-null    int64  \n",
      " 1   CAST_Activity_ID             164 non-null    int64  \n",
      " 2   CAST_Assessment_ID           164 non-null    int64  \n",
      " 3   CAST_Transition_Delay_ID     164 non-null    int64  \n",
      " 4   CAST_PH_Status               105 non-null    object \n",
      " 5   CAST_BH_Status               104 non-null    object \n",
      " 6   CAST_Cognitive_Status        101 non-null    object \n",
      " 7   CAST_Functional_Status       103 non-null    object \n",
      " 8   CAST_Other                   71 non-null     object \n",
      " 9   CAST_Summarize               155 non-null    object \n",
      " 10  CAST_Review_Outcome_YN       164 non-null    bool   \n",
      " 11  CAST_Created_On              164 non-null    object \n",
      " 12  CAST_Created_By_Employee_ID  164 non-null    int64  \n",
      " 13  CAST_Updated_Date            164 non-null    object \n",
      " 14  CAST_Updated_On              1 non-null      object \n",
      " 15  CAST_Updated_By_Employee_ID  0 non-null      float64\n",
      "dtypes: bool(1), float64(1), int64(5), object(9)\n",
      "memory usage: 19.5+ KB\n"
     ]
    }
   ],
   "source": [
    "df.info()"
   ]
  },
  {
   "cell_type": "code",
   "execution_count": 7,
   "id": "8e6548e8-a030-476f-8925-2f917aab9ac5",
   "metadata": {},
   "outputs": [
    {
     "data": {
      "text/plain": [
       "Index(['CAST_ID', 'CAST_Activity_ID', 'CAST_Assessment_ID',\n",
       "       'CAST_Transition_Delay_ID', 'CAST_PH_Status', 'CAST_BH_Status',\n",
       "       'CAST_Cognitive_Status', 'CAST_Functional_Status', 'CAST_Other',\n",
       "       'CAST_Summarize', 'CAST_Review_Outcome_YN', 'CAST_Created_On',\n",
       "       'CAST_Created_By_Employee_ID', 'CAST_Updated_Date', 'CAST_Updated_On',\n",
       "       'CAST_Updated_By_Employee_ID'],\n",
       "      dtype='object')"
      ]
     },
     "execution_count": 7,
     "metadata": {},
     "output_type": "execute_result"
    }
   ],
   "source": [
    "df.columns"
   ]
  },
  {
   "cell_type": "code",
   "execution_count": 8,
   "id": "c1db009a-7209-4cf8-9098-78153c85a45b",
   "metadata": {},
   "outputs": [],
   "source": [
    "# converting the string to datetime format\n",
    "df['CAST_Created_On'] = pd.to_datetime(df['CAST_Created_On'])"
   ]
  },
  {
   "cell_type": "code",
   "execution_count": 9,
   "id": "50981cae-c9e3-4ad2-a73e-3622dfffca61",
   "metadata": {},
   "outputs": [],
   "source": [
    "# converting the string to datetime format\n",
    "df['CAST_Updated_Date'] = pd.to_datetime(df['CAST_Updated_Date'])"
   ]
  },
  {
   "cell_type": "code",
   "execution_count": 10,
   "id": "93285a2d-99e3-468e-9d39-ec9f06fd15cf",
   "metadata": {},
   "outputs": [],
   "source": [
    "# converting the string to datetime format\n",
    "df['CAST_Updated_On'] = pd.to_datetime(df['CAST_Updated_On'])"
   ]
  },
  {
   "cell_type": "code",
   "execution_count": 11,
   "id": "14c22c99-a6a0-4c66-8ed3-f86829b1915f",
   "metadata": {},
   "outputs": [
    {
     "data": {
      "text/plain": [
       "CAST_ID                                 int64\n",
       "CAST_Activity_ID                        int64\n",
       "CAST_Assessment_ID                      int64\n",
       "CAST_Transition_Delay_ID                int64\n",
       "CAST_PH_Status                         object\n",
       "CAST_BH_Status                         object\n",
       "CAST_Cognitive_Status                  object\n",
       "CAST_Functional_Status                 object\n",
       "CAST_Other                             object\n",
       "CAST_Summarize                         object\n",
       "CAST_Review_Outcome_YN                   bool\n",
       "CAST_Created_On                datetime64[ns]\n",
       "CAST_Created_By_Employee_ID             int64\n",
       "CAST_Updated_Date              datetime64[ns]\n",
       "CAST_Updated_On                datetime64[ns]\n",
       "CAST_Updated_By_Employee_ID           float64\n",
       "dtype: object"
      ]
     },
     "execution_count": 11,
     "metadata": {},
     "output_type": "execute_result"
    }
   ],
   "source": [
    "df.dtypes"
   ]
  },
  {
   "cell_type": "code",
   "execution_count": 12,
   "id": "180055ca-f1ab-45b0-82bd-1227c792b1c7",
   "metadata": {},
   "outputs": [],
   "source": [
    "#export file without index column\n",
    "df.to_excel(\"UIC_report_CAST.xlsx\", index=False)"
   ]
  },
  {
   "cell_type": "code",
   "execution_count": 13,
   "id": "c70dcc48-110f-4473-a218-98b9d789cce7",
   "metadata": {},
   "outputs": [
    {
     "name": "stdout",
     "output_type": "stream",
     "text": [
      "2024-09-05 15:42:39.826273\n"
     ]
    }
   ],
   "source": [
    "# Create a timestamp object\n",
    "timestamp = pd.Timestamp(datetime.datetime.now())\n",
    "\n",
    "# Print the timestamp\n",
    "print(timestamp)"
   ]
  },
  {
   "cell_type": "code",
   "execution_count": 14,
   "id": "acc90d14-d687-4917-945d-6b7ea3cf0137",
   "metadata": {},
   "outputs": [],
   "source": [
    "#the end!"
   ]
  },
  {
   "cell_type": "code",
   "execution_count": null,
   "id": "619c0970-3ae5-4980-8fd5-67c0a16216c1",
   "metadata": {},
   "outputs": [],
   "source": []
  },
  {
   "cell_type": "code",
   "execution_count": null,
   "id": "4e50a5ce-8cae-4eac-a149-0bf9c0778cbd",
   "metadata": {},
   "outputs": [],
   "source": []
  }
 ],
 "metadata": {
  "kernelspec": {
   "display_name": "Python 3 (ipykernel)",
   "language": "python",
   "name": "python3"
  },
  "language_info": {
   "codemirror_mode": {
    "name": "ipython",
    "version": 3
   },
   "file_extension": ".py",
   "mimetype": "text/x-python",
   "name": "python",
   "nbconvert_exporter": "python",
   "pygments_lexer": "ipython3",
   "version": "3.9.13"
  }
 },
 "nbformat": 4,
 "nbformat_minor": 5
}
